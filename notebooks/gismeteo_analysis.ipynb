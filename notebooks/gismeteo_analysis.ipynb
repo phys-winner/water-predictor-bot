{
 "cells": [
  {
   "cell_type": "markdown",
   "id": "043691cb",
   "metadata": {},
   "source": [
    "# Анализ сайта gismeteo.ru"
   ]
  },
  {
   "cell_type": "markdown",
   "id": "1fe18423",
   "metadata": {},
   "source": [
    "Для выполнения итогового задания в качестве источника данных метеосводок был выбран сервис Дневник сайта Gismeteo.ru, в котором можно бесплатно получить исторические данные о погоде, начиная с 1997 года. Необходимо получить данные с 2008 по 2018 года включительно (последний год необходим для прогнозирования навигации на сезон).\n",
    "\n",
    "todo: добавить список коммерческих ресурсов, с которых можно получить исторические данные и прогнозы на долгий срок"
   ]
  },
  {
   "cell_type": "code",
   "execution_count": 1,
   "id": "e07fba60",
   "metadata": {},
   "outputs": [],
   "source": [
    "START_YEAR = 2008\n",
    "END_YEAR = 2018"
   ]
  },
  {
   "cell_type": "markdown",
   "id": "ececaa75",
   "metadata": {},
   "source": [
    "![Внешний вид сервиса Дневник от gismeteo](images/gismeteo_example.png)"
   ]
  },
  {
   "cell_type": "markdown",
   "id": "346b3fd8",
   "metadata": {},
   "source": [
    "После исполнения скрипта на загрузку данных из сайта автоматизированной информационной системы государственного мониторинга водных объектов Российской Федерации (далее - \"АИС ГМВО\") **src\\preparation\\scrape_water_level.py**, в **data\\raw\\water_posts_data.json** будет находиться словарь **{uid: наименование поста наблюдения}**. Наименования представлены в виде: *название водного объекта* - *название населённого пункта*"
   ]
  },
  {
   "cell_type": "markdown",
   "id": "b942ab37",
   "metadata": {},
   "source": [
    "## Получение списка населённых пунктов с постами наблюдения"
   ]
  },
  {
   "cell_type": "markdown",
   "id": "47104e89",
   "metadata": {},
   "source": [
    "### Проверка и установка рабочей директории, должен быть корень проекта"
   ]
  },
  {
   "cell_type": "code",
   "execution_count": 2,
   "id": "eff8b31e",
   "metadata": {
    "scrolled": true
   },
   "outputs": [
    {
     "data": {
      "text/plain": [
       "'C:\\\\Users\\\\Kuroha\\\\source\\\\repos_py\\\\bauman_final_project\\\\notebooks'"
      ]
     },
     "execution_count": 2,
     "metadata": {},
     "output_type": "execute_result"
    }
   ],
   "source": [
    "%pwd"
   ]
  },
  {
   "cell_type": "code",
   "execution_count": 3,
   "id": "3645e379",
   "metadata": {},
   "outputs": [
    {
     "name": "stdout",
     "output_type": "stream",
     "text": [
      "C:\\Users\\Kuroha\\source\\repos_py\\bauman_final_project\n"
     ]
    }
   ],
   "source": [
    "%cd .."
   ]
  },
  {
   "cell_type": "markdown",
   "id": "efc3bab0",
   "metadata": {},
   "source": [
    "### Загрузка списка постов"
   ]
  },
  {
   "cell_type": "code",
   "execution_count": 4,
   "id": "3186a182",
   "metadata": {},
   "outputs": [
    {
     "name": "stdout",
     "output_type": "stream",
     "text": [
      "28\n"
     ]
    },
    {
     "data": {
      "text/plain": [
       "{'09386': 'р.Подкаменная Тунгуска - пос.Чемдальск',\n",
       " '09387': 'р.Подкаменная Тунгуска - с.Ванавара',\n",
       " '09388': 'р.Подкаменная Тунгуска - факт.Усть-Камо',\n",
       " '09389': 'р.Подкаменная Тунгуска - с.Байкит',\n",
       " '09390': 'р.Подкаменная Тунгуска - факт.Кузьмовка',\n",
       " '09392': 'р.Чуня - пос.Стрелка Чуня',\n",
       " '09393': 'р.Чуня - пос.Муторай',\n",
       " '09396': 'руч.Миханский - пос.Вельмо 2-е',\n",
       " '09397': 'р.Тея - пгт Тея',\n",
       " '09499': 'р.Бурная - пос.Бурный',\n",
       " '09523': 'р.Подкаменная Тунгуска - пос.Суломай',\n",
       " '09560': 'р.Вельмо - пос.Светлана',\n",
       " '09568': 'р.Вельмо - пос.Вельмо 2-е',\n",
       " '09403': 'р.Нижняя Тунгуска - д.Верхнекарелина',\n",
       " '09404': 'р.Нижняя Тунгуска - с.Подволошино',\n",
       " '09405': 'р.Нижняя Тунгуска - с.Преображенка',\n",
       " '09406': 'р.Нижняя Тунгуска - с.Ербогачен',\n",
       " '09408': 'р.Нижняя Тунгуска - пос.Кислокан',\n",
       " '09410': 'р.Нижняя Тунгуска - пгт Тура',\n",
       " '09413': 'р.Нижняя Тунгуска - пос.Учами',\n",
       " '09415': 'р.Нижняя Тунгуска - факт.Большой Порог',\n",
       " '09416': 'р.Непа - с.Токма',\n",
       " '09417': 'р.Непа - д.Ика',\n",
       " '09419': 'р.Тембенчи - факт.Тембенчи',\n",
       " '09420': 'р.Таймура - факт.Кербо',\n",
       " '09421': 'руч.без названия - факт.Кербо',\n",
       " '09422': 'р.Ерачимо - факт.Большой порог',\n",
       " '09518': 'р.Нижняя Тунгуска - с.Непа'}"
      ]
     },
     "execution_count": 4,
     "metadata": {},
     "output_type": "execute_result"
    }
   ],
   "source": [
    "from src.utils import *\n",
    "\n",
    "if not is_data_exists(DATA_POSTS_RAW, is_raw=True):\n",
    "    print('Данные с постами наблюдения АИС ГМВО не были загружены. Пожалуйста, '\n",
    "          'выполните скрипт src\\preparation\\scrape_water_level.py'\n",
    "          'и попробуйте ещё раз.')\n",
    "else:\n",
    "    file_posts = open_file(DATA_POSTS_RAW, is_raw=True)\n",
    "    posts = json.loads(file_posts)\n",
    "print(len(posts))\n",
    "posts  # основная переменная, в которой будет храниться вся информация о гидрологических постах"
   ]
  },
  {
   "cell_type": "markdown",
   "id": "96c21d98",
   "metadata": {},
   "source": [
    "### Создание набора с очищенными названиями населённых пунктов"
   ]
  },
  {
   "cell_type": "code",
   "execution_count": 5,
   "id": "14782ee2",
   "metadata": {},
   "outputs": [
    {
     "data": {
      "text/plain": [
       "'р.Нижняя Тунгуска - факт.Большой Порог'"
      ]
     },
     "execution_count": 5,
     "metadata": {},
     "output_type": "execute_result"
    }
   ],
   "source": [
    "#test_name = next(iter(posts.values()))  # р.Подкаменная Тунгуска - пос.Чемдальск\n",
    "#test_name = posts['09388']  # р.Подкаменная Тунгуска - факт.Усть-Камо\n",
    "test_name = posts['09415']  # р.Нижняя Тунгуска - факт.Большой Порог\n",
    "test_name"
   ]
  },
  {
   "cell_type": "code",
   "execution_count": 6,
   "id": "7925b48b",
   "metadata": {
    "scrolled": true
   },
   "outputs": [
    {
     "data": {
      "text/plain": [
       "'Большой Порог'"
      ]
     },
     "execution_count": 6,
     "metadata": {},
     "output_type": "execute_result"
    }
   ],
   "source": [
    "import re\n",
    "\n",
    "'''\n",
    "Между видом и названием населённого пункта есть или точка, или пробел, используем [ \\.]{1}\n",
    "Учтено наличие в названии пункта пробела и тире\n",
    "В БД gismeteo названия некоторых пунктов отличаются от таковых из сайта АИС ГМВО\n",
    "'''\n",
    "def clear_name(input_str):\n",
    "    result = input_str.replace('Вельмо 2-е', 'Вельмо')\n",
    "    result = result.replace('Стрелка Чуня', 'Стрелка-Чуня')\n",
    "    result = result.replace('Большой порог', 'Большой Порог')\n",
    "    result = re.search(r\" - \\w+[ \\.]{1}([\\w -]+)\", result).group(1)\n",
    "    return result\n",
    "\n",
    "clear_name(test_name)"
   ]
  },
  {
   "cell_type": "code",
   "execution_count": 7,
   "id": "e581193d",
   "metadata": {},
   "outputs": [
    {
     "data": {
      "text/plain": [
       "{'09386': {'name': 'р.Подкаменная Тунгуска - пос.Чемдальск',\n",
       "  'clean_name': 'Чемдальск'},\n",
       " '09387': {'name': 'р.Подкаменная Тунгуска - с.Ванавара',\n",
       "  'clean_name': 'Ванавара'},\n",
       " '09388': {'name': 'р.Подкаменная Тунгуска - факт.Усть-Камо',\n",
       "  'clean_name': 'Усть-Камо'},\n",
       " '09389': {'name': 'р.Подкаменная Тунгуска - с.Байкит',\n",
       "  'clean_name': 'Байкит'},\n",
       " '09390': {'name': 'р.Подкаменная Тунгуска - факт.Кузьмовка',\n",
       "  'clean_name': 'Кузьмовка'},\n",
       " '09392': {'name': 'р.Чуня - пос.Стрелка Чуня', 'clean_name': 'Стрелка-Чуня'},\n",
       " '09393': {'name': 'р.Чуня - пос.Муторай', 'clean_name': 'Муторай'},\n",
       " '09396': {'name': 'руч.Миханский - пос.Вельмо 2-е', 'clean_name': 'Вельмо'},\n",
       " '09397': {'name': 'р.Тея - пгт Тея', 'clean_name': 'Тея'},\n",
       " '09499': {'name': 'р.Бурная - пос.Бурный', 'clean_name': 'Бурный'},\n",
       " '09523': {'name': 'р.Подкаменная Тунгуска - пос.Суломай',\n",
       "  'clean_name': 'Суломай'},\n",
       " '09560': {'name': 'р.Вельмо - пос.Светлана', 'clean_name': 'Светлана'},\n",
       " '09568': {'name': 'р.Вельмо - пос.Вельмо 2-е', 'clean_name': 'Вельмо'},\n",
       " '09403': {'name': 'р.Нижняя Тунгуска - д.Верхнекарелина',\n",
       "  'clean_name': 'Верхнекарелина'},\n",
       " '09404': {'name': 'р.Нижняя Тунгуска - с.Подволошино',\n",
       "  'clean_name': 'Подволошино'},\n",
       " '09405': {'name': 'р.Нижняя Тунгуска - с.Преображенка',\n",
       "  'clean_name': 'Преображенка'},\n",
       " '09406': {'name': 'р.Нижняя Тунгуска - с.Ербогачен',\n",
       "  'clean_name': 'Ербогачен'},\n",
       " '09408': {'name': 'р.Нижняя Тунгуска - пос.Кислокан',\n",
       "  'clean_name': 'Кислокан'},\n",
       " '09410': {'name': 'р.Нижняя Тунгуска - пгт Тура', 'clean_name': 'Тура'},\n",
       " '09413': {'name': 'р.Нижняя Тунгуска - пос.Учами', 'clean_name': 'Учами'},\n",
       " '09415': {'name': 'р.Нижняя Тунгуска - факт.Большой Порог',\n",
       "  'clean_name': 'Большой Порог'},\n",
       " '09416': {'name': 'р.Непа - с.Токма', 'clean_name': 'Токма'},\n",
       " '09417': {'name': 'р.Непа - д.Ика', 'clean_name': 'Ика'},\n",
       " '09419': {'name': 'р.Тембенчи - факт.Тембенчи', 'clean_name': 'Тембенчи'},\n",
       " '09420': {'name': 'р.Таймура - факт.Кербо', 'clean_name': 'Кербо'},\n",
       " '09421': {'name': 'руч.без названия - факт.Кербо', 'clean_name': 'Кербо'},\n",
       " '09422': {'name': 'р.Ерачимо - факт.Большой порог',\n",
       "  'clean_name': 'Большой Порог'},\n",
       " '09518': {'name': 'р.Нижняя Тунгуска - с.Непа', 'clean_name': 'Непа'}}"
      ]
     },
     "execution_count": 7,
     "metadata": {},
     "output_type": "execute_result"
    }
   ],
   "source": [
    "for uid, name in posts.items():\n",
    "    posts[uid] = {'name': name, 'clean_name': clear_name(name)}\n",
    "\n",
    "posts"
   ]
  },
  {
   "cell_type": "markdown",
   "id": "48c4bcdf",
   "metadata": {},
   "source": [
    "### Создание списка с уникальными населёнными пунктами"
   ]
  },
  {
   "cell_type": "code",
   "execution_count": 8,
   "id": "aea78bfc",
   "metadata": {},
   "outputs": [
    {
     "data": {
      "text/plain": [
       "{'Байкит',\n",
       " 'Большой Порог',\n",
       " 'Бурный',\n",
       " 'Ванавара',\n",
       " 'Вельмо',\n",
       " 'Верхнекарелина',\n",
       " 'Ербогачен',\n",
       " 'Ика',\n",
       " 'Кербо',\n",
       " 'Кислокан',\n",
       " 'Кузьмовка',\n",
       " 'Муторай',\n",
       " 'Непа',\n",
       " 'Подволошино',\n",
       " 'Преображенка',\n",
       " 'Светлана',\n",
       " 'Стрелка-Чуня',\n",
       " 'Суломай',\n",
       " 'Тембенчи',\n",
       " 'Тея',\n",
       " 'Токма',\n",
       " 'Тура',\n",
       " 'Усть-Камо',\n",
       " 'Учами',\n",
       " 'Чемдальск'}"
      ]
     },
     "execution_count": 8,
     "metadata": {},
     "output_type": "execute_result"
    }
   ],
   "source": [
    "names = set([x['clean_name'] for x in posts.values()])\n",
    "names"
   ]
  },
  {
   "cell_type": "code",
   "execution_count": 9,
   "id": "f148498b",
   "metadata": {
    "scrolled": true
   },
   "outputs": [
    {
     "name": "stdout",
     "output_type": "stream",
     "text": [
      "Число постов: 28\n",
      "Число уникальных пунктов: 25\n"
     ]
    }
   ],
   "source": [
    "print(f'Число постов: {len(posts)}\\nЧисло уникальных пунктов: {len(names)}')"
   ]
  },
  {
   "cell_type": "markdown",
   "id": "e26d467e",
   "metadata": {},
   "source": [
    "## Проверка наличия исторических метео-данных"
   ]
  },
  {
   "cell_type": "markdown",
   "id": "fee2f161",
   "metadata": {},
   "source": [
    "С получением метео-данных есть 2 проблемы:\n",
    "1. Не все населённые пункты представлены в списке городов.\n",
    "2. В некоторых пунтах за период с 2008 по 2018 не велись наблюдения метео-данных. При попытке их получить сайт показывает сообщение:\n",
    "> Наблюдения метео-данных в данный период не велись."
   ]
  },
  {
   "cell_type": "markdown",
   "id": "2e306ca5",
   "metadata": {},
   "source": [
    "![Сообщение об ошибке](images/gismeteo_error.png)"
   ]
  },
  {
   "cell_type": "markdown",
   "id": "f422e501",
   "metadata": {},
   "source": [
    "Необходимо обнаружить проблемные населённые пункты."
   ]
  },
  {
   "cell_type": "markdown",
   "id": "ee434397",
   "metadata": {},
   "source": [
    "### Получение списка населённых пунктов с gismeteo"
   ]
  },
  {
   "cell_type": "markdown",
   "id": "dc751bd3",
   "metadata": {},
   "source": [
    "После открытия https://www.gismeteo.ru/diary/ и выбора страны Россия и области Красноярский край происходит 3 GET запроса:\n",
    "![GET запросы](images/gismeteo_requests.png)\n",
    "\n",
    "1. https://www.gismeteo.ru/inform-service/63466572668a39754a9ddf4c8b3437b0/countries/?fr=sel  \n",
    "Получение списка стран c ID и названиями.\n",
    "\n",
    "2. https://www.gismeteo.ru/inform-service/63466572668a39754a9ddf4c8b3437b0/districts/?country=156&fr=sel  \n",
    "Получения списка областей c ID и названиями. В параметре country указан ID выбранной страны (156 - Россия).\n",
    "\n",
    "3. https://www.gismeteo.ru/inform-service/63466572668a39754a9ddf4c8b3437b0/cities/?district=301&fr=sel  \n",
    "Получения списка городов c ID и названиями. В параметре district указан ID выбранной области (301 - Красноярский край, 303 - Иркутская область).\n",
    "\n",
    "Во всех запросах **63466572668a39754a9ddf4c8b3437b0** - это стандартный api-токен, который не зависит от IP-адреса пользователя. Запросы возвращают данные в формате xml.\n",
    "Учтём, что Подкаменная Тунгуска и Нижняя Тунгуска протекают в Красноярском крае и Иркутской области России, следовательно нужно запрашивать данные о пунктах в обоих субъектах."
   ]
  },
  {
   "cell_type": "code",
   "execution_count": 10,
   "id": "dc6e43ff",
   "metadata": {},
   "outputs": [
    {
     "data": {
      "text/plain": [
       "2861"
      ]
     },
     "execution_count": 10,
     "metadata": {},
     "output_type": "execute_result"
    }
   ],
   "source": [
    "from src.utils import get_url\n",
    "import xmltodict\n",
    "\n",
    "def get_cities(district):\n",
    "    file_name = f'gismeteo_cities-{district}.xml'\n",
    "    if is_data_exists(file_name, is_raw=True):\n",
    "        cities = open_file(file_name, is_raw=True)\n",
    "    else:\n",
    "        url = f'https://www.gismeteo.ru/inform-service/63466572668a39754a9ddf4c8b3437b0/cities/?district={district}&fr=sel'\n",
    "        r = get_url(url)\n",
    "        cities = r.text\n",
    "        write_data(file_name, data=cities, is_raw=True)\n",
    "    cities = xmltodict.parse(cities)  # конвертация xml в dict\n",
    "    # основные данные находятся в cities['document']['item']\n",
    "    cities = cities['document']['item']\n",
    "    return cities\n",
    "\n",
    "cities = {}\n",
    "target_districts = [301, 303]  # нужные области\n",
    "cities_file_name = f'gismeteo_cities-{\",\".join([str(x) for x in target_districts])}.json'\n",
    "if is_data_exists(cities_file_name, is_raw=True):\n",
    "    cities = open_file(cities_file_name, is_raw=True)\n",
    "    cities = json.loads(cities)\n",
    "else:\n",
    "    for district in target_districts:\n",
    "        for city in get_cities(district):\n",
    "            ''' Записи в xml выглядят таким образом:\n",
    "            <item id=\"145181\" n=\"Абалаково\" country_id=\"156\" country_name=\"Россия\" \n",
    "                  district_id=\"303\" district_name=\"Иркутская область\" kind=\"T\"/>\n",
    "                Нужные атрибуты - это id и n (name, имя)\n",
    "            '''\n",
    "            cities[int(city['@id'])] = city['@n']\n",
    "    write_data(cities_file_name, data=cities, is_raw=True)\n",
    "    \n",
    "len(cities)"
   ]
  },
  {
   "cell_type": "code",
   "execution_count": 11,
   "id": "c026862d",
   "metadata": {
    "scrolled": true
   },
   "outputs": [
    {
     "data": {
      "text/plain": [
       "{'09386': {'name': 'р.Подкаменная Тунгуска - пос.Чемдальск',\n",
       "  'clean_name': 'Чемдальск',\n",
       "  'gismeteo_id': 158155},\n",
       " '09387': {'name': 'р.Подкаменная Тунгуска - с.Ванавара',\n",
       "  'clean_name': 'Ванавара',\n",
       "  'gismeteo_id': 4036},\n",
       " '09388': {'name': 'р.Подкаменная Тунгуска - факт.Усть-Камо',\n",
       "  'clean_name': 'Усть-Камо'},\n",
       " '09389': {'name': 'р.Подкаменная Тунгуска - с.Байкит',\n",
       "  'clean_name': 'Байкит',\n",
       "  'gismeteo_id': 3995},\n",
       " '09390': {'name': 'р.Подкаменная Тунгуска - факт.Кузьмовка',\n",
       "  'clean_name': 'Кузьмовка',\n",
       "  'gismeteo_id': 158143},\n",
       " '09392': {'name': 'р.Чуня - пос.Стрелка Чуня',\n",
       "  'clean_name': 'Стрелка-Чуня',\n",
       "  'gismeteo_id': 158151},\n",
       " '09393': {'name': 'р.Чуня - пос.Муторай',\n",
       "  'clean_name': 'Муторай',\n",
       "  'gismeteo_id': 158146},\n",
       " '09396': {'name': 'руч.Миханский - пос.Вельмо 2-е',\n",
       "  'clean_name': 'Вельмо',\n",
       "  'gismeteo_id': 157875},\n",
       " '09397': {'name': 'р.Тея - пгт Тея',\n",
       "  'clean_name': 'Тея',\n",
       "  'gismeteo_id': 157881},\n",
       " '09499': {'name': 'р.Бурная - пос.Бурный',\n",
       "  'clean_name': 'Бурный',\n",
       "  'gismeteo_id': 158140},\n",
       " '09523': {'name': 'р.Подкаменная Тунгуска - пос.Суломай',\n",
       "  'clean_name': 'Суломай',\n",
       "  'gismeteo_id': 158152},\n",
       " '09560': {'name': 'р.Вельмо - пос.Светлана', 'clean_name': 'Светлана'},\n",
       " '09568': {'name': 'р.Вельмо - пос.Вельмо 2-е',\n",
       "  'clean_name': 'Вельмо',\n",
       "  'gismeteo_id': 157875},\n",
       " '09403': {'name': 'р.Нижняя Тунгуска - д.Верхнекарелина',\n",
       "  'clean_name': 'Верхнекарелина'},\n",
       " '09404': {'name': 'р.Нижняя Тунгуска - с.Подволошино',\n",
       "  'clean_name': 'Подволошино',\n",
       "  'gismeteo_id': 144988},\n",
       " '09405': {'name': 'р.Нижняя Тунгуска - с.Преображенка',\n",
       "  'clean_name': 'Преображенка',\n",
       "  'gismeteo_id': 156730},\n",
       " '09406': {'name': 'р.Нижняя Тунгуска - с.Ербогачен',\n",
       "  'clean_name': 'Ербогачен',\n",
       "  'gismeteo_id': 4031},\n",
       " '09408': {'name': 'р.Нижняя Тунгуска - пос.Кислокан',\n",
       "  'clean_name': 'Кислокан',\n",
       "  'gismeteo_id': 158142},\n",
       " '09410': {'name': 'р.Нижняя Тунгуска - пгт Тура',\n",
       "  'clean_name': 'Тура',\n",
       "  'gismeteo_id': 4015},\n",
       " '09413': {'name': 'р.Нижняя Тунгуска - пос.Учами',\n",
       "  'clean_name': 'Учами',\n",
       "  'gismeteo_id': 158154},\n",
       " '09415': {'name': 'р.Нижняя Тунгуска - факт.Большой Порог',\n",
       "  'clean_name': 'Большой Порог'},\n",
       " '09416': {'name': 'р.Непа - с.Токма',\n",
       "  'clean_name': 'Токма',\n",
       "  'gismeteo_id': 4741},\n",
       " '09417': {'name': 'р.Непа - д.Ика',\n",
       "  'clean_name': 'Ика',\n",
       "  'gismeteo_id': 144983},\n",
       " '09419': {'name': 'р.Тембенчи - факт.Тембенчи', 'clean_name': 'Тембенчи'},\n",
       " '09420': {'name': 'р.Таймура - факт.Кербо', 'clean_name': 'Кербо'},\n",
       " '09421': {'name': 'руч.без названия - факт.Кербо', 'clean_name': 'Кербо'},\n",
       " '09422': {'name': 'р.Ерачимо - факт.Большой порог',\n",
       "  'clean_name': 'Большой Порог'},\n",
       " '09518': {'name': 'р.Нижняя Тунгуска - с.Непа',\n",
       "  'clean_name': 'Непа',\n",
       "  'gismeteo_id': 144986}}"
      ]
     },
     "execution_count": 11,
     "metadata": {},
     "output_type": "execute_result"
    }
   ],
   "source": [
    "for city_id, name in cities.items():\n",
    "    for uid, entry in posts.items():\n",
    "        if entry['clean_name'] == name:\n",
    "            posts[uid].update({'gismeteo_id': int(city_id)})\n",
    "\n",
    "posts"
   ]
  },
  {
   "cell_type": "markdown",
   "id": "964d8393",
   "metadata": {},
   "source": [
    "Посмотрим, сколько населённых пунктов их списка постов гидрологического контроля рек есть в базе gismeteo:"
   ]
  },
  {
   "cell_type": "code",
   "execution_count": 12,
   "id": "575a7b78",
   "metadata": {},
   "outputs": [
    {
     "data": {
      "text/plain": [
       "(25, 19)"
      ]
     },
     "execution_count": 12,
     "metadata": {},
     "output_type": "execute_result"
    }
   ],
   "source": [
    "len(names), len(set([x['clean_name'] for x in posts.values() if 'gismeteo_id' in x.keys()]))"
   ]
  },
  {
   "cell_type": "markdown",
   "id": "f315207b",
   "metadata": {},
   "source": [
    "Для 25 уникальных локаций пунктов наблюдений нашлось соответствие с 19 населёнными пунктами в Gismeteo."
   ]
  },
  {
   "cell_type": "markdown",
   "id": "75cd50cb",
   "metadata": {},
   "source": [
    "### Реализация проверки наличия метео-данных"
   ]
  },
  {
   "cell_type": "markdown",
   "id": "562d17ab",
   "metadata": {},
   "source": [
    "Получение исторических метео-данных происходит следующим образом:\n",
    "1. Задаются все необходимые параметры - страна, область, город, месяц и год\n",
    "2. Нажатие на кнопку Получить дневник выполняет перенаправление на url вида  \n",
    "https://www.gismeteo.ru/diary/4036/2008/1/  \n",
    "в котором:  \n",
    "- **4036** - ID населённого пункта\n",
    "- **2008** - год\n",
    "- **1** - месяц без лидирующего нуля"
   ]
  },
  {
   "cell_type": "markdown",
   "id": "2cfacaf0",
   "metadata": {},
   "source": [
    "Если данные о погоде за указанный период не были зафиксированы, то вместо дневника будет сообщение об отсутствии данных."
   ]
  },
  {
   "cell_type": "code",
   "execution_count": 13,
   "id": "ebe94c42",
   "metadata": {},
   "outputs": [],
   "source": [
    "import os\n",
    "from bs4 import BeautifulSoup\n",
    "\n",
    "def get_gismeteo_page(city_id, year, month):\n",
    "    file_name = os.path.join('gismeteo', str(city_id), f'{year}-{month:02d}.html')\n",
    "    if is_data_exists(file_name, is_raw=True):\n",
    "        weather = open_file(file_name, is_raw=True)\n",
    "    else:\n",
    "        url = f'https://www.gismeteo.ru/diary/{city_id}/{year}/{month}/'\n",
    "        r = get_url(url)\n",
    "        weather = r.text\n",
    "        write_data(file_name, data=weather, is_raw=True)\n",
    "    soup = BeautifulSoup(weather, 'lxml')\n",
    "    if soup.find(class_='empty_phrase'):\n",
    "        return None\n",
    "    return soup\n",
    "\n",
    "def check_gismeteo_page(city_id, year):\n",
    "    return get_gismeteo_page(city_id, year, 1) is not None"
   ]
  },
  {
   "cell_type": "markdown",
   "id": "7af8ee89",
   "metadata": {},
   "source": [
    "# rewrite everything below this cell"
   ]
  },
  {
   "cell_type": "markdown",
   "id": "764efb6b",
   "metadata": {},
   "source": [
    "Проверяем, есть ли за последний год (2018) метео-данные у выбранных городов."
   ]
  },
  {
   "cell_type": "code",
   "execution_count": null,
   "id": "fcbbd89e",
   "metadata": {},
   "outputs": [],
   "source": []
  },
  {
   "cell_type": "code",
   "execution_count": 14,
   "id": "dd4935bd",
   "metadata": {
    "scrolled": true
   },
   "outputs": [
    {
     "ename": "NameError",
     "evalue": "name 'cities_gismeteo' is not defined",
     "output_type": "error",
     "traceback": [
      "\u001b[1;31m---------------------------------------------------------------------------\u001b[0m",
      "\u001b[1;31mNameError\u001b[0m                                 Traceback (most recent call last)",
      "Input \u001b[1;32mIn [14]\u001b[0m, in \u001b[0;36m<cell line: 1>\u001b[1;34m()\u001b[0m\n\u001b[1;32m----> 1\u001b[0m \u001b[38;5;28mprint\u001b[39m(\u001b[38;5;124mf\u001b[39m\u001b[38;5;124m'\u001b[39m\u001b[38;5;124mЧисло пунктов до проверки: \u001b[39m\u001b[38;5;132;01m{\u001b[39;00m\u001b[38;5;28mlen\u001b[39m(cities_gismeteo)\u001b[38;5;132;01m}\u001b[39;00m\u001b[38;5;130;01m\\n\u001b[39;00m\u001b[38;5;124m'\u001b[39m)\n\u001b[0;32m      2\u001b[0m \u001b[38;5;28;01mdef\u001b[39;00m \u001b[38;5;21mget_bad_cities\u001b[39m(year):\n\u001b[0;32m      3\u001b[0m     result \u001b[38;5;241m=\u001b[39m []\n",
      "\u001b[1;31mNameError\u001b[0m: name 'cities_gismeteo' is not defined"
     ]
    }
   ],
   "source": [
    "print(f'Число пунктов до проверки: {len(cities_gismeteo)}\\n')\n",
    "def get_bad_cities(year):\n",
    "    result = []\n",
    "    for city in cities_gismeteo:\n",
    "        if not check_gismeteo_page(city[\"city_id\"], year):\n",
    "            result.append(city)\n",
    "    return result\n",
    "\n",
    "start_bad_cities = get_bad_cities(START_YEAR)\n",
    "end_bad_cities = get_bad_cities(END_YEAR)\n",
    "print(f'=======================================')\n",
    "print(f'За {START_YEAR} год нет данных о {len(start_bad_cities)} пунктах')\n",
    "print(f'За {END_YEAR} год нет данных о {len(end_bad_cities)} пунктах')\n",
    "start_bad_cities"
   ]
  },
  {
   "cell_type": "markdown",
   "id": "e281830d",
   "metadata": {},
   "source": [
    "Для всех имеющихся постов наблюдения на конец наблюдения есть данные."
   ]
  },
  {
   "cell_type": "code",
   "execution_count": null,
   "id": "16495283",
   "metadata": {
    "scrolled": true
   },
   "outputs": [],
   "source": [
    "for uid, item in posts.items():\n",
    "    for city in cities_gismeteo:\n",
    "        if city['name'] == item['clean_name']:\n",
    "            posts[uid].update({'gismeteo_id': city['city_id']})\n",
    "            posts[uid].update({'gismeteo_id': city['city_id']})\n",
    "posts"
   ]
  },
  {
   "cell_type": "code",
   "execution_count": null,
   "id": "7ca96385",
   "metadata": {},
   "outputs": [],
   "source": []
  },
  {
   "cell_type": "markdown",
   "id": "a0c76dd9",
   "metadata": {},
   "source": [
    "## Замена населённых пунктов"
   ]
  },
  {
   "cell_type": "markdown",
   "id": "5e4fea04",
   "metadata": {},
   "source": [
    "Так как на начало 2008 года из 25 населённых пунктов не было метео-сводок по 20, то на отсутствующие периоды времени для полноты исходных данных необходимо определить им замену. Оптимальнее всего будет вместо отсутствующих пунктов использовать их административные центры, т.к. географически они близко расположены друг к другу, а также по центрам вероятнее всего будут исторические погодные данные. "
   ]
  },
  {
   "cell_type": "markdown",
   "id": "411a245e",
   "metadata": {},
   "source": [
    "Получим список всех населённых пунктов, где на начало 2008 года не было метео-сводок."
   ]
  },
  {
   "cell_type": "code",
   "execution_count": null,
   "id": "b4447be2",
   "metadata": {},
   "outputs": [],
   "source": [
    "def get_cities_wo_id():\n",
    "    #result = [x['name'] for x in get_bad_cities(START_YEAR)]\n",
    "    result = [value['clean_name'] for value in posts.values() if 'gismeteo_id' not in value.keys()]\n",
    "    #and value['clean_name'] not in result])\n",
    "    return result\n",
    "\n",
    "get_cities_wo_id()"
   ]
  },
  {
   "cell_type": "markdown",
   "id": "97da0f61",
   "metadata": {},
   "source": [
    "Для определения административных центров будет использован сайт Википедии, где на страницах с населёнными пунктами указан муниципальный район, к которому он принадлежит, а на странице с этим районом - административный центр."
   ]
  },
  {
   "cell_type": "code",
   "execution_count": null,
   "id": "df392db1",
   "metadata": {},
   "outputs": [],
   "source": [
    "def get_wiki_page(page_name):\n",
    "    file_name = os.path.join('wiki', f'{page_name}.html')\n",
    "    if is_data_exists(file_name, is_raw=True):\n",
    "        wiki = open_file(file_name, is_raw=True)\n",
    "    else:\n",
    "        url = f'https://ru.wikipedia.org/wiki/{page_name}'\n",
    "        r = get_url(url)\n",
    "        wiki = r.text\n",
    "        write_data(file_name, data=wiki, is_raw=True)\n",
    "    return BeautifulSoup(wiki, 'lxml')"
   ]
  },
  {
   "cell_type": "code",
   "execution_count": null,
   "id": "d4633ada",
   "metadata": {
    "scrolled": true
   },
   "outputs": [],
   "source": [
    "def fix_null_cities():\n",
    "    for city in get_cities_wo_id():\n",
    "        try:\n",
    "            wiki = get_wiki_page(city)\n",
    "            district = wiki.find('a', string=\"Муниципальный район\")\n",
    "            if not district:\n",
    "                print('- https://ru.wikipedia.org/wiki/' + city.replace(' ', '_'))\n",
    "                continue\n",
    "            \n",
    "            district = district.parent.parent.find('td').find('a')['title']  # поиск строки с названием района\n",
    "            print(f'+ {city} ({district})', end='')\n",
    "            wiki = get_wiki_page(district)\n",
    "            admin_town = wiki.find('th', string=\"Адм. центр\")\n",
    "            if not admin_town:\n",
    "                print(f'\\nАдминистративный центр для {city} ({district}) не обнаружен')\n",
    "                continue\n",
    "            admin_town = admin_town.parent.find('a').text\n",
    "            print(f' ==> {admin_town}', end='')\n",
    "            admin_town_id = next((city_id for city_id, name in cities.items() if name == admin_town))\n",
    "            print(f' ==> {admin_town_id}', end='')\n",
    "            for uid, item in posts.items():\n",
    "                if city == item['clean_name']:\n",
    "                    if 'gismeteo_id' not in posts[uid].keys():\n",
    "                        posts[uid].update({'gismeteo_id': -1})\n",
    "                    posts[uid].update({'fallback_id': int(admin_town_id)})\n",
    "                    print(f' ==> исправлено!')\n",
    "                    break\n",
    "            \n",
    "        except requests.exceptions.HTTPError:\n",
    "            # Википедия даёт 404 статус на отсутствующие статьи, игнорируем\n",
    "            print(f'Статья {city} не найдена')\n",
    "            print('- https://ru.wikipedia.org/wiki/' + city)\n",
    "            continue\n",
    "\n",
    "fix_null_cities()\n",
    "posts"
   ]
  },
  {
   "cell_type": "markdown",
   "id": "bf64f37a",
   "metadata": {},
   "source": [
    "Некоторые проблемные страницы открывают список страниц с похожими названиями."
   ]
  },
  {
   "cell_type": "markdown",
   "id": "eb97e889",
   "metadata": {},
   "source": [
    "![Несколько вариантов страниц в Википедии](images/wiki_variants.png)"
   ]
  },
  {
   "cell_type": "markdown",
   "id": "53f60649",
   "metadata": {},
   "source": [
    "В таких случаях необходимо вручную задать верную страницу на Википедии."
   ]
  },
  {
   "cell_type": "code",
   "execution_count": null,
   "id": "08f66608",
   "metadata": {},
   "outputs": [],
   "source": [
    "for uid, name in posts.items():\n",
    "    posts[uid].update({'clean_name': clear_name(name)})\n",
    "    result = result.replace('Стрелка Чуня', 'Стрелка-Чуня')\n",
    "    result = result.replace('Большой порог', 'Большой Порог')"
   ]
  },
  {
   "cell_type": "code",
   "execution_count": null,
   "id": "68ab9061",
   "metadata": {},
   "outputs": [],
   "source": [
    "'''\n",
    "[0]      |             день               |            вечер               |\n",
    "[1] число|темп.|давл.|облач.|явления|ветер|темп.|давл.|облач.|явления|ветер|\n",
    "   ------------------------------------------------------------------------\n",
    "[2]   1  | -15 | 732\n",
    "   -----------------\n",
    "'''\n",
    "def process_row(row):\n",
    "    cells = row.find_all('td')\n",
    "    day = int(cells[0].text)\n",
    "    temperature = int(cells[1].text)\n",
    "    pressure = int(cells[2].text)\n",
    "    \n",
    "    # 3 cloud\n",
    "    cloud = 'unknown'\n",
    "    url_cloud = cells[3].find('img')\n",
    "    if url_cloud is not None:\n",
    "        url_cloud = url_cloud['src']  # //st6.gismeteo.ru/static/diary/img/dull.png\n",
    "        cloud = re.search(r\"diary/img/(\\w+).png\", url_cloud).group(1)\n",
    "        \n",
    "    # 4 weather\n",
    "    weather = 'clear'\n",
    "    url_weather = cells[4].find('img')\n",
    "    if url_weather is not None:\n",
    "        url_weather = url_weather['src'] # //st6.gismeteo.ru/static/diary/img/snow.png\n",
    "        weather = re.search(r\"diary/img/(\\w+).png\", url_cloud).group(1)\n",
    "    \n",
    "    # 5 wind\n",
    "    if cells[5].text == 'Ш':  # штиль\n",
    "        day_wind_spd, day_wind_dir = 0, 'Ш'\n",
    "    else:\n",
    "        wind_info = re.search(r\"(\\w+) (\\d+)\", cells[5].text)\n",
    "        day_wind_dir = wind_info.group(1)\n",
    "        day_wind_spd = int(wind_info.group(2))\n",
    "    # в реальных прогнозах погоды даётся 1 прогноз на весь день, без разделения по часам или времени суток\n",
    "    \n",
    "    return (day, temperature, pressure, cloud, weather, day_wind_spd, day_wind_dir)\n",
    "    #print(type(day), type(temperature), type(pressure), type(cloud), type(weather), type(day_wind_spd), type(day_wind_dir))\n",
    "    \n",
    "\n",
    "table = soup.find('table')\n",
    "rows = table.find_all('tr')\n",
    "rows = rows[2:]  # убрать шапку таблицы\n",
    "\n",
    "result = process_row(rows[2])\n",
    "result"
   ]
  },
  {
   "cell_type": "code",
   "execution_count": null,
   "id": "5f892848",
   "metadata": {},
   "outputs": [],
   "source": []
  },
  {
   "cell_type": "code",
   "execution_count": null,
   "id": "ee709c40",
   "metadata": {},
   "outputs": [],
   "source": [
    "start_year = 2008\n",
    "end_year = 2018"
   ]
  }
 ],
 "metadata": {
  "kernelspec": {
   "display_name": "Python 3 (ipykernel)",
   "language": "python",
   "name": "python3"
  },
  "language_info": {
   "codemirror_mode": {
    "name": "ipython",
    "version": 3
   },
   "file_extension": ".py",
   "mimetype": "text/x-python",
   "name": "python",
   "nbconvert_exporter": "python",
   "pygments_lexer": "ipython3",
   "version": "3.9.13"
  }
 },
 "nbformat": 4,
 "nbformat_minor": 5
}
