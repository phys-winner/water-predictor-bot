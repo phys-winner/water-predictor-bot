{
 "cells": [
  {
   "cell_type": "markdown",
   "id": "043691cb",
   "metadata": {},
   "source": [
    "# Анализ сайта gismeteo.ru"
   ]
  },
  {
   "cell_type": "markdown",
   "id": "1fe18423",
   "metadata": {},
   "source": [
    "Для выполнения итогового задания в качестве источника данных метеосводок был выбран сервис Дневник сайта Gismeteo.ru, в котором можно бесплатно получить исторические данные о погоде, начиная с 1997 года.\n",
    "\n",
    "todo: добавить список коммерческих ресурсов, с которых можно получить исторические данные и прогнозы на долгий срок"
   ]
  },
  {
   "cell_type": "markdown",
   "id": "ececaa75",
   "metadata": {},
   "source": [
    "![Внешний вид сервиса Дневник от gismeteo](pictures/gismeteo_example.png)"
   ]
  },
  {
   "cell_type": "markdown",
   "id": "fc8920e8",
   "metadata": {},
   "source": [
    "После исполнения скрипта на загрузку данных из сайта автоматизированной информационной системы государственного мониторинга водных объектов Российской Федерации (далее - \"АИС ГМВО\") **src\\preparation\\scrape_water_level.py**, в **data\\raw\\water_posts_data.json** будет находиться словарь **{uid: наименование поста наблюдения}**. Наименования представлены в виде: *название водного объекта* - *название населённого пункта*"
   ]
  },
  {
   "cell_type": "markdown",
   "id": "9fb978de",
   "metadata": {},
   "source": [
    "## Получение списка населённых пунктов"
   ]
  },
  {
   "cell_type": "markdown",
   "id": "464b71be",
   "metadata": {},
   "source": [
    "Проверка и установка рабочей директории, должен быть корень проекта:"
   ]
  },
  {
   "cell_type": "code",
   "execution_count": 1,
   "id": "d9ba2345",
   "metadata": {
    "scrolled": true
   },
   "outputs": [
    {
     "data": {
      "text/plain": [
       "'C:\\\\Users\\\\Kuroha\\\\source\\\\repos_py\\\\bauman_final_project\\\\notebooks'"
      ]
     },
     "execution_count": 1,
     "metadata": {},
     "output_type": "execute_result"
    }
   ],
   "source": [
    "%pwd"
   ]
  },
  {
   "cell_type": "code",
   "execution_count": 2,
   "id": "8dec03e4",
   "metadata": {},
   "outputs": [
    {
     "name": "stdout",
     "output_type": "stream",
     "text": [
      "C:\\Users\\Kuroha\\source\\repos_py\\bauman_final_project\n"
     ]
    }
   ],
   "source": [
    "%cd .."
   ]
  },
  {
   "cell_type": "markdown",
   "id": "cc7b8864",
   "metadata": {},
   "source": [
    "Загрузка списка постов:"
   ]
  },
  {
   "cell_type": "code",
   "execution_count": 3,
   "id": "8ecec11e",
   "metadata": {},
   "outputs": [
    {
     "data": {
      "text/plain": [
       "{'09386': 'р.Подкаменная Тунгуска - пос.Чемдальск',\n",
       " '09387': 'р.Подкаменная Тунгуска - с.Ванавара',\n",
       " '09388': 'р.Подкаменная Тунгуска - факт.Усть-Камо',\n",
       " '09389': 'р.Подкаменная Тунгуска - с.Байкит',\n",
       " '09390': 'р.Подкаменная Тунгуска - факт.Кузьмовка',\n",
       " '09392': 'р.Чуня - пос.Стрелка Чуня',\n",
       " '09393': 'р.Чуня - пос.Муторай',\n",
       " '09396': 'руч.Миханский - пос.Вельмо 2-е',\n",
       " '09397': 'р.Тея - пгт Тея',\n",
       " '09499': 'р.Бурная - пос.Бурный',\n",
       " '09523': 'р.Подкаменная Тунгуска - пос.Суломай',\n",
       " '09560': 'р.Вельмо - пос.Светлана',\n",
       " '09568': 'р.Вельмо - пос.Вельмо 2-е',\n",
       " '09403': 'р.Нижняя Тунгуска - д.Верхнекарелина',\n",
       " '09404': 'р.Нижняя Тунгуска - с.Подволошино',\n",
       " '09405': 'р.Нижняя Тунгуска - с.Преображенка',\n",
       " '09406': 'р.Нижняя Тунгуска - с.Ербогачен',\n",
       " '09408': 'р.Нижняя Тунгуска - пос.Кислокан',\n",
       " '09410': 'р.Нижняя Тунгуска - пгт Тура',\n",
       " '09413': 'р.Нижняя Тунгуска - пос.Учами',\n",
       " '09415': 'р.Нижняя Тунгуска - факт.Большой Порог',\n",
       " '09416': 'р.Непа - с.Токма',\n",
       " '09417': 'р.Непа - д.Ика',\n",
       " '09419': 'р.Тембенчи - факт.Тембенчи',\n",
       " '09420': 'р.Таймура - факт.Кербо',\n",
       " '09421': 'руч.без названия - факт.Кербо',\n",
       " '09422': 'р.Ерачимо - факт.Большой порог',\n",
       " '09518': 'р.Нижняя Тунгуска - с.Непа'}"
      ]
     },
     "execution_count": 3,
     "metadata": {},
     "output_type": "execute_result"
    }
   ],
   "source": [
    "from src.utils import *\n",
    "\n",
    "\n",
    "file_posts = open_file(DATA_POSTS_RAW, is_raw=True)\n",
    "posts = json.loads(file_posts)\n",
    "posts"
   ]
  },
  {
   "cell_type": "markdown",
   "id": "7192530c",
   "metadata": {},
   "source": [
    "Создание набора с очищенными названиями населённых пунктов:"
   ]
  },
  {
   "cell_type": "code",
   "execution_count": 4,
   "id": "5bf593e8",
   "metadata": {},
   "outputs": [
    {
     "data": {
      "text/plain": [
       "'р.Нижняя Тунгуска - факт.Большой Порог'"
      ]
     },
     "execution_count": 4,
     "metadata": {},
     "output_type": "execute_result"
    }
   ],
   "source": [
    "#test_name = next(iter(posts.values()))  # р.Подкаменная Тунгуска - пос.Чемдальск\n",
    "#test_name = posts['09388']  # р.Подкаменная Тунгуска - факт.Усть-Камо\n",
    "test_name = posts['09415']  # р.Нижняя Тунгуска - факт.Большой Порог\n",
    "test_name"
   ]
  },
  {
   "cell_type": "code",
   "execution_count": 5,
   "id": "0010d1f8",
   "metadata": {},
   "outputs": [
    {
     "data": {
      "text/plain": [
       "'Большой порог'"
      ]
     },
     "execution_count": 5,
     "metadata": {},
     "output_type": "execute_result"
    }
   ],
   "source": [
    "import re\n",
    "\n",
    "# между видом и названием населённого пункта есть или точка, или пробел, используем [ \\.]{1}\n",
    "# учтено наличие в названии пункта пробела и тире\n",
    "# capitalise() делается для того, чтобы привести названия из двух слов к единому формату\n",
    "# пример: Большой Порог и Большой порог\n",
    "def clear_name(input_str):\n",
    "    result = re.search(r\" - \\w+[ \\.]{1}([\\w -]+)\", input_str).group(1)\n",
    "    return result.capitalize()\n",
    "\n",
    "clear_name(test_name)"
   ]
  },
  {
   "cell_type": "code",
   "execution_count": 6,
   "id": "4f9a78c8",
   "metadata": {},
   "outputs": [
    {
     "data": {
      "text/plain": [
       "{'09386': 'Чемдальск',\n",
       " '09387': 'Ванавара',\n",
       " '09388': 'Усть-камо',\n",
       " '09389': 'Байкит',\n",
       " '09390': 'Кузьмовка',\n",
       " '09392': 'Стрелка чуня',\n",
       " '09393': 'Муторай',\n",
       " '09396': 'Вельмо 2-е',\n",
       " '09397': 'Тея',\n",
       " '09499': 'Бурный',\n",
       " '09523': 'Суломай',\n",
       " '09560': 'Светлана',\n",
       " '09568': 'Вельмо 2-е',\n",
       " '09403': 'Верхнекарелина',\n",
       " '09404': 'Подволошино',\n",
       " '09405': 'Преображенка',\n",
       " '09406': 'Ербогачен',\n",
       " '09408': 'Кислокан',\n",
       " '09410': 'Тура',\n",
       " '09413': 'Учами',\n",
       " '09415': 'Большой порог',\n",
       " '09416': 'Токма',\n",
       " '09417': 'Ика',\n",
       " '09419': 'Тембенчи',\n",
       " '09420': 'Кербо',\n",
       " '09421': 'Кербо',\n",
       " '09422': 'Большой порог',\n",
       " '09518': 'Непа'}"
      ]
     },
     "execution_count": 6,
     "metadata": {},
     "output_type": "execute_result"
    }
   ],
   "source": [
    "for uid, name in posts.items():\n",
    "    posts[uid] = clear_name(name)\n",
    "\n",
    "posts"
   ]
  },
  {
   "cell_type": "markdown",
   "id": "6ca53afe",
   "metadata": {},
   "source": [
    "Создание списка с уникальными населёнными пунктами:"
   ]
  },
  {
   "cell_type": "code",
   "execution_count": 7,
   "id": "34e4d3c2",
   "metadata": {},
   "outputs": [
    {
     "data": {
      "text/plain": [
       "{'Байкит',\n",
       " 'Большой порог',\n",
       " 'Бурный',\n",
       " 'Ванавара',\n",
       " 'Вельмо 2-е',\n",
       " 'Верхнекарелина',\n",
       " 'Ербогачен',\n",
       " 'Ика',\n",
       " 'Кербо',\n",
       " 'Кислокан',\n",
       " 'Кузьмовка',\n",
       " 'Муторай',\n",
       " 'Непа',\n",
       " 'Подволошино',\n",
       " 'Преображенка',\n",
       " 'Светлана',\n",
       " 'Стрелка чуня',\n",
       " 'Суломай',\n",
       " 'Тембенчи',\n",
       " 'Тея',\n",
       " 'Токма',\n",
       " 'Тура',\n",
       " 'Усть-камо',\n",
       " 'Учами',\n",
       " 'Чемдальск'}"
      ]
     },
     "execution_count": 7,
     "metadata": {},
     "output_type": "execute_result"
    }
   ],
   "source": [
    "names = set(posts.values())\n",
    "names"
   ]
  },
  {
   "cell_type": "code",
   "execution_count": 8,
   "id": "5e788958",
   "metadata": {},
   "outputs": [
    {
     "name": "stdout",
     "output_type": "stream",
     "text": [
      "Число постов: 28\n",
      "Число уникальных пунктов: 25\n"
     ]
    }
   ],
   "source": [
    "print(f'Число постов: {len(posts)}\\nЧисло уникальных пунктов: {len(names)}')"
   ]
  },
  {
   "cell_type": "code",
   "execution_count": null,
   "id": "4439963a",
   "metadata": {},
   "outputs": [],
   "source": []
  }
 ],
 "metadata": {
  "kernelspec": {
   "display_name": "Python 3 (ipykernel)",
   "language": "python",
   "name": "python3"
  },
  "language_info": {
   "codemirror_mode": {
    "name": "ipython",
    "version": 3
   },
   "file_extension": ".py",
   "mimetype": "text/x-python",
   "name": "python",
   "nbconvert_exporter": "python",
   "pygments_lexer": "ipython3",
   "version": "3.9.13"
  }
 },
 "nbformat": 4,
 "nbformat_minor": 5
}
