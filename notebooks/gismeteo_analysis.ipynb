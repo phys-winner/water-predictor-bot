{
 "cells": [
  {
   "cell_type": "markdown",
   "id": "043691cb",
   "metadata": {},
   "source": [
    "# Анализ сайта gismeteo.ru"
   ]
  },
  {
   "cell_type": "markdown",
   "id": "1fe18423",
   "metadata": {},
   "source": [
    "Для выполнения итогового задания в качестве источника данных метеосводок был выбран сервис Дневник сайта Gismeteo.ru, в котором можно бесплатно получить исторические данные о погоде, начиная с 1997 года. Необходимо получить данные с 2008 по 2018 года включительно (последний год необходим для прогнозирования навигации на сезон).\n",
    "\n",
    "todo: добавить список коммерческих ресурсов, с которых можно получить исторические данные и прогнозы на долгий срок"
   ]
  },
  {
   "cell_type": "markdown",
   "id": "ececaa75",
   "metadata": {},
   "source": [
    "![Внешний вид сервиса Дневник от gismeteo](images/gismeteo_example.png)"
   ]
  },
  {
   "cell_type": "markdown",
   "id": "346b3fd8",
   "metadata": {},
   "source": [
    "После исполнения скрипта на загрузку данных из сайта автоматизированной информационной системы государственного мониторинга водных объектов Российской Федерации (далее - \"АИС ГМВО\") **src\\preparation\\scrape_water_level.py**, в **data\\raw\\water_posts_data.json** будет находиться словарь **{uid: наименование поста наблюдения}**. Наименования представлены в виде: *название водного объекта* - *название населённого пункта*"
   ]
  },
  {
   "cell_type": "markdown",
   "id": "b942ab37",
   "metadata": {},
   "source": [
    "## Получение списка населённых пунктов с постами наблюдения"
   ]
  },
  {
   "cell_type": "markdown",
   "id": "47104e89",
   "metadata": {},
   "source": [
    "### Проверка и установка рабочей директории, должен быть корень проекта"
   ]
  },
  {
   "cell_type": "code",
   "execution_count": 1,
   "id": "eff8b31e",
   "metadata": {
    "scrolled": true
   },
   "outputs": [
    {
     "data": {
      "text/plain": [
       "'C:\\\\Users\\\\Kuroha\\\\source\\\\repos_py\\\\bauman_final_project\\\\notebooks'"
      ]
     },
     "execution_count": 1,
     "metadata": {},
     "output_type": "execute_result"
    }
   ],
   "source": [
    "%pwd"
   ]
  },
  {
   "cell_type": "code",
   "execution_count": 2,
   "id": "3645e379",
   "metadata": {},
   "outputs": [
    {
     "name": "stdout",
     "output_type": "stream",
     "text": [
      "C:\\Users\\Kuroha\\source\\repos_py\\bauman_final_project\n"
     ]
    }
   ],
   "source": [
    "%cd .."
   ]
  },
  {
   "cell_type": "markdown",
   "id": "efc3bab0",
   "metadata": {},
   "source": [
    "### Загрузка списка постов"
   ]
  },
  {
   "cell_type": "code",
   "execution_count": 28,
   "id": "3186a182",
   "metadata": {},
   "outputs": [
    {
     "name": "stdout",
     "output_type": "stream",
     "text": [
      "28\n"
     ]
    },
    {
     "data": {
      "text/plain": [
       "{'09386': 'р.Подкаменная Тунгуска - пос.Чемдальск',\n",
       " '09387': 'р.Подкаменная Тунгуска - с.Ванавара',\n",
       " '09388': 'р.Подкаменная Тунгуска - факт.Усть-Камо',\n",
       " '09389': 'р.Подкаменная Тунгуска - с.Байкит',\n",
       " '09390': 'р.Подкаменная Тунгуска - факт.Кузьмовка',\n",
       " '09392': 'р.Чуня - пос.Стрелка Чуня',\n",
       " '09393': 'р.Чуня - пос.Муторай',\n",
       " '09396': 'руч.Миханский - пос.Вельмо 2-е',\n",
       " '09397': 'р.Тея - пгт Тея',\n",
       " '09499': 'р.Бурная - пос.Бурный',\n",
       " '09523': 'р.Подкаменная Тунгуска - пос.Суломай',\n",
       " '09560': 'р.Вельмо - пос.Светлана',\n",
       " '09568': 'р.Вельмо - пос.Вельмо 2-е',\n",
       " '09403': 'р.Нижняя Тунгуска - д.Верхнекарелина',\n",
       " '09404': 'р.Нижняя Тунгуска - с.Подволошино',\n",
       " '09405': 'р.Нижняя Тунгуска - с.Преображенка',\n",
       " '09406': 'р.Нижняя Тунгуска - с.Ербогачен',\n",
       " '09408': 'р.Нижняя Тунгуска - пос.Кислокан',\n",
       " '09410': 'р.Нижняя Тунгуска - пгт Тура',\n",
       " '09413': 'р.Нижняя Тунгуска - пос.Учами',\n",
       " '09415': 'р.Нижняя Тунгуска - факт.Большой Порог',\n",
       " '09416': 'р.Непа - с.Токма',\n",
       " '09417': 'р.Непа - д.Ика',\n",
       " '09419': 'р.Тембенчи - факт.Тембенчи',\n",
       " '09420': 'р.Таймура - факт.Кербо',\n",
       " '09421': 'руч.без названия - факт.Кербо',\n",
       " '09422': 'р.Ерачимо - факт.Большой порог',\n",
       " '09518': 'р.Нижняя Тунгуска - с.Непа'}"
      ]
     },
     "execution_count": 28,
     "metadata": {},
     "output_type": "execute_result"
    }
   ],
   "source": [
    "from src.utils import *\n",
    "\n",
    "if not is_data_exists(DATA_POSTS_RAW, is_raw=True):\n",
    "    print('Данные с постами наблюдения АИС ГМВО не были загружены. Пожалуйста, '\n",
    "          'выполните скрипт src\\preparation\\scrape_water_level.py'\n",
    "          'и попробуйте ещё раз.')\n",
    "else:\n",
    "    file_posts = open_file(DATA_POSTS_RAW, is_raw=True)\n",
    "    posts = json.loads(file_posts)\n",
    "print(len(posts))\n",
    "posts"
   ]
  },
  {
   "cell_type": "markdown",
   "id": "96c21d98",
   "metadata": {},
   "source": [
    "### Создание набора с очищенными названиями населённых пунктов"
   ]
  },
  {
   "cell_type": "code",
   "execution_count": 29,
   "id": "14782ee2",
   "metadata": {},
   "outputs": [
    {
     "data": {
      "text/plain": [
       "'р.Нижняя Тунгуска - факт.Большой Порог'"
      ]
     },
     "execution_count": 29,
     "metadata": {},
     "output_type": "execute_result"
    }
   ],
   "source": [
    "#test_name = next(iter(posts.values()))  # р.Подкаменная Тунгуска - пос.Чемдальск\n",
    "#test_name = posts['09388']  # р.Подкаменная Тунгуска - факт.Усть-Камо\n",
    "test_name = posts['09415']  # р.Нижняя Тунгуска - факт.Большой Порог\n",
    "test_name"
   ]
  },
  {
   "cell_type": "code",
   "execution_count": 31,
   "id": "7925b48b",
   "metadata": {},
   "outputs": [
    {
     "data": {
      "text/plain": [
       "'Большой Порог'"
      ]
     },
     "execution_count": 31,
     "metadata": {},
     "output_type": "execute_result"
    }
   ],
   "source": [
    "import re\n",
    "\n",
    "'''\n",
    "Между видом и названием населённого пункта есть или точка, или пробел, используем [ \\.]{1}\n",
    "Учтено наличие в названии пункта пробела и тире\n",
    "В БД gismeteo названия некоторых пунктов отличаются от таковых из сайта АИС ГМВО\n",
    "'''\n",
    "def clear_name(input_str):\n",
    "    result = input_str.replace('Вельмо 2-е', 'Вельмо')\n",
    "    result = result.replace('Стрелка Чуня', 'Стрелка-Чуня')\n",
    "    result = result.replace('Большой порог', 'Большой Порог')\n",
    "    result = re.search(r\" - \\w+[ \\.]{1}([\\w -]+)\", result).group(1)\n",
    "    return result\n",
    "\n",
    "clear_name(test_name)"
   ]
  },
  {
   "cell_type": "code",
   "execution_count": 32,
   "id": "e581193d",
   "metadata": {},
   "outputs": [
    {
     "data": {
      "text/plain": [
       "{'09386': {'name': 'р.Подкаменная Тунгуска - пос.Чемдальск',\n",
       "  'clean_name': 'Чемдальск'},\n",
       " '09387': {'name': 'р.Подкаменная Тунгуска - с.Ванавара',\n",
       "  'clean_name': 'Ванавара'},\n",
       " '09388': {'name': 'р.Подкаменная Тунгуска - факт.Усть-Камо',\n",
       "  'clean_name': 'Усть-Камо'},\n",
       " '09389': {'name': 'р.Подкаменная Тунгуска - с.Байкит',\n",
       "  'clean_name': 'Байкит'},\n",
       " '09390': {'name': 'р.Подкаменная Тунгуска - факт.Кузьмовка',\n",
       "  'clean_name': 'Кузьмовка'},\n",
       " '09392': {'name': 'р.Чуня - пос.Стрелка Чуня', 'clean_name': 'Стрелка-Чуня'},\n",
       " '09393': {'name': 'р.Чуня - пос.Муторай', 'clean_name': 'Муторай'},\n",
       " '09396': {'name': 'руч.Миханский - пос.Вельмо 2-е', 'clean_name': 'Вельмо'},\n",
       " '09397': {'name': 'р.Тея - пгт Тея', 'clean_name': 'Тея'},\n",
       " '09499': {'name': 'р.Бурная - пос.Бурный', 'clean_name': 'Бурный'},\n",
       " '09523': {'name': 'р.Подкаменная Тунгуска - пос.Суломай',\n",
       "  'clean_name': 'Суломай'},\n",
       " '09560': {'name': 'р.Вельмо - пос.Светлана', 'clean_name': 'Светлана'},\n",
       " '09568': {'name': 'р.Вельмо - пос.Вельмо 2-е', 'clean_name': 'Вельмо'},\n",
       " '09403': {'name': 'р.Нижняя Тунгуска - д.Верхнекарелина',\n",
       "  'clean_name': 'Верхнекарелина'},\n",
       " '09404': {'name': 'р.Нижняя Тунгуска - с.Подволошино',\n",
       "  'clean_name': 'Подволошино'},\n",
       " '09405': {'name': 'р.Нижняя Тунгуска - с.Преображенка',\n",
       "  'clean_name': 'Преображенка'},\n",
       " '09406': {'name': 'р.Нижняя Тунгуска - с.Ербогачен',\n",
       "  'clean_name': 'Ербогачен'},\n",
       " '09408': {'name': 'р.Нижняя Тунгуска - пос.Кислокан',\n",
       "  'clean_name': 'Кислокан'},\n",
       " '09410': {'name': 'р.Нижняя Тунгуска - пгт Тура', 'clean_name': 'Тура'},\n",
       " '09413': {'name': 'р.Нижняя Тунгуска - пос.Учами', 'clean_name': 'Учами'},\n",
       " '09415': {'name': 'р.Нижняя Тунгуска - факт.Большой Порог',\n",
       "  'clean_name': 'Большой Порог'},\n",
       " '09416': {'name': 'р.Непа - с.Токма', 'clean_name': 'Токма'},\n",
       " '09417': {'name': 'р.Непа - д.Ика', 'clean_name': 'Ика'},\n",
       " '09419': {'name': 'р.Тембенчи - факт.Тембенчи', 'clean_name': 'Тембенчи'},\n",
       " '09420': {'name': 'р.Таймура - факт.Кербо', 'clean_name': 'Кербо'},\n",
       " '09421': {'name': 'руч.без названия - факт.Кербо', 'clean_name': 'Кербо'},\n",
       " '09422': {'name': 'р.Ерачимо - факт.Большой порог',\n",
       "  'clean_name': 'Большой Порог'},\n",
       " '09518': {'name': 'р.Нижняя Тунгуска - с.Непа', 'clean_name': 'Непа'}}"
      ]
     },
     "execution_count": 32,
     "metadata": {},
     "output_type": "execute_result"
    }
   ],
   "source": [
    "for uid, name in posts.items():\n",
    "    posts[uid] = {'name': name, 'clean_name': clear_name(name)}\n",
    "\n",
    "posts"
   ]
  },
  {
   "cell_type": "markdown",
   "id": "48c4bcdf",
   "metadata": {},
   "source": [
    "### Создание списка с уникальными населёнными пунктами"
   ]
  },
  {
   "cell_type": "code",
   "execution_count": 33,
   "id": "aea78bfc",
   "metadata": {},
   "outputs": [
    {
     "data": {
      "text/plain": [
       "{'Байкит',\n",
       " 'Большой Порог',\n",
       " 'Бурный',\n",
       " 'Ванавара',\n",
       " 'Вельмо',\n",
       " 'Верхнекарелина',\n",
       " 'Ербогачен',\n",
       " 'Ика',\n",
       " 'Кербо',\n",
       " 'Кислокан',\n",
       " 'Кузьмовка',\n",
       " 'Муторай',\n",
       " 'Непа',\n",
       " 'Подволошино',\n",
       " 'Преображенка',\n",
       " 'Светлана',\n",
       " 'Стрелка-Чуня',\n",
       " 'Суломай',\n",
       " 'Тембенчи',\n",
       " 'Тея',\n",
       " 'Токма',\n",
       " 'Тура',\n",
       " 'Усть-Камо',\n",
       " 'Учами',\n",
       " 'Чемдальск'}"
      ]
     },
     "execution_count": 33,
     "metadata": {},
     "output_type": "execute_result"
    }
   ],
   "source": [
    "names = set([x['clean_name'] for x in posts.values()])\n",
    "names"
   ]
  },
  {
   "cell_type": "code",
   "execution_count": 34,
   "id": "f148498b",
   "metadata": {
    "scrolled": true
   },
   "outputs": [
    {
     "name": "stdout",
     "output_type": "stream",
     "text": [
      "Число постов: 28\n",
      "Число уникальных пунктов: 25\n"
     ]
    }
   ],
   "source": [
    "print(f'Число постов: {len(posts)}\\nЧисло уникальных пунктов: {len(names)}')"
   ]
  },
  {
   "cell_type": "markdown",
   "id": "e26d467e",
   "metadata": {},
   "source": [
    "## Проверка наличия прогноза погоды"
   ]
  },
  {
   "cell_type": "markdown",
   "id": "fee2f161",
   "metadata": {},
   "source": [
    "С получением метео-данных есть 2 проблемы:\n",
    "1. Не все населённые пункты представлены в списке городов.\n",
    "2. В некоторых пунтах за период с 2008 по 2018 не велись наблюдения метео-данных. При попытке их получить сайт показывает сообщение:\n",
    "> Наблюдения метео-данных в данный период не велись."
   ]
  },
  {
   "cell_type": "markdown",
   "id": "2e306ca5",
   "metadata": {},
   "source": [
    "![Сообщение об ошибке](images/gismeteo_error.png)"
   ]
  },
  {
   "cell_type": "markdown",
   "id": "f422e501",
   "metadata": {},
   "source": [
    "Необходимо обнаружить проблемные населённые пункты."
   ]
  },
  {
   "cell_type": "markdown",
   "id": "ee434397",
   "metadata": {},
   "source": [
    "### Получение списка населённых пунктов с gismeteo"
   ]
  },
  {
   "cell_type": "markdown",
   "id": "dc751bd3",
   "metadata": {},
   "source": [
    "После открытия https://www.gismeteo.ru/diary/ и выбора страны Россия и области Красноярский край происходит 3 GET запроса:\n",
    "![GET запросы](images/gismeteo_requests.png)\n",
    "\n",
    "1. https://www.gismeteo.ru/inform-service/63466572668a39754a9ddf4c8b3437b0/countries/?fr=sel  \n",
    "Получение списка стран c ID и названиями.\n",
    "\n",
    "2. https://www.gismeteo.ru/inform-service/63466572668a39754a9ddf4c8b3437b0/districts/?country=156&fr=sel  \n",
    "Получения списка областей c ID и названиями. В параметре country указан ID выбранной страны (156 - Россия).\n",
    "\n",
    "3. https://www.gismeteo.ru/inform-service/63466572668a39754a9ddf4c8b3437b0/cities/?district=301&fr=sel  \n",
    "Получения списка городов c ID и названиями. В параметре district указан ID выбранной области (301 - Красноярский край).\n",
    "\n",
    "Во всех запросах **63466572668a39754a9ddf4c8b3437b0** - это стандартный api-токен, который не зависит от IP-адреса пользователя. Запросы возвращают данные в формате xml."
   ]
  },
  {
   "cell_type": "code",
   "execution_count": 9,
   "id": "dc6e43ff",
   "metadata": {},
   "outputs": [
    {
     "name": "stdout",
     "output_type": "stream",
     "text": [
      "Используем ранее загруженные данные о городах\n"
     ]
    },
    {
     "data": {
      "text/plain": [
       "[OrderedDict([('@id', '157182'),\n",
       "              ('@n', 'Абакумовка'),\n",
       "              ('@country_id', '156'),\n",
       "              ('@country_name', 'Россия'),\n",
       "              ('@district_id', '301'),\n",
       "              ('@district_name', 'Красноярский край'),\n",
       "              ('@kind', 'T')]),\n",
       " OrderedDict([('@id', '157882'),\n",
       "              ('@n', 'Абакшино'),\n",
       "              ('@country_id', '156'),\n",
       "              ('@country_name', 'Россия'),\n",
       "              ('@district_id', '301'),\n",
       "              ('@district_name', 'Красноярский край'),\n",
       "              ('@kind', 'T')])]"
      ]
     },
     "execution_count": 9,
     "metadata": {},
     "output_type": "execute_result"
    }
   ],
   "source": [
    "from src.utils import get_url\n",
    "import xmltodict\n",
    "\n",
    "if is_data_exists(DATA_GISMETEO_CITIES, is_raw=True):\n",
    "    print('Используем ранее загруженные данные о городах')\n",
    "    cities = open_file(DATA_GISMETEO_CITIES, is_raw=True)\n",
    "else:\n",
    "    url = 'https://www.gismeteo.ru/inform-service/63466572668a39754a9ddf4c8b3437b0/cities/?district=301&fr=sel'\n",
    "    r = get_url(url)\n",
    "    cities = r.text\n",
    "    write_data(DATA_GISMETEO_CITIES, data=cities, is_raw=True)\n",
    "\n",
    "cities = xmltodict.parse(cities)  # конвертация xml в dict\n",
    "\n",
    "# основные данные находятся в cities['document']['item']\n",
    "cities = cities['document']['item']\n",
    "cities[0:2]"
   ]
  },
  {
   "cell_type": "code",
   "execution_count": 10,
   "id": "c026862d",
   "metadata": {},
   "outputs": [
    {
     "data": {
      "text/plain": [
       "[{'city_id': '3995', 'name': 'Байкит'},\n",
       " {'city_id': '158140', 'name': 'Бурный'},\n",
       " {'city_id': '4036', 'name': 'Ванавара'},\n",
       " {'city_id': '157875', 'name': 'Вельмо'},\n",
       " {'city_id': '158142', 'name': 'Кислокан'},\n",
       " {'city_id': '158143', 'name': 'Кузьмовка'},\n",
       " {'city_id': '158146', 'name': 'Муторай'},\n",
       " {'city_id': '157247', 'name': 'Преображенка'},\n",
       " {'city_id': '156730', 'name': 'Преображенка'},\n",
       " {'city_id': '158152', 'name': 'Суломай'},\n",
       " {'city_id': '157881', 'name': 'Тея'},\n",
       " {'city_id': '4015', 'name': 'Тура'},\n",
       " {'city_id': '158154', 'name': 'Учами'},\n",
       " {'city_id': '158155', 'name': 'Чемдальск'}]"
      ]
     },
     "execution_count": 10,
     "metadata": {},
     "output_type": "execute_result"
    }
   ],
   "source": [
    "# создадим новый словарь {id: название} на основе полученных данных\n",
    "cities_gismeteo = []\n",
    "\n",
    "for city in cities:\n",
    "    city_id = city['@id']\n",
    "    name = city['@n']\n",
    "    if name in names:\n",
    "        cities_gismeteo.append({'city_id': city_id, 'name': name})\n",
    "\n",
    "cities_gismeteo"
   ]
  },
  {
   "cell_type": "markdown",
   "id": "f315207b",
   "metadata": {},
   "source": [
    "В списке есть дубликат населённого пункта Преображенка."
   ]
  },
  {
   "cell_type": "markdown",
   "id": "75cd50cb",
   "metadata": {},
   "source": [
    "### Реализация проверки наличия метео-данных"
   ]
  },
  {
   "cell_type": "markdown",
   "id": "562d17ab",
   "metadata": {},
   "source": [
    "Получение исторических метео-данных происходит следующим образом:\n",
    "1. Задаются все необходимые параметры - страна, область, город, месяц и год\n",
    "2. Нажатие на кнопку Получить дневник выполняет перенаправление на url вида  \n",
    "https://www.gismeteo.ru/diary/4036/2008/1/  \n",
    "в котором:  \n",
    "- **4036** - ID населённого пункта\n",
    "- **2008** - год\n",
    "- **1** - месяц без лидирующего нуля"
   ]
  },
  {
   "cell_type": "markdown",
   "id": "2cfacaf0",
   "metadata": {},
   "source": [
    "Если данные погоде не были зафиксированы, то вместо дневника будет сообщение об отсутствии данных."
   ]
  },
  {
   "cell_type": "code",
   "execution_count": 11,
   "id": "ebe94c42",
   "metadata": {},
   "outputs": [],
   "source": [
    "import os\n",
    "from bs4 import BeautifulSoup\n",
    "\n",
    "def get_gismeteo_page(city_id, year, month):\n",
    "    file_name = os.path.join('gismeteo', str(city_id), f'{year}-{month:02d}.html')\n",
    "    if is_data_exists(file_name, is_raw=True):\n",
    "        weather = open_file(file_name, is_raw=True)\n",
    "    else:\n",
    "        url = f'https://www.gismeteo.ru/diary/{city_id}/{year}/{month}/'\n",
    "        r = get_url(url)\n",
    "        weather = r.text\n",
    "        write_data(file_name, data=weather, is_raw=True)\n",
    "    soup = BeautifulSoup(weather, 'lxml')\n",
    "    if soup.find(class_='empty_phrase'):\n",
    "        return None\n",
    "    return soup"
   ]
  },
  {
   "cell_type": "code",
   "execution_count": 12,
   "id": "7cce1d2d",
   "metadata": {
    "scrolled": false
   },
   "outputs": [
    {
     "name": "stdout",
     "output_type": "stream",
     "text": [
      "Число пунктов до чистки: 14\n",
      "\n",
      "Бурный отсутствует\n",
      "Вельмо отсутствует\n",
      "Кислокан отсутствует\n",
      "Кузьмовка отсутствует\n",
      "Муторай отсутствует\n",
      "Преображенка отсутствует\n",
      "Преображенка отсутствует\n",
      "Суломай отсутствует\n",
      "Тея отсутствует\n",
      "Учами отсутствует\n",
      "Чемдальск отсутствует\n",
      "\n",
      "Число пунктов после чистки: 3\n",
      "р.Подкаменная Тунгуска - с.Байкит\n",
      "р.Подкаменная Тунгуска - с.Ванавара\n",
      "р.Нижняя Тунгуска - пгт Тура\n"
     ]
    }
   ],
   "source": [
    "print(f'Число пунктов до чистки: {len(cities_gismeteo)}\\n')\n",
    "for city in cities_gismeteo.copy():\n",
    "    if get_gismeteo_page(city[\"city_id\"], 2008, 1) is None:\n",
    "        cities_gismeteo.remove(city)\n",
    "        print(f'{city[\"name\"]} отсутствует')\n"
   ]
  },
  {
   "cell_type": "code",
   "execution_count": 35,
   "id": "ce83e789",
   "metadata": {},
   "outputs": [
    {
     "name": "stdout",
     "output_type": "stream",
     "text": [
      "\n",
      "Число пунктов после чистки: 3\n",
      "Байкит\n",
      "Ванавара\n",
      "Тура\n",
      "\n",
      "Пункты без информации: 22\n",
      "Кислокан\n",
      "Ванавара\n",
      "Светлана\n",
      "Суломай\n",
      "Стрелка-Чуня\n",
      "Вельмо\n",
      "Преображенка\n",
      "Токма\n",
      "Чемдальск\n",
      "Ербогачен\n",
      "Непа\n",
      "Тембенчи\n",
      "Ика\n",
      "Учами\n",
      "Бурный\n",
      "Большой Порог\n",
      "Усть-Камо\n",
      "Байкит\n",
      "Тея\n",
      "Верхнекарелина\n",
      "Кербо\n",
      "Кузьмовка\n",
      "Подволошино\n",
      "Муторай\n"
     ]
    }
   ],
   "source": [
    "print(f'\\nЧисло пунктов после чистки: {len(cities_gismeteo)}')\n",
    "for city in cities_gismeteo:\n",
    "    print(next(x['clean_name'] for x in posts.values() if city['name'] == x['clean_name']))\n",
    "    #print(next(x['name'] for x in posts.values() if city['name'] == x['clean_name']))\n",
    "\n",
    "print(f'\\nПункты без информации: {len(names) - len(cities_gismeteo)}')\n",
    "for name in names:\n",
    "    if name not in city.values():\n",
    "        print(name)"
   ]
  },
  {
   "cell_type": "markdown",
   "id": "b0f8ded1",
   "metadata": {},
   "source": []
  },
  {
   "cell_type": "markdown",
   "id": "c4342da7",
   "metadata": {},
   "source": []
  },
  {
   "cell_type": "code",
   "execution_count": null,
   "id": "6da3b6c9",
   "metadata": {},
   "outputs": [],
   "source": []
  },
  {
   "cell_type": "code",
   "execution_count": 13,
   "id": "1232fd81",
   "metadata": {},
   "outputs": [
    {
     "ename": "NameError",
     "evalue": "name 'soup' is not defined",
     "output_type": "error",
     "traceback": [
      "\u001b[1;31m---------------------------------------------------------------------------\u001b[0m",
      "\u001b[1;31mNameError\u001b[0m                                 Traceback (most recent call last)",
      "Input \u001b[1;32mIn [13]\u001b[0m, in \u001b[0;36m<cell line: 41>\u001b[1;34m()\u001b[0m\n\u001b[0;32m     37\u001b[0m     \u001b[38;5;28;01mreturn\u001b[39;00m (day, temperature, pressure, cloud, weather, day_wind_spd, day_wind_dir)\n\u001b[0;32m     38\u001b[0m     \u001b[38;5;66;03m#print(type(day), type(temperature), type(pressure), type(cloud), type(weather), type(day_wind_spd), type(day_wind_dir))\u001b[39;00m\n\u001b[1;32m---> 41\u001b[0m table \u001b[38;5;241m=\u001b[39m \u001b[43msoup\u001b[49m\u001b[38;5;241m.\u001b[39mfind(\u001b[38;5;124m'\u001b[39m\u001b[38;5;124mtable\u001b[39m\u001b[38;5;124m'\u001b[39m)\n\u001b[0;32m     42\u001b[0m rows \u001b[38;5;241m=\u001b[39m table\u001b[38;5;241m.\u001b[39mfind_all(\u001b[38;5;124m'\u001b[39m\u001b[38;5;124mtr\u001b[39m\u001b[38;5;124m'\u001b[39m)\n\u001b[0;32m     43\u001b[0m rows \u001b[38;5;241m=\u001b[39m rows[\u001b[38;5;241m2\u001b[39m:]  \u001b[38;5;66;03m# убрать шапку таблицы\u001b[39;00m\n",
      "\u001b[1;31mNameError\u001b[0m: name 'soup' is not defined"
     ]
    }
   ],
   "source": [
    "'''\n",
    "[0]      |             день               |            вечер               |\n",
    "[1] число|темп.|давл.|облач.|явления|ветер|темп.|давл.|облач.|явления|ветер|\n",
    "   ------------------------------------------------------------------------\n",
    "[2]   1  | -15 | 732\n",
    "   -----------------\n",
    "'''\n",
    "def process_row(row):\n",
    "    cells = row.find_all('td')\n",
    "    day = int(cells[0].text)\n",
    "    temperature = int(cells[1].text)\n",
    "    pressure = int(cells[2].text)\n",
    "    \n",
    "    # 3 cloud\n",
    "    cloud = 'unknown'\n",
    "    url_cloud = cells[3].find('img')\n",
    "    if url_cloud is not None:\n",
    "        url_cloud = url_cloud['src']  # //st6.gismeteo.ru/static/diary/img/dull.png\n",
    "        cloud = re.search(r\"diary/img/(\\w+).png\", url_cloud).group(1)\n",
    "        \n",
    "    # 4 weather\n",
    "    weather = 'clear'\n",
    "    url_weather = cells[4].find('img')\n",
    "    if url_weather is not None:\n",
    "        url_weather = url_weather['src'] # //st6.gismeteo.ru/static/diary/img/snow.png\n",
    "        weather = re.search(r\"diary/img/(\\w+).png\", url_cloud).group(1)\n",
    "    \n",
    "    # 5 wind\n",
    "    if cells[5].text == 'Ш':  # штиль\n",
    "        day_wind_spd, day_wind_dir = 0, 'Ш'\n",
    "    else:\n",
    "        wind_info = re.search(r\"(\\w+) (\\d+)\", cells[5].text)\n",
    "        day_wind_dir = wind_info.group(1)\n",
    "        day_wind_spd = int(wind_info.group(2))\n",
    "    # в реальных прогнозах погоды даётся 1 прогноз на весь день, без разделения по часам или времени суток\n",
    "    \n",
    "    return (day, temperature, pressure, cloud, weather, day_wind_spd, day_wind_dir)\n",
    "    #print(type(day), type(temperature), type(pressure), type(cloud), type(weather), type(day_wind_spd), type(day_wind_dir))\n",
    "    \n",
    "\n",
    "table = soup.find('table')\n",
    "rows = table.find_all('tr')\n",
    "rows = rows[2:]  # убрать шапку таблицы\n",
    "\n",
    "result = process_row(rows[2])\n",
    "result"
   ]
  },
  {
   "cell_type": "code",
   "execution_count": null,
   "id": "8977894d",
   "metadata": {},
   "outputs": [],
   "source": []
  },
  {
   "cell_type": "code",
   "execution_count": null,
   "id": "f055acca",
   "metadata": {},
   "outputs": [],
   "source": [
    "start_year = 2008\n",
    "end_year = 2018"
   ]
  }
 ],
 "metadata": {
  "kernelspec": {
   "display_name": "Python 3 (ipykernel)",
   "language": "python",
   "name": "python3"
  },
  "language_info": {
   "codemirror_mode": {
    "name": "ipython",
    "version": 3
   },
   "file_extension": ".py",
   "mimetype": "text/x-python",
   "name": "python",
   "nbconvert_exporter": "python",
   "pygments_lexer": "ipython3",
   "version": "3.9.13"
  }
 },
 "nbformat": 4,
 "nbformat_minor": 5
}
