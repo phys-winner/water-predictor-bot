{
 "cells": [
  {
   "cell_type": "markdown",
   "id": "043691cb",
   "metadata": {},
   "source": [
    "# Анализ сайта gismeteo.ru"
   ]
  },
  {
   "cell_type": "markdown",
   "id": "1fe18423",
   "metadata": {},
   "source": [
    "Для выполнения итогового задания в качестве источника данных метеосводок был выбран сервис Дневник сайта Gismeteo.ru, в котором можно бесплатно получить исторические данные о погоде, начиная с 1997 года. Необходимо получить данные с 2008 по 2018 года включительно (последний год необходим для прогнозирования навигации на сезон).\n",
    "\n",
    "todo: добавить список коммерческих ресурсов, с которых можно получить исторические данные и прогнозы на долгий срок"
   ]
  },
  {
   "cell_type": "code",
   "execution_count": 1,
   "id": "3136b8e0",
   "metadata": {},
   "outputs": [],
   "source": [
    "START_YEAR = 2008\n",
    "END_YEAR = 2018"
   ]
  },
  {
   "cell_type": "markdown",
   "id": "ececaa75",
   "metadata": {},
   "source": [
    "![Внешний вид сервиса Дневник от gismeteo](images/gismeteo_example.png)"
   ]
  },
  {
   "cell_type": "markdown",
   "id": "346b3fd8",
   "metadata": {},
   "source": [
    "После исполнения скрипта на загрузку данных из сайта автоматизированной информационной системы государственного мониторинга водных объектов Российской Федерации (далее - \"АИС ГМВО\") **src\\preparation\\scrape_water_level.py**, в **data\\raw\\water_posts_data.json** будет находиться словарь **{uid: наименование поста наблюдения}**. Наименования представлены в виде: *название водного объекта* - *название населённого пункта*"
   ]
  },
  {
   "cell_type": "markdown",
   "id": "b942ab37",
   "metadata": {},
   "source": [
    "## Получение списка населённых пунктов с постами наблюдения"
   ]
  },
  {
   "cell_type": "markdown",
   "id": "47104e89",
   "metadata": {},
   "source": [
    "### Проверка и установка рабочей директории, должен быть корень проекта"
   ]
  },
  {
   "cell_type": "code",
   "execution_count": 2,
   "id": "eff8b31e",
   "metadata": {
    "scrolled": true
   },
   "outputs": [
    {
     "data": {
      "text/plain": [
       "'C:\\\\Users\\\\Kuroha\\\\source\\\\repos_py\\\\bauman_final_project\\\\notebooks'"
      ]
     },
     "execution_count": 2,
     "metadata": {},
     "output_type": "execute_result"
    }
   ],
   "source": [
    "%pwd"
   ]
  },
  {
   "cell_type": "code",
   "execution_count": 3,
   "id": "3645e379",
   "metadata": {},
   "outputs": [
    {
     "name": "stdout",
     "output_type": "stream",
     "text": [
      "C:\\Users\\Kuroha\\source\\repos_py\\bauman_final_project\n"
     ]
    }
   ],
   "source": [
    "%cd .."
   ]
  },
  {
   "cell_type": "markdown",
   "id": "efc3bab0",
   "metadata": {},
   "source": [
    "### Загрузка списка постов"
   ]
  },
  {
   "cell_type": "code",
   "execution_count": 4,
   "id": "3186a182",
   "metadata": {},
   "outputs": [
    {
     "name": "stdout",
     "output_type": "stream",
     "text": [
      "28\n"
     ]
    },
    {
     "data": {
      "text/plain": [
       "{'09386': 'р.Подкаменная Тунгуска - пос.Чемдальск',\n",
       " '09387': 'р.Подкаменная Тунгуска - с.Ванавара',\n",
       " '09388': 'р.Подкаменная Тунгуска - факт.Усть-Камо',\n",
       " '09389': 'р.Подкаменная Тунгуска - с.Байкит',\n",
       " '09390': 'р.Подкаменная Тунгуска - факт.Кузьмовка',\n",
       " '09392': 'р.Чуня - пос.Стрелка Чуня',\n",
       " '09393': 'р.Чуня - пос.Муторай',\n",
       " '09396': 'руч.Миханский - пос.Вельмо 2-е',\n",
       " '09397': 'р.Тея - пгт Тея',\n",
       " '09499': 'р.Бурная - пос.Бурный',\n",
       " '09523': 'р.Подкаменная Тунгуска - пос.Суломай',\n",
       " '09560': 'р.Вельмо - пос.Светлана',\n",
       " '09568': 'р.Вельмо - пос.Вельмо 2-е',\n",
       " '09403': 'р.Нижняя Тунгуска - д.Верхнекарелина',\n",
       " '09404': 'р.Нижняя Тунгуска - с.Подволошино',\n",
       " '09405': 'р.Нижняя Тунгуска - с.Преображенка',\n",
       " '09406': 'р.Нижняя Тунгуска - с.Ербогачен',\n",
       " '09408': 'р.Нижняя Тунгуска - пос.Кислокан',\n",
       " '09410': 'р.Нижняя Тунгуска - пгт Тура',\n",
       " '09413': 'р.Нижняя Тунгуска - пос.Учами',\n",
       " '09415': 'р.Нижняя Тунгуска - факт.Большой Порог',\n",
       " '09416': 'р.Непа - с.Токма',\n",
       " '09417': 'р.Непа - д.Ика',\n",
       " '09419': 'р.Тембенчи - факт.Тембенчи',\n",
       " '09420': 'р.Таймура - факт.Кербо',\n",
       " '09421': 'руч.без названия - факт.Кербо',\n",
       " '09422': 'р.Ерачимо - факт.Большой порог',\n",
       " '09518': 'р.Нижняя Тунгуска - с.Непа'}"
      ]
     },
     "execution_count": 4,
     "metadata": {},
     "output_type": "execute_result"
    }
   ],
   "source": [
    "from src.utils import *\n",
    "\n",
    "if not is_data_exists(DATA_POSTS_RAW, is_raw=True):\n",
    "    print('Данные с постами наблюдения АИС ГМВО не были загружены. Пожалуйста, '\n",
    "          'выполните скрипт src\\preparation\\scrape_water_level.py'\n",
    "          'и попробуйте ещё раз.')\n",
    "else:\n",
    "    file_posts = open_file(DATA_POSTS_RAW, is_raw=True)\n",
    "    posts = json.loads(file_posts)\n",
    "print(len(posts))\n",
    "posts  # основная переменная, в которой будет храниться вся информация о гидрологических постах"
   ]
  },
  {
   "cell_type": "markdown",
   "id": "96c21d98",
   "metadata": {},
   "source": [
    "### Создание набора с очищенными названиями населённых пунктов"
   ]
  },
  {
   "cell_type": "code",
   "execution_count": 5,
   "id": "14782ee2",
   "metadata": {},
   "outputs": [
    {
     "data": {
      "text/plain": [
       "'р.Нижняя Тунгуска - факт.Большой Порог'"
      ]
     },
     "execution_count": 5,
     "metadata": {},
     "output_type": "execute_result"
    }
   ],
   "source": [
    "#test_name = next(iter(posts.values()))  # р.Подкаменная Тунгуска - пос.Чемдальск\n",
    "#test_name = posts['09388']  # р.Подкаменная Тунгуска - факт.Усть-Камо\n",
    "test_name = posts['09415']  # р.Нижняя Тунгуска - факт.Большой Порог\n",
    "test_name"
   ]
  },
  {
   "cell_type": "code",
   "execution_count": 6,
   "id": "7925b48b",
   "metadata": {
    "scrolled": true
   },
   "outputs": [
    {
     "data": {
      "text/plain": [
       "'Большой Порог'"
      ]
     },
     "execution_count": 6,
     "metadata": {},
     "output_type": "execute_result"
    }
   ],
   "source": [
    "import re\n",
    "\n",
    "'''\n",
    "Между видом и названием населённого пункта есть или точка, или пробел, используем [ \\.]{1}\n",
    "Учтено наличие в названии пункта пробела и тире\n",
    "В БД gismeteo названия некоторых пунктов отличаются от таковых из сайта АИС ГМВО\n",
    "'''\n",
    "def clear_name(input_str):\n",
    "    result = input_str.replace('Вельмо 2-е', 'Вельмо')\n",
    "    result = result.replace('Стрелка Чуня', 'Стрелка-Чуня')\n",
    "    result = result.replace('Большой порог', 'Большой Порог')\n",
    "    result = re.search(r\" - \\w+[ \\.]{1}([\\w -]+)\", result).group(1)\n",
    "    return result\n",
    "\n",
    "clear_name(test_name)"
   ]
  },
  {
   "cell_type": "code",
   "execution_count": 7,
   "id": "e581193d",
   "metadata": {},
   "outputs": [
    {
     "data": {
      "text/plain": [
       "{'09386': {'name': 'р.Подкаменная Тунгуска - пос.Чемдальск',\n",
       "  'clean_name': 'Чемдальск'},\n",
       " '09387': {'name': 'р.Подкаменная Тунгуска - с.Ванавара',\n",
       "  'clean_name': 'Ванавара'},\n",
       " '09388': {'name': 'р.Подкаменная Тунгуска - факт.Усть-Камо',\n",
       "  'clean_name': 'Усть-Камо'},\n",
       " '09389': {'name': 'р.Подкаменная Тунгуска - с.Байкит',\n",
       "  'clean_name': 'Байкит'},\n",
       " '09390': {'name': 'р.Подкаменная Тунгуска - факт.Кузьмовка',\n",
       "  'clean_name': 'Кузьмовка'},\n",
       " '09392': {'name': 'р.Чуня - пос.Стрелка Чуня', 'clean_name': 'Стрелка-Чуня'},\n",
       " '09393': {'name': 'р.Чуня - пос.Муторай', 'clean_name': 'Муторай'},\n",
       " '09396': {'name': 'руч.Миханский - пос.Вельмо 2-е', 'clean_name': 'Вельмо'},\n",
       " '09397': {'name': 'р.Тея - пгт Тея', 'clean_name': 'Тея'},\n",
       " '09499': {'name': 'р.Бурная - пос.Бурный', 'clean_name': 'Бурный'},\n",
       " '09523': {'name': 'р.Подкаменная Тунгуска - пос.Суломай',\n",
       "  'clean_name': 'Суломай'},\n",
       " '09560': {'name': 'р.Вельмо - пос.Светлана', 'clean_name': 'Светлана'},\n",
       " '09568': {'name': 'р.Вельмо - пос.Вельмо 2-е', 'clean_name': 'Вельмо'},\n",
       " '09403': {'name': 'р.Нижняя Тунгуска - д.Верхнекарелина',\n",
       "  'clean_name': 'Верхнекарелина'},\n",
       " '09404': {'name': 'р.Нижняя Тунгуска - с.Подволошино',\n",
       "  'clean_name': 'Подволошино'},\n",
       " '09405': {'name': 'р.Нижняя Тунгуска - с.Преображенка',\n",
       "  'clean_name': 'Преображенка'},\n",
       " '09406': {'name': 'р.Нижняя Тунгуска - с.Ербогачен',\n",
       "  'clean_name': 'Ербогачен'},\n",
       " '09408': {'name': 'р.Нижняя Тунгуска - пос.Кислокан',\n",
       "  'clean_name': 'Кислокан'},\n",
       " '09410': {'name': 'р.Нижняя Тунгуска - пгт Тура', 'clean_name': 'Тура'},\n",
       " '09413': {'name': 'р.Нижняя Тунгуска - пос.Учами', 'clean_name': 'Учами'},\n",
       " '09415': {'name': 'р.Нижняя Тунгуска - факт.Большой Порог',\n",
       "  'clean_name': 'Большой Порог'},\n",
       " '09416': {'name': 'р.Непа - с.Токма', 'clean_name': 'Токма'},\n",
       " '09417': {'name': 'р.Непа - д.Ика', 'clean_name': 'Ика'},\n",
       " '09419': {'name': 'р.Тембенчи - факт.Тембенчи', 'clean_name': 'Тембенчи'},\n",
       " '09420': {'name': 'р.Таймура - факт.Кербо', 'clean_name': 'Кербо'},\n",
       " '09421': {'name': 'руч.без названия - факт.Кербо', 'clean_name': 'Кербо'},\n",
       " '09422': {'name': 'р.Ерачимо - факт.Большой порог',\n",
       "  'clean_name': 'Большой Порог'},\n",
       " '09518': {'name': 'р.Нижняя Тунгуска - с.Непа', 'clean_name': 'Непа'}}"
      ]
     },
     "execution_count": 7,
     "metadata": {},
     "output_type": "execute_result"
    }
   ],
   "source": [
    "for uid, name in posts.items():\n",
    "    posts[uid] = {'name': name, 'clean_name': clear_name(name)}\n",
    "\n",
    "posts"
   ]
  },
  {
   "cell_type": "markdown",
   "id": "48c4bcdf",
   "metadata": {},
   "source": [
    "### Создание списка с уникальными населёнными пунктами"
   ]
  },
  {
   "cell_type": "code",
   "execution_count": 8,
   "id": "aea78bfc",
   "metadata": {},
   "outputs": [
    {
     "data": {
      "text/plain": [
       "{'Байкит',\n",
       " 'Большой Порог',\n",
       " 'Бурный',\n",
       " 'Ванавара',\n",
       " 'Вельмо',\n",
       " 'Верхнекарелина',\n",
       " 'Ербогачен',\n",
       " 'Ика',\n",
       " 'Кербо',\n",
       " 'Кислокан',\n",
       " 'Кузьмовка',\n",
       " 'Муторай',\n",
       " 'Непа',\n",
       " 'Подволошино',\n",
       " 'Преображенка',\n",
       " 'Светлана',\n",
       " 'Стрелка-Чуня',\n",
       " 'Суломай',\n",
       " 'Тембенчи',\n",
       " 'Тея',\n",
       " 'Токма',\n",
       " 'Тура',\n",
       " 'Усть-Камо',\n",
       " 'Учами',\n",
       " 'Чемдальск'}"
      ]
     },
     "execution_count": 8,
     "metadata": {},
     "output_type": "execute_result"
    }
   ],
   "source": [
    "names = set([x['clean_name'] for x in posts.values()])\n",
    "names"
   ]
  },
  {
   "cell_type": "code",
   "execution_count": 9,
   "id": "f148498b",
   "metadata": {
    "scrolled": true
   },
   "outputs": [
    {
     "name": "stdout",
     "output_type": "stream",
     "text": [
      "Число постов: 28\n",
      "Число уникальных пунктов: 25\n"
     ]
    }
   ],
   "source": [
    "print(f'Число постов: {len(posts)}\\nЧисло уникальных пунктов: {len(names)}')"
   ]
  },
  {
   "cell_type": "markdown",
   "id": "e26d467e",
   "metadata": {},
   "source": [
    "## Проверка наличия исторических метео-данных"
   ]
  },
  {
   "cell_type": "markdown",
   "id": "fee2f161",
   "metadata": {},
   "source": [
    "С получением метео-данных есть 2 проблемы:\n",
    "1. Не все населённые пункты представлены в списке городов.\n",
    "2. В некоторых пунтах за период с 2008 по 2018 не велись наблюдения метео-данных. При попытке их получить сайт показывает сообщение:\n",
    "> Наблюдения метео-данных в данный период не велись."
   ]
  },
  {
   "cell_type": "markdown",
   "id": "2e306ca5",
   "metadata": {},
   "source": [
    "![Сообщение об ошибке](images/gismeteo_error.png)"
   ]
  },
  {
   "cell_type": "markdown",
   "id": "f422e501",
   "metadata": {},
   "source": [
    "Необходимо обнаружить проблемные населённые пункты."
   ]
  },
  {
   "cell_type": "markdown",
   "id": "ee434397",
   "metadata": {},
   "source": [
    "### Получение списка населённых пунктов с gismeteo"
   ]
  },
  {
   "cell_type": "markdown",
   "id": "dc751bd3",
   "metadata": {},
   "source": [
    "После открытия https://www.gismeteo.ru/diary/ и выбора страны Россия и области Красноярский край происходит 3 GET запроса:\n",
    "![GET запросы](images/gismeteo_requests.png)\n",
    "\n",
    "1. https://www.gismeteo.ru/inform-service/63466572668a39754a9ddf4c8b3437b0/countries/?fr=sel  \n",
    "Получение списка стран c ID и названиями.\n",
    "\n",
    "2. https://www.gismeteo.ru/inform-service/63466572668a39754a9ddf4c8b3437b0/districts/?country=156&fr=sel  \n",
    "Получения списка областей c ID и названиями. В параметре country указан ID выбранной страны (156 - Россия).\n",
    "\n",
    "3. https://www.gismeteo.ru/inform-service/63466572668a39754a9ddf4c8b3437b0/cities/?district=301&fr=sel  \n",
    "Получения списка городов c ID и названиями. В параметре district указан ID выбранной области (301 - Красноярский край, 303 - Иркутская область).\n",
    "\n",
    "Во всех запросах **63466572668a39754a9ddf4c8b3437b0** - это стандартный api-токен, который не зависит от IP-адреса пользователя. Запросы возвращают данные в формате xml.\n",
    "Учтём, что Подкаменная Тунгуска и Нижняя Тунгуска протекают в Красноярском крае и Иркутской области России, следовательно нужно запрашивать данные о пунктах в обоих субъектах."
   ]
  },
  {
   "cell_type": "code",
   "execution_count": 10,
   "id": "dc6e43ff",
   "metadata": {},
   "outputs": [
    {
     "data": {
      "text/plain": [
       "2861"
      ]
     },
     "execution_count": 10,
     "metadata": {},
     "output_type": "execute_result"
    }
   ],
   "source": [
    "from src.utils import get_url\n",
    "import xmltodict\n",
    "\n",
    "def get_cities(district):\n",
    "    file_name = f'gismeteo_cities-{district}.xml'\n",
    "    if is_data_exists(file_name, is_raw=True):\n",
    "        cities = open_file(file_name, is_raw=True)\n",
    "    else:\n",
    "        url = f'https://www.gismeteo.ru/inform-service/63466572668a39754a9ddf4c8b3437b0/cities/?district={district}&fr=sel'\n",
    "        r = get_url(url)\n",
    "        cities = r.text\n",
    "        write_data(file_name, data=cities, is_raw=True)\n",
    "    cities = xmltodict.parse(cities)  # конвертация xml в dict\n",
    "    # основные данные находятся в cities['document']['item']\n",
    "    cities = cities['document']['item']\n",
    "    return cities\n",
    "\n",
    "cities = {}\n",
    "target_districts = [301, 303]  # нужные области\n",
    "cities_file_name = f'gismeteo_cities-{\",\".join([str(x) for x in target_districts])}.json'\n",
    "if is_data_exists(cities_file_name, is_raw=True):\n",
    "    cities = open_file(cities_file_name, is_raw=True)\n",
    "    cities = json.loads(cities)\n",
    "else:\n",
    "    for district in target_districts:\n",
    "        for city in get_cities(district):\n",
    "            ''' Записи в xml выглядят таким образом:\n",
    "            <item id=\"145181\" n=\"Абалаково\" country_id=\"156\" country_name=\"Россия\" \n",
    "                  district_id=\"303\" district_name=\"Иркутская область\" kind=\"T\"/>\n",
    "                Нужные атрибуты - это id и n (name, имя)\n",
    "            '''\n",
    "            cities[int(city['@id'])] = city['@n']\n",
    "    write_data(cities_file_name, data=cities, is_raw=True)\n",
    "    \n",
    "len(cities)"
   ]
  },
  {
   "cell_type": "code",
   "execution_count": 11,
   "id": "c026862d",
   "metadata": {
    "scrolled": true
   },
   "outputs": [
    {
     "data": {
      "text/plain": [
       "{'09386': {'name': 'р.Подкаменная Тунгуска - пос.Чемдальск',\n",
       "  'clean_name': 'Чемдальск',\n",
       "  'gismeteo_id': 158155},\n",
       " '09387': {'name': 'р.Подкаменная Тунгуска - с.Ванавара',\n",
       "  'clean_name': 'Ванавара',\n",
       "  'gismeteo_id': 4036},\n",
       " '09388': {'name': 'р.Подкаменная Тунгуска - факт.Усть-Камо',\n",
       "  'clean_name': 'Усть-Камо'},\n",
       " '09389': {'name': 'р.Подкаменная Тунгуска - с.Байкит',\n",
       "  'clean_name': 'Байкит',\n",
       "  'gismeteo_id': 3995},\n",
       " '09390': {'name': 'р.Подкаменная Тунгуска - факт.Кузьмовка',\n",
       "  'clean_name': 'Кузьмовка',\n",
       "  'gismeteo_id': 158143},\n",
       " '09392': {'name': 'р.Чуня - пос.Стрелка Чуня',\n",
       "  'clean_name': 'Стрелка-Чуня',\n",
       "  'gismeteo_id': 158151},\n",
       " '09393': {'name': 'р.Чуня - пос.Муторай',\n",
       "  'clean_name': 'Муторай',\n",
       "  'gismeteo_id': 158146},\n",
       " '09396': {'name': 'руч.Миханский - пос.Вельмо 2-е',\n",
       "  'clean_name': 'Вельмо',\n",
       "  'gismeteo_id': 157875},\n",
       " '09397': {'name': 'р.Тея - пгт Тея',\n",
       "  'clean_name': 'Тея',\n",
       "  'gismeteo_id': 157881},\n",
       " '09499': {'name': 'р.Бурная - пос.Бурный',\n",
       "  'clean_name': 'Бурный',\n",
       "  'gismeteo_id': 158140},\n",
       " '09523': {'name': 'р.Подкаменная Тунгуска - пос.Суломай',\n",
       "  'clean_name': 'Суломай',\n",
       "  'gismeteo_id': 158152},\n",
       " '09560': {'name': 'р.Вельмо - пос.Светлана', 'clean_name': 'Светлана'},\n",
       " '09568': {'name': 'р.Вельмо - пос.Вельмо 2-е',\n",
       "  'clean_name': 'Вельмо',\n",
       "  'gismeteo_id': 157875},\n",
       " '09403': {'name': 'р.Нижняя Тунгуска - д.Верхнекарелина',\n",
       "  'clean_name': 'Верхнекарелина'},\n",
       " '09404': {'name': 'р.Нижняя Тунгуска - с.Подволошино',\n",
       "  'clean_name': 'Подволошино',\n",
       "  'gismeteo_id': 144988},\n",
       " '09405': {'name': 'р.Нижняя Тунгуска - с.Преображенка',\n",
       "  'clean_name': 'Преображенка',\n",
       "  'gismeteo_id': 156730},\n",
       " '09406': {'name': 'р.Нижняя Тунгуска - с.Ербогачен',\n",
       "  'clean_name': 'Ербогачен',\n",
       "  'gismeteo_id': 4031},\n",
       " '09408': {'name': 'р.Нижняя Тунгуска - пос.Кислокан',\n",
       "  'clean_name': 'Кислокан',\n",
       "  'gismeteo_id': 158142},\n",
       " '09410': {'name': 'р.Нижняя Тунгуска - пгт Тура',\n",
       "  'clean_name': 'Тура',\n",
       "  'gismeteo_id': 4015},\n",
       " '09413': {'name': 'р.Нижняя Тунгуска - пос.Учами',\n",
       "  'clean_name': 'Учами',\n",
       "  'gismeteo_id': 158154},\n",
       " '09415': {'name': 'р.Нижняя Тунгуска - факт.Большой Порог',\n",
       "  'clean_name': 'Большой Порог'},\n",
       " '09416': {'name': 'р.Непа - с.Токма',\n",
       "  'clean_name': 'Токма',\n",
       "  'gismeteo_id': 4741},\n",
       " '09417': {'name': 'р.Непа - д.Ика',\n",
       "  'clean_name': 'Ика',\n",
       "  'gismeteo_id': 144983},\n",
       " '09419': {'name': 'р.Тембенчи - факт.Тембенчи', 'clean_name': 'Тембенчи'},\n",
       " '09420': {'name': 'р.Таймура - факт.Кербо', 'clean_name': 'Кербо'},\n",
       " '09421': {'name': 'руч.без названия - факт.Кербо', 'clean_name': 'Кербо'},\n",
       " '09422': {'name': 'р.Ерачимо - факт.Большой порог',\n",
       "  'clean_name': 'Большой Порог'},\n",
       " '09518': {'name': 'р.Нижняя Тунгуска - с.Непа',\n",
       "  'clean_name': 'Непа',\n",
       "  'gismeteo_id': 144986}}"
      ]
     },
     "execution_count": 11,
     "metadata": {},
     "output_type": "execute_result"
    }
   ],
   "source": [
    "for city_id, name in cities.items():\n",
    "    for uid, entry in posts.items():\n",
    "        if entry['clean_name'] == name:\n",
    "            posts[uid].update({'gismeteo_id': int(city_id)})\n",
    "\n",
    "posts"
   ]
  },
  {
   "cell_type": "markdown",
   "id": "ec4bf0f3",
   "metadata": {},
   "source": [
    "Посмотрим, сколько населённых пунктов их списка постов гидрологического контроля рек есть в базе gismeteo:"
   ]
  },
  {
   "cell_type": "code",
   "execution_count": 12,
   "id": "42ad7983",
   "metadata": {},
   "outputs": [
    {
     "data": {
      "text/plain": [
       "(25, 19)"
      ]
     },
     "execution_count": 12,
     "metadata": {},
     "output_type": "execute_result"
    }
   ],
   "source": [
    "len(names), len(set([x['clean_name'] for x in posts.values() if 'gismeteo_id' in x.keys()]))"
   ]
  },
  {
   "cell_type": "markdown",
   "id": "f315207b",
   "metadata": {},
   "source": [
    "Для 25 уникальных локаций пунктов наблюдений нашлось соответствие с 19 населёнными пунктами в Gismeteo."
   ]
  },
  {
   "cell_type": "markdown",
   "id": "75cd50cb",
   "metadata": {},
   "source": [
    "### Реализация проверки наличия метео-данных"
   ]
  },
  {
   "cell_type": "markdown",
   "id": "562d17ab",
   "metadata": {},
   "source": [
    "Получение исторических метео-данных происходит следующим образом:\n",
    "1. Задаются все необходимые параметры - страна, область, город, месяц и год\n",
    "2. Нажатие на кнопку Получить дневник выполняет перенаправление на url вида  \n",
    "https://www.gismeteo.ru/diary/4036/2008/1/  \n",
    "в котором:  \n",
    "- **4036** - ID населённого пункта\n",
    "- **2008** - год\n",
    "- **1** - месяц без лидирующего нуля"
   ]
  },
  {
   "cell_type": "markdown",
   "id": "2cfacaf0",
   "metadata": {},
   "source": [
    "Если данные о погоде за указанный период не были зафиксированы, то вместо дневника будет сообщение об отсутствии данных."
   ]
  },
  {
   "cell_type": "code",
   "execution_count": 13,
   "id": "ebe94c42",
   "metadata": {},
   "outputs": [],
   "source": [
    "import os\n",
    "from bs4 import BeautifulSoup\n",
    "\n",
    "def get_gismeteo_page(city_id, year, month):\n",
    "    file_name = os.path.join('gismeteo', str(city_id), f'{year}-{month:02d}.html')\n",
    "    if is_data_exists(file_name, is_raw=True):\n",
    "        weather = open_file(file_name, is_raw=True)\n",
    "    else:\n",
    "        url = f'https://www.gismeteo.ru/diary/{city_id}/{year}/{month}/'\n",
    "        r = get_url(url)\n",
    "        weather = r.text\n",
    "        write_data(file_name, data=weather, is_raw=True)\n",
    "    soup = BeautifulSoup(weather, 'lxml')\n",
    "    if soup.find(class_='empty_phrase'):\n",
    "        return None\n",
    "    return soup\n",
    "\n",
    "def check_gismeteo_page(city_id, year):\n",
    "    return get_gismeteo_page(city_id, year, 1) is not None"
   ]
  },
  {
   "cell_type": "markdown",
   "id": "9d58bc6e",
   "metadata": {},
   "source": [
    "Проверяем, есть ли за первый (2008) и последний год (2018) метео-данные у выбранных городов. Если у города нет соответствия с БД gismeteo, на конечный год у него нет данных, то изменяем его gismeteo_id на -1 для дальнейшей его замены на корректный город. Если на начальный год нет данных - добавляем ключ fallback_id, который будет использоваться для получения данных вместо основного id."
   ]
  },
  {
   "cell_type": "code",
   "execution_count": 14,
   "id": "703bcfda",
   "metadata": {
    "scrolled": true
   },
   "outputs": [
    {
     "name": "stdout",
     "output_type": "stream",
     "text": [
      "* Чемдальск без метео-данных на 2008 год, нужна подмена\n",
      "+ Ванавара имеет все необходимые метео-данные\n",
      "- Усть-Камо нет в БД gismeteo\n",
      "+ Байкит имеет все необходимые метео-данные\n",
      "* Кузьмовка без метео-данных на 2008 год, нужна подмена\n",
      "* Стрелка-Чуня без метео-данных на 2008 год, нужна подмена\n",
      "* Муторай без метео-данных на 2008 год, нужна подмена\n",
      "* Вельмо без метео-данных на 2008 год, нужна подмена\n",
      "* Тея без метео-данных на 2008 год, нужна подмена\n",
      "* Бурный без метео-данных на 2008 год, нужна подмена\n",
      "* Суломай без метео-данных на 2008 год, нужна подмена\n",
      "- Светлана нет в БД gismeteo\n",
      "* Вельмо без метео-данных на 2008 год, нужна подмена\n",
      "- Верхнекарелина нет в БД gismeteo\n",
      "* Подволошино без метео-данных на 2008 год, нужна подмена\n",
      "* Преображенка без метео-данных на 2008 год, нужна подмена\n",
      "+ Ербогачен имеет все необходимые метео-данные\n",
      "* Кислокан без метео-данных на 2008 год, нужна подмена\n",
      "+ Тура имеет все необходимые метео-данные\n",
      "* Учами без метео-данных на 2008 год, нужна подмена\n",
      "- Большой Порог нет в БД gismeteo\n",
      "+ Токма имеет все необходимые метео-данные\n",
      "* Ика без метео-данных на 2008 год, нужна подмена\n",
      "- Тембенчи нет в БД gismeteo\n",
      "- Кербо нет в БД gismeteo\n",
      "- Кербо нет в БД gismeteo\n",
      "- Большой Порог нет в БД gismeteo\n",
      "* Непа без метео-данных на 2008 год, нужна подмена\n",
      "Количество постов наблюдения с проблемными населёнными пунктами: 23 пунктах\n"
     ]
    },
    {
     "data": {
      "text/plain": [
       "{'09386': {'name': 'р.Подкаменная Тунгуска - пос.Чемдальск',\n",
       "  'clean_name': 'Чемдальск',\n",
       "  'gismeteo_id': 158155,\n",
       "  'fallback_id': -1},\n",
       " '09387': {'name': 'р.Подкаменная Тунгуска - с.Ванавара',\n",
       "  'clean_name': 'Ванавара',\n",
       "  'gismeteo_id': 4036},\n",
       " '09388': {'name': 'р.Подкаменная Тунгуска - факт.Усть-Камо',\n",
       "  'clean_name': 'Усть-Камо',\n",
       "  'gismeteo_id': -1},\n",
       " '09389': {'name': 'р.Подкаменная Тунгуска - с.Байкит',\n",
       "  'clean_name': 'Байкит',\n",
       "  'gismeteo_id': 3995},\n",
       " '09390': {'name': 'р.Подкаменная Тунгуска - факт.Кузьмовка',\n",
       "  'clean_name': 'Кузьмовка',\n",
       "  'gismeteo_id': 158143,\n",
       "  'fallback_id': -1},\n",
       " '09392': {'name': 'р.Чуня - пос.Стрелка Чуня',\n",
       "  'clean_name': 'Стрелка-Чуня',\n",
       "  'gismeteo_id': 158151,\n",
       "  'fallback_id': -1},\n",
       " '09393': {'name': 'р.Чуня - пос.Муторай',\n",
       "  'clean_name': 'Муторай',\n",
       "  'gismeteo_id': 158146,\n",
       "  'fallback_id': -1},\n",
       " '09396': {'name': 'руч.Миханский - пос.Вельмо 2-е',\n",
       "  'clean_name': 'Вельмо',\n",
       "  'gismeteo_id': 157875,\n",
       "  'fallback_id': -1},\n",
       " '09397': {'name': 'р.Тея - пгт Тея',\n",
       "  'clean_name': 'Тея',\n",
       "  'gismeteo_id': 157881,\n",
       "  'fallback_id': -1},\n",
       " '09499': {'name': 'р.Бурная - пос.Бурный',\n",
       "  'clean_name': 'Бурный',\n",
       "  'gismeteo_id': 158140,\n",
       "  'fallback_id': -1},\n",
       " '09523': {'name': 'р.Подкаменная Тунгуска - пос.Суломай',\n",
       "  'clean_name': 'Суломай',\n",
       "  'gismeteo_id': 158152,\n",
       "  'fallback_id': -1},\n",
       " '09560': {'name': 'р.Вельмо - пос.Светлана',\n",
       "  'clean_name': 'Светлана',\n",
       "  'gismeteo_id': -1},\n",
       " '09568': {'name': 'р.Вельмо - пос.Вельмо 2-е',\n",
       "  'clean_name': 'Вельмо',\n",
       "  'gismeteo_id': 157875,\n",
       "  'fallback_id': -1},\n",
       " '09403': {'name': 'р.Нижняя Тунгуска - д.Верхнекарелина',\n",
       "  'clean_name': 'Верхнекарелина',\n",
       "  'gismeteo_id': -1},\n",
       " '09404': {'name': 'р.Нижняя Тунгуска - с.Подволошино',\n",
       "  'clean_name': 'Подволошино',\n",
       "  'gismeteo_id': 144988,\n",
       "  'fallback_id': -1},\n",
       " '09405': {'name': 'р.Нижняя Тунгуска - с.Преображенка',\n",
       "  'clean_name': 'Преображенка',\n",
       "  'gismeteo_id': 156730,\n",
       "  'fallback_id': -1},\n",
       " '09406': {'name': 'р.Нижняя Тунгуска - с.Ербогачен',\n",
       "  'clean_name': 'Ербогачен',\n",
       "  'gismeteo_id': 4031},\n",
       " '09408': {'name': 'р.Нижняя Тунгуска - пос.Кислокан',\n",
       "  'clean_name': 'Кислокан',\n",
       "  'gismeteo_id': 158142,\n",
       "  'fallback_id': -1},\n",
       " '09410': {'name': 'р.Нижняя Тунгуска - пгт Тура',\n",
       "  'clean_name': 'Тура',\n",
       "  'gismeteo_id': 4015},\n",
       " '09413': {'name': 'р.Нижняя Тунгуска - пос.Учами',\n",
       "  'clean_name': 'Учами',\n",
       "  'gismeteo_id': 158154,\n",
       "  'fallback_id': -1},\n",
       " '09415': {'name': 'р.Нижняя Тунгуска - факт.Большой Порог',\n",
       "  'clean_name': 'Большой Порог',\n",
       "  'gismeteo_id': -1},\n",
       " '09416': {'name': 'р.Непа - с.Токма',\n",
       "  'clean_name': 'Токма',\n",
       "  'gismeteo_id': 4741},\n",
       " '09417': {'name': 'р.Непа - д.Ика',\n",
       "  'clean_name': 'Ика',\n",
       "  'gismeteo_id': 144983,\n",
       "  'fallback_id': -1},\n",
       " '09419': {'name': 'р.Тембенчи - факт.Тембенчи',\n",
       "  'clean_name': 'Тембенчи',\n",
       "  'gismeteo_id': -1},\n",
       " '09420': {'name': 'р.Таймура - факт.Кербо',\n",
       "  'clean_name': 'Кербо',\n",
       "  'gismeteo_id': -1},\n",
       " '09421': {'name': 'руч.без названия - факт.Кербо',\n",
       "  'clean_name': 'Кербо',\n",
       "  'gismeteo_id': -1},\n",
       " '09422': {'name': 'р.Ерачимо - факт.Большой порог',\n",
       "  'clean_name': 'Большой Порог',\n",
       "  'gismeteo_id': -1},\n",
       " '09518': {'name': 'р.Нижняя Тунгуска - с.Непа',\n",
       "  'clean_name': 'Непа',\n",
       "  'gismeteo_id': 144986,\n",
       "  'fallback_id': -1}}"
      ]
     },
     "execution_count": 14,
     "metadata": {},
     "output_type": "execute_result"
    }
   ],
   "source": [
    "def get_bad_cities(print_info=False):\n",
    "    result = []\n",
    "    for uid, city in posts.items():\n",
    "        if 'gismeteo_id' not in city.keys() or city['gismeteo_id'] == -1:\n",
    "            if print_info:\n",
    "                print(f'- {city[\"clean_name\"]} нет в БД gismeteo')\n",
    "            posts[uid].update({'gismeteo_id': -1})\n",
    "            result.append(city)\n",
    "        elif not check_gismeteo_page(city[\"gismeteo_id\"], END_YEAR):\n",
    "            if print_info:\n",
    "                print(f'@ {city[\"clean_name\"]} без метео-данных на {END_YEAR} год, нужна замена')\n",
    "            posts[uid].update({'gismeteo_id': -1})\n",
    "            result.append(city)\n",
    "        elif not check_gismeteo_page(city[\"gismeteo_id\"], START_YEAR):\n",
    "            if 'fallback_id' in city.keys() and city['fallback_id'] != -1 \\\n",
    "                and check_gismeteo_page(city[\"fallback_id\"], START_YEAR):\n",
    "                if print_info:\n",
    "                    print(f'+ {city[\"clean_name\"]} имеет корректную подмену')\n",
    "                continue\n",
    "            if print_info:\n",
    "                print(f'* {city[\"clean_name\"]} без метео-данных на {START_YEAR} год, нужна подмена')\n",
    "            posts[uid].update({'fallback_id': -1})\n",
    "            result.append(city)\n",
    "        elif print_info:\n",
    "            print(f'+ {city[\"clean_name\"]} имеет все необходимые метео-данные')\n",
    "    return result\n",
    "\n",
    "bad_cities = get_bad_cities(print_info=True)\n",
    "print(f'Количество постов наблюдения с проблемными населёнными пунктами: {len(bad_cities)} пунктах')\n",
    "posts"
   ]
  },
  {
   "cell_type": "markdown",
   "id": "0d17f26c",
   "metadata": {},
   "source": [
    "## Замена населённых пунктов"
   ]
  },
  {
   "cell_type": "markdown",
   "id": "5264e96c",
   "metadata": {},
   "source": [
    "Так как для некоторых населённых пунктов не нашлось соответствие с списоком gismeteo, а также на начало 2008 года не было метео-сводок по 23 постам наблюдения, то на отсутствующие периоды времени для полноты исходных данных необходимо определить им замену. Оптимальнее всего будет вместо отсутствующих пунктов использовать их административные центры, т.к. географически они близко расположены друг к другу, а также по центрам вероятнее всего будут исторические погодные данные. "
   ]
  },
  {
   "cell_type": "markdown",
   "id": "ea6ebe94",
   "metadata": {},
   "source": [
    "Для определения административных центров будет использован сайт Википедии, где на страницах с населёнными пунктами указан муниципальный район, к которому он принадлежит, а на странице с этим районом - административный центр."
   ]
  },
  {
   "cell_type": "code",
   "execution_count": 15,
   "id": "d10f3e7c",
   "metadata": {},
   "outputs": [],
   "source": [
    "def get_wiki_page(page_name):\n",
    "    file_name = os.path.join('wiki', f'{page_name}.html')\n",
    "    if is_data_exists(file_name, is_raw=True):\n",
    "        wiki = open_file(file_name, is_raw=True)\n",
    "    else:\n",
    "        url = f'https://ru.wikipedia.org/wiki/{page_name}'\n",
    "        r = get_url(url)\n",
    "        wiki = r.text\n",
    "        write_data(file_name, data=wiki, is_raw=True)\n",
    "    return BeautifulSoup(wiki, 'lxml')"
   ]
  },
  {
   "cell_type": "code",
   "execution_count": 34,
   "id": "cb2d7622",
   "metadata": {
    "scrolled": true
   },
   "outputs": [
    {
     "name": "stdout",
     "output_type": "stream",
     "text": [
      "Количество постов наблюдения с проблемными населёнными пунктами: 0 пунктах\n",
      "Число проблемных населённых пунктов после исправления: 0\n"
     ]
    },
    {
     "data": {
      "text/plain": [
       "{'09386': {'name': 'р.Подкаменная Тунгуска - пос.Чемдальск',\n",
       "  'clean_name': 'Чемдальск',\n",
       "  'gismeteo_id': 158155,\n",
       "  'fallback_id': 4015},\n",
       " '09387': {'name': 'р.Подкаменная Тунгуска - с.Ванавара',\n",
       "  'clean_name': 'Ванавара',\n",
       "  'gismeteo_id': 4036},\n",
       " '09388': {'name': 'р.Подкаменная Тунгуска - факт.Усть-Камо',\n",
       "  'clean_name': 'Усть-Камо',\n",
       "  'gismeteo_id': 4015},\n",
       " '09389': {'name': 'р.Подкаменная Тунгуска - с.Байкит',\n",
       "  'clean_name': 'Байкит',\n",
       "  'gismeteo_id': 3995},\n",
       " '09390': {'name': 'р.Подкаменная Тунгуска - факт.Кузьмовка',\n",
       "  'clean_name': 'Кузьмовка',\n",
       "  'gismeteo_id': 158143,\n",
       "  'fallback_id': 4015,\n",
       "  'wiki_page': 'Кузьмовка_(Красноярский_край)'},\n",
       " '09392': {'name': 'р.Чуня - пос.Стрелка Чуня',\n",
       "  'clean_name': 'Стрелка-Чуня',\n",
       "  'gismeteo_id': 158151,\n",
       "  'fallback_id': 4015},\n",
       " '09393': {'name': 'р.Чуня - пос.Муторай',\n",
       "  'clean_name': 'Муторай',\n",
       "  'gismeteo_id': 158146,\n",
       "  'fallback_id': 4015},\n",
       " '09396': {'name': 'руч.Миханский - пос.Вельмо 2-е',\n",
       "  'clean_name': 'Вельмо',\n",
       "  'gismeteo_id': 157875,\n",
       "  'fallback_id': 4006,\n",
       "  'wiki_page': 'Вельмо_(посёлок)'},\n",
       " '09397': {'name': 'р.Тея - пгт Тея',\n",
       "  'clean_name': 'Тея',\n",
       "  'gismeteo_id': 157881,\n",
       "  'fallback_id': 4006,\n",
       "  'wiki_page': 'Тея_(Северо-Енисейский_район)'},\n",
       " '09499': {'name': 'р.Бурная - пос.Бурный',\n",
       "  'clean_name': 'Бурный',\n",
       "  'gismeteo_id': 158140,\n",
       "  'fallback_id': 4015,\n",
       "  'wiki_page': 'Бурный_(Эвенкийский_район)'},\n",
       " '09523': {'name': 'р.Подкаменная Тунгуска - пос.Суломай',\n",
       "  'clean_name': 'Суломай',\n",
       "  'gismeteo_id': 158152,\n",
       "  'fallback_id': 4015},\n",
       " '09560': {'name': 'р.Вельмо - пос.Светлана',\n",
       "  'clean_name': 'Светлана',\n",
       "  'gismeteo_id': 4006,\n",
       "  'wiki_page': 'Вельмо_(посёлок)'},\n",
       " '09568': {'name': 'р.Вельмо - пос.Вельмо 2-е',\n",
       "  'clean_name': 'Вельмо',\n",
       "  'gismeteo_id': 157875,\n",
       "  'fallback_id': 4006,\n",
       "  'wiki_page': 'Вельмо_(посёлок)'},\n",
       " '09403': {'name': 'р.Нижняя Тунгуска - д.Верхнекарелина',\n",
       "  'clean_name': 'Верхнекарелина',\n",
       "  'gismeteo_id': 4743},\n",
       " '09404': {'name': 'р.Нижняя Тунгуска - с.Подволошино',\n",
       "  'clean_name': 'Подволошино',\n",
       "  'gismeteo_id': 144988,\n",
       "  'fallback_id': 4031,\n",
       "  'wiki_page': 'Подволошино_(Иркутская_область)'},\n",
       " '09405': {'name': 'р.Нижняя Тунгуска - с.Преображенка',\n",
       "  'clean_name': 'Преображенка',\n",
       "  'gismeteo_id': 156730,\n",
       "  'fallback_id': 4031,\n",
       "  'wiki_page': 'Преображенка_(Катангский район)'},\n",
       " '09406': {'name': 'р.Нижняя Тунгуска - с.Ербогачен',\n",
       "  'clean_name': 'Ербогачен',\n",
       "  'gismeteo_id': 4031},\n",
       " '09408': {'name': 'р.Нижняя Тунгуска - пос.Кислокан',\n",
       "  'clean_name': 'Кислокан',\n",
       "  'gismeteo_id': 158142,\n",
       "  'fallback_id': 4015},\n",
       " '09410': {'name': 'р.Нижняя Тунгуска - пгт Тура',\n",
       "  'clean_name': 'Тура',\n",
       "  'gismeteo_id': 4015},\n",
       " '09413': {'name': 'р.Нижняя Тунгуска - пос.Учами',\n",
       "  'clean_name': 'Учами',\n",
       "  'gismeteo_id': 158154,\n",
       "  'fallback_id': 4015,\n",
       "  'wiki_page': 'Учами_(Полигусовский_сельсовет)'},\n",
       " '09415': {'name': 'р.Нижняя Тунгуска - факт.Большой Порог',\n",
       "  'clean_name': 'Большой Порог',\n",
       "  'gismeteo_id': 3975,\n",
       "  'wiki_page': 'Бакланиха_(Красноярский_край)'},\n",
       " '09416': {'name': 'р.Непа - с.Токма',\n",
       "  'clean_name': 'Токма',\n",
       "  'gismeteo_id': 4741},\n",
       " '09417': {'name': 'р.Непа - д.Ика',\n",
       "  'clean_name': 'Ика',\n",
       "  'gismeteo_id': 144983,\n",
       "  'fallback_id': 4031,\n",
       "  'wiki_page': 'Ика_(село)'},\n",
       " '09419': {'name': 'р.Тембенчи - факт.Тембенчи',\n",
       "  'clean_name': 'Тембенчи',\n",
       "  'gismeteo_id': 4015,\n",
       "  'wiki_page': 'Тура_(Красноярский_край)'},\n",
       " '09420': {'name': 'р.Таймура - факт.Кербо',\n",
       "  'clean_name': 'Кербо',\n",
       "  'gismeteo_id': 4015},\n",
       " '09421': {'name': 'руч.без названия - факт.Кербо',\n",
       "  'clean_name': 'Кербо',\n",
       "  'gismeteo_id': 4015},\n",
       " '09422': {'name': 'р.Ерачимо - факт.Большой порог',\n",
       "  'clean_name': 'Большой Порог',\n",
       "  'gismeteo_id': 3975,\n",
       "  'wiki_page': 'Бакланиха_(Красноярский_край)'},\n",
       " '09518': {'name': 'р.Нижняя Тунгуска - с.Непа',\n",
       "  'clean_name': 'Непа',\n",
       "  'gismeteo_id': 144986,\n",
       "  'fallback_id': 4031,\n",
       "  'wiki_page': 'Непа_(село)'}}"
      ]
     },
     "execution_count": 34,
     "metadata": {},
     "output_type": "execute_result"
    }
   ],
   "source": [
    "def fix_bad_cities():\n",
    "    bad_cities = get_bad_cities()\n",
    "    print(f'Количество постов наблюдения с проблемными населёнными пунктами: {len(bad_cities)} пунктах')\n",
    "    for city in bad_cities:\n",
    "        try:\n",
    "            def get_district(page):\n",
    "                wiki = get_wiki_page(page)\n",
    "                district = wiki.find('a', string=\"Муниципальный район\")\n",
    "                if not district:\n",
    "                    if 'wiki_page' in city.keys() and page != city['wiki_page']:\n",
    "                        print(f\"? пробуем {city['clean_name']} открыть как {city['wiki_page']}\")\n",
    "                        return get_district(city['wiki_page'])\n",
    "                return district\n",
    "            \n",
    "            city_name = city['clean_name']\n",
    "            district = get_district(city_name)\n",
    "            if not district:\n",
    "                print('- https://ru.wikipedia.org/wiki/' + city_name.replace(' ', '_'))\n",
    "                continue\n",
    "\n",
    "            district = district.parent.parent.find('td').find('a')['title']  # поиск строки с названием района\n",
    "            print(f'+ {city_name} ({district})', end='')\n",
    "            wiki = get_wiki_page(district)\n",
    "            admin_town = wiki.find('th', string=\"Адм. центр\")\n",
    "            if not admin_town:\n",
    "                print(f'\\nАдминистративный центр для {city_name} ({district}) не обнаружен')\n",
    "                continue\n",
    "            admin_town = admin_town.parent.find('a').text\n",
    "            admin_town = admin_town.replace('ё', 'е')  # в БД gismeteo нет букв Ё\n",
    "            print(f' ==> {admin_town}', end='')\n",
    "            admin_town_id = next((city_id for city_id, name in cities.items() if name == admin_town))\n",
    "            admin_town_id = int(admin_town_id)\n",
    "            print(f' ==> {int(admin_town_id)}', end='')\n",
    "            for uid, item in posts.items():\n",
    "                if item['clean_name'] == city_name and item['gismeteo_id'] != admin_town_id \\\n",
    "                    and ('fallback_id' not in item.keys() or item['fallback_id'] != admin_town_id):\n",
    "                    print(f' ==> исправлено! ', end='')\n",
    "                    if item['gismeteo_id'] == -1:\n",
    "                        posts[uid].update({'gismeteo_id': admin_town_id})\n",
    "                        print(f'Сделана замена')\n",
    "                    else:\n",
    "                        posts[uid].update({'fallback_id': admin_town_id})\n",
    "                        print(f'Сделана подмена')\n",
    "                    break\n",
    "            \n",
    "        except requests.exceptions.HTTPError:\n",
    "            # Википедия даёт 404 статус на отсутствующие статьи, игнорируем\n",
    "            print(f'Статья {city} не найдена')\n",
    "            print('- https://ru.wikipedia.org/wiki/' + city)\n",
    "            continue\n",
    "\n",
    "fix_bad_cities()\n",
    "print(f'Число проблемных населённых пунктов после исправления: {len(get_bad_cities())}')\n",
    "posts"
   ]
  },
  {
   "cell_type": "markdown",
   "id": "1eed2142",
   "metadata": {},
   "source": [
    "Некоторые проблемные страницы открывают список страниц с похожими названиями."
   ]
  },
  {
   "cell_type": "markdown",
   "id": "a2c620b1",
   "metadata": {},
   "source": [
    "![Несколько вариантов страниц в Википедии](images/wiki_variants.png)"
   ]
  },
  {
   "cell_type": "markdown",
   "id": "9a9275e7",
   "metadata": {},
   "source": [
    "В таких случаях необходимо вручную задать верную страницу на Википедии."
   ]
  },
  {
   "cell_type": "code",
   "execution_count": 28,
   "id": "d1ce3500",
   "metadata": {},
   "outputs": [
    {
     "name": "stdout",
     "output_type": "stream",
     "text": [
      "Кузьмовка заменилось на Кузьмовка_(Красноярский_край)\n",
      "Вельмо заменилось на Вельмо_(посёлок)\n",
      "Тея заменилось на Тея_(Северо-Енисейский_район)\n",
      "Бурный заменилось на Бурный_(Эвенкийский_район)\n",
      "Светлана заменилось на Вельмо_(посёлок)\n",
      "Вельмо заменилось на Вельмо_(посёлок)\n",
      "Подволошино заменилось на Подволошино_(Иркутская_область)\n",
      "Преображенка заменилось на Преображенка_(Катангский район)\n",
      "Учами заменилось на Учами_(Полигусовский_сельсовет)\n",
      "Большой Порог заменилось на Бакланиха_(Красноярский_край)\n",
      "Ика заменилось на Ика_(село)\n",
      "Тембенчи заменилось на Тура_(Красноярский_край)\n",
      "Большой Порог заменилось на Бакланиха_(Красноярский_край)\n",
      "Непа заменилось на Непа_(село)\n"
     ]
    }
   ],
   "source": [
    "for uid, item in posts.items():\n",
    "    new_name = item['clean_name']\n",
    "    # Бакланиха  - ближайший к реке Большой порог населённый пункт\n",
    "    new_name = new_name.replace('Большой Порог', 'Бакланиха_(Красноярский_край)')\n",
    "    new_name = new_name.replace('Бурный', 'Бурный_(Эвенкийский_район)')\n",
    "    new_name = new_name.replace('Вельмо', 'Вельмо_(посёлок)')\n",
    "    new_name = new_name.replace('Кузьмовка', 'Кузьмовка_(Красноярский_край)')\n",
    "    new_name = new_name.replace('Подволошино', 'Подволошино_(Иркутская_область)')\n",
    "    new_name = new_name.replace('Преображенка', 'Преображенка_(Катангский район)')\n",
    "    new_name = new_name.replace('Светлана', 'Вельмо_(посёлок)')\n",
    "    new_name = new_name.replace('Тембенчи', 'Тура_(Красноярский_край)')\n",
    "    new_name = new_name.replace('Тея', 'Тея_(Северо-Енисейский_район)')\n",
    "    new_name = new_name.replace('Учами', 'Учами_(Полигусовский_сельсовет)')\n",
    "    new_name = new_name.replace('Ика', 'Ика_(село)')\n",
    "    new_name = new_name.replace('Непа', 'Непа_(село)')\n",
    "    if item['clean_name'] != new_name:\n",
    "        print(f\"{item['clean_name']} заменилось на {new_name}\")\n",
    "        posts[uid].update({'wiki_page': new_name})"
   ]
  },
  {
   "cell_type": "markdown",
   "id": "75354fdc",
   "metadata": {},
   "source": [
    "Повторно найдём замену для проблемных городов:"
   ]
  },
  {
   "cell_type": "code",
   "execution_count": 35,
   "id": "d6b4d3fe",
   "metadata": {
    "scrolled": true
   },
   "outputs": [
    {
     "name": "stdout",
     "output_type": "stream",
     "text": [
      "Количество постов наблюдения с проблемными населёнными пунктами: 0 пунктах\n",
      "Число проблемных населённых пунктов после исправления: 0\n"
     ]
    }
   ],
   "source": [
    "fix_bad_cities()\n",
    "print(f'Число проблемных населённых пунктов после исправления: {len(get_bad_cities())}')"
   ]
  },
  {
   "cell_type": "markdown",
   "id": "67bb76f3",
   "metadata": {},
   "source": [
    "Теперь для всех постов наблюдения можно получить полные метео-данные за указанный период."
   ]
  },
  {
   "cell_type": "markdown",
   "id": "2a23cc3c",
   "metadata": {},
   "source": [
    "## Получение и сохранение метео-данных"
   ]
  },
  {
   "cell_type": "code",
   "execution_count": null,
   "id": "b5a9e990",
   "metadata": {},
   "outputs": [],
   "source": [
    "'''\n",
    "[0]      |             день               |            вечер               |\n",
    "[1] число|темп.|давл.|облач.|явления|ветер|темп.|давл.|облач.|явления|ветер|\n",
    "   ------------------------------------------------------------------------\n",
    "[2]   1  | -15 | 732\n",
    "   -----------------\n",
    "'''\n",
    "def process_row(row):\n",
    "    cells = row.find_all('td')\n",
    "    day = int(cells[0].text)\n",
    "    temperature = int(cells[1].text)\n",
    "    pressure = int(cells[2].text)\n",
    "    \n",
    "    # 3 cloud\n",
    "    cloud = 'unknown'\n",
    "    url_cloud = cells[3].find('img')\n",
    "    if url_cloud is not None:\n",
    "        url_cloud = url_cloud['src']  # //st6.gismeteo.ru/static/diary/img/dull.png\n",
    "        cloud = re.search(r\"diary/img/(\\w+).png\", url_cloud).group(1)\n",
    "        \n",
    "    # 4 weather\n",
    "    weather = 'clear'\n",
    "    url_weather = cells[4].find('img')\n",
    "    if url_weather is not None:\n",
    "        url_weather = url_weather['src'] # //st6.gismeteo.ru/static/diary/img/snow.png\n",
    "        weather = re.search(r\"diary/img/(\\w+).png\", url_cloud).group(1)\n",
    "    \n",
    "    # 5 wind\n",
    "    if cells[5].text == 'Ш':  # штиль\n",
    "        day_wind_spd, day_wind_dir = 0, 'Ш'\n",
    "    else:\n",
    "        wind_info = re.search(r\"(\\w+) (\\d+)\", cells[5].text)\n",
    "        day_wind_dir = wind_info.group(1)\n",
    "        day_wind_spd = int(wind_info.group(2))\n",
    "    # в реальных прогнозах погоды даётся 1 прогноз на весь день, без разделения по часам или времени суток\n",
    "    \n",
    "    return (day, temperature, pressure, cloud, weather, day_wind_spd, day_wind_dir)\n",
    "    #print(type(day), type(temperature), type(pressure), type(cloud), type(weather), type(day_wind_spd), type(day_wind_dir))\n",
    "    \n",
    "\n",
    "table = soup.find('table')\n",
    "rows = table.find_all('tr')\n",
    "rows = rows[2:]  # убрать шапку таблицы\n",
    "\n",
    "result = process_row(rows[2])\n",
    "result"
   ]
  },
  {
   "cell_type": "code",
   "execution_count": null,
   "id": "d9c4a0b2",
   "metadata": {},
   "outputs": [],
   "source": []
  },
  {
   "cell_type": "code",
   "execution_count": null,
   "id": "791d75dd",
   "metadata": {},
   "outputs": [],
   "source": [
    "start_year = 2008\n",
    "end_year = 2018"
   ]
  }
 ],
 "metadata": {
  "kernelspec": {
   "display_name": "Python 3 (ipykernel)",
   "language": "python",
   "name": "python3"
  },
  "language_info": {
   "codemirror_mode": {
    "name": "ipython",
    "version": 3
   },
   "file_extension": ".py",
   "mimetype": "text/x-python",
   "name": "python",
   "nbconvert_exporter": "python",
   "pygments_lexer": "ipython3",
   "version": "3.9.13"
  }
 },
 "nbformat": 4,
 "nbformat_minor": 5
}
