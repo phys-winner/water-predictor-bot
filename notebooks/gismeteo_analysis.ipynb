{
 "cells": [
  {
   "cell_type": "markdown",
   "id": "043691cb",
   "metadata": {},
   "source": [
    "# Анализ сайта gismeteo.ru"
   ]
  },
  {
   "cell_type": "markdown",
   "id": "1fe18423",
   "metadata": {},
   "source": [
    "Для выполнения итогового задания в качестве источника данных метеосводок был выбран сервис Дневник сайта Gismeteo.ru, в котором можно бесплатно получить исторические данные о погоде, начиная с 1997 года. Необходимо получить данные с 2008 по 2018 года включительно (последний год необходим для прогнозирования навигации на сезон).\n",
    "\n",
    "todo: добавить список коммерческих ресурсов, с которых можно получить исторические данные и прогнозы на долгий срок"
   ]
  },
  {
   "cell_type": "code",
   "execution_count": 1,
   "id": "3136b8e0",
   "metadata": {},
   "outputs": [],
   "source": [
    "START_YEAR = 2008\n",
    "END_YEAR = 2018"
   ]
  },
  {
   "cell_type": "markdown",
   "id": "ececaa75",
   "metadata": {},
   "source": [
    "![Внешний вид сервиса Дневник от gismeteo](images/gismeteo_example.png)"
   ]
  },
  {
   "cell_type": "markdown",
   "id": "346b3fd8",
   "metadata": {},
   "source": [
    "После исполнения скрипта на загрузку данных из сайта автоматизированной информационной системы государственного мониторинга водных объектов Российской Федерации (далее - \"АИС ГМВО\") **src\\preparation\\scrape_water_level.py**, в **data\\raw\\water_posts_data.json** будет находиться словарь **{uid: наименование поста наблюдения}**. Наименования представлены в виде: *название водного объекта* - *название населённого пункта*"
   ]
  },
  {
   "cell_type": "markdown",
   "id": "b942ab37",
   "metadata": {},
   "source": [
    "## Получение списка населённых пунктов с постами наблюдения"
   ]
  },
  {
   "cell_type": "markdown",
   "id": "47104e89",
   "metadata": {},
   "source": [
    "### Проверка и установка рабочей директории, должен быть корень проекта"
   ]
  },
  {
   "cell_type": "code",
   "execution_count": 2,
   "id": "eff8b31e",
   "metadata": {
    "scrolled": true
   },
   "outputs": [
    {
     "data": {
      "text/plain": [
       "'C:\\\\Users\\\\Kuroha\\\\source\\\\repos_py\\\\bauman_final_project\\\\notebooks'"
      ]
     },
     "execution_count": 2,
     "metadata": {},
     "output_type": "execute_result"
    }
   ],
   "source": [
    "%pwd"
   ]
  },
  {
   "cell_type": "code",
   "execution_count": 3,
   "id": "3645e379",
   "metadata": {},
   "outputs": [
    {
     "name": "stdout",
     "output_type": "stream",
     "text": [
      "C:\\Users\\Kuroha\\source\\repos_py\\bauman_final_project\n"
     ]
    }
   ],
   "source": [
    "%cd .."
   ]
  },
  {
   "cell_type": "markdown",
   "id": "efc3bab0",
   "metadata": {},
   "source": [
    "### Загрузка списка постов"
   ]
  },
  {
   "cell_type": "code",
   "execution_count": 4,
   "id": "3186a182",
   "metadata": {},
   "outputs": [
    {
     "name": "stdout",
     "output_type": "stream",
     "text": [
      "28\n"
     ]
    },
    {
     "data": {
      "text/plain": [
       "{'09386': 'р.Подкаменная Тунгуска - пос.Чемдальск',\n",
       " '09387': 'р.Подкаменная Тунгуска - с.Ванавара',\n",
       " '09388': 'р.Подкаменная Тунгуска - факт.Усть-Камо',\n",
       " '09389': 'р.Подкаменная Тунгуска - с.Байкит',\n",
       " '09390': 'р.Подкаменная Тунгуска - факт.Кузьмовка',\n",
       " '09392': 'р.Чуня - пос.Стрелка Чуня',\n",
       " '09393': 'р.Чуня - пос.Муторай',\n",
       " '09396': 'руч.Миханский - пос.Вельмо 2-е',\n",
       " '09397': 'р.Тея - пгт Тея',\n",
       " '09499': 'р.Бурная - пос.Бурный',\n",
       " '09523': 'р.Подкаменная Тунгуска - пос.Суломай',\n",
       " '09560': 'р.Вельмо - пос.Светлана',\n",
       " '09568': 'р.Вельмо - пос.Вельмо 2-е',\n",
       " '09403': 'р.Нижняя Тунгуска - д.Верхнекарелина',\n",
       " '09404': 'р.Нижняя Тунгуска - с.Подволошино',\n",
       " '09405': 'р.Нижняя Тунгуска - с.Преображенка',\n",
       " '09406': 'р.Нижняя Тунгуска - с.Ербогачен',\n",
       " '09408': 'р.Нижняя Тунгуска - пос.Кислокан',\n",
       " '09410': 'р.Нижняя Тунгуска - пгт Тура',\n",
       " '09413': 'р.Нижняя Тунгуска - пос.Учами',\n",
       " '09415': 'р.Нижняя Тунгуска - факт.Большой Порог',\n",
       " '09416': 'р.Непа - с.Токма',\n",
       " '09417': 'р.Непа - д.Ика',\n",
       " '09419': 'р.Тембенчи - факт.Тембенчи',\n",
       " '09420': 'р.Таймура - факт.Кербо',\n",
       " '09421': 'руч.без названия - факт.Кербо',\n",
       " '09422': 'р.Ерачимо - факт.Большой порог',\n",
       " '09518': 'р.Нижняя Тунгуска - с.Непа'}"
      ]
     },
     "execution_count": 4,
     "metadata": {},
     "output_type": "execute_result"
    }
   ],
   "source": [
    "from src.utils import *\n",
    "\n",
    "if not is_data_exists(DATA_POSTS_RAW, is_raw=True):\n",
    "    print('Данные с постами наблюдения АИС ГМВО не были загружены. Пожалуйста, '\n",
    "          'выполните скрипт src\\preparation\\scrape_water_level.py'\n",
    "          'и попробуйте ещё раз.')\n",
    "else:\n",
    "    file_posts = open_file(DATA_POSTS_RAW, is_raw=True)\n",
    "    posts = json.loads(file_posts)\n",
    "print(len(posts))\n",
    "posts  # основная переменная, в которой будет храниться вся информация о гидрологических постах"
   ]
  },
  {
   "cell_type": "markdown",
   "id": "96c21d98",
   "metadata": {},
   "source": [
    "### Создание набора с очищенными названиями населённых пунктов"
   ]
  },
  {
   "cell_type": "code",
   "execution_count": 5,
   "id": "14782ee2",
   "metadata": {},
   "outputs": [
    {
     "data": {
      "text/plain": [
       "'р.Нижняя Тунгуска - факт.Большой Порог'"
      ]
     },
     "execution_count": 5,
     "metadata": {},
     "output_type": "execute_result"
    }
   ],
   "source": [
    "#test_name = next(iter(posts.values()))  # р.Подкаменная Тунгуска - пос.Чемдальск\n",
    "#test_name = posts['09388']  # р.Подкаменная Тунгуска - факт.Усть-Камо\n",
    "test_name = posts['09415']  # р.Нижняя Тунгуска - факт.Большой Порог\n",
    "test_name"
   ]
  },
  {
   "cell_type": "code",
   "execution_count": 6,
   "id": "7925b48b",
   "metadata": {
    "scrolled": true
   },
   "outputs": [
    {
     "data": {
      "text/plain": [
       "'Большой Порог'"
      ]
     },
     "execution_count": 6,
     "metadata": {},
     "output_type": "execute_result"
    }
   ],
   "source": [
    "import re\n",
    "\n",
    "'''\n",
    "Между видом и названием населённого пункта есть или точка, или пробел, используем [ \\.]{1}\n",
    "Учтено наличие в названии пункта пробела и тире\n",
    "В БД gismeteo названия некоторых пунктов отличаются от таковых из сайта АИС ГМВО\n",
    "'''\n",
    "def clear_name(input_str):\n",
    "    result = input_str.replace('Вельмо 2-е', 'Вельмо')\n",
    "    result = result.replace('Стрелка Чуня', 'Стрелка-Чуня')\n",
    "    result = result.replace('Большой порог', 'Большой Порог')\n",
    "    result = re.search(r\" - \\w+[ \\.]{1}([\\w -]+)\", result).group(1)\n",
    "    return result\n",
    "\n",
    "clear_name(test_name)"
   ]
  },
  {
   "cell_type": "code",
   "execution_count": 7,
   "id": "e581193d",
   "metadata": {},
   "outputs": [
    {
     "data": {
      "text/plain": [
       "{'09386': {'name': 'р.Подкаменная Тунгуска - пос.Чемдальск',\n",
       "  'clean_name': 'Чемдальск'},\n",
       " '09387': {'name': 'р.Подкаменная Тунгуска - с.Ванавара',\n",
       "  'clean_name': 'Ванавара'},\n",
       " '09388': {'name': 'р.Подкаменная Тунгуска - факт.Усть-Камо',\n",
       "  'clean_name': 'Усть-Камо'},\n",
       " '09389': {'name': 'р.Подкаменная Тунгуска - с.Байкит',\n",
       "  'clean_name': 'Байкит'},\n",
       " '09390': {'name': 'р.Подкаменная Тунгуска - факт.Кузьмовка',\n",
       "  'clean_name': 'Кузьмовка'},\n",
       " '09392': {'name': 'р.Чуня - пос.Стрелка Чуня', 'clean_name': 'Стрелка-Чуня'},\n",
       " '09393': {'name': 'р.Чуня - пос.Муторай', 'clean_name': 'Муторай'},\n",
       " '09396': {'name': 'руч.Миханский - пос.Вельмо 2-е', 'clean_name': 'Вельмо'},\n",
       " '09397': {'name': 'р.Тея - пгт Тея', 'clean_name': 'Тея'},\n",
       " '09499': {'name': 'р.Бурная - пос.Бурный', 'clean_name': 'Бурный'},\n",
       " '09523': {'name': 'р.Подкаменная Тунгуска - пос.Суломай',\n",
       "  'clean_name': 'Суломай'},\n",
       " '09560': {'name': 'р.Вельмо - пос.Светлана', 'clean_name': 'Светлана'},\n",
       " '09568': {'name': 'р.Вельмо - пос.Вельмо 2-е', 'clean_name': 'Вельмо'},\n",
       " '09403': {'name': 'р.Нижняя Тунгуска - д.Верхнекарелина',\n",
       "  'clean_name': 'Верхнекарелина'},\n",
       " '09404': {'name': 'р.Нижняя Тунгуска - с.Подволошино',\n",
       "  'clean_name': 'Подволошино'},\n",
       " '09405': {'name': 'р.Нижняя Тунгуска - с.Преображенка',\n",
       "  'clean_name': 'Преображенка'},\n",
       " '09406': {'name': 'р.Нижняя Тунгуска - с.Ербогачен',\n",
       "  'clean_name': 'Ербогачен'},\n",
       " '09408': {'name': 'р.Нижняя Тунгуска - пос.Кислокан',\n",
       "  'clean_name': 'Кислокан'},\n",
       " '09410': {'name': 'р.Нижняя Тунгуска - пгт Тура', 'clean_name': 'Тура'},\n",
       " '09413': {'name': 'р.Нижняя Тунгуска - пос.Учами', 'clean_name': 'Учами'},\n",
       " '09415': {'name': 'р.Нижняя Тунгуска - факт.Большой Порог',\n",
       "  'clean_name': 'Большой Порог'},\n",
       " '09416': {'name': 'р.Непа - с.Токма', 'clean_name': 'Токма'},\n",
       " '09417': {'name': 'р.Непа - д.Ика', 'clean_name': 'Ика'},\n",
       " '09419': {'name': 'р.Тембенчи - факт.Тембенчи', 'clean_name': 'Тембенчи'},\n",
       " '09420': {'name': 'р.Таймура - факт.Кербо', 'clean_name': 'Кербо'},\n",
       " '09421': {'name': 'руч.без названия - факт.Кербо', 'clean_name': 'Кербо'},\n",
       " '09422': {'name': 'р.Ерачимо - факт.Большой порог',\n",
       "  'clean_name': 'Большой Порог'},\n",
       " '09518': {'name': 'р.Нижняя Тунгуска - с.Непа', 'clean_name': 'Непа'}}"
      ]
     },
     "execution_count": 7,
     "metadata": {},
     "output_type": "execute_result"
    }
   ],
   "source": [
    "for uid, name in posts.items():\n",
    "    posts[uid] = {'name': name, 'clean_name': clear_name(name)}\n",
    "\n",
    "posts"
   ]
  },
  {
   "cell_type": "markdown",
   "id": "48c4bcdf",
   "metadata": {},
   "source": [
    "### Создание списка с уникальными населёнными пунктами"
   ]
  },
  {
   "cell_type": "code",
   "execution_count": 8,
   "id": "aea78bfc",
   "metadata": {},
   "outputs": [
    {
     "data": {
      "text/plain": [
       "{'Байкит',\n",
       " 'Большой Порог',\n",
       " 'Бурный',\n",
       " 'Ванавара',\n",
       " 'Вельмо',\n",
       " 'Верхнекарелина',\n",
       " 'Ербогачен',\n",
       " 'Ика',\n",
       " 'Кербо',\n",
       " 'Кислокан',\n",
       " 'Кузьмовка',\n",
       " 'Муторай',\n",
       " 'Непа',\n",
       " 'Подволошино',\n",
       " 'Преображенка',\n",
       " 'Светлана',\n",
       " 'Стрелка-Чуня',\n",
       " 'Суломай',\n",
       " 'Тембенчи',\n",
       " 'Тея',\n",
       " 'Токма',\n",
       " 'Тура',\n",
       " 'Усть-Камо',\n",
       " 'Учами',\n",
       " 'Чемдальск'}"
      ]
     },
     "execution_count": 8,
     "metadata": {},
     "output_type": "execute_result"
    }
   ],
   "source": [
    "names = set([x['clean_name'] for x in posts.values()])\n",
    "names"
   ]
  },
  {
   "cell_type": "code",
   "execution_count": 9,
   "id": "f148498b",
   "metadata": {
    "scrolled": true
   },
   "outputs": [
    {
     "name": "stdout",
     "output_type": "stream",
     "text": [
      "Число постов: 28\n",
      "Число уникальных пунктов: 25\n"
     ]
    }
   ],
   "source": [
    "print(f'Число постов: {len(posts)}\\nЧисло уникальных пунктов: {len(names)}')"
   ]
  },
  {
   "cell_type": "markdown",
   "id": "e26d467e",
   "metadata": {},
   "source": [
    "## Проверка наличия исторических метео-данных"
   ]
  },
  {
   "cell_type": "markdown",
   "id": "fee2f161",
   "metadata": {},
   "source": [
    "С получением метео-данных есть 2 проблемы:\n",
    "1. Не все населённые пункты представлены в списке городов.\n",
    "2. В некоторых пунтах за период с 2008 по 2018 не велись наблюдения метео-данных. При попытке их получить сайт показывает сообщение:\n",
    "> Наблюдения метео-данных в данный период не велись."
   ]
  },
  {
   "cell_type": "markdown",
   "id": "2e306ca5",
   "metadata": {},
   "source": [
    "![Сообщение об ошибке](images/gismeteo_error.png)"
   ]
  },
  {
   "cell_type": "markdown",
   "id": "f422e501",
   "metadata": {},
   "source": [
    "Необходимо обнаружить проблемные населённые пункты."
   ]
  },
  {
   "cell_type": "markdown",
   "id": "ee434397",
   "metadata": {},
   "source": [
    "### Получение списка населённых пунктов с gismeteo"
   ]
  },
  {
   "cell_type": "markdown",
   "id": "dc751bd3",
   "metadata": {},
   "source": [
    "После открытия https://www.gismeteo.ru/diary/ и выбора страны Россия и области Красноярский край происходит 3 GET запроса:\n",
    "![GET запросы](images/gismeteo_requests.png)\n",
    "\n",
    "1. https://www.gismeteo.ru/inform-service/63466572668a39754a9ddf4c8b3437b0/countries/?fr=sel  \n",
    "Получение списка стран c ID и названиями.\n",
    "\n",
    "2. https://www.gismeteo.ru/inform-service/63466572668a39754a9ddf4c8b3437b0/districts/?country=156&fr=sel  \n",
    "Получения списка областей c ID и названиями. В параметре country указан ID выбранной страны (156 - Россия).\n",
    "\n",
    "3. https://www.gismeteo.ru/inform-service/63466572668a39754a9ddf4c8b3437b0/cities/?district=301&fr=sel  \n",
    "Получения списка городов c ID и названиями. В параметре district указан ID выбранной области (301 - Красноярский край, 303 - Иркутская область).\n",
    "\n",
    "Во всех запросах **63466572668a39754a9ddf4c8b3437b0** - это стандартный api-токен, который не зависит от IP-адреса пользователя. Запросы возвращают данные в формате xml.\n",
    "Учтём, что Подкаменная Тунгуска и Нижняя Тунгуска протекают в Красноярском крае и Иркутской области России, следовательно нужно запрашивать данные о пунктах в обоих субъектах."
   ]
  },
  {
   "cell_type": "code",
   "execution_count": 10,
   "id": "dc6e43ff",
   "metadata": {},
   "outputs": [
    {
     "data": {
      "text/plain": [
       "2861"
      ]
     },
     "execution_count": 10,
     "metadata": {},
     "output_type": "execute_result"
    }
   ],
   "source": [
    "from src.utils import get_url\n",
    "import xmltodict\n",
    "\n",
    "def get_cities(district):\n",
    "    file_name = f'gismeteo_cities-{district}.xml'\n",
    "    if is_data_exists(file_name, is_raw=True):\n",
    "        cities = open_file(file_name, is_raw=True)\n",
    "    else:\n",
    "        url = f'https://www.gismeteo.ru/inform-service/63466572668a39754a9ddf4c8b3437b0/cities/?district={district}&fr=sel'\n",
    "        r = get_url(url)\n",
    "        cities = r.text\n",
    "        write_data(file_name, data=cities, is_raw=True)\n",
    "    cities = xmltodict.parse(cities)  # конвертация xml в dict\n",
    "    # основные данные находятся в cities['document']['item']\n",
    "    cities = cities['document']['item']\n",
    "    return cities\n",
    "\n",
    "cities = {}\n",
    "target_districts = [301, 303]  # нужные области\n",
    "cities_file_name = f'gismeteo_cities-{\",\".join([str(x) for x in target_districts])}.json'\n",
    "if is_data_exists(cities_file_name, is_raw=True):\n",
    "    cities = open_file(cities_file_name, is_raw=True)\n",
    "    cities = json.loads(cities)\n",
    "else:\n",
    "    for district in target_districts:\n",
    "        for city in get_cities(district):\n",
    "            ''' Записи в xml выглядят таким образом:\n",
    "            <item id=\"145181\" n=\"Абалаково\" country_id=\"156\" country_name=\"Россия\" \n",
    "                  district_id=\"303\" district_name=\"Иркутская область\" kind=\"T\"/>\n",
    "                Нужные атрибуты - это id и n (name, имя)\n",
    "            '''\n",
    "            cities[int(city['@id'])] = city['@n']\n",
    "    write_data(cities_file_name, data=cities, is_raw=True)\n",
    "    \n",
    "len(cities)"
   ]
  },
  {
   "cell_type": "code",
   "execution_count": 11,
   "id": "c026862d",
   "metadata": {
    "scrolled": true
   },
   "outputs": [
    {
     "data": {
      "text/plain": [
       "{'09386': {'name': 'р.Подкаменная Тунгуска - пос.Чемдальск',\n",
       "  'clean_name': 'Чемдальск',\n",
       "  'gismeteo_id': 158155},\n",
       " '09387': {'name': 'р.Подкаменная Тунгуска - с.Ванавара',\n",
       "  'clean_name': 'Ванавара',\n",
       "  'gismeteo_id': 4036},\n",
       " '09388': {'name': 'р.Подкаменная Тунгуска - факт.Усть-Камо',\n",
       "  'clean_name': 'Усть-Камо'},\n",
       " '09389': {'name': 'р.Подкаменная Тунгуска - с.Байкит',\n",
       "  'clean_name': 'Байкит',\n",
       "  'gismeteo_id': 3995},\n",
       " '09390': {'name': 'р.Подкаменная Тунгуска - факт.Кузьмовка',\n",
       "  'clean_name': 'Кузьмовка',\n",
       "  'gismeteo_id': 158143},\n",
       " '09392': {'name': 'р.Чуня - пос.Стрелка Чуня',\n",
       "  'clean_name': 'Стрелка-Чуня',\n",
       "  'gismeteo_id': 158151},\n",
       " '09393': {'name': 'р.Чуня - пос.Муторай',\n",
       "  'clean_name': 'Муторай',\n",
       "  'gismeteo_id': 158146},\n",
       " '09396': {'name': 'руч.Миханский - пос.Вельмо 2-е',\n",
       "  'clean_name': 'Вельмо',\n",
       "  'gismeteo_id': 157875},\n",
       " '09397': {'name': 'р.Тея - пгт Тея',\n",
       "  'clean_name': 'Тея',\n",
       "  'gismeteo_id': 157881},\n",
       " '09499': {'name': 'р.Бурная - пос.Бурный',\n",
       "  'clean_name': 'Бурный',\n",
       "  'gismeteo_id': 158140},\n",
       " '09523': {'name': 'р.Подкаменная Тунгуска - пос.Суломай',\n",
       "  'clean_name': 'Суломай',\n",
       "  'gismeteo_id': 158152},\n",
       " '09560': {'name': 'р.Вельмо - пос.Светлана', 'clean_name': 'Светлана'},\n",
       " '09568': {'name': 'р.Вельмо - пос.Вельмо 2-е',\n",
       "  'clean_name': 'Вельмо',\n",
       "  'gismeteo_id': 157875},\n",
       " '09403': {'name': 'р.Нижняя Тунгуска - д.Верхнекарелина',\n",
       "  'clean_name': 'Верхнекарелина'},\n",
       " '09404': {'name': 'р.Нижняя Тунгуска - с.Подволошино',\n",
       "  'clean_name': 'Подволошино',\n",
       "  'gismeteo_id': 144988},\n",
       " '09405': {'name': 'р.Нижняя Тунгуска - с.Преображенка',\n",
       "  'clean_name': 'Преображенка',\n",
       "  'gismeteo_id': 156730},\n",
       " '09406': {'name': 'р.Нижняя Тунгуска - с.Ербогачен',\n",
       "  'clean_name': 'Ербогачен',\n",
       "  'gismeteo_id': 4031},\n",
       " '09408': {'name': 'р.Нижняя Тунгуска - пос.Кислокан',\n",
       "  'clean_name': 'Кислокан',\n",
       "  'gismeteo_id': 158142},\n",
       " '09410': {'name': 'р.Нижняя Тунгуска - пгт Тура',\n",
       "  'clean_name': 'Тура',\n",
       "  'gismeteo_id': 4015},\n",
       " '09413': {'name': 'р.Нижняя Тунгуска - пос.Учами',\n",
       "  'clean_name': 'Учами',\n",
       "  'gismeteo_id': 158154},\n",
       " '09415': {'name': 'р.Нижняя Тунгуска - факт.Большой Порог',\n",
       "  'clean_name': 'Большой Порог'},\n",
       " '09416': {'name': 'р.Непа - с.Токма',\n",
       "  'clean_name': 'Токма',\n",
       "  'gismeteo_id': 4741},\n",
       " '09417': {'name': 'р.Непа - д.Ика',\n",
       "  'clean_name': 'Ика',\n",
       "  'gismeteo_id': 144983},\n",
       " '09419': {'name': 'р.Тембенчи - факт.Тембенчи', 'clean_name': 'Тембенчи'},\n",
       " '09420': {'name': 'р.Таймура - факт.Кербо', 'clean_name': 'Кербо'},\n",
       " '09421': {'name': 'руч.без названия - факт.Кербо', 'clean_name': 'Кербо'},\n",
       " '09422': {'name': 'р.Ерачимо - факт.Большой порог',\n",
       "  'clean_name': 'Большой Порог'},\n",
       " '09518': {'name': 'р.Нижняя Тунгуска - с.Непа',\n",
       "  'clean_name': 'Непа',\n",
       "  'gismeteo_id': 144986}}"
      ]
     },
     "execution_count": 11,
     "metadata": {},
     "output_type": "execute_result"
    }
   ],
   "source": [
    "for city_id, name in cities.items():\n",
    "    for uid, entry in posts.items():\n",
    "        if entry['clean_name'] == name:\n",
    "            posts[uid].update({'gismeteo_id': int(city_id)})\n",
    "\n",
    "posts"
   ]
  },
  {
   "cell_type": "markdown",
   "id": "ec4bf0f3",
   "metadata": {},
   "source": [
    "Посмотрим, сколько населённых пунктов их списка постов гидрологического контроля рек есть в базе gismeteo:"
   ]
  },
  {
   "cell_type": "code",
   "execution_count": 12,
   "id": "42ad7983",
   "metadata": {},
   "outputs": [
    {
     "data": {
      "text/plain": [
       "(25, 19)"
      ]
     },
     "execution_count": 12,
     "metadata": {},
     "output_type": "execute_result"
    }
   ],
   "source": [
    "len(names), len(set([x['clean_name'] for x in posts.values() if 'gismeteo_id' in x.keys()]))"
   ]
  },
  {
   "cell_type": "markdown",
   "id": "f315207b",
   "metadata": {},
   "source": [
    "Для 25 уникальных локаций пунктов наблюдений нашлось соответствие с 19 населёнными пунктами в Gismeteo."
   ]
  },
  {
   "cell_type": "markdown",
   "id": "75cd50cb",
   "metadata": {},
   "source": [
    "### Реализация проверки наличия метео-данных"
   ]
  },
  {
   "cell_type": "markdown",
   "id": "562d17ab",
   "metadata": {},
   "source": [
    "Получение исторических метео-данных происходит следующим образом:\n",
    "1. Задаются все необходимые параметры - страна, область, город, месяц и год\n",
    "2. Нажатие на кнопку Получить дневник выполняет перенаправление на url вида  \n",
    "https://www.gismeteo.ru/diary/4036/2008/1/  \n",
    "в котором:  \n",
    "- **4036** - ID населённого пункта\n",
    "- **2008** - год\n",
    "- **1** - месяц без лидирующего нуля"
   ]
  },
  {
   "cell_type": "markdown",
   "id": "2cfacaf0",
   "metadata": {},
   "source": [
    "Если данные о погоде за указанный период не были зафиксированы, то вместо дневника будет сообщение об отсутствии данных."
   ]
  },
  {
   "cell_type": "code",
   "execution_count": 13,
   "id": "ebe94c42",
   "metadata": {},
   "outputs": [
    {
     "data": {
      "text/plain": [
       "True"
      ]
     },
     "execution_count": 13,
     "metadata": {},
     "output_type": "execute_result"
    }
   ],
   "source": [
    "import os\n",
    "from bs4 import BeautifulSoup\n",
    "from htmlmin import minify\n",
    "\n",
    "def get_gismeteo_table(city_id, year, month):\n",
    "    file_name = os.path.join('gismeteo', str(city_id), f'{year}-{month:02d}.html')\n",
    "    if is_data_exists(file_name, is_raw=True):\n",
    "        weather = open_file(file_name, is_raw=True)\n",
    "        soup = BeautifulSoup(weather, 'lxml')\n",
    "        if soup.find(class_='empty_phrase'):\n",
    "            return None\n",
    "        return soup\n",
    "    else:\n",
    "        url = f'https://www.gismeteo.ru/diary/{city_id}/{year}/{month}/'\n",
    "        r = get_url(url)\n",
    "        weather = r.text\n",
    "        soup = BeautifulSoup(weather, 'lxml')\n",
    "        empty_phrase = soup.find(class_='empty_phrase')\n",
    "        if empty_phrase:\n",
    "            write_data(file_name, data=str(empty_phrase), is_raw=True)\n",
    "            return None\n",
    "        \n",
    "        table = soup.find('table')\n",
    "        # для формирования форматированных html-страниц (с отступами и переносами строк)\n",
    "        # можно использовать table.prettify(), для минификации (максимально возможного\n",
    "        # сокращения размера html без потери фукнционала) - сторонний модуль htmlmin\n",
    "        write_data(file_name, data=minify(str(table)), is_raw=True)\n",
    "        return table\n",
    "\n",
    "def check_gismeteo(city_id, year):\n",
    "    return get_gismeteo_table(city_id, year, 1) is not None\n",
    "\n",
    "check_gismeteo(4036, 2008)"
   ]
  },
  {
   "cell_type": "markdown",
   "id": "9d58bc6e",
   "metadata": {},
   "source": [
    "Проверяем, есть ли за первый (2008) и последний год (2018) метео-данные у выбранных городов. Если у города нет соответствия с БД gismeteo, на конечный год у него нет данных, то изменяем его gismeteo_id на -1 для дальнейшей его замены на корректный город. Если на начальный год нет данных - добавляем ключ fallback_id, который будет использоваться для получения данных вместо основного id."
   ]
  },
  {
   "cell_type": "code",
   "execution_count": 14,
   "id": "231ce172",
   "metadata": {
    "scrolled": true
   },
   "outputs": [
    {
     "name": "stdout",
     "output_type": "stream",
     "text": [
      "* Чемдальск без метео-данных на 2008 год, нужна подмена\n",
      "+ Ванавара имеет все необходимые метео-данные\n",
      "- Усть-Камо нет в БД gismeteo\n",
      "+ Байкит имеет все необходимые метео-данные\n",
      "* Кузьмовка без метео-данных на 2008 год, нужна подмена\n",
      "* Стрелка-Чуня без метео-данных на 2008 год, нужна подмена\n",
      "* Муторай без метео-данных на 2008 год, нужна подмена\n",
      "* Вельмо без метео-данных на 2008 год, нужна подмена\n",
      "* Тея без метео-данных на 2008 год, нужна подмена\n",
      "* Бурный без метео-данных на 2008 год, нужна подмена\n",
      "* Суломай без метео-данных на 2008 год, нужна подмена\n",
      "- Светлана нет в БД gismeteo\n",
      "* Вельмо без метео-данных на 2008 год, нужна подмена\n",
      "- Верхнекарелина нет в БД gismeteo\n",
      "* Подволошино без метео-данных на 2008 год, нужна подмена\n",
      "* Преображенка без метео-данных на 2008 год, нужна подмена\n",
      "+ Ербогачен имеет все необходимые метео-данные\n",
      "* Кислокан без метео-данных на 2008 год, нужна подмена\n",
      "+ Тура имеет все необходимые метео-данные\n",
      "* Учами без метео-данных на 2008 год, нужна подмена\n",
      "- Большой Порог нет в БД gismeteo\n",
      "+ Токма имеет все необходимые метео-данные\n",
      "* Ика без метео-данных на 2008 год, нужна подмена\n",
      "- Тембенчи нет в БД gismeteo\n",
      "- Кербо нет в БД gismeteo\n",
      "- Кербо нет в БД gismeteo\n",
      "- Большой Порог нет в БД gismeteo\n",
      "* Непа без метео-данных на 2008 год, нужна подмена\n",
      "Количество постов наблюдения с проблемными населёнными пунктами: 23 пунктах\n"
     ]
    },
    {
     "data": {
      "text/plain": [
       "{'09386': {'name': 'р.Подкаменная Тунгуска - пос.Чемдальск',\n",
       "  'clean_name': 'Чемдальск',\n",
       "  'gismeteo_id': 158155,\n",
       "  'fallback_id': -1},\n",
       " '09387': {'name': 'р.Подкаменная Тунгуска - с.Ванавара',\n",
       "  'clean_name': 'Ванавара',\n",
       "  'gismeteo_id': 4036},\n",
       " '09388': {'name': 'р.Подкаменная Тунгуска - факт.Усть-Камо',\n",
       "  'clean_name': 'Усть-Камо',\n",
       "  'gismeteo_id': -1},\n",
       " '09389': {'name': 'р.Подкаменная Тунгуска - с.Байкит',\n",
       "  'clean_name': 'Байкит',\n",
       "  'gismeteo_id': 3995},\n",
       " '09390': {'name': 'р.Подкаменная Тунгуска - факт.Кузьмовка',\n",
       "  'clean_name': 'Кузьмовка',\n",
       "  'gismeteo_id': 158143,\n",
       "  'fallback_id': -1},\n",
       " '09392': {'name': 'р.Чуня - пос.Стрелка Чуня',\n",
       "  'clean_name': 'Стрелка-Чуня',\n",
       "  'gismeteo_id': 158151,\n",
       "  'fallback_id': -1},\n",
       " '09393': {'name': 'р.Чуня - пос.Муторай',\n",
       "  'clean_name': 'Муторай',\n",
       "  'gismeteo_id': 158146,\n",
       "  'fallback_id': -1},\n",
       " '09396': {'name': 'руч.Миханский - пос.Вельмо 2-е',\n",
       "  'clean_name': 'Вельмо',\n",
       "  'gismeteo_id': 157875,\n",
       "  'fallback_id': -1},\n",
       " '09397': {'name': 'р.Тея - пгт Тея',\n",
       "  'clean_name': 'Тея',\n",
       "  'gismeteo_id': 157881,\n",
       "  'fallback_id': -1},\n",
       " '09499': {'name': 'р.Бурная - пос.Бурный',\n",
       "  'clean_name': 'Бурный',\n",
       "  'gismeteo_id': 158140,\n",
       "  'fallback_id': -1},\n",
       " '09523': {'name': 'р.Подкаменная Тунгуска - пос.Суломай',\n",
       "  'clean_name': 'Суломай',\n",
       "  'gismeteo_id': 158152,\n",
       "  'fallback_id': -1},\n",
       " '09560': {'name': 'р.Вельмо - пос.Светлана',\n",
       "  'clean_name': 'Светлана',\n",
       "  'gismeteo_id': -1},\n",
       " '09568': {'name': 'р.Вельмо - пос.Вельмо 2-е',\n",
       "  'clean_name': 'Вельмо',\n",
       "  'gismeteo_id': 157875,\n",
       "  'fallback_id': -1},\n",
       " '09403': {'name': 'р.Нижняя Тунгуска - д.Верхнекарелина',\n",
       "  'clean_name': 'Верхнекарелина',\n",
       "  'gismeteo_id': -1},\n",
       " '09404': {'name': 'р.Нижняя Тунгуска - с.Подволошино',\n",
       "  'clean_name': 'Подволошино',\n",
       "  'gismeteo_id': 144988,\n",
       "  'fallback_id': -1},\n",
       " '09405': {'name': 'р.Нижняя Тунгуска - с.Преображенка',\n",
       "  'clean_name': 'Преображенка',\n",
       "  'gismeteo_id': 156730,\n",
       "  'fallback_id': -1},\n",
       " '09406': {'name': 'р.Нижняя Тунгуска - с.Ербогачен',\n",
       "  'clean_name': 'Ербогачен',\n",
       "  'gismeteo_id': 4031},\n",
       " '09408': {'name': 'р.Нижняя Тунгуска - пос.Кислокан',\n",
       "  'clean_name': 'Кислокан',\n",
       "  'gismeteo_id': 158142,\n",
       "  'fallback_id': -1},\n",
       " '09410': {'name': 'р.Нижняя Тунгуска - пгт Тура',\n",
       "  'clean_name': 'Тура',\n",
       "  'gismeteo_id': 4015},\n",
       " '09413': {'name': 'р.Нижняя Тунгуска - пос.Учами',\n",
       "  'clean_name': 'Учами',\n",
       "  'gismeteo_id': 158154,\n",
       "  'fallback_id': -1},\n",
       " '09415': {'name': 'р.Нижняя Тунгуска - факт.Большой Порог',\n",
       "  'clean_name': 'Большой Порог',\n",
       "  'gismeteo_id': -1},\n",
       " '09416': {'name': 'р.Непа - с.Токма',\n",
       "  'clean_name': 'Токма',\n",
       "  'gismeteo_id': 4741},\n",
       " '09417': {'name': 'р.Непа - д.Ика',\n",
       "  'clean_name': 'Ика',\n",
       "  'gismeteo_id': 144983,\n",
       "  'fallback_id': -1},\n",
       " '09419': {'name': 'р.Тембенчи - факт.Тембенчи',\n",
       "  'clean_name': 'Тембенчи',\n",
       "  'gismeteo_id': -1},\n",
       " '09420': {'name': 'р.Таймура - факт.Кербо',\n",
       "  'clean_name': 'Кербо',\n",
       "  'gismeteo_id': -1},\n",
       " '09421': {'name': 'руч.без названия - факт.Кербо',\n",
       "  'clean_name': 'Кербо',\n",
       "  'gismeteo_id': -1},\n",
       " '09422': {'name': 'р.Ерачимо - факт.Большой порог',\n",
       "  'clean_name': 'Большой Порог',\n",
       "  'gismeteo_id': -1},\n",
       " '09518': {'name': 'р.Нижняя Тунгуска - с.Непа',\n",
       "  'clean_name': 'Непа',\n",
       "  'gismeteo_id': 144986,\n",
       "  'fallback_id': -1}}"
      ]
     },
     "execution_count": 14,
     "metadata": {},
     "output_type": "execute_result"
    }
   ],
   "source": [
    "def get_bad_cities(print_info=False):\n",
    "    result = []\n",
    "    for uid, city in posts.items():\n",
    "        if 'gismeteo_id' not in city.keys() or city['gismeteo_id'] == -1:\n",
    "            if print_info:\n",
    "                print(f'- {city[\"clean_name\"]} нет в БД gismeteo')\n",
    "            posts[uid].update({'gismeteo_id': -1})\n",
    "            result.append(city)\n",
    "        elif not check_gismeteo(city[\"gismeteo_id\"], END_YEAR):\n",
    "            if print_info:\n",
    "                print(f'@ {city[\"clean_name\"]} без метео-данных на {END_YEAR} год, нужна замена')\n",
    "            posts[uid].update({'gismeteo_id': -1})\n",
    "            result.append(city)\n",
    "        elif not check_gismeteo(city[\"gismeteo_id\"], START_YEAR):\n",
    "            if 'fallback_id' in city.keys() and city['fallback_id'] != -1 \\\n",
    "                and check_gismeteo(city[\"fallback_id\"], START_YEAR):\n",
    "                if print_info:\n",
    "                    print(f'+ {city[\"clean_name\"]} имеет корректную подмену')\n",
    "                continue\n",
    "            if print_info:\n",
    "                print(f'* {city[\"clean_name\"]} без метео-данных на {START_YEAR} год, нужна подмена')\n",
    "            posts[uid].update({'fallback_id': -1})\n",
    "            result.append(city)\n",
    "        elif print_info:\n",
    "            print(f'+ {city[\"clean_name\"]} имеет все необходимые метео-данные')\n",
    "    return result\n",
    "\n",
    "bad_cities = get_bad_cities(print_info=True)\n",
    "print(f'Количество постов наблюдения с проблемными населёнными пунктами: {len(bad_cities)} пунктах')\n",
    "posts"
   ]
  },
  {
   "cell_type": "markdown",
   "id": "0d17f26c",
   "metadata": {},
   "source": [
    "### Замена населённых пунктов"
   ]
  },
  {
   "cell_type": "markdown",
   "id": "5264e96c",
   "metadata": {},
   "source": [
    "Так как для некоторых населённых пунктов не нашлось соответствие с списоком gismeteo, а также на начало 2008 года не было метео-сводок по 23 постам наблюдения, то на отсутствующие периоды времени для полноты исходных данных необходимо определить им замену. Оптимальнее всего будет вместо отсутствующих пунктов использовать их административные центры, т.к. географически они близко расположены друг к другу, а также по центрам вероятнее всего будут исторические погодные данные. "
   ]
  },
  {
   "cell_type": "markdown",
   "id": "ea6ebe94",
   "metadata": {},
   "source": [
    "Для определения административных центров будет использован сайт Википедии, где на страницах с населёнными пунктами указан муниципальный район, к которому он принадлежит, а на странице с этим районом - административный центр."
   ]
  },
  {
   "cell_type": "code",
   "execution_count": 15,
   "id": "d10f3e7c",
   "metadata": {},
   "outputs": [],
   "source": [
    "def get_wiki_page(page_name):\n",
    "    file_name = os.path.join('wiki', f'{page_name}.html')\n",
    "    if is_data_exists(file_name, is_raw=True):\n",
    "        wiki = open_file(file_name, is_raw=True)\n",
    "        table = BeautifulSoup(wiki, 'lxml')\n",
    "    else:\n",
    "        url = f'https://ru.wikipedia.org/wiki/{page_name}'\n",
    "        r = get_url(url)\n",
    "        wiki = r.text\n",
    "        wiki = BeautifulSoup(wiki, 'lxml')\n",
    "        table = wiki.find('tbody')  # для работы нам нужна лишь таблица\n",
    "        write_data(file_name, data=minify(str(table)), is_raw=True)\n",
    "    return table"
   ]
  },
  {
   "cell_type": "code",
   "execution_count": 16,
   "id": "cb2d7622",
   "metadata": {
    "scrolled": true
   },
   "outputs": [
    {
     "name": "stdout",
     "output_type": "stream",
     "text": [
      "Количество постов наблюдения с проблемными населёнными пунктами: 23 пунктах\n",
      "+ Чемдальск (Эвенкийский район) ==> Тура ==> 4015 ==> исправлено! Сделана подмена\n",
      "+ Усть-Камо (Эвенкийский район) ==> Тура ==> 4015 ==> исправлено! Сделана замена\n",
      "- https://ru.wikipedia.org/wiki/Кузьмовка\n",
      "+ Стрелка-Чуня (Эвенкийский район) ==> Тура ==> 4015 ==> исправлено! Сделана подмена\n",
      "+ Муторай (Эвенкийский район) ==> Тура ==> 4015 ==> исправлено! Сделана подмена\n",
      "- https://ru.wikipedia.org/wiki/Вельмо\n",
      "- https://ru.wikipedia.org/wiki/Тея\n",
      "- https://ru.wikipedia.org/wiki/Бурный\n",
      "+ Суломай (Эвенкийский район) ==> Тура ==> 4015 ==> исправлено! Сделана подмена\n",
      "- https://ru.wikipedia.org/wiki/Светлана\n",
      "- https://ru.wikipedia.org/wiki/Вельмо\n",
      "+ Верхнекарелина (Киренский район) ==> Киренск ==> 4743 ==> исправлено! Сделана замена\n",
      "- https://ru.wikipedia.org/wiki/Подволошино\n",
      "- https://ru.wikipedia.org/wiki/Преображенка\n",
      "+ Кислокан (Эвенкийский район) ==> Тура ==> 4015 ==> исправлено! Сделана подмена\n",
      "- https://ru.wikipedia.org/wiki/Учами\n",
      "- https://ru.wikipedia.org/wiki/Большой_Порог\n",
      "- https://ru.wikipedia.org/wiki/Ика\n",
      "- https://ru.wikipedia.org/wiki/Тембенчи\n",
      "+ Кербо (Эвенкийский район) ==> Тура ==> 4015 ==> исправлено! Сделана замена\n",
      "+ Кербо (Эвенкийский район) ==> Тура ==> 4015 ==> исправлено! Сделана замена\n",
      "- https://ru.wikipedia.org/wiki/Большой_Порог\n",
      "- https://ru.wikipedia.org/wiki/Непа\n",
      "Число проблемных населённых пунктов после исправления: 14\n"
     ]
    },
    {
     "data": {
      "text/plain": [
       "{'09386': {'name': 'р.Подкаменная Тунгуска - пос.Чемдальск',\n",
       "  'clean_name': 'Чемдальск',\n",
       "  'gismeteo_id': 158155,\n",
       "  'fallback_id': 4015},\n",
       " '09387': {'name': 'р.Подкаменная Тунгуска - с.Ванавара',\n",
       "  'clean_name': 'Ванавара',\n",
       "  'gismeteo_id': 4036},\n",
       " '09388': {'name': 'р.Подкаменная Тунгуска - факт.Усть-Камо',\n",
       "  'clean_name': 'Усть-Камо',\n",
       "  'gismeteo_id': 4015},\n",
       " '09389': {'name': 'р.Подкаменная Тунгуска - с.Байкит',\n",
       "  'clean_name': 'Байкит',\n",
       "  'gismeteo_id': 3995},\n",
       " '09390': {'name': 'р.Подкаменная Тунгуска - факт.Кузьмовка',\n",
       "  'clean_name': 'Кузьмовка',\n",
       "  'gismeteo_id': 158143,\n",
       "  'fallback_id': -1},\n",
       " '09392': {'name': 'р.Чуня - пос.Стрелка Чуня',\n",
       "  'clean_name': 'Стрелка-Чуня',\n",
       "  'gismeteo_id': 158151,\n",
       "  'fallback_id': 4015},\n",
       " '09393': {'name': 'р.Чуня - пос.Муторай',\n",
       "  'clean_name': 'Муторай',\n",
       "  'gismeteo_id': 158146,\n",
       "  'fallback_id': 4015},\n",
       " '09396': {'name': 'руч.Миханский - пос.Вельмо 2-е',\n",
       "  'clean_name': 'Вельмо',\n",
       "  'gismeteo_id': 157875,\n",
       "  'fallback_id': -1},\n",
       " '09397': {'name': 'р.Тея - пгт Тея',\n",
       "  'clean_name': 'Тея',\n",
       "  'gismeteo_id': 157881,\n",
       "  'fallback_id': -1},\n",
       " '09499': {'name': 'р.Бурная - пос.Бурный',\n",
       "  'clean_name': 'Бурный',\n",
       "  'gismeteo_id': 158140,\n",
       "  'fallback_id': -1},\n",
       " '09523': {'name': 'р.Подкаменная Тунгуска - пос.Суломай',\n",
       "  'clean_name': 'Суломай',\n",
       "  'gismeteo_id': 158152,\n",
       "  'fallback_id': 4015},\n",
       " '09560': {'name': 'р.Вельмо - пос.Светлана',\n",
       "  'clean_name': 'Светлана',\n",
       "  'gismeteo_id': -1},\n",
       " '09568': {'name': 'р.Вельмо - пос.Вельмо 2-е',\n",
       "  'clean_name': 'Вельмо',\n",
       "  'gismeteo_id': 157875,\n",
       "  'fallback_id': -1},\n",
       " '09403': {'name': 'р.Нижняя Тунгуска - д.Верхнекарелина',\n",
       "  'clean_name': 'Верхнекарелина',\n",
       "  'gismeteo_id': 4743},\n",
       " '09404': {'name': 'р.Нижняя Тунгуска - с.Подволошино',\n",
       "  'clean_name': 'Подволошино',\n",
       "  'gismeteo_id': 144988,\n",
       "  'fallback_id': -1},\n",
       " '09405': {'name': 'р.Нижняя Тунгуска - с.Преображенка',\n",
       "  'clean_name': 'Преображенка',\n",
       "  'gismeteo_id': 156730,\n",
       "  'fallback_id': -1},\n",
       " '09406': {'name': 'р.Нижняя Тунгуска - с.Ербогачен',\n",
       "  'clean_name': 'Ербогачен',\n",
       "  'gismeteo_id': 4031},\n",
       " '09408': {'name': 'р.Нижняя Тунгуска - пос.Кислокан',\n",
       "  'clean_name': 'Кислокан',\n",
       "  'gismeteo_id': 158142,\n",
       "  'fallback_id': 4015},\n",
       " '09410': {'name': 'р.Нижняя Тунгуска - пгт Тура',\n",
       "  'clean_name': 'Тура',\n",
       "  'gismeteo_id': 4015},\n",
       " '09413': {'name': 'р.Нижняя Тунгуска - пос.Учами',\n",
       "  'clean_name': 'Учами',\n",
       "  'gismeteo_id': 158154,\n",
       "  'fallback_id': -1},\n",
       " '09415': {'name': 'р.Нижняя Тунгуска - факт.Большой Порог',\n",
       "  'clean_name': 'Большой Порог',\n",
       "  'gismeteo_id': -1},\n",
       " '09416': {'name': 'р.Непа - с.Токма',\n",
       "  'clean_name': 'Токма',\n",
       "  'gismeteo_id': 4741},\n",
       " '09417': {'name': 'р.Непа - д.Ика',\n",
       "  'clean_name': 'Ика',\n",
       "  'gismeteo_id': 144983,\n",
       "  'fallback_id': -1},\n",
       " '09419': {'name': 'р.Тембенчи - факт.Тембенчи',\n",
       "  'clean_name': 'Тембенчи',\n",
       "  'gismeteo_id': -1},\n",
       " '09420': {'name': 'р.Таймура - факт.Кербо',\n",
       "  'clean_name': 'Кербо',\n",
       "  'gismeteo_id': 4015},\n",
       " '09421': {'name': 'руч.без названия - факт.Кербо',\n",
       "  'clean_name': 'Кербо',\n",
       "  'gismeteo_id': 4015},\n",
       " '09422': {'name': 'р.Ерачимо - факт.Большой порог',\n",
       "  'clean_name': 'Большой Порог',\n",
       "  'gismeteo_id': -1},\n",
       " '09518': {'name': 'р.Нижняя Тунгуска - с.Непа',\n",
       "  'clean_name': 'Непа',\n",
       "  'gismeteo_id': 144986,\n",
       "  'fallback_id': -1}}"
      ]
     },
     "execution_count": 16,
     "metadata": {},
     "output_type": "execute_result"
    }
   ],
   "source": [
    "def fix_bad_cities():\n",
    "    bad_cities = get_bad_cities()\n",
    "    print(f'Количество постов наблюдения с проблемными населёнными пунктами: {len(bad_cities)} пунктах')\n",
    "    for city in bad_cities:\n",
    "        try:\n",
    "            def get_district(page):\n",
    "                wiki = get_wiki_page(page)\n",
    "                district = wiki.find('a', string=\"Муниципальный район\")\n",
    "                if not district:\n",
    "                    if 'wiki_page' in city.keys() and page != city['wiki_page']:\n",
    "                        #print(f\"? пробуем {city['clean_name']} открыть как {city['wiki_page']}\")\n",
    "                        return get_district(city['wiki_page'])\n",
    "                return district\n",
    "            \n",
    "            city_name = city['clean_name']\n",
    "            district = get_district(city_name)\n",
    "            if not district:\n",
    "                print('- https://ru.wikipedia.org/wiki/' + city_name.replace(' ', '_'))\n",
    "                continue\n",
    "\n",
    "            district = district.parent.parent.find('td').find('a')['title']  # поиск строки с названием района\n",
    "            print(f'+ {city_name} ({district})', end='')\n",
    "            wiki = get_wiki_page(district)\n",
    "            admin_town = wiki.find('th', string=\"Адм. центр\")\n",
    "            if not admin_town:\n",
    "                print(f'\\nАдминистративный центр для {city_name} ({district}) не обнаружен')\n",
    "                continue\n",
    "            admin_town = admin_town.parent.find('a').text\n",
    "            admin_town = admin_town.replace('ё', 'е')  # в БД gismeteo нет букв Ё\n",
    "            print(f' ==> {admin_town}', end='')\n",
    "            admin_town_id = next((city_id for city_id, name in cities.items() if name == admin_town))\n",
    "            admin_town_id = int(admin_town_id)\n",
    "            print(f' ==> {int(admin_town_id)}', end='')\n",
    "            for uid, item in posts.items():\n",
    "                if item['clean_name'] == city_name and item['gismeteo_id'] != admin_town_id \\\n",
    "                    and ('fallback_id' not in item.keys() or item['fallback_id'] != admin_town_id):\n",
    "                    print(f' ==> исправлено! ', end='')\n",
    "                    if item['gismeteo_id'] == -1:\n",
    "                        posts[uid].update({'gismeteo_id': admin_town_id})\n",
    "                        print(f'Сделана замена')\n",
    "                    else:\n",
    "                        posts[uid].update({'fallback_id': admin_town_id})\n",
    "                        print(f'Сделана подмена')\n",
    "                    break\n",
    "            \n",
    "        except requests.exceptions.HTTPError:\n",
    "            # Википедия даёт 404 статус на отсутствующие статьи, игнорируем\n",
    "            print(f'Статья {city} не найдена')\n",
    "            print('- https://ru.wikipedia.org/wiki/' + city)\n",
    "            continue\n",
    "\n",
    "fix_bad_cities()\n",
    "print(f'Число проблемных населённых пунктов после исправления: {len(get_bad_cities())}')\n",
    "posts"
   ]
  },
  {
   "cell_type": "markdown",
   "id": "1eed2142",
   "metadata": {},
   "source": [
    "Некоторые проблемные страницы открывают список страниц с похожими названиями."
   ]
  },
  {
   "cell_type": "markdown",
   "id": "a2c620b1",
   "metadata": {},
   "source": [
    "![Несколько вариантов страниц в Википедии](images/wiki_variants.png)"
   ]
  },
  {
   "cell_type": "markdown",
   "id": "9a9275e7",
   "metadata": {},
   "source": [
    "В таких случаях необходимо вручную задать верную страницу на Википедии."
   ]
  },
  {
   "cell_type": "code",
   "execution_count": 17,
   "id": "d1ce3500",
   "metadata": {},
   "outputs": [
    {
     "name": "stdout",
     "output_type": "stream",
     "text": [
      "Кузьмовка теперь Кузьмовка_(Красноярский_край)\n",
      "Вельмо теперь Вельмо_(посёлок)\n",
      "Тея теперь Тея_(Северо-Енисейский_район)\n",
      "Бурный теперь Бурный_(Эвенкийский_район)\n",
      "Светлана теперь Вельмо_(посёлок)\n",
      "Вельмо теперь Вельмо_(посёлок)\n",
      "Подволошино теперь Подволошино_(Иркутская_область)\n",
      "Преображенка теперь Преображенка_(Катангский район)\n",
      "Учами теперь Учами_(Полигусовский_сельсовет)\n",
      "Большой Порог теперь Бакланиха_(Красноярский_край)\n",
      "Ика теперь Ика_(село)\n",
      "Тембенчи теперь Тура_(Красноярский_край)\n",
      "Большой Порог теперь Бакланиха_(Красноярский_край)\n",
      "Непа теперь Непа_(село)\n"
     ]
    }
   ],
   "source": [
    "for uid, item in posts.items():\n",
    "    new_name = item['clean_name']\n",
    "    # Бакланиха  - ближайший к реке Большой порог населённый пункт\n",
    "    new_name = new_name.replace('Большой Порог', 'Бакланиха_(Красноярский_край)')\n",
    "    new_name = new_name.replace('Бурный', 'Бурный_(Эвенкийский_район)')\n",
    "    new_name = new_name.replace('Вельмо', 'Вельмо_(посёлок)')\n",
    "    new_name = new_name.replace('Кузьмовка', 'Кузьмовка_(Красноярский_край)')\n",
    "    new_name = new_name.replace('Подволошино', 'Подволошино_(Иркутская_область)')\n",
    "    new_name = new_name.replace('Преображенка', 'Преображенка_(Катангский район)')\n",
    "    new_name = new_name.replace('Светлана', 'Вельмо_(посёлок)')\n",
    "    new_name = new_name.replace('Тембенчи', 'Тура_(Красноярский_край)')\n",
    "    new_name = new_name.replace('Тея', 'Тея_(Северо-Енисейский_район)')\n",
    "    new_name = new_name.replace('Учами', 'Учами_(Полигусовский_сельсовет)')\n",
    "    new_name = new_name.replace('Ика', 'Ика_(село)')\n",
    "    new_name = new_name.replace('Непа', 'Непа_(село)')\n",
    "    if item['clean_name'] != new_name:\n",
    "        print(f\"{item['clean_name']} теперь {new_name}\")\n",
    "        posts[uid].update({'wiki_page': new_name})"
   ]
  },
  {
   "cell_type": "markdown",
   "id": "48688b6a",
   "metadata": {},
   "source": [
    "Повторно найдём замену для проблемных городов:"
   ]
  },
  {
   "cell_type": "code",
   "execution_count": 18,
   "id": "faeaf8a8",
   "metadata": {
    "scrolled": false
   },
   "outputs": [
    {
     "name": "stdout",
     "output_type": "stream",
     "text": [
      "Количество постов наблюдения с проблемными населёнными пунктами: 14 пунктах\n",
      "+ Кузьмовка (Эвенкийский район) ==> Тура ==> 4015 ==> исправлено! Сделана подмена\n",
      "+ Вельмо (Северо-Енисейский район) ==> Северо-Енисейский ==> 4006 ==> исправлено! Сделана подмена\n",
      "+ Тея (Северо-Енисейский район) ==> Северо-Енисейский ==> 4006 ==> исправлено! Сделана подмена\n",
      "+ Бурный (Эвенкийский район) ==> Тура ==> 4015 ==> исправлено! Сделана подмена\n",
      "+ Светлана (Северо-Енисейский район) ==> Северо-Енисейский ==> 4006 ==> исправлено! Сделана замена\n",
      "+ Вельмо (Северо-Енисейский район) ==> Северо-Енисейский ==> 4006 ==> исправлено! Сделана подмена\n",
      "+ Подволошино (Катангский район Иркутской области) ==> Ербогачен ==> 4031 ==> исправлено! Сделана подмена\n",
      "+ Преображенка (Катангский район) ==> Ербогачен ==> 4031 ==> исправлено! Сделана подмена\n",
      "+ Учами (Эвенкийский район) ==> Тура ==> 4015 ==> исправлено! Сделана подмена\n",
      "+ Большой Порог (Туруханский район) ==> Туруханск ==> 3975 ==> исправлено! Сделана замена\n",
      "+ Ика (Катангский район) ==> Ербогачен ==> 4031 ==> исправлено! Сделана подмена\n",
      "+ Тембенчи (Эвенкийский район) ==> Тура ==> 4015 ==> исправлено! Сделана замена\n",
      "+ Большой Порог (Туруханский район) ==> Туруханск ==> 3975 ==> исправлено! Сделана замена\n",
      "+ Непа (Катангский район) ==> Ербогачен ==> 4031 ==> исправлено! Сделана подмена\n",
      "Число проблемных населённых пунктов после исправления: 0\n"
     ]
    }
   ],
   "source": [
    "fix_bad_cities()\n",
    "print(f'Число проблемных населённых пунктов после исправления: {len(get_bad_cities())}')"
   ]
  },
  {
   "cell_type": "markdown",
   "id": "2f8b5f83",
   "metadata": {},
   "source": [
    "Теперь для всех постов наблюдения можно получить полные метео-данные за указанный период."
   ]
  },
  {
   "cell_type": "markdown",
   "id": "ff338131",
   "metadata": {},
   "source": [
    "Сохраним словарь с данными о пунктах наблюдений."
   ]
  },
  {
   "cell_type": "code",
   "execution_count": 19,
   "id": "3388609d",
   "metadata": {},
   "outputs": [
    {
     "data": {
      "text/plain": [
       "{'09386': {'name': 'р.Подкаменная Тунгуска - пос.Чемдальск',\n",
       "  'clean_name': 'Чемдальск',\n",
       "  'gismeteo_id': 158155,\n",
       "  'fallback_id': 4015},\n",
       " '09387': {'name': 'р.Подкаменная Тунгуска - с.Ванавара',\n",
       "  'clean_name': 'Ванавара',\n",
       "  'gismeteo_id': 4036},\n",
       " '09388': {'name': 'р.Подкаменная Тунгуска - факт.Усть-Камо',\n",
       "  'clean_name': 'Усть-Камо',\n",
       "  'gismeteo_id': 4015},\n",
       " '09389': {'name': 'р.Подкаменная Тунгуска - с.Байкит',\n",
       "  'clean_name': 'Байкит',\n",
       "  'gismeteo_id': 3995},\n",
       " '09390': {'name': 'р.Подкаменная Тунгуска - факт.Кузьмовка',\n",
       "  'clean_name': 'Кузьмовка',\n",
       "  'gismeteo_id': 158143,\n",
       "  'fallback_id': 4015,\n",
       "  'wiki_page': 'Кузьмовка_(Красноярский_край)'},\n",
       " '09392': {'name': 'р.Чуня - пос.Стрелка Чуня',\n",
       "  'clean_name': 'Стрелка-Чуня',\n",
       "  'gismeteo_id': 158151,\n",
       "  'fallback_id': 4015},\n",
       " '09393': {'name': 'р.Чуня - пос.Муторай',\n",
       "  'clean_name': 'Муторай',\n",
       "  'gismeteo_id': 158146,\n",
       "  'fallback_id': 4015},\n",
       " '09396': {'name': 'руч.Миханский - пос.Вельмо 2-е',\n",
       "  'clean_name': 'Вельмо',\n",
       "  'gismeteo_id': 157875,\n",
       "  'fallback_id': 4006,\n",
       "  'wiki_page': 'Вельмо_(посёлок)'},\n",
       " '09397': {'name': 'р.Тея - пгт Тея',\n",
       "  'clean_name': 'Тея',\n",
       "  'gismeteo_id': 157881,\n",
       "  'fallback_id': 4006,\n",
       "  'wiki_page': 'Тея_(Северо-Енисейский_район)'},\n",
       " '09499': {'name': 'р.Бурная - пос.Бурный',\n",
       "  'clean_name': 'Бурный',\n",
       "  'gismeteo_id': 158140,\n",
       "  'fallback_id': 4015,\n",
       "  'wiki_page': 'Бурный_(Эвенкийский_район)'},\n",
       " '09523': {'name': 'р.Подкаменная Тунгуска - пос.Суломай',\n",
       "  'clean_name': 'Суломай',\n",
       "  'gismeteo_id': 158152,\n",
       "  'fallback_id': 4015},\n",
       " '09560': {'name': 'р.Вельмо - пос.Светлана',\n",
       "  'clean_name': 'Светлана',\n",
       "  'gismeteo_id': 4006,\n",
       "  'wiki_page': 'Вельмо_(посёлок)'},\n",
       " '09568': {'name': 'р.Вельмо - пос.Вельмо 2-е',\n",
       "  'clean_name': 'Вельмо',\n",
       "  'gismeteo_id': 157875,\n",
       "  'fallback_id': 4006,\n",
       "  'wiki_page': 'Вельмо_(посёлок)'},\n",
       " '09403': {'name': 'р.Нижняя Тунгуска - д.Верхнекарелина',\n",
       "  'clean_name': 'Верхнекарелина',\n",
       "  'gismeteo_id': 4743},\n",
       " '09404': {'name': 'р.Нижняя Тунгуска - с.Подволошино',\n",
       "  'clean_name': 'Подволошино',\n",
       "  'gismeteo_id': 144988,\n",
       "  'fallback_id': 4031,\n",
       "  'wiki_page': 'Подволошино_(Иркутская_область)'},\n",
       " '09405': {'name': 'р.Нижняя Тунгуска - с.Преображенка',\n",
       "  'clean_name': 'Преображенка',\n",
       "  'gismeteo_id': 156730,\n",
       "  'fallback_id': 4031,\n",
       "  'wiki_page': 'Преображенка_(Катангский район)'},\n",
       " '09406': {'name': 'р.Нижняя Тунгуска - с.Ербогачен',\n",
       "  'clean_name': 'Ербогачен',\n",
       "  'gismeteo_id': 4031},\n",
       " '09408': {'name': 'р.Нижняя Тунгуска - пос.Кислокан',\n",
       "  'clean_name': 'Кислокан',\n",
       "  'gismeteo_id': 158142,\n",
       "  'fallback_id': 4015},\n",
       " '09410': {'name': 'р.Нижняя Тунгуска - пгт Тура',\n",
       "  'clean_name': 'Тура',\n",
       "  'gismeteo_id': 4015},\n",
       " '09413': {'name': 'р.Нижняя Тунгуска - пос.Учами',\n",
       "  'clean_name': 'Учами',\n",
       "  'gismeteo_id': 158154,\n",
       "  'fallback_id': 4015,\n",
       "  'wiki_page': 'Учами_(Полигусовский_сельсовет)'},\n",
       " '09415': {'name': 'р.Нижняя Тунгуска - факт.Большой Порог',\n",
       "  'clean_name': 'Большой Порог',\n",
       "  'gismeteo_id': 3975,\n",
       "  'wiki_page': 'Бакланиха_(Красноярский_край)'},\n",
       " '09416': {'name': 'р.Непа - с.Токма',\n",
       "  'clean_name': 'Токма',\n",
       "  'gismeteo_id': 4741},\n",
       " '09417': {'name': 'р.Непа - д.Ика',\n",
       "  'clean_name': 'Ика',\n",
       "  'gismeteo_id': 144983,\n",
       "  'fallback_id': 4031,\n",
       "  'wiki_page': 'Ика_(село)'},\n",
       " '09419': {'name': 'р.Тембенчи - факт.Тембенчи',\n",
       "  'clean_name': 'Тембенчи',\n",
       "  'gismeteo_id': 4015,\n",
       "  'wiki_page': 'Тура_(Красноярский_край)'},\n",
       " '09420': {'name': 'р.Таймура - факт.Кербо',\n",
       "  'clean_name': 'Кербо',\n",
       "  'gismeteo_id': 4015},\n",
       " '09421': {'name': 'руч.без названия - факт.Кербо',\n",
       "  'clean_name': 'Кербо',\n",
       "  'gismeteo_id': 4015},\n",
       " '09422': {'name': 'р.Ерачимо - факт.Большой порог',\n",
       "  'clean_name': 'Большой Порог',\n",
       "  'gismeteo_id': 3975,\n",
       "  'wiki_page': 'Бакланиха_(Красноярский_край)'},\n",
       " '09518': {'name': 'р.Нижняя Тунгуска - с.Непа',\n",
       "  'clean_name': 'Непа',\n",
       "  'gismeteo_id': 144986,\n",
       "  'fallback_id': 4031,\n",
       "  'wiki_page': 'Непа_(село)'}}"
      ]
     },
     "execution_count": 19,
     "metadata": {},
     "output_type": "execute_result"
    }
   ],
   "source": [
    "write_data(DATA_POSTS_FULL_RAW, data=posts, is_raw=True)\n",
    "posts"
   ]
  },
  {
   "cell_type": "markdown",
   "id": "94b98e77",
   "metadata": {},
   "source": [
    "## Получение и сохранение метео-данных"
   ]
  },
  {
   "cell_type": "markdown",
   "id": "198d538e",
   "metadata": {},
   "source": [
    "Напишем функцию, которая запрашивает и обрабатывает html-страницу с метео-данными:"
   ]
  },
  {
   "cell_type": "code",
   "execution_count": 20,
   "id": "b5a9e990",
   "metadata": {},
   "outputs": [
    {
     "name": "stdout",
     "output_type": "stream",
     "text": [
      "[31, -17, 745, 'sunc', None, 'ЮЗ', 2]\n"
     ]
    }
   ],
   "source": [
    "'''            url: https://www.gismeteo.ru/diary/4036/2008/1/\n",
    "columns: [0]   [1]   [2]   [3]     [4]    [5]   [6]   [7]   [8]    [9]     [10]\n",
    "row [0]      |             день               |            вечер               |\n",
    "row [1] число|темп.|давл.|облач.|явления|ветер|темп.|давл.|облач.|явления|ветер|\n",
    "       ------------------------------------------------------------------------|\n",
    "row [2]   1  | -15 | 732 | img  |  img  |З 2мс| -14 | 733 | img  |  img  |З 2мс|\n",
    "      -------------------------------------------------------------------------|\n",
    "На некоторые дни нет метео-данных, вместо них - прочерки\n",
    "Пример - 19 числа на https://www.gismeteo.ru/diary/4015/2010/12/\n",
    "''' \n",
    "def process_row(row):\n",
    "    cells = row.find_all('td')\n",
    "    \n",
    "    # day, temperature, pressure\n",
    "    def get_cell_int(cell_id):\n",
    "        if cell_id > 10:\n",
    "            return None\n",
    "        val = cells[cell_id].text\n",
    "        if val == '−' or len(val) == 0:\n",
    "            return get_cell_int(cell_id + 5)  # если за день нет информации, то берём её за вечер\n",
    "        #print(val)\n",
    "        return int(val)\n",
    "        \n",
    "    day = get_cell_int(0)\n",
    "    temperature = get_cell_int(1)\n",
    "    pressure = get_cell_int(2)\n",
    "    \n",
    "    # cloud, weather\n",
    "    def get_cell_img(cell_id):\n",
    "        if cell_id > 10:\n",
    "            return None\n",
    "        imgs = cells[cell_id].find_all('img')\n",
    "        if len(imgs) > 0:\n",
    "            if len(imgs) > 2:  # обычно в ячейке находятся 2 картинки - цветная и ч/б\n",
    "                raise Exception(f\"больше, чем 2 картинки\")\n",
    "            img = imgs[0]['src']  # //st6.gismeteo.ru/static/diary/img/dull.png\n",
    "            if img.endswith('still.gif'):\n",
    "                return get_cell_img(cell_id + 5)\n",
    "            return re.search(r\"diary/img/(\\w+).png\", img).group(1)\n",
    "        return None\n",
    "    \n",
    "    cloud = get_cell_img(3)\n",
    "    weather = get_cell_img(4)\n",
    "    \n",
    "    # wind info\n",
    "    # Чаще всего текст в ячейке с погодой представлен как\n",
    "    # направление_ветра скорость м/с\n",
    "    # Штиль означается одной буквой Ш\n",
    "    # в редких случаях пишется лишь скорость, пример - 27 число https://www.gismeteo.ru/diary/158155/2015/9/\n",
    "    def get_wind_info(cell_id):\n",
    "        if cells[cell_id].text == 'Ш':  # штиль\n",
    "            return 'Ш', 0\n",
    "        elif len(cells[cell_id].text) == 0:\n",
    "            return get_wind_info(cell_id + 5)\n",
    "        else:\n",
    "            wind_info = re.search(r\"(\\w+) (\\d+)\", cells[cell_id].text)\n",
    "            if wind_info:\n",
    "                return wind_info.group(1), int(wind_info.group(2))\n",
    "            wind_info = re.search(r\"(\\d+)\", cells[cell_id].text)\n",
    "            return 'Ш', int(wind_info.group(1))\n",
    "            \n",
    "    wind_dir, wind_spd = get_wind_info(5)\n",
    "\n",
    "    # в реальных долгосрочных прогнозах погоды на весь день даётся 1 прогноз, без разделения по часам или времени суток,\n",
    "    # поэтому не будем учитывать вечернюю погоду\n",
    "    \n",
    "    return [day, temperature, pressure, cloud, weather, wind_dir, wind_spd]\n",
    "    #return {'day': day, 'temperature': temperature, 'pressure': pressure, 'cloud': cloud, \n",
    "    #        'weather': weather, 'day_wind_spd': day_wind_spd, 'day_wind_dir': day_wind_dir}\n",
    "    #print(type(day), type(temperature), type(pressure), type(cloud), type(weather), type(day_wind_spd), type(day_wind_dir))\n",
    "\n",
    "table = get_gismeteo_table(4036, 2008, 1)\n",
    "data_rows = table.find_all('tr')\n",
    "data_rows = data_rows[2:]  # убрать шапку таблицы\n",
    "result = []\n",
    "for row in data_rows:\n",
    "    dict_item = process_row(row)\n",
    "    result.append(dict_item)\n",
    "print(dict_item)"
   ]
  },
  {
   "cell_type": "markdown",
   "id": "9f93ce15",
   "metadata": {},
   "source": [
    "Теперь сделаем функцию, которая будет сохранять помесячно метео-данные в формате csv:"
   ]
  },
  {
   "cell_type": "code",
   "execution_count": 21,
   "id": "6a944561",
   "metadata": {},
   "outputs": [
    {
     "name": "stdout",
     "output_type": "stream",
     "text": [
      "р.Подкаменная Тунгуска - пос.Чемдальск - год 2008… 1…2…3…4…5…6…7…8…9…10…11…12…\n",
      "р.Подкаменная Тунгуска - пос.Чемдальск - год 2009… 1…2…3…4…5…6…7…8…9…10…11…12…\n",
      "р.Подкаменная Тунгуска - пос.Чемдальск - год 2010… 1…2…3…4…5…6…7…8…9…10…11…12…\n",
      "р.Подкаменная Тунгуска - пос.Чемдальск - год 2011… 1…2…3…4…5…6…7…8…9…10…11…12…\n",
      "р.Подкаменная Тунгуска - пос.Чемдальск - год 2012… 1…2…3…4…5…6…7…8…9…10…11…12…\n",
      "р.Подкаменная Тунгуска - пос.Чемдальск - год 2013… 1…2…3…4…5…6…7…8…9…10…11…12…\n",
      "р.Подкаменная Тунгуска - пос.Чемдальск - год 2014… 1…2…3…4…5…6…7…8…9…10…11…12…\n",
      "р.Подкаменная Тунгуска - пос.Чемдальск - год 2015… 1…2…3…4…5…6…7…8…9…10…11…12…\n",
      "р.Подкаменная Тунгуска - пос.Чемдальск - год 2016… 1…2…3…4…5…6…7…8…9…10…11…12…\n",
      "р.Подкаменная Тунгуска - пос.Чемдальск - год 2017… 1…2…3…4…5…6…7…8…9…10…11…12…\n",
      "р.Подкаменная Тунгуска - пос.Чемдальск - год 2018… 1…2…3…4…5…6…7…8…9…10…11…12…\n",
      "р.Подкаменная Тунгуска - с.Ванавара - год 2008… 1…2…3…4…5…6…7…8…9…10…11…12…\n",
      "р.Подкаменная Тунгуска - с.Ванавара - год 2009… 1…2…3…4…5…6…7…8…9…10…11…12…\n",
      "р.Подкаменная Тунгуска - с.Ванавара - год 2010… 1…2…3…4…5…6…7…8…9…10…11…12…\n",
      "р.Подкаменная Тунгуска - с.Ванавара - год 2011… 1…2…3…4…5…6…7…8…9…10…11…12…\n",
      "р.Подкаменная Тунгуска - с.Ванавара - год 2012… 1…2…3…4…5…6…7…8…9…10…11…12…\n",
      "р.Подкаменная Тунгуска - с.Ванавара - год 2013… 1…2…3…4…5…6…7…8…9…10…11…12…\n",
      "р.Подкаменная Тунгуска - с.Ванавара - год 2014… 1…2…3…4…5…6…7…8…9…10…11…12…\n",
      "р.Подкаменная Тунгуска - с.Ванавара - год 2015… 1…2…3…4…5…6…7…8…9…10…11…12…\n",
      "р.Подкаменная Тунгуска - с.Ванавара - год 2016… 1…2…3…4…5…6…7…8…9…10…11…12…\n",
      "р.Подкаменная Тунгуска - с.Ванавара - год 2017… 1…2…3…4…5…6…7…8…9…10…11…12…\n",
      "р.Подкаменная Тунгуска - с.Ванавара - год 2018… 1…2…3…4…5…6…7…8…9…10…11…12…\n",
      "р.Подкаменная Тунгуска - факт.Усть-Камо - год 2008… 1…2…3…4…5…6…7…8…9…10…11…12…\n",
      "р.Подкаменная Тунгуска - факт.Усть-Камо - год 2009… 1…2…3…4…5…6…7…8…9…10…11…12…\n",
      "р.Подкаменная Тунгуска - факт.Усть-Камо - год 2010… 1…2…3…4…5…6…7…8…9…10…11…12…\n",
      "р.Подкаменная Тунгуска - факт.Усть-Камо - год 2011… 1…2…3…4…5…6…7…8…9…10…11…12…\n",
      "р.Подкаменная Тунгуска - факт.Усть-Камо - год 2012… 1…2…3…4…5…6…7…8…9…10…11…12…\n",
      "р.Подкаменная Тунгуска - факт.Усть-Камо - год 2013… 1…2…3…4…5…6…7…8…9…10…11…12…\n",
      "р.Подкаменная Тунгуска - факт.Усть-Камо - год 2014… 1…2…3…4…5…6…7…8…9…10…11…12…\n",
      "р.Подкаменная Тунгуска - факт.Усть-Камо - год 2015… 1…2…3…4…5…6…7…8…9…10…11…12…\n",
      "р.Подкаменная Тунгуска - факт.Усть-Камо - год 2016… 1…2…3…4…5…6…7…8…9…10…11…12…\n",
      "р.Подкаменная Тунгуска - факт.Усть-Камо - год 2017… 1…2…3…4…5…6…7…8…9…10…11…12…\n",
      "р.Подкаменная Тунгуска - факт.Усть-Камо - год 2018… 1…2…3…4…5…6…7…8…9…10…11…12…\n",
      "р.Подкаменная Тунгуска - с.Байкит - год 2008… 1…2…3…4…5…6…7…8…9…10…11…12…\n",
      "р.Подкаменная Тунгуска - с.Байкит - год 2009… 1…2…3…4…5…6…7…8…9…10…11…12…\n",
      "р.Подкаменная Тунгуска - с.Байкит - год 2010… 1…2…3…4…5…6…7…8…9…10…11…12…\n",
      "р.Подкаменная Тунгуска - с.Байкит - год 2011… 1…2…3…4…5…6…7…8…9…10…11…12…\n",
      "р.Подкаменная Тунгуска - с.Байкит - год 2012… 1…2…3…4…5…6…7…8…9…10…11…12…\n",
      "р.Подкаменная Тунгуска - с.Байкит - год 2013… 1…2…3…4…5…6…7…8…9…10…11…12…\n",
      "р.Подкаменная Тунгуска - с.Байкит - год 2014… 1…2…3…4…5…6…7…8…9…10…11…12…\n",
      "р.Подкаменная Тунгуска - с.Байкит - год 2015… 1…2…3…4…5…6…7…8…9…10…11…12…\n",
      "р.Подкаменная Тунгуска - с.Байкит - год 2016… 1…2…3…4…5…6…7…8…9…10…11…12…\n",
      "р.Подкаменная Тунгуска - с.Байкит - год 2017… 1…2…3…4…5…6…7…8…9…10…11…12…\n",
      "р.Подкаменная Тунгуска - с.Байкит - год 2018… 1…2…3…4…5…6…7…8…9…10…11…12…\n",
      "р.Подкаменная Тунгуска - факт.Кузьмовка - год 2008… 1…2…3…4…5…6…7…8…9…10…11…12…\n",
      "р.Подкаменная Тунгуска - факт.Кузьмовка - год 2009… 1…2…3…4…5…6…7…8…9…10…11…12…\n",
      "р.Подкаменная Тунгуска - факт.Кузьмовка - год 2010… 1…2…3…4…5…6…7…8…9…10…11…12…\n",
      "р.Подкаменная Тунгуска - факт.Кузьмовка - год 2011… 1…2…3…4…5…6…7…8…9…10…11…12…\n",
      "р.Подкаменная Тунгуска - факт.Кузьмовка - год 2012… 1…2…3…4…5…6…7…8…9…10…11…12…\n",
      "р.Подкаменная Тунгуска - факт.Кузьмовка - год 2013… 1…2…3…4…5…6…7…8…9…10…11…12…\n",
      "р.Подкаменная Тунгуска - факт.Кузьмовка - год 2014… 1…2…3…4…5…6…7…8…9…10…11…12…\n",
      "р.Подкаменная Тунгуска - факт.Кузьмовка - год 2015… 1…2…3…4…5…6…7…8…9…10…11…12…\n",
      "р.Подкаменная Тунгуска - факт.Кузьмовка - год 2016… 1…2…3…4…5…6…7…8…9…10…11…12…\n",
      "р.Подкаменная Тунгуска - факт.Кузьмовка - год 2017… 1…2…3…4…5…6…7…8…9…10…11…12…\n",
      "р.Подкаменная Тунгуска - факт.Кузьмовка - год 2018… 1…2…3…4…5…6…7…8…9…10…11…12…\n",
      "р.Чуня - пос.Стрелка Чуня - год 2008… 1…2…3…4…5…6…7…8…9…10…11…12…\n",
      "р.Чуня - пос.Стрелка Чуня - год 2009… 1…2…3…4…5…6…7…8…9…10…11…12…\n",
      "р.Чуня - пос.Стрелка Чуня - год 2010… 1…2…3…4…5…6…7…8…9…10…11…12…\n",
      "р.Чуня - пос.Стрелка Чуня - год 2011… 1…2…3…4…5…6…7…8…9…10…11…12…\n",
      "р.Чуня - пос.Стрелка Чуня - год 2012… 1…2…3…4…5…6…7…8…9…10…11…12…\n",
      "р.Чуня - пос.Стрелка Чуня - год 2013… 1…2…3…4…5…6…7…8…9…10…11…12…\n",
      "р.Чуня - пос.Стрелка Чуня - год 2014… 1…2…3…4…5…6…7…8…9…10…11…12…\n",
      "р.Чуня - пос.Стрелка Чуня - год 2015… 1…2…3…4…5…6…7…8…9…10…11…12…\n",
      "р.Чуня - пос.Стрелка Чуня - год 2016… 1…2…3…4…5…6…7…8…9…10…11…12…\n",
      "р.Чуня - пос.Стрелка Чуня - год 2017… 1…2…3…4…5…6…7…8…9…10…11…12…\n",
      "р.Чуня - пос.Стрелка Чуня - год 2018… 1…2…3…4…5…6…7…8…9…10…11…12…\n",
      "р.Чуня - пос.Муторай - год 2008… 1…2…3…4…5…6…7…8…9…10…11…12…\n",
      "р.Чуня - пос.Муторай - год 2009… 1…2…3…4…5…6…7…8…9…10…11…12…\n",
      "р.Чуня - пос.Муторай - год 2010… 1…2…3…4…5…6…7…8…9…10…11…12…\n",
      "р.Чуня - пос.Муторай - год 2011… 1…2…3…4…5…6…7…8…9…10…11…12…\n",
      "р.Чуня - пос.Муторай - год 2012… 1…2…3…4…5…6…7…8…9…10…11…12…\n",
      "р.Чуня - пос.Муторай - год 2013… 1…2…3…4…5…6…7…8…9…10…11…12…\n",
      "р.Чуня - пос.Муторай - год 2014… 1…2…3…4…5…6…7…8…9…10…11…12…\n",
      "р.Чуня - пос.Муторай - год 2015… 1…2…3…4…5…6…7…8…9…10…11…12…\n",
      "р.Чуня - пос.Муторай - год 2016… 1…2…3…4…5…6…7…8…9…10…11…12…\n",
      "р.Чуня - пос.Муторай - год 2017… 1…2…3…4…5…6…7…8…9…10…11…12…\n",
      "р.Чуня - пос.Муторай - год 2018… 1…2…3…4…5…6…7…8…9…10…11…12…\n",
      "руч.Миханский - пос.Вельмо 2-е - год 2008… 1…2…3…4…5…6…7…8…9…10…11…12…\n",
      "руч.Миханский - пос.Вельмо 2-е - год 2009… 1…2…3…4…5…6…7…8…9…10…11…12…\n",
      "руч.Миханский - пос.Вельмо 2-е - год 2010… 1…2…3…4…5…6…7…8…9…10…11…12…\n",
      "руч.Миханский - пос.Вельмо 2-е - год 2011… 1…2…3…4…5…6…7…8…9…10…11…12…\n",
      "руч.Миханский - пос.Вельмо 2-е - год 2012… 1…2…3…4…5…6…7…8…9…10…11…12…\n",
      "руч.Миханский - пос.Вельмо 2-е - год 2013… 1…2…3…4…5…6…7…8…9…10…11…12…\n",
      "руч.Миханский - пос.Вельмо 2-е - год 2014… 1…2…3…4…5…6…7…8…9…10…11…12…\n",
      "руч.Миханский - пос.Вельмо 2-е - год 2015… 1…2…3…4…5…6…7…8…9…10…11…12…\n",
      "руч.Миханский - пос.Вельмо 2-е - год 2016… 1…2…3…4…5…6…7…8…9…10…11…12…\n",
      "руч.Миханский - пос.Вельмо 2-е - год 2017… 1…2…3…4…5…6…7…8…9…10…11…12…\n",
      "руч.Миханский - пос.Вельмо 2-е - год 2018… 1…2…3…4…5…6…7…8…9…10…11…12…\n",
      "р.Тея - пгт Тея - год 2008… 1…2…3…4…5…6…7…8…9…10…11…12…\n",
      "р.Тея - пгт Тея - год 2009… 1…2…3…4…5…6…7…8…9…10…11…12…\n",
      "р.Тея - пгт Тея - год 2010… 1…2…3…4…5…6…7…8…9…10…11…12…\n",
      "р.Тея - пгт Тея - год 2011… 1…2…3…4…5…6…7…8…9…10…11…12…\n",
      "р.Тея - пгт Тея - год 2012… 1…2…3…4…5…6…7…8…9…10…11…12…\n",
      "р.Тея - пгт Тея - год 2013… 1…2…3…4…5…6…7…8…9…10…11…12…\n",
      "р.Тея - пгт Тея - год 2014… 1…2…3…4…5…6…7…8…9…10…11…12…\n",
      "р.Тея - пгт Тея - год 2015… 1…2…3…4…5…6…7…8…9…10…11…12…\n",
      "р.Тея - пгт Тея - год 2016… 1…2…3…4…5…6…7…8…9…10…11…12…\n",
      "р.Тея - пгт Тея - год 2017… 1…2…3…4…5…6…7…8…9…10…11…12…\n",
      "р.Тея - пгт Тея - год 2018… 1…2…3…4…5…6…7…8…9…10…11…12…\n",
      "р.Бурная - пос.Бурный - год 2008… 1…2…3…4…5…6…7…8…9…10…11…12…\n",
      "р.Бурная - пос.Бурный - год 2009… 1…2…3…4…5…6…7…8…9…10…11…12…\n",
      "р.Бурная - пос.Бурный - год 2010… 1…2…3…4…5…6…7…8…9…10…11…12…\n",
      "р.Бурная - пос.Бурный - год 2011… 1…2…3…4…5…6…7…8…9…10…11…12…\n",
      "р.Бурная - пос.Бурный - год 2012… 1…2…3…4…5…6…7…8…9…10…11…12…\n",
      "р.Бурная - пос.Бурный - год 2013… 1…2…3…4…5…6…7…8…9…10…11…12…\n",
      "р.Бурная - пос.Бурный - год 2014… 1…2…3…4…5…6…7…8…9…10…11…12…\n",
      "р.Бурная - пос.Бурный - год 2015… 1…2…3…4…5…6…7…8…9…10…11…12…\n",
      "р.Бурная - пос.Бурный - год 2016… 1…2…3…4…5…6…7…8…9…10…11…12…\n",
      "р.Бурная - пос.Бурный - год 2017… 1…2…3…4…5…6…7…8…9…10…11…12…\n",
      "р.Бурная - пос.Бурный - год 2018… 1…2…3…4…5…6…7…8…9…10…11…12…\n",
      "р.Подкаменная Тунгуска - пос.Суломай - год 2008… 1…2…3…4…5…6…7…8…9…10…11…12…\n",
      "р.Подкаменная Тунгуска - пос.Суломай - год 2009… 1…2…3…4…5…6…7…8…9…10…11…12…\n",
      "р.Подкаменная Тунгуска - пос.Суломай - год 2010… 1…2…3…4…5…6…7…8…9…10…11…12…\n",
      "р.Подкаменная Тунгуска - пос.Суломай - год 2011… 1…2…3…4…5…6…7…8…9…10…11…12…\n",
      "р.Подкаменная Тунгуска - пос.Суломай - год 2012… 1…2…3…4…5…6…7…8…9…10…11…12…\n"
     ]
    },
    {
     "name": "stdout",
     "output_type": "stream",
     "text": [
      "р.Подкаменная Тунгуска - пос.Суломай - год 2013… 1…2…3…4…5…6…7…8…9…10…11…12…\n",
      "р.Подкаменная Тунгуска - пос.Суломай - год 2014… 1…2…3…4…5…6…7…8…9…10…11…12…\n",
      "р.Подкаменная Тунгуска - пос.Суломай - год 2015… 1…2…3…4…5…6…7…8…9…10…11…12…\n",
      "р.Подкаменная Тунгуска - пос.Суломай - год 2016… 1…2…3…4…5…6…7…8…9…10…11…12…\n",
      "р.Подкаменная Тунгуска - пос.Суломай - год 2017… 1…2…3…4…5…6…7…8…9…10…11…12…\n",
      "р.Подкаменная Тунгуска - пос.Суломай - год 2018… 1…2…3…4…5…6…7…8…9…10…11…12…\n",
      "р.Вельмо - пос.Светлана - год 2008… 1…2…3…4…5…6…7…8…9…10…11…12…\n",
      "р.Вельмо - пос.Светлана - год 2009… 1…2…3…4…5…6…7…8…9…10…11…12…\n",
      "р.Вельмо - пос.Светлана - год 2010… 1…2…3…4…5…6…7…8…9…10…11…12…\n",
      "р.Вельмо - пос.Светлана - год 2011… 1…2…3…4…5…6…7…8…9…10…11…12…\n",
      "р.Вельмо - пос.Светлана - год 2012… 1…2…3…4…5…6…7…8…9…10…11…12…\n",
      "р.Вельмо - пос.Светлана - год 2013… 1…2…3…4…5…6…7…8…9…10…11…12…\n",
      "р.Вельмо - пос.Светлана - год 2014… 1…2…3…4…5…6…7…8…9…10…11…12…\n",
      "р.Вельмо - пос.Светлана - год 2015… 1…2…3…4…5…6…7…8…9…10…11…12…\n",
      "р.Вельмо - пос.Светлана - год 2016… 1…2…3…4…5…6…7…8…9…10…11…12…\n",
      "р.Вельмо - пос.Светлана - год 2017… 1…2…3…4…5…6…7…8…9…10…11…12…\n",
      "р.Вельмо - пос.Светлана - год 2018… 1…2…3…4…5…6…7…8…9…10…11…12…\n",
      "р.Вельмо - пос.Вельмо 2-е - год 2008… 1…2…3…4…5…6…7…8…9…10…11…12…\n",
      "р.Вельмо - пос.Вельмо 2-е - год 2009… 1…2…3…4…5…6…7…8…9…10…11…12…\n",
      "р.Вельмо - пос.Вельмо 2-е - год 2010… 1…2…3…4…5…6…7…8…9…10…11…12…\n",
      "р.Вельмо - пос.Вельмо 2-е - год 2011… 1…2…3…4…5…6…7…8…9…10…11…12…\n",
      "р.Вельмо - пос.Вельмо 2-е - год 2012… 1…2…3…4…5…6…7…8…9…10…11…12…\n",
      "р.Вельмо - пос.Вельмо 2-е - год 2013… 1…2…3…4…5…6…7…8…9…10…11…12…\n",
      "р.Вельмо - пос.Вельмо 2-е - год 2014… 1…2…3…4…5…6…7…8…9…10…11…12…\n",
      "р.Вельмо - пос.Вельмо 2-е - год 2015… 1…2…3…4…5…6…7…8…9…10…11…12…\n",
      "р.Вельмо - пос.Вельмо 2-е - год 2016… 1…2…3…4…5…6…7…8…9…10…11…12…\n",
      "р.Вельмо - пос.Вельмо 2-е - год 2017… 1…2…3…4…5…6…7…8…9…10…11…12…\n",
      "р.Вельмо - пос.Вельмо 2-е - год 2018… 1…2…3…4…5…6…7…8…9…10…11…12…\n",
      "р.Нижняя Тунгуска - д.Верхнекарелина - год 2008… 1…2…3…4…5…6…7…8…9…10…11…12…\n",
      "р.Нижняя Тунгуска - д.Верхнекарелина - год 2009… 1…2…3…4…5…6…7…8…9…10…11…12…\n",
      "р.Нижняя Тунгуска - д.Верхнекарелина - год 2010… 1…2…3…4…5…6…7…8…9…10…11…12…\n",
      "р.Нижняя Тунгуска - д.Верхнекарелина - год 2011… 1…2…3…4…5…6…7…8…9…10…11…12…\n",
      "р.Нижняя Тунгуска - д.Верхнекарелина - год 2012… 1…2…3…4…5…6…7…8…9…10…11…12…\n",
      "р.Нижняя Тунгуска - д.Верхнекарелина - год 2013… 1…2…3…4…5…6…7…8…9…10…11…12…\n",
      "р.Нижняя Тунгуска - д.Верхнекарелина - год 2014… 1…2…3…4…5…6…7…8…9…10…11…12…\n",
      "р.Нижняя Тунгуска - д.Верхнекарелина - год 2015… 1…2…3…4…5…6…7…8…9…10…11…12…\n",
      "р.Нижняя Тунгуска - д.Верхнекарелина - год 2016… 1…2…3…4…5…6…7…8…9…10…11…12…\n",
      "р.Нижняя Тунгуска - д.Верхнекарелина - год 2017… 1…2…3…4…5…6…7…8…9…10…11…12…\n",
      "р.Нижняя Тунгуска - д.Верхнекарелина - год 2018… 1…2…3…4…5…6…7…8…9…10…11…12…\n",
      "р.Нижняя Тунгуска - с.Подволошино - год 2008… 1…2…3…4…5…6…7…8…9…10…11…12…\n",
      "р.Нижняя Тунгуска - с.Подволошино - год 2009… 1…2…3…4…5…6…7…8…9…10…11…12…\n",
      "р.Нижняя Тунгуска - с.Подволошино - год 2010… 1…2…3…4…5…6…7…8…9…10…11…12…\n",
      "р.Нижняя Тунгуска - с.Подволошино - год 2011… 1…2…3…4…5…6…7…8…9…10…11…12…\n",
      "р.Нижняя Тунгуска - с.Подволошино - год 2012… 1…2…3…4…5…6…7…8…9…10…11…12…\n",
      "р.Нижняя Тунгуска - с.Подволошино - год 2013… 1…2…3…4…5…6…7…8…9…10…11…12…\n",
      "р.Нижняя Тунгуска - с.Подволошино - год 2014… 1…2…3…4…5…6…7…8…9…10…11…12…\n",
      "р.Нижняя Тунгуска - с.Подволошино - год 2015… 1…2…3…4…5…6…7…8…9…10…11…12…\n",
      "р.Нижняя Тунгуска - с.Подволошино - год 2016… 1…2…3…4…5…6…7…8…9…10…11…12…\n",
      "р.Нижняя Тунгуска - с.Подволошино - год 2017… 1…2…3…4…5…6…7…8…9…10…11…12…\n",
      "р.Нижняя Тунгуска - с.Подволошино - год 2018… 1…2…3…4…5…6…7…8…9…10…11…12…\n",
      "р.Нижняя Тунгуска - с.Преображенка - год 2008… 1…2…3…4…5…6…7…8…9…10…11…12…\n",
      "р.Нижняя Тунгуска - с.Преображенка - год 2009… 1…2…3…4…5…6…7…8…9…10…11…12…\n",
      "р.Нижняя Тунгуска - с.Преображенка - год 2010… 1…2…3…4…5…6…7…8…9…10…11…12…\n",
      "р.Нижняя Тунгуска - с.Преображенка - год 2011… 1…2…3…4…5…6…7…8…9…10…11…12…\n",
      "р.Нижняя Тунгуска - с.Преображенка - год 2012… 1…2…3…4…5…6…7…8…9…10…11…12…\n",
      "р.Нижняя Тунгуска - с.Преображенка - год 2013… 1…2…3…4…5…6…7…8…9…10…11…12…\n",
      "р.Нижняя Тунгуска - с.Преображенка - год 2014… 1…2…3…4…5…6…7…8…9…10…11…12…\n",
      "р.Нижняя Тунгуска - с.Преображенка - год 2015… 1…2…3…4…5…6…7…8…9…10…11…12…\n",
      "р.Нижняя Тунгуска - с.Преображенка - год 2016… 1…2…3…4…5…6…7…8…9…10…11…12…\n",
      "р.Нижняя Тунгуска - с.Преображенка - год 2017… 1…2…3…4…5…6…7…8…9…10…11…12…\n",
      "р.Нижняя Тунгуска - с.Преображенка - год 2018… 1…2…3…4…5…6…7…8…9…10…11…12…\n",
      "р.Нижняя Тунгуска - с.Ербогачен - год 2008… 1…2…3…4…5…6…7…8…9…10…11…12…\n",
      "р.Нижняя Тунгуска - с.Ербогачен - год 2009… 1…2…3…4…5…6…7…8…9…10…11…12…\n",
      "р.Нижняя Тунгуска - с.Ербогачен - год 2010… 1…2…3…4…5…6…7…8…9…10…11…12…\n",
      "р.Нижняя Тунгуска - с.Ербогачен - год 2011… 1…2…3…4…5…6…7…8…9…10…11…12…\n",
      "р.Нижняя Тунгуска - с.Ербогачен - год 2012… 1…2…3…4…5…6…7…8…9…10…11…12…\n",
      "р.Нижняя Тунгуска - с.Ербогачен - год 2013… 1…2…3…4…5…6…7…8…9…10…11…12…\n",
      "р.Нижняя Тунгуска - с.Ербогачен - год 2014… 1…2…3…4…5…6…7…8…9…10…11…12…\n",
      "р.Нижняя Тунгуска - с.Ербогачен - год 2015… 1…2…3…4…5…6…7…8…9…10…11…12…\n",
      "р.Нижняя Тунгуска - с.Ербогачен - год 2016… 1…2…3…4…5…6…7…8…9…10…11…12…\n",
      "р.Нижняя Тунгуска - с.Ербогачен - год 2017… 1…2…3…4…5…6…7…8…9…10…11…12…\n",
      "р.Нижняя Тунгуска - с.Ербогачен - год 2018… 1…2…3…4…5…6…7…8…9…10…11…12…\n",
      "р.Нижняя Тунгуска - пос.Кислокан - год 2008… 1…2…3…4…5…6…7…8…9…10…11…12…\n",
      "р.Нижняя Тунгуска - пос.Кислокан - год 2009… 1…2…3…4…5…6…7…8…9…10…11…12…\n",
      "р.Нижняя Тунгуска - пос.Кислокан - год 2010… 1…2…3…4…5…6…7…8…9…10…11…12…\n",
      "р.Нижняя Тунгуска - пос.Кислокан - год 2011… 1…2…3…4…5…6…7…8…9…10…11…12…\n",
      "р.Нижняя Тунгуска - пос.Кислокан - год 2012… 1…2…3…4…5…6…7…8…9…10…11…12…\n",
      "р.Нижняя Тунгуска - пос.Кислокан - год 2013… 1…2…3…4…5…6…7…8…9…10…11…12…\n",
      "р.Нижняя Тунгуска - пос.Кислокан - год 2014… 1…2…3…4…5…6…7…8…9…10…11…12…\n",
      "р.Нижняя Тунгуска - пос.Кислокан - год 2015… 1…2…3…4…5…6…7…8…9…10…11…12…\n",
      "р.Нижняя Тунгуска - пос.Кислокан - год 2016… 1…2…3…4…5…6…7…8…9…10…11…12…\n",
      "р.Нижняя Тунгуска - пос.Кислокан - год 2017… 1…2…3…4…5…6…7…8…9…10…11…12…\n",
      "р.Нижняя Тунгуска - пос.Кислокан - год 2018… 1…2…3…4…5…6…7…8…9…10…11…12…\n",
      "р.Нижняя Тунгуска - пгт Тура - год 2008… 1…2…3…4…5…6…7…8…9…10…11…12…\n",
      "р.Нижняя Тунгуска - пгт Тура - год 2009… 1…2…3…4…5…6…7…8…9…10…11…12…\n",
      "р.Нижняя Тунгуска - пгт Тура - год 2010… 1…2…3…4…5…6…7…8…9…10…11…12…\n",
      "р.Нижняя Тунгуска - пгт Тура - год 2011… 1…2…3…4…5…6…7…8…9…10…11…12…\n",
      "р.Нижняя Тунгуска - пгт Тура - год 2012… 1…2…3…4…5…6…7…8…9…10…11…12…\n",
      "р.Нижняя Тунгуска - пгт Тура - год 2013… 1…2…3…4…5…6…7…8…9…10…11…12…\n",
      "р.Нижняя Тунгуска - пгт Тура - год 2014… 1…2…3…4…5…6…7…8…9…10…11…12…\n",
      "р.Нижняя Тунгуска - пгт Тура - год 2015… 1…2…3…4…5…6…7…8…9…10…11…12…\n",
      "р.Нижняя Тунгуска - пгт Тура - год 2016… 1…2…3…4…5…6…7…8…9…10…11…12…\n",
      "р.Нижняя Тунгуска - пгт Тура - год 2017… 1…2…3…4…5…6…7…8…9…10…11…12…\n",
      "р.Нижняя Тунгуска - пгт Тура - год 2018… 1…2…3…4…5…6…7…8…9…10…11…12…\n",
      "р.Нижняя Тунгуска - пос.Учами - год 2008… 1…2…3…4…5…6…7…8…9…10…11…12…\n",
      "р.Нижняя Тунгуска - пос.Учами - год 2009… 1…2…3…4…5…6…7…8…9…10…11…12…\n",
      "р.Нижняя Тунгуска - пос.Учами - год 2010… 1…2…3…4…5…6…7…8…9…10…11…12…\n",
      "р.Нижняя Тунгуска - пос.Учами - год 2011… 1…2…3…4…5…6…7…8…9…10…11…12…\n",
      "р.Нижняя Тунгуска - пос.Учами - год 2012… 1…2…3…4…5…6…7…8…9…10…11…12…\n",
      "р.Нижняя Тунгуска - пос.Учами - год 2013… 1…2…3…4…5…6…7…8…9…10…11…12…\n",
      "р.Нижняя Тунгуска - пос.Учами - год 2014… 1…2…3…4…5…6…7…8…9…10…11…12…\n",
      "р.Нижняя Тунгуска - пос.Учами - год 2015… 1…2…3…4…5…6…7…8…9…10…11…12…\n",
      "р.Нижняя Тунгуска - пос.Учами - год 2016… 1…2…3…4…5…6…7…8…9…10…11…12…\n",
      "р.Нижняя Тунгуска - пос.Учами - год 2017… 1…2…3…4…5…6…7…8…9…10…11…12…\n",
      "р.Нижняя Тунгуска - пос.Учами - год 2018… 1…2…3…4…5…6…7…8…9…10…11…12…\n",
      "р.Нижняя Тунгуска - факт.Большой Порог - год 2008… 1…2…3…4…5…6…7…8…9…10…11…12…\n",
      "р.Нижняя Тунгуска - факт.Большой Порог - год 2009… 1…2…3…4…5…6…7…8…9…10…11…12…\n",
      "р.Нижняя Тунгуска - факт.Большой Порог - год 2010… 1…2…3…4…5…6…7…8…9…10…11…12…\n",
      "р.Нижняя Тунгуска - факт.Большой Порог - год 2011… 1…2…3…4…5…6…7…8…9…10…11…12…\n",
      "р.Нижняя Тунгуска - факт.Большой Порог - год 2012… 1…2…3…4…5…6…7…8…9…10…11…12…\n",
      "р.Нижняя Тунгуска - факт.Большой Порог - год 2013… 1…2…3…4…5…6…7…8…9…10…11…12…\n",
      "р.Нижняя Тунгуска - факт.Большой Порог - год 2014… 1…2…3…4…5…6…7…8…9…10…11…12…\n",
      "р.Нижняя Тунгуска - факт.Большой Порог - год 2015… 1…2…3…4…5…6…7…8…9…10…11…12…\n"
     ]
    },
    {
     "name": "stdout",
     "output_type": "stream",
     "text": [
      "р.Нижняя Тунгуска - факт.Большой Порог - год 2016… 1…2…3…4…5…6…7…8…9…10…11…12…\n",
      "р.Нижняя Тунгуска - факт.Большой Порог - год 2017… 1…2…3…4…5…6…7…8…9…10…11…12…\n",
      "р.Нижняя Тунгуска - факт.Большой Порог - год 2018… 1…2…3…4…5…6…7…8…9…10…11…12…\n",
      "р.Непа - с.Токма - год 2008… 1…2…3…4…5…6…7…8…9…10…11…12…\n",
      "р.Непа - с.Токма - год 2009… 1…2…3…4…5…6…7…8…9…10…11…12…\n",
      "р.Непа - с.Токма - год 2010… 1…2…3…4…5…6…7…8…9…10…11…12…\n",
      "р.Непа - с.Токма - год 2011… 1…2…3…4…5…6…7…8…9…10…11…12…\n",
      "р.Непа - с.Токма - год 2012… 1…2…3…4…5…6…7…8…9…10…11…12…\n",
      "р.Непа - с.Токма - год 2013… 1…2…3…4…5…6…7…8…9…10…11…12…\n",
      "р.Непа - с.Токма - год 2014… 1…2…3…4…5…6…7…8…9…10…11…12…\n",
      "р.Непа - с.Токма - год 2015… 1…2…3…4…5…6…7…8…9…10…11…12…\n",
      "р.Непа - с.Токма - год 2016… 1…2…3…4…5…6…7…8…9…10…11…12…\n",
      "р.Непа - с.Токма - год 2017… 1…2…3…4…5…6…7…8…9…10…11…12…\n",
      "р.Непа - с.Токма - год 2018… 1…2…3…4…5…6…7…8…9…10…11…12…\n",
      "р.Непа - д.Ика - год 2008… 1…2…3…4…5…6…7…8…9…10…11…12…\n",
      "р.Непа - д.Ика - год 2009… 1…2…3…4…5…6…7…8…9…10…11…12…\n",
      "р.Непа - д.Ика - год 2010… 1…2…3…4…5…6…7…8…9…10…11…12…\n",
      "р.Непа - д.Ика - год 2011… 1…2…3…4…5…6…7…8…9…10…11…12…\n",
      "р.Непа - д.Ика - год 2012… 1…2…3…4…5…6…7…8…9…10…11…12…\n",
      "р.Непа - д.Ика - год 2013… 1…2…3…4…5…6…7…8…9…10…11…12…\n",
      "р.Непа - д.Ика - год 2014… 1…2…3…4…5…6…7…8…9…10…11…12…\n",
      "р.Непа - д.Ика - год 2015… 1…2…3…4…5…6…7…8…9…10…11…12…\n",
      "р.Непа - д.Ика - год 2016… 1…2…3…4…5…6…7…8…9…10…11…12…\n",
      "р.Непа - д.Ика - год 2017… 1…2…3…4…5…6…7…8…9…10…11…12…\n",
      "р.Непа - д.Ика - год 2018… 1…2…3…4…5…6…7…8…9…10…11…12…\n",
      "р.Тембенчи - факт.Тембенчи - год 2008… 1…2…3…4…5…6…7…8…9…10…11…12…\n",
      "р.Тембенчи - факт.Тембенчи - год 2009… 1…2…3…4…5…6…7…8…9…10…11…12…\n",
      "р.Тембенчи - факт.Тембенчи - год 2010… 1…2…3…4…5…6…7…8…9…10…11…12…\n",
      "р.Тембенчи - факт.Тембенчи - год 2011… 1…2…3…4…5…6…7…8…9…10…11…12…\n",
      "р.Тембенчи - факт.Тембенчи - год 2012… 1…2…3…4…5…6…7…8…9…10…11…12…\n",
      "р.Тембенчи - факт.Тембенчи - год 2013… 1…2…3…4…5…6…7…8…9…10…11…12…\n",
      "р.Тембенчи - факт.Тембенчи - год 2014… 1…2…3…4…5…6…7…8…9…10…11…12…\n",
      "р.Тембенчи - факт.Тембенчи - год 2015… 1…2…3…4…5…6…7…8…9…10…11…12…\n",
      "р.Тембенчи - факт.Тембенчи - год 2016… 1…2…3…4…5…6…7…8…9…10…11…12…\n",
      "р.Тембенчи - факт.Тембенчи - год 2017… 1…2…3…4…5…6…7…8…9…10…11…12…\n",
      "р.Тембенчи - факт.Тембенчи - год 2018… 1…2…3…4…5…6…7…8…9…10…11…12…\n",
      "р.Таймура - факт.Кербо - год 2008… 1…2…3…4…5…6…7…8…9…10…11…12…\n",
      "р.Таймура - факт.Кербо - год 2009… 1…2…3…4…5…6…7…8…9…10…11…12…\n",
      "р.Таймура - факт.Кербо - год 2010… 1…2…3…4…5…6…7…8…9…10…11…12…\n",
      "р.Таймура - факт.Кербо - год 2011… 1…2…3…4…5…6…7…8…9…10…11…12…\n",
      "р.Таймура - факт.Кербо - год 2012… 1…2…3…4…5…6…7…8…9…10…11…12…\n",
      "р.Таймура - факт.Кербо - год 2013… 1…2…3…4…5…6…7…8…9…10…11…12…\n",
      "р.Таймура - факт.Кербо - год 2014… 1…2…3…4…5…6…7…8…9…10…11…12…\n",
      "р.Таймура - факт.Кербо - год 2015… 1…2…3…4…5…6…7…8…9…10…11…12…\n",
      "р.Таймура - факт.Кербо - год 2016… 1…2…3…4…5…6…7…8…9…10…11…12…\n",
      "р.Таймура - факт.Кербо - год 2017… 1…2…3…4…5…6…7…8…9…10…11…12…\n",
      "р.Таймура - факт.Кербо - год 2018… 1…2…3…4…5…6…7…8…9…10…11…12…\n",
      "руч.без названия - факт.Кербо - год 2008… 1…2…3…4…5…6…7…8…9…10…11…12…\n",
      "руч.без названия - факт.Кербо - год 2009… 1…2…3…4…5…6…7…8…9…10…11…12…\n",
      "руч.без названия - факт.Кербо - год 2010… 1…2…3…4…5…6…7…8…9…10…11…12…\n",
      "руч.без названия - факт.Кербо - год 2011… 1…2…3…4…5…6…7…8…9…10…11…12…\n",
      "руч.без названия - факт.Кербо - год 2012… 1…2…3…4…5…6…7…8…9…10…11…12…\n",
      "руч.без названия - факт.Кербо - год 2013… 1…2…3…4…5…6…7…8…9…10…11…12…\n",
      "руч.без названия - факт.Кербо - год 2014… 1…2…3…4…5…6…7…8…9…10…11…12…\n",
      "руч.без названия - факт.Кербо - год 2015… 1…2…3…4…5…6…7…8…9…10…11…12…\n",
      "руч.без названия - факт.Кербо - год 2016… 1…2…3…4…5…6…7…8…9…10…11…12…\n",
      "руч.без названия - факт.Кербо - год 2017… 1…2…3…4…5…6…7…8…9…10…11…12…\n",
      "руч.без названия - факт.Кербо - год 2018… 1…2…3…4…5…6…7…8…9…10…11…12…\n",
      "р.Ерачимо - факт.Большой порог - год 2008… 1…2…3…4…5…6…7…8…9…10…11…12…\n",
      "р.Ерачимо - факт.Большой порог - год 2009… 1…2…3…4…5…6…7…8…9…10…11…12…\n",
      "р.Ерачимо - факт.Большой порог - год 2010… 1…2…3…4…5…6…7…8…9…10…11…12…\n",
      "р.Ерачимо - факт.Большой порог - год 2011… 1…2…3…4…5…6…7…8…9…10…11…12…\n",
      "р.Ерачимо - факт.Большой порог - год 2012… 1…2…3…4…5…6…7…8…9…10…11…12…\n",
      "р.Ерачимо - факт.Большой порог - год 2013… 1…2…3…4…5…6…7…8…9…10…11…12…\n",
      "р.Ерачимо - факт.Большой порог - год 2014… 1…2…3…4…5…6…7…8…9…10…11…12…\n",
      "р.Ерачимо - факт.Большой порог - год 2015… 1…2…3…4…5…6…7…8…9…10…11…12…\n",
      "р.Ерачимо - факт.Большой порог - год 2016… 1…2…3…4…5…6…7…8…9…10…11…12…\n",
      "р.Ерачимо - факт.Большой порог - год 2017… 1…2…3…4…5…6…7…8…9…10…11…12…\n",
      "р.Ерачимо - факт.Большой порог - год 2018… 1…2…3…4…5…6…7…8…9…10…11…12…\n",
      "р.Нижняя Тунгуска - с.Непа - год 2008… 1…2…3…4…5…6…7…8…9…10…11…12…\n",
      "р.Нижняя Тунгуска - с.Непа - год 2009… 1…2…3…4…5…6…7…8…9…10…11…12…\n",
      "р.Нижняя Тунгуска - с.Непа - год 2010… 1…2…3…4…5…6…7…8…9…10…11…12…\n",
      "р.Нижняя Тунгуска - с.Непа - год 2011… 1…2…3…4…5…6…7…8…9…10…11…12…\n",
      "р.Нижняя Тунгуска - с.Непа - год 2012… 1…2…3…4…5…6…7…8…9…10…11…12…\n",
      "р.Нижняя Тунгуска - с.Непа - год 2013… 1…2…3…4…5…6…7…8…9…10…11…12…\n",
      "р.Нижняя Тунгуска - с.Непа - год 2014… 1…2…3…4…5…6…7…8…9…10…11…12…\n",
      "р.Нижняя Тунгуска - с.Непа - год 2015… 1…2…3…4…5…6…7…8…9…10…11…12…\n",
      "р.Нижняя Тунгуска - с.Непа - год 2016… 1…2…3…4…5…6…7…8…9…10…11…12…\n",
      "р.Нижняя Тунгуска - с.Непа - год 2017… 1…2…3…4…5…6…7…8…9…10…11…12…\n",
      "р.Нижняя Тунгуска - с.Непа - год 2018… 1…2…3…4…5…6…7…8…9…10…11…12…\n"
     ]
    }
   ],
   "source": [
    "from datetime import datetime\n",
    "import csv\n",
    "import os\n",
    "from calendar import monthrange\n",
    "\n",
    "START_YEAR = 2008\n",
    "END_YEAR = 2018\n",
    "# id_поста,дата,температура,давление,облачность,осадки,скорость_ветра,направление_ветра\n",
    "header = ['uid', 'date', 'temperature', 'pressure', 'cloud', 'weather', 'wind_dir', 'wind_spd']\n",
    "\n",
    "# Для данных параметров все необходимые страницы gismeteo будут загружаться минимум 4 часа\n",
    "\n",
    "# Для ускорения процесса парсинга сайта можно использовать прокси и многопоточность через\n",
    "# встроенную библиотеку multiprocessing, но для этичности проекта и избежания излишней \n",
    "# нагрузки на сайт запросы будут производиться в однопоточном режиме\n",
    "\n",
    "result = []\n",
    "if is_data_exists(DATA_WEATHER, is_raw=True):\n",
    "    print(f\"Датасет {DATA_WEATHER} уже сформирован.\")\n",
    "else:\n",
    "    for uid, post in posts.items():\n",
    "        for year in range(START_YEAR, END_YEAR + 1):        \n",
    "            print(f\"{post['name']} - год {year}… \", end='')\n",
    "            for month in range(1, 13):\n",
    "                print(f\"{month}…\", end='')\n",
    "\n",
    "                def get_data_rows(city_id):\n",
    "                    table = get_gismeteo_table(city_id, year, month)\n",
    "                    if not table:\n",
    "                        return None\n",
    "\n",
    "                    data_rows = table.find_all('tr')\n",
    "                    return data_rows[2:]  # убрать шапку таблицы\n",
    "\n",
    "                # В приоритете используются метео-данными из основного источника, если их\n",
    "                # Примеры неполных метеоданных:\n",
    "                # с 18 + пропуски https://www.gismeteo.ru/diary/158155/2015/3/\n",
    "                # до 19 числа https://www.gismeteo.ru/diary/4015/2015/9/\n",
    "                # с 29 по 31 https://www.gismeteo.ru/diary/4015/2015/10/\n",
    "                main_data = get_data_rows(post['gismeteo_id'])\n",
    "                fallback_dict = None\n",
    "\n",
    "                if not main_data or (len(main_data) < monthrange(year, month)[1] \\\n",
    "                                     and 'fallback_id' in post.keys()):                 \n",
    "                    fallback_data = get_data_rows(post['fallback_id'])\n",
    "                    if not fallback_data:\n",
    "                        raise Exception(f\"something goes wrong with {post['gismeteo_id']} \\\n",
    "                                        and {post['fallback_id']} {year} {month}, halt\")\n",
    "                    if main_data:\n",
    "                        fallback_data = [process_row(row) for row in fallback_data]\n",
    "                        fallback_dict = {day: (temperature, pressure, cloud, weather, wind_dir, wind_spd)\n",
    "                                        for day, temperature, pressure, cloud, weather, wind_dir, wind_spd in fallback_data}\n",
    "                    else:\n",
    "                        main_data = fallback_data\n",
    "\n",
    "                day = 1 \n",
    "                for row in main_data:\n",
    "                    try:\n",
    "                        data = process_row(row)\n",
    "                    except Exception:\n",
    "                        err_str = f\"check https://www.gismeteo.ru/diary/{post['gismeteo_id']}/{year}/{month}/\"\n",
    "                        if 'fallback_id' in post.keys():\n",
    "                            err_str += f\"\\nand https://www.gismeteo.ru/diary/{post['fallback_id']}/{year}/{month}/\"\n",
    "                        raise Exception(err_str)\n",
    "\n",
    "                    row_day = data[0]\n",
    "                    while day != row_day:  # есть пропуски в днях в основном источнике метео-данных\n",
    "                        if fallback_dict:  # заполняем пропуски из второстепенного источника\n",
    "                            #print(f'\\nuse fallback to fill {day} day')\n",
    "                            if day in fallback_dict:\n",
    "                                date_string = f'{year}-{month:02d}-{day:02d}'\n",
    "                                result.append([uid, date_string] + list(fallback_dict[day]))\n",
    "                                #print(fallback_dict[day])\n",
    "                                day += 1\n",
    "                                continue\n",
    "                        # в обоих источниках есть пропуски данных - заполняем день пустыми данными\n",
    "                        date_string = format_data(year, month, day)\n",
    "                        result.append([uid, date_string] + [None for x in range(len(header) - 2)])\n",
    "                        #print(f'No data for {date_string}')\n",
    "                        day += 1\n",
    "\n",
    "                    date_string = f'{year}-{month:02d}-{row_day:02d}'\n",
    "                    result.append([uid, date_string] + data[1:])\n",
    "                    day += 1\n",
    "            print()  # перенос строки\n",
    "    write_csv(DATA_WEATHER, header, result, is_raw=True)"
   ]
  }
 ],
 "metadata": {
  "kernelspec": {
   "display_name": "Python 3 (ipykernel)",
   "language": "python",
   "name": "python3"
  },
  "language_info": {
   "codemirror_mode": {
    "name": "ipython",
    "version": 3
   },
   "file_extension": ".py",
   "mimetype": "text/x-python",
   "name": "python",
   "nbconvert_exporter": "python",
   "pygments_lexer": "ipython3",
   "version": "3.9.13"
  }
 },
 "nbformat": 4,
 "nbformat_minor": 5
}
