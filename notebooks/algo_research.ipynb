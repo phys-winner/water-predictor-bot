{
 "cells": [
  {
   "cell_type": "markdown",
   "id": "442166b6",
   "metadata": {},
   "source": [
    "# Исследование алгоритмов"
   ]
  },
  {
   "cell_type": "markdown",
   "id": "47104e89",
   "metadata": {},
   "source": [
    "### Проверка и установка рабочей директории, должен быть корень проекта"
   ]
  },
  {
   "cell_type": "code",
   "execution_count": 1,
   "id": "eff8b31e",
   "metadata": {
    "scrolled": true
   },
   "outputs": [
    {
     "data": {
      "text/plain": [
       "'C:\\\\Users\\\\Kuroha\\\\source\\\\repos_py\\\\bauman_final_project\\\\notebooks'"
      ]
     },
     "execution_count": 1,
     "metadata": {},
     "output_type": "execute_result"
    }
   ],
   "source": [
    "%pwd"
   ]
  },
  {
   "cell_type": "code",
   "execution_count": 2,
   "id": "3645e379",
   "metadata": {
    "scrolled": false
   },
   "outputs": [
    {
     "name": "stdout",
     "output_type": "stream",
     "text": [
      "C:\\Users\\Kuroha\\source\\repos_py\\bauman_final_project\n"
     ]
    }
   ],
   "source": [
    "%cd .."
   ]
  },
  {
   "cell_type": "markdown",
   "id": "0945d520",
   "metadata": {},
   "source": [
    "### Загрузка датасета"
   ]
  },
  {
   "cell_type": "code",
   "execution_count": 3,
   "id": "51e993ec",
   "metadata": {},
   "outputs": [],
   "source": [
    "import numpy as np\n",
    "import pandas as pd\n",
    "\n",
    "import matplotlib as mpl\n",
    "import matplotlib.pyplot as plt\n",
    "import seaborn as sns\n",
    "\n",
    "from src.utils import *"
   ]
  },
  {
   "cell_type": "code",
   "execution_count": 4,
   "id": "6abf9e80",
   "metadata": {},
   "outputs": [],
   "source": [
    "path = get_filepath(DATA_PROCESSED_TRAIN, is_raw=False)\n",
    "df = pd.read_csv(path, parse_dates=['date'])"
   ]
  },
  {
   "cell_type": "code",
   "execution_count": 5,
   "id": "26241392",
   "metadata": {},
   "outputs": [
    {
     "data": {
      "text/html": [
       "<div>\n",
       "<style scoped>\n",
       "    .dataframe tbody tr th:only-of-type {\n",
       "        vertical-align: middle;\n",
       "    }\n",
       "\n",
       "    .dataframe tbody tr th {\n",
       "        vertical-align: top;\n",
       "    }\n",
       "\n",
       "    .dataframe thead th {\n",
       "        text-align: right;\n",
       "    }\n",
       "</style>\n",
       "<table border=\"1\" class=\"dataframe\">\n",
       "  <thead>\n",
       "    <tr style=\"text-align: right;\">\n",
       "      <th></th>\n",
       "      <th>0</th>\n",
       "      <th>1</th>\n",
       "      <th>2</th>\n",
       "      <th>3</th>\n",
       "      <th>4</th>\n",
       "    </tr>\n",
       "  </thead>\n",
       "  <tbody>\n",
       "    <tr>\n",
       "      <th>date</th>\n",
       "      <td>2008-01-01 00:00:00</td>\n",
       "      <td>2008-01-02 00:00:00</td>\n",
       "      <td>2008-01-03 00:00:00</td>\n",
       "      <td>2008-01-04 00:00:00</td>\n",
       "      <td>2008-01-05 00:00:00</td>\n",
       "    </tr>\n",
       "    <tr>\n",
       "      <th>latitude</th>\n",
       "      <td>0.312439</td>\n",
       "      <td>0.312439</td>\n",
       "      <td>0.312439</td>\n",
       "      <td>0.312439</td>\n",
       "      <td>0.312439</td>\n",
       "    </tr>\n",
       "    <tr>\n",
       "      <th>longitude</th>\n",
       "      <td>0.699807</td>\n",
       "      <td>0.699807</td>\n",
       "      <td>0.699807</td>\n",
       "      <td>0.699807</td>\n",
       "      <td>0.699807</td>\n",
       "    </tr>\n",
       "    <tr>\n",
       "      <th>temperature</th>\n",
       "      <td>0.438202</td>\n",
       "      <td>0.314607</td>\n",
       "      <td>0.146067</td>\n",
       "      <td>0.168539</td>\n",
       "      <td>0.325843</td>\n",
       "    </tr>\n",
       "    <tr>\n",
       "      <th>pressure</th>\n",
       "      <td>0.414474</td>\n",
       "      <td>0.519737</td>\n",
       "      <td>0.546053</td>\n",
       "      <td>0.546053</td>\n",
       "      <td>0.361842</td>\n",
       "    </tr>\n",
       "    <tr>\n",
       "      <th>cloud</th>\n",
       "      <td>1.0</td>\n",
       "      <td>0.0</td>\n",
       "      <td>0.0</td>\n",
       "      <td>0.666667</td>\n",
       "      <td>1.0</td>\n",
       "    </tr>\n",
       "    <tr>\n",
       "      <th>wind_spd</th>\n",
       "      <td>0.333333</td>\n",
       "      <td>0.166667</td>\n",
       "      <td>0.0</td>\n",
       "      <td>0.0</td>\n",
       "      <td>0.666667</td>\n",
       "    </tr>\n",
       "    <tr>\n",
       "      <th>is_fallback_data</th>\n",
       "      <td>1</td>\n",
       "      <td>1</td>\n",
       "      <td>1</td>\n",
       "      <td>1</td>\n",
       "      <td>1</td>\n",
       "    </tr>\n",
       "    <tr>\n",
       "      <th>water_level</th>\n",
       "      <td>138.0</td>\n",
       "      <td>138.0</td>\n",
       "      <td>138.0</td>\n",
       "      <td>138.0</td>\n",
       "      <td>138.0</td>\n",
       "    </tr>\n",
       "    <tr>\n",
       "      <th>uid_0</th>\n",
       "      <td>1.0</td>\n",
       "      <td>1.0</td>\n",
       "      <td>1.0</td>\n",
       "      <td>1.0</td>\n",
       "      <td>1.0</td>\n",
       "    </tr>\n",
       "    <tr>\n",
       "      <th>uid_1</th>\n",
       "      <td>0.0</td>\n",
       "      <td>0.0</td>\n",
       "      <td>0.0</td>\n",
       "      <td>0.0</td>\n",
       "      <td>0.0</td>\n",
       "    </tr>\n",
       "    <tr>\n",
       "      <th>uid_2</th>\n",
       "      <td>0.0</td>\n",
       "      <td>0.0</td>\n",
       "      <td>0.0</td>\n",
       "      <td>0.0</td>\n",
       "      <td>0.0</td>\n",
       "    </tr>\n",
       "    <tr>\n",
       "      <th>uid_3</th>\n",
       "      <td>0.0</td>\n",
       "      <td>0.0</td>\n",
       "      <td>0.0</td>\n",
       "      <td>0.0</td>\n",
       "      <td>0.0</td>\n",
       "    </tr>\n",
       "    <tr>\n",
       "      <th>uid_4</th>\n",
       "      <td>0.0</td>\n",
       "      <td>0.0</td>\n",
       "      <td>0.0</td>\n",
       "      <td>0.0</td>\n",
       "      <td>0.0</td>\n",
       "    </tr>\n",
       "    <tr>\n",
       "      <th>uid_5</th>\n",
       "      <td>0.0</td>\n",
       "      <td>0.0</td>\n",
       "      <td>0.0</td>\n",
       "      <td>0.0</td>\n",
       "      <td>0.0</td>\n",
       "    </tr>\n",
       "    <tr>\n",
       "      <th>uid_6</th>\n",
       "      <td>0.0</td>\n",
       "      <td>0.0</td>\n",
       "      <td>0.0</td>\n",
       "      <td>0.0</td>\n",
       "      <td>0.0</td>\n",
       "    </tr>\n",
       "    <tr>\n",
       "      <th>uid_7</th>\n",
       "      <td>0.0</td>\n",
       "      <td>0.0</td>\n",
       "      <td>0.0</td>\n",
       "      <td>0.0</td>\n",
       "      <td>0.0</td>\n",
       "    </tr>\n",
       "    <tr>\n",
       "      <th>uid_8</th>\n",
       "      <td>0.0</td>\n",
       "      <td>0.0</td>\n",
       "      <td>0.0</td>\n",
       "      <td>0.0</td>\n",
       "      <td>0.0</td>\n",
       "    </tr>\n",
       "    <tr>\n",
       "      <th>uid_9</th>\n",
       "      <td>0.0</td>\n",
       "      <td>0.0</td>\n",
       "      <td>0.0</td>\n",
       "      <td>0.0</td>\n",
       "      <td>0.0</td>\n",
       "    </tr>\n",
       "    <tr>\n",
       "      <th>uid_10</th>\n",
       "      <td>0.0</td>\n",
       "      <td>0.0</td>\n",
       "      <td>0.0</td>\n",
       "      <td>0.0</td>\n",
       "      <td>0.0</td>\n",
       "    </tr>\n",
       "    <tr>\n",
       "      <th>uid_11</th>\n",
       "      <td>0.0</td>\n",
       "      <td>0.0</td>\n",
       "      <td>0.0</td>\n",
       "      <td>0.0</td>\n",
       "      <td>0.0</td>\n",
       "    </tr>\n",
       "    <tr>\n",
       "      <th>uid_12</th>\n",
       "      <td>0.0</td>\n",
       "      <td>0.0</td>\n",
       "      <td>0.0</td>\n",
       "      <td>0.0</td>\n",
       "      <td>0.0</td>\n",
       "    </tr>\n",
       "    <tr>\n",
       "      <th>uid_13</th>\n",
       "      <td>0.0</td>\n",
       "      <td>0.0</td>\n",
       "      <td>0.0</td>\n",
       "      <td>0.0</td>\n",
       "      <td>0.0</td>\n",
       "    </tr>\n",
       "    <tr>\n",
       "      <th>uid_14</th>\n",
       "      <td>0.0</td>\n",
       "      <td>0.0</td>\n",
       "      <td>0.0</td>\n",
       "      <td>0.0</td>\n",
       "      <td>0.0</td>\n",
       "    </tr>\n",
       "    <tr>\n",
       "      <th>year</th>\n",
       "      <td>0.0</td>\n",
       "      <td>0.0</td>\n",
       "      <td>0.0</td>\n",
       "      <td>0.0</td>\n",
       "      <td>0.0</td>\n",
       "    </tr>\n",
       "    <tr>\n",
       "      <th>day_sin</th>\n",
       "      <td>0.017166</td>\n",
       "      <td>0.034328</td>\n",
       "      <td>0.051479</td>\n",
       "      <td>0.068615</td>\n",
       "      <td>0.085731</td>\n",
       "    </tr>\n",
       "    <tr>\n",
       "      <th>day_cos</th>\n",
       "      <td>0.999853</td>\n",
       "      <td>0.999411</td>\n",
       "      <td>0.998674</td>\n",
       "      <td>0.997643</td>\n",
       "      <td>0.996318</td>\n",
       "    </tr>\n",
       "    <tr>\n",
       "      <th>weather_v1_precip</th>\n",
       "      <td>0</td>\n",
       "      <td>0</td>\n",
       "      <td>0</td>\n",
       "      <td>0</td>\n",
       "      <td>1</td>\n",
       "    </tr>\n",
       "    <tr>\n",
       "      <th>weather_v2_rain</th>\n",
       "      <td>0</td>\n",
       "      <td>0</td>\n",
       "      <td>0</td>\n",
       "      <td>0</td>\n",
       "      <td>0</td>\n",
       "    </tr>\n",
       "    <tr>\n",
       "      <th>weather_snow</th>\n",
       "      <td>0</td>\n",
       "      <td>0</td>\n",
       "      <td>0</td>\n",
       "      <td>0</td>\n",
       "      <td>1</td>\n",
       "    </tr>\n",
       "    <tr>\n",
       "      <th>weather_v3_rain</th>\n",
       "      <td>0</td>\n",
       "      <td>0</td>\n",
       "      <td>0</td>\n",
       "      <td>0</td>\n",
       "      <td>0</td>\n",
       "    </tr>\n",
       "    <tr>\n",
       "      <th>weather_v3_storm</th>\n",
       "      <td>0</td>\n",
       "      <td>0</td>\n",
       "      <td>0</td>\n",
       "      <td>0</td>\n",
       "      <td>0</td>\n",
       "    </tr>\n",
       "    <tr>\n",
       "      <th>north</th>\n",
       "      <td>0</td>\n",
       "      <td>0</td>\n",
       "      <td>0</td>\n",
       "      <td>0</td>\n",
       "      <td>0</td>\n",
       "    </tr>\n",
       "    <tr>\n",
       "      <th>south</th>\n",
       "      <td>0</td>\n",
       "      <td>0</td>\n",
       "      <td>0</td>\n",
       "      <td>0</td>\n",
       "      <td>1</td>\n",
       "    </tr>\n",
       "    <tr>\n",
       "      <th>west</th>\n",
       "      <td>1</td>\n",
       "      <td>1</td>\n",
       "      <td>0</td>\n",
       "      <td>0</td>\n",
       "      <td>1</td>\n",
       "    </tr>\n",
       "    <tr>\n",
       "      <th>east</th>\n",
       "      <td>0</td>\n",
       "      <td>0</td>\n",
       "      <td>0</td>\n",
       "      <td>0</td>\n",
       "      <td>0</td>\n",
       "    </tr>\n",
       "    <tr>\n",
       "      <th>pressure_upper</th>\n",
       "      <td>0</td>\n",
       "      <td>0</td>\n",
       "      <td>0</td>\n",
       "      <td>0</td>\n",
       "      <td>0</td>\n",
       "    </tr>\n",
       "    <tr>\n",
       "      <th>pressure_lower</th>\n",
       "      <td>0</td>\n",
       "      <td>0</td>\n",
       "      <td>0</td>\n",
       "      <td>0</td>\n",
       "      <td>0</td>\n",
       "    </tr>\n",
       "    <tr>\n",
       "      <th>wind_spd_upper</th>\n",
       "      <td>0</td>\n",
       "      <td>0</td>\n",
       "      <td>0</td>\n",
       "      <td>0</td>\n",
       "      <td>0</td>\n",
       "    </tr>\n",
       "  </tbody>\n",
       "</table>\n",
       "</div>"
      ],
      "text/plain": [
       "                                     0                    1  \\\n",
       "date               2008-01-01 00:00:00  2008-01-02 00:00:00   \n",
       "latitude                      0.312439             0.312439   \n",
       "longitude                     0.699807             0.699807   \n",
       "temperature                   0.438202             0.314607   \n",
       "pressure                      0.414474             0.519737   \n",
       "cloud                              1.0                  0.0   \n",
       "wind_spd                      0.333333             0.166667   \n",
       "is_fallback_data                     1                    1   \n",
       "water_level                      138.0                138.0   \n",
       "uid_0                              1.0                  1.0   \n",
       "uid_1                              0.0                  0.0   \n",
       "uid_2                              0.0                  0.0   \n",
       "uid_3                              0.0                  0.0   \n",
       "uid_4                              0.0                  0.0   \n",
       "uid_5                              0.0                  0.0   \n",
       "uid_6                              0.0                  0.0   \n",
       "uid_7                              0.0                  0.0   \n",
       "uid_8                              0.0                  0.0   \n",
       "uid_9                              0.0                  0.0   \n",
       "uid_10                             0.0                  0.0   \n",
       "uid_11                             0.0                  0.0   \n",
       "uid_12                             0.0                  0.0   \n",
       "uid_13                             0.0                  0.0   \n",
       "uid_14                             0.0                  0.0   \n",
       "year                               0.0                  0.0   \n",
       "day_sin                       0.017166             0.034328   \n",
       "day_cos                       0.999853             0.999411   \n",
       "weather_v1_precip                    0                    0   \n",
       "weather_v2_rain                      0                    0   \n",
       "weather_snow                         0                    0   \n",
       "weather_v3_rain                      0                    0   \n",
       "weather_v3_storm                     0                    0   \n",
       "north                                0                    0   \n",
       "south                                0                    0   \n",
       "west                                 1                    1   \n",
       "east                                 0                    0   \n",
       "pressure_upper                       0                    0   \n",
       "pressure_lower                       0                    0   \n",
       "wind_spd_upper                       0                    0   \n",
       "\n",
       "                                     2                    3  \\\n",
       "date               2008-01-03 00:00:00  2008-01-04 00:00:00   \n",
       "latitude                      0.312439             0.312439   \n",
       "longitude                     0.699807             0.699807   \n",
       "temperature                   0.146067             0.168539   \n",
       "pressure                      0.546053             0.546053   \n",
       "cloud                              0.0             0.666667   \n",
       "wind_spd                           0.0                  0.0   \n",
       "is_fallback_data                     1                    1   \n",
       "water_level                      138.0                138.0   \n",
       "uid_0                              1.0                  1.0   \n",
       "uid_1                              0.0                  0.0   \n",
       "uid_2                              0.0                  0.0   \n",
       "uid_3                              0.0                  0.0   \n",
       "uid_4                              0.0                  0.0   \n",
       "uid_5                              0.0                  0.0   \n",
       "uid_6                              0.0                  0.0   \n",
       "uid_7                              0.0                  0.0   \n",
       "uid_8                              0.0                  0.0   \n",
       "uid_9                              0.0                  0.0   \n",
       "uid_10                             0.0                  0.0   \n",
       "uid_11                             0.0                  0.0   \n",
       "uid_12                             0.0                  0.0   \n",
       "uid_13                             0.0                  0.0   \n",
       "uid_14                             0.0                  0.0   \n",
       "year                               0.0                  0.0   \n",
       "day_sin                       0.051479             0.068615   \n",
       "day_cos                       0.998674             0.997643   \n",
       "weather_v1_precip                    0                    0   \n",
       "weather_v2_rain                      0                    0   \n",
       "weather_snow                         0                    0   \n",
       "weather_v3_rain                      0                    0   \n",
       "weather_v3_storm                     0                    0   \n",
       "north                                0                    0   \n",
       "south                                0                    0   \n",
       "west                                 0                    0   \n",
       "east                                 0                    0   \n",
       "pressure_upper                       0                    0   \n",
       "pressure_lower                       0                    0   \n",
       "wind_spd_upper                       0                    0   \n",
       "\n",
       "                                     4  \n",
       "date               2008-01-05 00:00:00  \n",
       "latitude                      0.312439  \n",
       "longitude                     0.699807  \n",
       "temperature                   0.325843  \n",
       "pressure                      0.361842  \n",
       "cloud                              1.0  \n",
       "wind_spd                      0.666667  \n",
       "is_fallback_data                     1  \n",
       "water_level                      138.0  \n",
       "uid_0                              1.0  \n",
       "uid_1                              0.0  \n",
       "uid_2                              0.0  \n",
       "uid_3                              0.0  \n",
       "uid_4                              0.0  \n",
       "uid_5                              0.0  \n",
       "uid_6                              0.0  \n",
       "uid_7                              0.0  \n",
       "uid_8                              0.0  \n",
       "uid_9                              0.0  \n",
       "uid_10                             0.0  \n",
       "uid_11                             0.0  \n",
       "uid_12                             0.0  \n",
       "uid_13                             0.0  \n",
       "uid_14                             0.0  \n",
       "year                               0.0  \n",
       "day_sin                       0.085731  \n",
       "day_cos                       0.996318  \n",
       "weather_v1_precip                    1  \n",
       "weather_v2_rain                      0  \n",
       "weather_snow                         1  \n",
       "weather_v3_rain                      0  \n",
       "weather_v3_storm                     0  \n",
       "north                                0  \n",
       "south                                1  \n",
       "west                                 1  \n",
       "east                                 0  \n",
       "pressure_upper                       0  \n",
       "pressure_lower                       0  \n",
       "wind_spd_upper                       0  "
      ]
     },
     "execution_count": 5,
     "metadata": {},
     "output_type": "execute_result"
    }
   ],
   "source": [
    "df.head().T"
   ]
  },
  {
   "cell_type": "markdown",
   "id": "26571cbd",
   "metadata": {},
   "source": [
    "### Подготовка данных"
   ]
  },
  {
   "cell_type": "markdown",
   "id": "3f50046a",
   "metadata": {},
   "source": [
    "Необходимо проверить, зависит ли качество моделей от способа кодирования погоды: одной колонкой с наличием осадков, двумя - дождь и снег, либо тремя - дождь, гроза и снег."
   ]
  },
  {
   "cell_type": "markdown",
   "id": "89bea5dd",
   "metadata": {},
   "source": [
    "Датасеты с разные вариантами кодирования погоды будут именоваться как **v1**, **v2**, **v3**."
   ]
  },
  {
   "cell_type": "code",
   "execution_count": 6,
   "id": "83737449",
   "metadata": {
    "scrolled": false
   },
   "outputs": [
    {
     "data": {
      "text/plain": [
       "Index(['date', 'latitude', 'longitude', 'temperature', 'pressure', 'cloud',\n",
       "       'wind_spd', 'is_fallback_data', 'water_level', 'uid_0', 'uid_1',\n",
       "       'uid_2', 'uid_3', 'uid_4', 'uid_5', 'uid_6', 'uid_7', 'uid_8', 'uid_9',\n",
       "       'uid_10', 'uid_11', 'uid_12', 'uid_13', 'uid_14', 'year', 'day_sin',\n",
       "       'day_cos', 'weather_v1_precip', 'weather_v2_rain', 'weather_snow',\n",
       "       'weather_v3_rain', 'weather_v3_storm', 'north', 'south', 'west', 'east',\n",
       "       'pressure_upper', 'pressure_lower', 'wind_spd_upper'],\n",
       "      dtype='object')"
      ]
     },
     "execution_count": 6,
     "metadata": {},
     "output_type": "execute_result"
    }
   ],
   "source": [
    "df.columns"
   ]
  },
  {
   "cell_type": "markdown",
   "id": "052a1226",
   "metadata": {},
   "source": [
    "Для обучения модели используем данные за 2008-2016 года, а для тестирования - за 2017."
   ]
  },
  {
   "cell_type": "code",
   "execution_count": 7,
   "id": "61d8ea3d",
   "metadata": {
    "scrolled": true
   },
   "outputs": [
    {
     "name": "stdout",
     "output_type": "stream",
     "text": [
      "Размерность оригинального датасета: (71159, 39)\n",
      "Размерность тренировочного датасета: (61535, 39)\n",
      "Размерность тестового датасета: (9624, 39)\n",
      "Размер тестовой выборки: 15.64%\n"
     ]
    }
   ],
   "source": [
    "df_X_train = df.loc[(df['date'] < '2017-01-01')]\n",
    "df_X_test = df.loc[(df['date'] >= '2017-01-01')]\n",
    "y_train = df_X_train['water_level']\n",
    "y_test = df_X_test['water_level']\n",
    "\n",
    "print(f'''Размерность оригинального датасета: {df.shape}\n",
    "Размерность тренировочного датасета: {df_X_train.shape}\n",
    "Размерность тестового датасета: {df_X_test.shape}\n",
    "Размер тестовой выборки: {df_X_test.shape[0] / df_X_train.shape[0] * 100:.2f}%''')"
   ]
  },
  {
   "cell_type": "code",
   "execution_count": 8,
   "id": "000f885a",
   "metadata": {},
   "outputs": [],
   "source": [
    "def get_all_df(input_df):\n",
    "    df_all_base = input_df.drop(['date', 'water_level'], axis=1)\n",
    "    df_all_v1 = df_all_base.drop(['weather_v2_rain', 'weather_snow', 'weather_v3_rain', 'weather_v3_storm'], axis=1)\n",
    "    df_all_v2 = df_all_base.drop(['weather_v1_precip', 'weather_v3_rain', 'weather_v3_storm'], axis=1)\n",
    "    df_all_v3 = df_all_base.drop(['weather_v1_precip', 'weather_v2_rain'], axis=1)\n",
    "    return [df_all_v1, df_all_v2, df_all_v3]\n",
    "\n",
    "df_X_train_all = get_all_df(df_X_train)\n",
    "df_X_test_all = get_all_df(df_X_test)"
   ]
  },
  {
   "cell_type": "markdown",
   "id": "279a7200",
   "metadata": {},
   "source": [
    "### Применение алгоритмов машинного обучения"
   ]
  },
  {
   "cell_type": "markdown",
   "id": "29232d88",
   "metadata": {},
   "source": [
    "Для оценки качества моделей будут использованы 2 меры качества: средняя квадратичная ошибка (MSE) и коэффициент детерминации ($R^2$)."
   ]
  },
  {
   "cell_type": "code",
   "execution_count": 9,
   "id": "c3863f5b",
   "metadata": {},
   "outputs": [],
   "source": [
    "from sklearn.metrics import mean_absolute_error as mae\n",
    "from sklearn.metrics import r2_score\n",
    "\n",
    "results = {}  # словарь с сохранёнными метриками"
   ]
  },
  {
   "cell_type": "code",
   "execution_count": 10,
   "id": "c9fa9292",
   "metadata": {},
   "outputs": [],
   "source": [
    "def add_result(predict, model_name):\n",
    "    mae_result = round(mae(y_test, predict), 3)\n",
    "    r2_score_result = round(r2_score(y_test, predict), 3)\n",
    "    #mae_result = round(mae(y_test, predict), 3)\n",
    "    #r2_score_result = round(r2_score(y_test, predict), 3)\n",
    "    print(model_name)\n",
    "    print(f'MAE: {mae_result}')\n",
    "    print(f'R2_score: {r2_score_result}')\n",
    "    print('=' * 20)\n",
    "    \n",
    "    results[model_name] = {'MAE': mae_result, 'R2_score': r2_score_result}"
   ]
  },
  {
   "cell_type": "code",
   "execution_count": 11,
   "id": "0d2c6c46",
   "metadata": {},
   "outputs": [],
   "source": [
    "# Применение алгоритма ко всем вариациям датасета\n",
    "# с последующим вычислением качества\n",
    "def apply_to_all(algo, model_name):\n",
    "    for i in range(len(df_X_train_all)):\n",
    "        predict = algo(df_X_train_all[i], df_X_test_all[i])\n",
    "        add_result(predict, f'{model_name} (df_v{i+1})')"
   ]
  },
  {
   "cell_type": "markdown",
   "id": "b7074028",
   "metadata": {},
   "source": [
    "#### 1. Заглушка"
   ]
  },
  {
   "cell_type": "markdown",
   "id": "7fb1faa3",
   "metadata": {},
   "source": [
    "Представим, что модель всегда возвращает средний уровень воды. Полученные ошибки будут использованы для оценки качества реальных моделей."
   ]
  },
  {
   "cell_type": "code",
   "execution_count": 12,
   "id": "4ccf279e",
   "metadata": {
    "scrolled": true
   },
   "outputs": [
    {
     "data": {
      "text/plain": [
       "0       266.42995\n",
       "1       266.42995\n",
       "2       266.42995\n",
       "3       266.42995\n",
       "4       266.42995\n",
       "          ...    \n",
       "9619    266.42995\n",
       "9620    266.42995\n",
       "9621    266.42995\n",
       "9622    266.42995\n",
       "9623    266.42995\n",
       "Length: 9624, dtype: float64"
      ]
     },
     "execution_count": 12,
     "metadata": {},
     "output_type": "execute_result"
    }
   ],
   "source": [
    "y_predicted = pd.Series([y_train.mean()] * y_test.shape[0])\n",
    "y_predicted"
   ]
  },
  {
   "cell_type": "code",
   "execution_count": 14,
   "id": "13ad5599",
   "metadata": {
    "scrolled": true
   },
   "outputs": [
    {
     "name": "stdout",
     "output_type": "stream",
     "text": [
      "Mean\n",
      "MAE: 153.267\n",
      "R2_score: -0.014\n",
      "====================\n"
     ]
    }
   ],
   "source": [
    "add_result(y_predicted, 'Mean')"
   ]
  },
  {
   "cell_type": "markdown",
   "id": "b3f546bb",
   "metadata": {},
   "source": [
    "#### 2. Линейная регрессия"
   ]
  },
  {
   "cell_type": "code",
   "execution_count": 15,
   "id": "d16d961e",
   "metadata": {},
   "outputs": [],
   "source": [
    "from sklearn.linear_model import LinearRegression \n",
    "\n",
    "def linear_regression(X_train, X_test):\n",
    "    linear_regression = LinearRegression()\n",
    "    linear_regression.fit(X_train, y_train)\n",
    "    \n",
    "    y_predict = linear_regression.predict(X_test)\n",
    "    \n",
    "    return y_predict"
   ]
  },
  {
   "cell_type": "code",
   "execution_count": 16,
   "id": "1b78cab3",
   "metadata": {
    "scrolled": false
   },
   "outputs": [
    {
     "name": "stdout",
     "output_type": "stream",
     "text": [
      "Linear Regression (df_v1)\n",
      "MAE: 109.123\n",
      "R2_score: 0.412\n",
      "====================\n",
      "Linear Regression (df_v2)\n",
      "MAE: 109.105\n",
      "R2_score: 0.412\n",
      "====================\n",
      "Linear Regression (df_v3)\n",
      "MAE: 109.104\n",
      "R2_score: 0.412\n",
      "====================\n"
     ]
    }
   ],
   "source": [
    "apply_to_all(linear_regression, 'Linear Regression')"
   ]
  },
  {
   "cell_type": "code",
   "execution_count": 17,
   "id": "c958d4b9",
   "metadata": {},
   "outputs": [
    {
     "data": {
      "text/html": [
       "<div>\n",
       "<style scoped>\n",
       "    .dataframe tbody tr th:only-of-type {\n",
       "        vertical-align: middle;\n",
       "    }\n",
       "\n",
       "    .dataframe tbody tr th {\n",
       "        vertical-align: top;\n",
       "    }\n",
       "\n",
       "    .dataframe thead th {\n",
       "        text-align: right;\n",
       "    }\n",
       "</style>\n",
       "<table border=\"1\" class=\"dataframe\">\n",
       "  <thead>\n",
       "    <tr style=\"text-align: right;\">\n",
       "      <th></th>\n",
       "      <th>MAE</th>\n",
       "      <th>R2_score</th>\n",
       "    </tr>\n",
       "  </thead>\n",
       "  <tbody>\n",
       "    <tr>\n",
       "      <th>Mean</th>\n",
       "      <td>153.267</td>\n",
       "      <td>-0.014</td>\n",
       "    </tr>\n",
       "    <tr>\n",
       "      <th>Linear Regression (df_v1)</th>\n",
       "      <td>109.123</td>\n",
       "      <td>0.412</td>\n",
       "    </tr>\n",
       "    <tr>\n",
       "      <th>Linear Regression (df_v2)</th>\n",
       "      <td>109.105</td>\n",
       "      <td>0.412</td>\n",
       "    </tr>\n",
       "    <tr>\n",
       "      <th>Linear Regression (df_v3)</th>\n",
       "      <td>109.104</td>\n",
       "      <td>0.412</td>\n",
       "    </tr>\n",
       "  </tbody>\n",
       "</table>\n",
       "</div>"
      ],
      "text/plain": [
       "                               MAE  R2_score\n",
       "Mean                       153.267    -0.014\n",
       "Linear Regression (df_v1)  109.123     0.412\n",
       "Linear Regression (df_v2)  109.105     0.412\n",
       "Linear Regression (df_v3)  109.104     0.412"
      ]
     },
     "execution_count": 17,
     "metadata": {},
     "output_type": "execute_result"
    }
   ],
   "source": [
    "pd.DataFrame.from_dict(results, orient='index')"
   ]
  },
  {
   "cell_type": "markdown",
   "id": "4cba099e",
   "metadata": {},
   "source": [
    "#### 3. Случайный лес"
   ]
  },
  {
   "cell_type": "code",
   "execution_count": 18,
   "id": "965a61ef",
   "metadata": {
    "scrolled": true
   },
   "outputs": [],
   "source": [
    "from sklearn.ensemble import RandomForestClassifier\n",
    "\n",
    "def random_forest(X_train, X_test):\n",
    "    random_forest = RandomForestClassifier(max_depth=10)\n",
    "    random_forest.fit(X_train, y_train)\n",
    "    \n",
    "    y_predict = random_forest.predict(X_test)\n",
    "    \n",
    "    return y_predict"
   ]
  },
  {
   "cell_type": "code",
   "execution_count": 19,
   "id": "20b357b8",
   "metadata": {},
   "outputs": [
    {
     "name": "stdout",
     "output_type": "stream",
     "text": [
      "Random Forest (df_v1)\n",
      "MAE: 87.328\n",
      "R2_score: 0.188\n",
      "====================\n",
      "Random Forest (df_v2)\n",
      "MAE: 88.102\n",
      "R2_score: 0.174\n",
      "====================\n",
      "Random Forest (df_v3)\n",
      "MAE: 85.944\n",
      "R2_score: 0.201\n",
      "====================\n"
     ]
    }
   ],
   "source": [
    "apply_to_all(random_forest, 'Random Forest')"
   ]
  },
  {
   "cell_type": "markdown",
   "id": "3bb210d8",
   "metadata": {},
   "source": [
    "#### 4. Дерево решений"
   ]
  },
  {
   "cell_type": "code",
   "execution_count": 20,
   "id": "ee37faf1",
   "metadata": {},
   "outputs": [],
   "source": [
    "from sklearn.tree import DecisionTreeRegressor\n",
    "\n",
    "def decision_tree(X_train, X_test):\n",
    "    decision_tree = DecisionTreeRegressor()\n",
    "    decision_tree.fit(X_train, y_train)\n",
    "    \n",
    "    y_predict = decision_tree.predict(X_test)\n",
    "    \n",
    "    return y_predict"
   ]
  },
  {
   "cell_type": "code",
   "execution_count": 21,
   "id": "487a90d9",
   "metadata": {},
   "outputs": [
    {
     "name": "stdout",
     "output_type": "stream",
     "text": [
      "Decision Tree (df_v1)\n",
      "MAE: 70.559\n",
      "R2_score: 0.591\n",
      "====================\n",
      "Decision Tree (df_v2)\n",
      "MAE: 70.618\n",
      "R2_score: 0.586\n",
      "====================\n",
      "Decision Tree (df_v3)\n",
      "MAE: 70.469\n",
      "R2_score: 0.59\n",
      "====================\n"
     ]
    }
   ],
   "source": [
    "apply_to_all(decision_tree, 'Decision Tree')"
   ]
  }
 ],
 "metadata": {
  "kernelspec": {
   "display_name": "Python 3 (ipykernel)",
   "language": "python",
   "name": "python3"
  },
  "language_info": {
   "codemirror_mode": {
    "name": "ipython",
    "version": 3
   },
   "file_extension": ".py",
   "mimetype": "text/x-python",
   "name": "python",
   "nbconvert_exporter": "python",
   "pygments_lexer": "ipython3",
   "version": "3.9.13"
  }
 },
 "nbformat": 4,
 "nbformat_minor": 5
}
