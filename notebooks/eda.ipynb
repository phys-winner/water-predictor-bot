{
 "cells": [
  {
   "cell_type": "markdown",
   "id": "ebd3daf6",
   "metadata": {},
   "source": [
    "# Подготовка данных"
   ]
  },
  {
   "cell_type": "markdown",
   "id": "47104e89",
   "metadata": {},
   "source": [
    "### Проверка и установка рабочей директории, должен быть корень проекта"
   ]
  },
  {
   "cell_type": "code",
   "execution_count": 1,
   "id": "eff8b31e",
   "metadata": {
    "scrolled": true
   },
   "outputs": [
    {
     "data": {
      "text/plain": [
       "'C:\\\\Users\\\\Kuroha\\\\source\\\\repos_py\\\\bauman_final_project\\\\notebooks'"
      ]
     },
     "execution_count": 1,
     "metadata": {},
     "output_type": "execute_result"
    }
   ],
   "source": [
    "%pwd"
   ]
  },
  {
   "cell_type": "code",
   "execution_count": 2,
   "id": "3645e379",
   "metadata": {
    "scrolled": false
   },
   "outputs": [
    {
     "name": "stdout",
     "output_type": "stream",
     "text": [
      "C:\\Users\\Kuroha\\source\\repos_py\\bauman_final_project\n"
     ]
    }
   ],
   "source": [
    "%cd .."
   ]
  },
  {
   "cell_type": "markdown",
   "id": "0945d520",
   "metadata": {},
   "source": [
    "### Загрузка датасетов:"
   ]
  },
  {
   "cell_type": "code",
   "execution_count": 3,
   "id": "bd1335de",
   "metadata": {},
   "outputs": [],
   "source": [
    "import numpy as np\n",
    "import pandas as pd\n",
    "from sklearn.preprocessing import OneHotEncoder\n",
    "\n",
    "import matplotlib as mpl\n",
    "import matplotlib.pyplot as plt\n",
    "import seaborn as sns\n",
    "\n",
    "from src.utils import *"
   ]
  },
  {
   "cell_type": "code",
   "execution_count": 4,
   "id": "d843e826",
   "metadata": {},
   "outputs": [],
   "source": [
    "def open_dataset(dataset_name):\n",
    "    path = get_filepath(dataset_name, is_raw=True)\n",
    "    return pd.read_csv(path, index_col = ['uid', 'date'], parse_dates=['date'])\n",
    "\n",
    "weather_df = open_dataset(DATA_WEATHER)\n",
    "weather_target_df = open_dataset(DATA_WEATHER_TARGET)\n",
    "water_lvl_df = open_dataset(DATA_WATER_LEVEL)"
   ]
  },
  {
   "cell_type": "markdown",
   "id": "2eaaea8f",
   "metadata": {},
   "source": [
    "### Информация о датасетах:"
   ]
  },
  {
   "cell_type": "markdown",
   "id": "7e4d8ef6",
   "metadata": {},
   "source": [
    "#### water_level"
   ]
  },
  {
   "cell_type": "markdown",
   "id": "4b43fd84",
   "metadata": {},
   "source": [
    "В датасете представлены замеры уровня воды для постов гидрологического контроля с сайта АИС ГМВО."
   ]
  },
  {
   "cell_type": "code",
   "execution_count": 5,
   "id": "43aa1dcf",
   "metadata": {},
   "outputs": [
    {
     "data": {
      "text/html": [
       "<div>\n",
       "<style scoped>\n",
       "    .dataframe tbody tr th:only-of-type {\n",
       "        vertical-align: middle;\n",
       "    }\n",
       "\n",
       "    .dataframe tbody tr th {\n",
       "        vertical-align: top;\n",
       "    }\n",
       "\n",
       "    .dataframe thead th {\n",
       "        text-align: right;\n",
       "    }\n",
       "</style>\n",
       "<table border=\"1\" class=\"dataframe\">\n",
       "  <thead>\n",
       "    <tr style=\"text-align: right;\">\n",
       "      <th></th>\n",
       "      <th></th>\n",
       "      <th>temperature</th>\n",
       "      <th>pressure</th>\n",
       "      <th>cloud</th>\n",
       "      <th>weather</th>\n",
       "      <th>wind_dir</th>\n",
       "      <th>wind_spd</th>\n",
       "    </tr>\n",
       "    <tr>\n",
       "      <th>uid</th>\n",
       "      <th>date</th>\n",
       "      <th></th>\n",
       "      <th></th>\n",
       "      <th></th>\n",
       "      <th></th>\n",
       "      <th></th>\n",
       "      <th></th>\n",
       "    </tr>\n",
       "  </thead>\n",
       "  <tbody>\n",
       "    <tr>\n",
       "      <th rowspan=\"5\" valign=\"top\">9386</th>\n",
       "      <th>2008-01-01</th>\n",
       "      <td>-17.0</td>\n",
       "      <td>735.0</td>\n",
       "      <td>dull</td>\n",
       "      <td>snow</td>\n",
       "      <td>ЮЗ</td>\n",
       "      <td>2.0</td>\n",
       "    </tr>\n",
       "    <tr>\n",
       "      <th>2008-01-02</th>\n",
       "      <td>-31.0</td>\n",
       "      <td>747.0</td>\n",
       "      <td>sun</td>\n",
       "      <td>clear</td>\n",
       "      <td>СЗ</td>\n",
       "      <td>2.0</td>\n",
       "    </tr>\n",
       "    <tr>\n",
       "      <th>2008-01-03</th>\n",
       "      <td>-43.0</td>\n",
       "      <td>753.0</td>\n",
       "      <td>sun</td>\n",
       "      <td>clear</td>\n",
       "      <td>З</td>\n",
       "      <td>2.0</td>\n",
       "    </tr>\n",
       "    <tr>\n",
       "      <th>2008-01-04</th>\n",
       "      <td>-34.0</td>\n",
       "      <td>733.0</td>\n",
       "      <td>dull</td>\n",
       "      <td>snow</td>\n",
       "      <td>Ш</td>\n",
       "      <td>0.0</td>\n",
       "    </tr>\n",
       "    <tr>\n",
       "      <th>2008-01-05</th>\n",
       "      <td>-28.0</td>\n",
       "      <td>728.0</td>\n",
       "      <td>suncl</td>\n",
       "      <td>clear</td>\n",
       "      <td>З</td>\n",
       "      <td>1.0</td>\n",
       "    </tr>\n",
       "  </tbody>\n",
       "</table>\n",
       "</div>"
      ],
      "text/plain": [
       "                 temperature  pressure  cloud weather wind_dir  wind_spd\n",
       "uid  date                                                               \n",
       "9386 2008-01-01        -17.0     735.0   dull    snow       ЮЗ       2.0\n",
       "     2008-01-02        -31.0     747.0    sun   clear       СЗ       2.0\n",
       "     2008-01-03        -43.0     753.0    sun   clear        З       2.0\n",
       "     2008-01-04        -34.0     733.0   dull    snow        Ш       0.0\n",
       "     2008-01-05        -28.0     728.0  suncl   clear        З       1.0"
      ]
     },
     "execution_count": 5,
     "metadata": {},
     "output_type": "execute_result"
    }
   ],
   "source": [
    "weather_df.head()"
   ]
  },
  {
   "cell_type": "code",
   "execution_count": 6,
   "id": "ef7bedc4",
   "metadata": {
    "scrolled": false
   },
   "outputs": [
    {
     "name": "stdout",
     "output_type": "stream",
     "text": [
      "<class 'pandas.core.frame.DataFrame'>\n",
      "MultiIndex: 98263 entries, (9386, Timestamp('2008-01-01 00:00:00')) to (9568, Timestamp('2017-12-31 00:00:00'))\n",
      "Data columns (total 1 columns):\n",
      " #   Column       Non-Null Count  Dtype\n",
      "---  ------       --------------  -----\n",
      " 0   water_level  98263 non-null  int64\n",
      "dtypes: int64(1)\n",
      "memory usage: 1.2 MB\n"
     ]
    }
   ],
   "source": [
    "water_lvl_df.info()"
   ]
  },
  {
   "cell_type": "code",
   "execution_count": 7,
   "id": "c4a2b101",
   "metadata": {},
   "outputs": [
    {
     "data": {
      "text/plain": [
       "Index(['water_level'], dtype='object')"
      ]
     },
     "execution_count": 7,
     "metadata": {},
     "output_type": "execute_result"
    }
   ],
   "source": [
    "water_lvl_df.columns"
   ]
  },
  {
   "cell_type": "code",
   "execution_count": 8,
   "id": "3312f03c",
   "metadata": {
    "scrolled": true
   },
   "outputs": [
    {
     "data": {
      "text/plain": [
       "(98263, 1)"
      ]
     },
     "execution_count": 8,
     "metadata": {},
     "output_type": "execute_result"
    }
   ],
   "source": [
    "water_lvl_df.shape"
   ]
  },
  {
   "cell_type": "markdown",
   "id": "88c57620",
   "metadata": {},
   "source": [
    "#### weather"
   ]
  },
  {
   "cell_type": "markdown",
   "id": "1e983941",
   "metadata": {},
   "source": [
    "В датасетах **weather** (погода на период 2008-2017 для обучения) и **weather_test** (погода на 2018 год для предсказывания) с данными метеосводок Gismeteo есть следующие столбцы:\n",
    "- индекс **uid** - идентификационный номер поста гидрологического контроля с сайта АИС ГМВО.\n",
    "- индекс **date** - дата замера\n",
    "- **temperature** - температура\n",
    "- **pressure** - атмосферное давление\n",
    "- **cloud** - облачность\n",
    "- **weather** - погодное явление\n",
    "- **wind_dir** - направление ветра\n",
    "- **wind_spd** - скорость ветра в м/с"
   ]
  },
  {
   "cell_type": "code",
   "execution_count": 9,
   "id": "f653776f",
   "metadata": {
    "scrolled": true
   },
   "outputs": [
    {
     "data": {
      "text/html": [
       "<div>\n",
       "<style scoped>\n",
       "    .dataframe tbody tr th:only-of-type {\n",
       "        vertical-align: middle;\n",
       "    }\n",
       "\n",
       "    .dataframe tbody tr th {\n",
       "        vertical-align: top;\n",
       "    }\n",
       "\n",
       "    .dataframe thead th {\n",
       "        text-align: right;\n",
       "    }\n",
       "</style>\n",
       "<table border=\"1\" class=\"dataframe\">\n",
       "  <thead>\n",
       "    <tr style=\"text-align: right;\">\n",
       "      <th></th>\n",
       "      <th></th>\n",
       "      <th>temperature</th>\n",
       "      <th>pressure</th>\n",
       "      <th>cloud</th>\n",
       "      <th>weather</th>\n",
       "      <th>wind_dir</th>\n",
       "      <th>wind_spd</th>\n",
       "    </tr>\n",
       "    <tr>\n",
       "      <th>uid</th>\n",
       "      <th>date</th>\n",
       "      <th></th>\n",
       "      <th></th>\n",
       "      <th></th>\n",
       "      <th></th>\n",
       "      <th></th>\n",
       "      <th></th>\n",
       "    </tr>\n",
       "  </thead>\n",
       "  <tbody>\n",
       "    <tr>\n",
       "      <th rowspan=\"5\" valign=\"top\">9386</th>\n",
       "      <th>2008-01-01</th>\n",
       "      <td>-17.0</td>\n",
       "      <td>735.0</td>\n",
       "      <td>dull</td>\n",
       "      <td>snow</td>\n",
       "      <td>ЮЗ</td>\n",
       "      <td>2.0</td>\n",
       "    </tr>\n",
       "    <tr>\n",
       "      <th>2008-01-02</th>\n",
       "      <td>-31.0</td>\n",
       "      <td>747.0</td>\n",
       "      <td>sun</td>\n",
       "      <td>clear</td>\n",
       "      <td>СЗ</td>\n",
       "      <td>2.0</td>\n",
       "    </tr>\n",
       "    <tr>\n",
       "      <th>2008-01-03</th>\n",
       "      <td>-43.0</td>\n",
       "      <td>753.0</td>\n",
       "      <td>sun</td>\n",
       "      <td>clear</td>\n",
       "      <td>З</td>\n",
       "      <td>2.0</td>\n",
       "    </tr>\n",
       "    <tr>\n",
       "      <th>2008-01-04</th>\n",
       "      <td>-34.0</td>\n",
       "      <td>733.0</td>\n",
       "      <td>dull</td>\n",
       "      <td>snow</td>\n",
       "      <td>Ш</td>\n",
       "      <td>0.0</td>\n",
       "    </tr>\n",
       "    <tr>\n",
       "      <th>2008-01-05</th>\n",
       "      <td>-28.0</td>\n",
       "      <td>728.0</td>\n",
       "      <td>suncl</td>\n",
       "      <td>clear</td>\n",
       "      <td>З</td>\n",
       "      <td>1.0</td>\n",
       "    </tr>\n",
       "  </tbody>\n",
       "</table>\n",
       "</div>"
      ],
      "text/plain": [
       "                 temperature  pressure  cloud weather wind_dir  wind_spd\n",
       "uid  date                                                               \n",
       "9386 2008-01-01        -17.0     735.0   dull    snow       ЮЗ       2.0\n",
       "     2008-01-02        -31.0     747.0    sun   clear       СЗ       2.0\n",
       "     2008-01-03        -43.0     753.0    sun   clear        З       2.0\n",
       "     2008-01-04        -34.0     733.0   dull    snow        Ш       0.0\n",
       "     2008-01-05        -28.0     728.0  suncl   clear        З       1.0"
      ]
     },
     "execution_count": 9,
     "metadata": {},
     "output_type": "execute_result"
    }
   ],
   "source": [
    "weather_df.head(5)"
   ]
  },
  {
   "cell_type": "code",
   "execution_count": 10,
   "id": "c716b37b",
   "metadata": {
    "scrolled": true
   },
   "outputs": [
    {
     "name": "stdout",
     "output_type": "stream",
     "text": [
      "<class 'pandas.core.frame.DataFrame'>\n",
      "MultiIndex: 102072 entries, (9386, Timestamp('2008-01-01 00:00:00')) to (9518, Timestamp('2017-12-31 00:00:00'))\n",
      "Data columns (total 6 columns):\n",
      " #   Column       Non-Null Count   Dtype  \n",
      "---  ------       --------------   -----  \n",
      " 0   temperature  101236 non-null  float64\n",
      " 1   pressure     101236 non-null  float64\n",
      " 2   cloud        100924 non-null  object \n",
      " 3   weather      101236 non-null  object \n",
      " 4   wind_dir     101236 non-null  object \n",
      " 5   wind_spd     101236 non-null  float64\n",
      "dtypes: float64(3), object(3)\n",
      "memory usage: 5.1+ MB\n"
     ]
    }
   ],
   "source": [
    "weather_df.info()"
   ]
  },
  {
   "cell_type": "code",
   "execution_count": 11,
   "id": "a3b08b92",
   "metadata": {},
   "outputs": [
    {
     "data": {
      "text/plain": [
       "Index(['temperature', 'pressure', 'cloud', 'weather', 'wind_dir', 'wind_spd'], dtype='object')"
      ]
     },
     "execution_count": 11,
     "metadata": {},
     "output_type": "execute_result"
    }
   ],
   "source": [
    "weather_df.columns"
   ]
  },
  {
   "cell_type": "code",
   "execution_count": 12,
   "id": "3bff4de8",
   "metadata": {
    "scrolled": true
   },
   "outputs": [
    {
     "data": {
      "text/plain": [
       "(102072, 6)"
      ]
     },
     "execution_count": 12,
     "metadata": {},
     "output_type": "execute_result"
    }
   ],
   "source": [
    "weather_df.shape"
   ]
  },
  {
   "cell_type": "markdown",
   "id": "8be211c2",
   "metadata": {},
   "source": [
    "#### weather_target"
   ]
  },
  {
   "cell_type": "code",
   "execution_count": 13,
   "id": "fa0f9267",
   "metadata": {},
   "outputs": [
    {
     "name": "stdout",
     "output_type": "stream",
     "text": [
      "<class 'pandas.core.frame.DataFrame'>\n",
      "MultiIndex: 102072 entries, (9386, Timestamp('2008-01-01 00:00:00')) to (9518, Timestamp('2017-12-31 00:00:00'))\n",
      "Data columns (total 6 columns):\n",
      " #   Column       Non-Null Count   Dtype  \n",
      "---  ------       --------------   -----  \n",
      " 0   temperature  101236 non-null  float64\n",
      " 1   pressure     101236 non-null  float64\n",
      " 2   cloud        100924 non-null  object \n",
      " 3   weather      101236 non-null  object \n",
      " 4   wind_dir     101236 non-null  object \n",
      " 5   wind_spd     101236 non-null  float64\n",
      "dtypes: float64(3), object(3)\n",
      "memory usage: 5.1+ MB\n"
     ]
    }
   ],
   "source": [
    "weather_df.info()"
   ]
  },
  {
   "cell_type": "code",
   "execution_count": 14,
   "id": "fa9e5bde",
   "metadata": {},
   "outputs": [
    {
     "data": {
      "text/html": [
       "<div>\n",
       "<style scoped>\n",
       "    .dataframe tbody tr th:only-of-type {\n",
       "        vertical-align: middle;\n",
       "    }\n",
       "\n",
       "    .dataframe tbody tr th {\n",
       "        vertical-align: top;\n",
       "    }\n",
       "\n",
       "    .dataframe thead th {\n",
       "        text-align: right;\n",
       "    }\n",
       "</style>\n",
       "<table border=\"1\" class=\"dataframe\">\n",
       "  <thead>\n",
       "    <tr style=\"text-align: right;\">\n",
       "      <th></th>\n",
       "      <th></th>\n",
       "      <th>temperature</th>\n",
       "      <th>pressure</th>\n",
       "      <th>cloud</th>\n",
       "      <th>weather</th>\n",
       "      <th>wind_dir</th>\n",
       "      <th>wind_spd</th>\n",
       "    </tr>\n",
       "    <tr>\n",
       "      <th>uid</th>\n",
       "      <th>date</th>\n",
       "      <th></th>\n",
       "      <th></th>\n",
       "      <th></th>\n",
       "      <th></th>\n",
       "      <th></th>\n",
       "      <th></th>\n",
       "    </tr>\n",
       "  </thead>\n",
       "  <tbody>\n",
       "    <tr>\n",
       "      <th rowspan=\"5\" valign=\"top\">9386</th>\n",
       "      <th>2018-01-01</th>\n",
       "      <td>-26.0</td>\n",
       "      <td>760.0</td>\n",
       "      <td>dull</td>\n",
       "      <td>clear</td>\n",
       "      <td>Ю</td>\n",
       "      <td>1.0</td>\n",
       "    </tr>\n",
       "    <tr>\n",
       "      <th>2018-01-02</th>\n",
       "      <td>-20.0</td>\n",
       "      <td>758.0</td>\n",
       "      <td>dull</td>\n",
       "      <td>snow</td>\n",
       "      <td>ЮЗ</td>\n",
       "      <td>3.0</td>\n",
       "    </tr>\n",
       "    <tr>\n",
       "      <th>2018-01-03</th>\n",
       "      <td>-13.0</td>\n",
       "      <td>753.0</td>\n",
       "      <td>sun</td>\n",
       "      <td>clear</td>\n",
       "      <td>ЮЗ</td>\n",
       "      <td>2.0</td>\n",
       "    </tr>\n",
       "    <tr>\n",
       "      <th>2018-01-04</th>\n",
       "      <td>-12.0</td>\n",
       "      <td>749.0</td>\n",
       "      <td>sunc</td>\n",
       "      <td>clear</td>\n",
       "      <td>ЮЗ</td>\n",
       "      <td>2.0</td>\n",
       "    </tr>\n",
       "    <tr>\n",
       "      <th>2018-01-05</th>\n",
       "      <td>-10.0</td>\n",
       "      <td>742.0</td>\n",
       "      <td>dull</td>\n",
       "      <td>snow</td>\n",
       "      <td>З</td>\n",
       "      <td>2.0</td>\n",
       "    </tr>\n",
       "  </tbody>\n",
       "</table>\n",
       "</div>"
      ],
      "text/plain": [
       "                 temperature  pressure cloud weather wind_dir  wind_spd\n",
       "uid  date                                                              \n",
       "9386 2018-01-01        -26.0     760.0  dull   clear        Ю       1.0\n",
       "     2018-01-02        -20.0     758.0  dull    snow       ЮЗ       3.0\n",
       "     2018-01-03        -13.0     753.0   sun   clear       ЮЗ       2.0\n",
       "     2018-01-04        -12.0     749.0  sunc   clear       ЮЗ       2.0\n",
       "     2018-01-05        -10.0     742.0  dull    snow        З       2.0"
      ]
     },
     "execution_count": 14,
     "metadata": {},
     "output_type": "execute_result"
    }
   ],
   "source": [
    "weather_target_df.head()"
   ]
  },
  {
   "cell_type": "code",
   "execution_count": 15,
   "id": "ec12c600",
   "metadata": {},
   "outputs": [
    {
     "data": {
      "text/plain": [
       "(10220, 6)"
      ]
     },
     "execution_count": 15,
     "metadata": {},
     "output_type": "execute_result"
    }
   ],
   "source": [
    "weather_target_df.shape"
   ]
  },
  {
   "cell_type": "markdown",
   "id": "b6f4ed6e",
   "metadata": {},
   "source": [
    "### Объединение тренировочных наборов данных:"
   ]
  },
  {
   "cell_type": "code",
   "execution_count": 16,
   "id": "c52f2510",
   "metadata": {
    "scrolled": true
   },
   "outputs": [
    {
     "name": "stdout",
     "output_type": "stream",
     "text": [
      "<class 'pandas.core.frame.DataFrame'>\n",
      "MultiIndex: 102072 entries, (9386, Timestamp('2008-01-01 00:00:00')) to (9518, Timestamp('2017-12-31 00:00:00'))\n",
      "Data columns (total 7 columns):\n",
      " #   Column       Non-Null Count   Dtype  \n",
      "---  ------       --------------   -----  \n",
      " 0   temperature  101236 non-null  float64\n",
      " 1   pressure     101236 non-null  float64\n",
      " 2   cloud        100924 non-null  object \n",
      " 3   weather      101236 non-null  object \n",
      " 4   wind_dir     101236 non-null  object \n",
      " 5   wind_spd     101236 non-null  float64\n",
      " 6   water_level  98065 non-null   float64\n",
      "dtypes: float64(4), object(3)\n",
      "memory usage: 9.9+ MB\n"
     ]
    },
    {
     "data": {
      "text/plain": [
       "(                 temperature  pressure  cloud weather wind_dir  wind_spd  \\\n",
       " uid  date                                                                  \n",
       " 9386 2008-01-01        -17.0     735.0   dull    snow       ЮЗ       2.0   \n",
       "      2008-01-02        -31.0     747.0    sun   clear       СЗ       2.0   \n",
       "      2008-01-03        -43.0     753.0    sun   clear        З       2.0   \n",
       "      2008-01-04        -34.0     733.0   dull    snow        Ш       0.0   \n",
       "      2008-01-05        -28.0     728.0  suncl   clear        З       1.0   \n",
       " \n",
       "                  water_level  \n",
       " uid  date                     \n",
       " 9386 2008-01-01        138.0  \n",
       "      2008-01-02        138.0  \n",
       "      2008-01-03        138.0  \n",
       "      2008-01-04        138.0  \n",
       "      2008-01-05        138.0  ,\n",
       " None,\n",
       " (102072, 7),\n",
       " (102072, 6))"
      ]
     },
     "execution_count": 16,
     "metadata": {},
     "output_type": "execute_result"
    }
   ],
   "source": [
    "df = weather_df.join(water_lvl_df)\n",
    "df.head(), df.info(), df.shape, weather_df.shape"
   ]
  },
  {
   "cell_type": "markdown",
   "id": "c44b03e5",
   "metadata": {},
   "source": [
    "Количество строк до объединения **weather_df** и после осталось тем же."
   ]
  },
  {
   "cell_type": "markdown",
   "id": "8774950a",
   "metadata": {},
   "source": [
    "### Работа с пропусками:"
   ]
  },
  {
   "cell_type": "code",
   "execution_count": 17,
   "id": "a9752b6a",
   "metadata": {
    "scrolled": true
   },
   "outputs": [
    {
     "name": "stdout",
     "output_type": "stream",
     "text": [
      "Размерность water_lvl_df: (98263, 1)\n",
      "Размерность weather_df: (102072, 6)\n",
      "Размерность df: (102072, 7)\n",
      "Размерность weather_target_df: (10220, 6)\n"
     ]
    }
   ],
   "source": [
    "print(f'Размерность water_lvl_df: {water_lvl_df.shape}')\n",
    "print(f'Размерность weather_df: {weather_df.shape}')\n",
    "print(f'Размерность df: {df.shape}')\n",
    "print(f'Размерность weather_target_df: {weather_target_df.shape}')"
   ]
  },
  {
   "cell_type": "markdown",
   "id": "0baf8552",
   "metadata": {},
   "source": [
    "В датасете **weather_df** есть строки за каждый день по каждому посту, однако в данных есть пропуски:"
   ]
  },
  {
   "cell_type": "code",
   "execution_count": 18,
   "id": "439b89fd",
   "metadata": {
    "scrolled": true
   },
   "outputs": [
    {
     "data": {
      "text/html": [
       "<div>\n",
       "<style scoped>\n",
       "    .dataframe tbody tr th:only-of-type {\n",
       "        vertical-align: middle;\n",
       "    }\n",
       "\n",
       "    .dataframe tbody tr th {\n",
       "        vertical-align: top;\n",
       "    }\n",
       "\n",
       "    .dataframe thead th {\n",
       "        text-align: right;\n",
       "    }\n",
       "</style>\n",
       "<table border=\"1\" class=\"dataframe\">\n",
       "  <thead>\n",
       "    <tr style=\"text-align: right;\">\n",
       "      <th></th>\n",
       "      <th></th>\n",
       "      <th>temperature</th>\n",
       "      <th>pressure</th>\n",
       "      <th>cloud</th>\n",
       "      <th>weather</th>\n",
       "      <th>wind_dir</th>\n",
       "      <th>wind_spd</th>\n",
       "      <th>water_level</th>\n",
       "    </tr>\n",
       "    <tr>\n",
       "      <th>uid</th>\n",
       "      <th>date</th>\n",
       "      <th></th>\n",
       "      <th></th>\n",
       "      <th></th>\n",
       "      <th></th>\n",
       "      <th></th>\n",
       "      <th></th>\n",
       "      <th></th>\n",
       "    </tr>\n",
       "  </thead>\n",
       "  <tbody>\n",
       "    <tr>\n",
       "      <th rowspan=\"5\" valign=\"top\">9386</th>\n",
       "      <th>2011-06-19</th>\n",
       "      <td>NaN</td>\n",
       "      <td>NaN</td>\n",
       "      <td>NaN</td>\n",
       "      <td>NaN</td>\n",
       "      <td>NaN</td>\n",
       "      <td>NaN</td>\n",
       "      <td>137.0</td>\n",
       "    </tr>\n",
       "    <tr>\n",
       "      <th>2012-02-06</th>\n",
       "      <td>NaN</td>\n",
       "      <td>NaN</td>\n",
       "      <td>NaN</td>\n",
       "      <td>NaN</td>\n",
       "      <td>NaN</td>\n",
       "      <td>NaN</td>\n",
       "      <td>129.0</td>\n",
       "    </tr>\n",
       "    <tr>\n",
       "      <th>2013-11-10</th>\n",
       "      <td>1.0</td>\n",
       "      <td>743.0</td>\n",
       "      <td>sunc</td>\n",
       "      <td>clear</td>\n",
       "      <td>З</td>\n",
       "      <td>4.0</td>\n",
       "      <td>NaN</td>\n",
       "    </tr>\n",
       "    <tr>\n",
       "      <th>2013-11-11</th>\n",
       "      <td>-3.0</td>\n",
       "      <td>740.0</td>\n",
       "      <td>dull</td>\n",
       "      <td>snow</td>\n",
       "      <td>ЮЗ</td>\n",
       "      <td>4.0</td>\n",
       "      <td>NaN</td>\n",
       "    </tr>\n",
       "    <tr>\n",
       "      <th>2013-11-12</th>\n",
       "      <td>-7.0</td>\n",
       "      <td>739.0</td>\n",
       "      <td>sunc</td>\n",
       "      <td>clear</td>\n",
       "      <td>З</td>\n",
       "      <td>4.0</td>\n",
       "      <td>NaN</td>\n",
       "    </tr>\n",
       "    <tr>\n",
       "      <th>...</th>\n",
       "      <th>...</th>\n",
       "      <td>...</td>\n",
       "      <td>...</td>\n",
       "      <td>...</td>\n",
       "      <td>...</td>\n",
       "      <td>...</td>\n",
       "      <td>...</td>\n",
       "      <td>...</td>\n",
       "    </tr>\n",
       "    <tr>\n",
       "      <th rowspan=\"5\" valign=\"top\">9518</th>\n",
       "      <th>2016-09-20</th>\n",
       "      <td>10.0</td>\n",
       "      <td>730.0</td>\n",
       "      <td>NaN</td>\n",
       "      <td>clear</td>\n",
       "      <td>ЮЗ</td>\n",
       "      <td>1.0</td>\n",
       "      <td>79.0</td>\n",
       "    </tr>\n",
       "    <tr>\n",
       "      <th>2016-09-28</th>\n",
       "      <td>11.0</td>\n",
       "      <td>728.0</td>\n",
       "      <td>NaN</td>\n",
       "      <td>clear</td>\n",
       "      <td>ЮЗ</td>\n",
       "      <td>2.0</td>\n",
       "      <td>79.0</td>\n",
       "    </tr>\n",
       "    <tr>\n",
       "      <th>2017-08-14</th>\n",
       "      <td>28.0</td>\n",
       "      <td>729.0</td>\n",
       "      <td>NaN</td>\n",
       "      <td>clear</td>\n",
       "      <td>ЮЗ</td>\n",
       "      <td>3.0</td>\n",
       "      <td>63.0</td>\n",
       "    </tr>\n",
       "    <tr>\n",
       "      <th>2017-11-26</th>\n",
       "      <td>NaN</td>\n",
       "      <td>NaN</td>\n",
       "      <td>NaN</td>\n",
       "      <td>NaN</td>\n",
       "      <td>NaN</td>\n",
       "      <td>NaN</td>\n",
       "      <td>81.0</td>\n",
       "    </tr>\n",
       "    <tr>\n",
       "      <th>2017-11-27</th>\n",
       "      <td>NaN</td>\n",
       "      <td>NaN</td>\n",
       "      <td>NaN</td>\n",
       "      <td>NaN</td>\n",
       "      <td>NaN</td>\n",
       "      <td>NaN</td>\n",
       "      <td>80.0</td>\n",
       "    </tr>\n",
       "  </tbody>\n",
       "</table>\n",
       "<p>5094 rows × 7 columns</p>\n",
       "</div>"
      ],
      "text/plain": [
       "                 temperature  pressure cloud weather wind_dir  wind_spd  \\\n",
       "uid  date                                                                 \n",
       "9386 2011-06-19          NaN       NaN   NaN     NaN      NaN       NaN   \n",
       "     2012-02-06          NaN       NaN   NaN     NaN      NaN       NaN   \n",
       "     2013-11-10          1.0     743.0  sunc   clear        З       4.0   \n",
       "     2013-11-11         -3.0     740.0  dull    snow       ЮЗ       4.0   \n",
       "     2013-11-12         -7.0     739.0  sunc   clear        З       4.0   \n",
       "...                      ...       ...   ...     ...      ...       ...   \n",
       "9518 2016-09-20         10.0     730.0   NaN   clear       ЮЗ       1.0   \n",
       "     2016-09-28         11.0     728.0   NaN   clear       ЮЗ       2.0   \n",
       "     2017-08-14         28.0     729.0   NaN   clear       ЮЗ       3.0   \n",
       "     2017-11-26          NaN       NaN   NaN     NaN      NaN       NaN   \n",
       "     2017-11-27          NaN       NaN   NaN     NaN      NaN       NaN   \n",
       "\n",
       "                 water_level  \n",
       "uid  date                     \n",
       "9386 2011-06-19        137.0  \n",
       "     2012-02-06        129.0  \n",
       "     2013-11-10          NaN  \n",
       "     2013-11-11          NaN  \n",
       "     2013-11-12          NaN  \n",
       "...                      ...  \n",
       "9518 2016-09-20         79.0  \n",
       "     2016-09-28         79.0  \n",
       "     2017-08-14         63.0  \n",
       "     2017-11-26         81.0  \n",
       "     2017-11-27         80.0  \n",
       "\n",
       "[5094 rows x 7 columns]"
      ]
     },
     "execution_count": 18,
     "metadata": {},
     "output_type": "execute_result"
    }
   ],
   "source": [
    "df[df.isnull().any(axis=1)]"
   ]
  },
  {
   "cell_type": "markdown",
   "id": "6dccf20f",
   "metadata": {},
   "source": [
    "Рассмотрим данные с поста 9518 за период с 2017-11-25 по 2017-11-28, где отсутствуют метео-данные:"
   ]
  },
  {
   "cell_type": "code",
   "execution_count": 19,
   "id": "e10ed6cc",
   "metadata": {
    "scrolled": true
   },
   "outputs": [
    {
     "data": {
      "text/html": [
       "<div>\n",
       "<style scoped>\n",
       "    .dataframe tbody tr th:only-of-type {\n",
       "        vertical-align: middle;\n",
       "    }\n",
       "\n",
       "    .dataframe tbody tr th {\n",
       "        vertical-align: top;\n",
       "    }\n",
       "\n",
       "    .dataframe thead th {\n",
       "        text-align: right;\n",
       "    }\n",
       "</style>\n",
       "<table border=\"1\" class=\"dataframe\">\n",
       "  <thead>\n",
       "    <tr style=\"text-align: right;\">\n",
       "      <th></th>\n",
       "      <th></th>\n",
       "      <th>temperature</th>\n",
       "      <th>pressure</th>\n",
       "      <th>cloud</th>\n",
       "      <th>weather</th>\n",
       "      <th>wind_dir</th>\n",
       "      <th>wind_spd</th>\n",
       "      <th>water_level</th>\n",
       "    </tr>\n",
       "    <tr>\n",
       "      <th>uid</th>\n",
       "      <th>date</th>\n",
       "      <th></th>\n",
       "      <th></th>\n",
       "      <th></th>\n",
       "      <th></th>\n",
       "      <th></th>\n",
       "      <th></th>\n",
       "      <th></th>\n",
       "    </tr>\n",
       "  </thead>\n",
       "  <tbody>\n",
       "    <tr>\n",
       "      <th rowspan=\"4\" valign=\"top\">9518</th>\n",
       "      <th>2017-11-25</th>\n",
       "      <td>-35.0</td>\n",
       "      <td>741.0</td>\n",
       "      <td>sunc</td>\n",
       "      <td>clear</td>\n",
       "      <td>Ю</td>\n",
       "      <td>2.0</td>\n",
       "      <td>81.0</td>\n",
       "    </tr>\n",
       "    <tr>\n",
       "      <th>2017-11-26</th>\n",
       "      <td>NaN</td>\n",
       "      <td>NaN</td>\n",
       "      <td>NaN</td>\n",
       "      <td>NaN</td>\n",
       "      <td>NaN</td>\n",
       "      <td>NaN</td>\n",
       "      <td>81.0</td>\n",
       "    </tr>\n",
       "    <tr>\n",
       "      <th>2017-11-27</th>\n",
       "      <td>NaN</td>\n",
       "      <td>NaN</td>\n",
       "      <td>NaN</td>\n",
       "      <td>NaN</td>\n",
       "      <td>NaN</td>\n",
       "      <td>NaN</td>\n",
       "      <td>80.0</td>\n",
       "    </tr>\n",
       "    <tr>\n",
       "      <th>2017-11-28</th>\n",
       "      <td>-33.0</td>\n",
       "      <td>749.0</td>\n",
       "      <td>sun</td>\n",
       "      <td>clear</td>\n",
       "      <td>Ш</td>\n",
       "      <td>0.0</td>\n",
       "      <td>80.0</td>\n",
       "    </tr>\n",
       "  </tbody>\n",
       "</table>\n",
       "</div>"
      ],
      "text/plain": [
       "                 temperature  pressure cloud weather wind_dir  wind_spd  \\\n",
       "uid  date                                                                 \n",
       "9518 2017-11-25        -35.0     741.0  sunc   clear        Ю       2.0   \n",
       "     2017-11-26          NaN       NaN   NaN     NaN      NaN       NaN   \n",
       "     2017-11-27          NaN       NaN   NaN     NaN      NaN       NaN   \n",
       "     2017-11-28        -33.0     749.0   sun   clear        Ш       0.0   \n",
       "\n",
       "                 water_level  \n",
       "uid  date                     \n",
       "9518 2017-11-25         81.0  \n",
       "     2017-11-26         81.0  \n",
       "     2017-11-27         80.0  \n",
       "     2017-11-28         80.0  "
      ]
     },
     "execution_count": 19,
     "metadata": {},
     "output_type": "execute_result"
    }
   ],
   "source": [
    "test_start_date = '2017-11-25'\n",
    "test_end_date   = '2017-11-28'\n",
    "df.query('uid == 9518 and date >= @test_start_date and date <= @test_end_date')"
   ]
  },
  {
   "cell_type": "code",
   "execution_count": 20,
   "id": "a027c9d2",
   "metadata": {
    "scrolled": true
   },
   "outputs": [
    {
     "data": {
      "text/plain": [
       "temperature     836\n",
       "pressure        836\n",
       "cloud          1148\n",
       "weather         836\n",
       "wind_dir        836\n",
       "wind_spd        836\n",
       "water_level    4007\n",
       "dtype: int64"
      ]
     },
     "execution_count": 20,
     "metadata": {},
     "output_type": "execute_result"
    }
   ],
   "source": [
    "df.isnull().sum()"
   ]
  },
  {
   "cell_type": "markdown",
   "id": "89dcba31",
   "metadata": {},
   "source": [
    "Для некоторых дат полностью отсутствуют метео-данные. Уберём такие строки:"
   ]
  },
  {
   "cell_type": "code",
   "execution_count": 21,
   "id": "83f71139",
   "metadata": {},
   "outputs": [
    {
     "data": {
      "text/plain": [
       "(102072, 7)"
      ]
     },
     "execution_count": 21,
     "metadata": {},
     "output_type": "execute_result"
    }
   ],
   "source": [
    "df.shape"
   ]
  },
  {
   "cell_type": "code",
   "execution_count": 22,
   "id": "65b8275c",
   "metadata": {},
   "outputs": [
    {
     "name": "stdout",
     "output_type": "stream",
     "text": [
      "Процент строк с отсутствующими данными об уровне воды: 3.93%\n"
     ]
    }
   ],
   "source": [
    "print(f'Процент строк с отсутствующими данными об уровне воды: {df[\"water_level\"].isnull().sum() / df.shape[0] * 100:.2f}%')"
   ]
  },
  {
   "cell_type": "code",
   "execution_count": 23,
   "id": "18846912",
   "metadata": {},
   "outputs": [
    {
     "data": {
      "text/plain": [
       "(101229, 7)"
      ]
     },
     "execution_count": 23,
     "metadata": {},
     "output_type": "execute_result"
    }
   ],
   "source": [
    "df = df.dropna(thresh=6)  # 6 - число столбцов у метео-данных\n",
    "df.shape"
   ]
  },
  {
   "cell_type": "code",
   "execution_count": 24,
   "id": "147bc237",
   "metadata": {
    "scrolled": true
   },
   "outputs": [
    {
     "data": {
      "text/plain": [
       "temperature       0\n",
       "pressure          0\n",
       "cloud           305\n",
       "weather           0\n",
       "wind_dir          0\n",
       "wind_spd          0\n",
       "water_level    3946\n",
       "dtype: int64"
      ]
     },
     "execution_count": 24,
     "metadata": {},
     "output_type": "execute_result"
    }
   ],
   "source": [
    "df.isnull().sum()"
   ]
  },
  {
   "cell_type": "code",
   "execution_count": 25,
   "id": "09240368",
   "metadata": {},
   "outputs": [
    {
     "data": {
      "text/html": [
       "<div>\n",
       "<style scoped>\n",
       "    .dataframe tbody tr th:only-of-type {\n",
       "        vertical-align: middle;\n",
       "    }\n",
       "\n",
       "    .dataframe tbody tr th {\n",
       "        vertical-align: top;\n",
       "    }\n",
       "\n",
       "    .dataframe thead th {\n",
       "        text-align: right;\n",
       "    }\n",
       "</style>\n",
       "<table border=\"1\" class=\"dataframe\">\n",
       "  <thead>\n",
       "    <tr style=\"text-align: right;\">\n",
       "      <th></th>\n",
       "      <th></th>\n",
       "      <th>temperature</th>\n",
       "      <th>pressure</th>\n",
       "      <th>cloud</th>\n",
       "      <th>weather</th>\n",
       "      <th>wind_dir</th>\n",
       "      <th>wind_spd</th>\n",
       "      <th>water_level</th>\n",
       "    </tr>\n",
       "    <tr>\n",
       "      <th>uid</th>\n",
       "      <th>date</th>\n",
       "      <th></th>\n",
       "      <th></th>\n",
       "      <th></th>\n",
       "      <th></th>\n",
       "      <th></th>\n",
       "      <th></th>\n",
       "      <th></th>\n",
       "    </tr>\n",
       "  </thead>\n",
       "  <tbody>\n",
       "    <tr>\n",
       "      <th rowspan=\"2\" valign=\"top\">9518</th>\n",
       "      <th>2017-11-25</th>\n",
       "      <td>-35.0</td>\n",
       "      <td>741.0</td>\n",
       "      <td>sunc</td>\n",
       "      <td>clear</td>\n",
       "      <td>Ю</td>\n",
       "      <td>2.0</td>\n",
       "      <td>81.0</td>\n",
       "    </tr>\n",
       "    <tr>\n",
       "      <th>2017-11-28</th>\n",
       "      <td>-33.0</td>\n",
       "      <td>749.0</td>\n",
       "      <td>sun</td>\n",
       "      <td>clear</td>\n",
       "      <td>Ш</td>\n",
       "      <td>0.0</td>\n",
       "      <td>80.0</td>\n",
       "    </tr>\n",
       "  </tbody>\n",
       "</table>\n",
       "</div>"
      ],
      "text/plain": [
       "                 temperature  pressure cloud weather wind_dir  wind_spd  \\\n",
       "uid  date                                                                 \n",
       "9518 2017-11-25        -35.0     741.0  sunc   clear        Ю       2.0   \n",
       "     2017-11-28        -33.0     749.0   sun   clear        Ш       0.0   \n",
       "\n",
       "                 water_level  \n",
       "uid  date                     \n",
       "9518 2017-11-25         81.0  \n",
       "     2017-11-28         80.0  "
      ]
     },
     "execution_count": 25,
     "metadata": {},
     "output_type": "execute_result"
    }
   ],
   "source": [
    "df.query('uid == 9518 and date >= @test_start_date and date <= @test_end_date')"
   ]
  },
  {
   "cell_type": "markdown",
   "id": "83c694cb",
   "metadata": {},
   "source": [
    "Остались строки с отсуствующими данные об облачности и уровню воды. Для их исправления используем метод [pd.interpolate()](https://pandas.pydata.org/pandas-docs/stable/reference/api/pandas.DataFrame.interpolate.html), который заменяет пропуски данных с учётом соседей, к которых известны значения, а учитывая, что в датафрейме используется мультииндекс с uid постом наблюдения и датой, будут выбраны только те значения, которые относятся к текущему посту:"
   ]
  },
  {
   "cell_type": "code",
   "execution_count": 26,
   "id": "be2b7a82",
   "metadata": {},
   "outputs": [
    {
     "data": {
      "text/plain": [
       "0    NaN\n",
       "1    1.0\n",
       "2    NaN\n",
       "3    NaN\n",
       "4    4.0\n",
       "5    NaN\n",
       "dtype: float64"
      ]
     },
     "execution_count": 26,
     "metadata": {},
     "output_type": "execute_result"
    }
   ],
   "source": [
    "test = pd.Series([np.nan, 1, np.nan, np.nan, 4, np.nan])\n",
    "test"
   ]
  },
  {
   "cell_type": "code",
   "execution_count": 27,
   "id": "7e462853",
   "metadata": {},
   "outputs": [
    {
     "data": {
      "text/plain": [
       "0    1.0\n",
       "1    1.0\n",
       "2    2.0\n",
       "3    3.0\n",
       "4    4.0\n",
       "5    4.0\n",
       "dtype: float64"
      ]
     },
     "execution_count": 27,
     "metadata": {},
     "output_type": "execute_result"
    }
   ],
   "source": [
    "test.interpolate(limit_direction='both')"
   ]
  },
  {
   "cell_type": "markdown",
   "id": "ada81395",
   "metadata": {},
   "source": [
    "Рассмотрим данные с поста 9386 за период с 2013-11-09 по 2013-11-14, где отсутствуют данные об уровне воды:"
   ]
  },
  {
   "cell_type": "code",
   "execution_count": 28,
   "id": "1f9c0573",
   "metadata": {},
   "outputs": [
    {
     "data": {
      "text/html": [
       "<div>\n",
       "<style scoped>\n",
       "    .dataframe tbody tr th:only-of-type {\n",
       "        vertical-align: middle;\n",
       "    }\n",
       "\n",
       "    .dataframe tbody tr th {\n",
       "        vertical-align: top;\n",
       "    }\n",
       "\n",
       "    .dataframe thead th {\n",
       "        text-align: right;\n",
       "    }\n",
       "</style>\n",
       "<table border=\"1\" class=\"dataframe\">\n",
       "  <thead>\n",
       "    <tr style=\"text-align: right;\">\n",
       "      <th></th>\n",
       "      <th></th>\n",
       "      <th>temperature</th>\n",
       "      <th>pressure</th>\n",
       "      <th>cloud</th>\n",
       "      <th>weather</th>\n",
       "      <th>wind_dir</th>\n",
       "      <th>wind_spd</th>\n",
       "      <th>water_level</th>\n",
       "    </tr>\n",
       "    <tr>\n",
       "      <th>uid</th>\n",
       "      <th>date</th>\n",
       "      <th></th>\n",
       "      <th></th>\n",
       "      <th></th>\n",
       "      <th></th>\n",
       "      <th></th>\n",
       "      <th></th>\n",
       "      <th></th>\n",
       "    </tr>\n",
       "  </thead>\n",
       "  <tbody>\n",
       "    <tr>\n",
       "      <th rowspan=\"6\" valign=\"top\">9386</th>\n",
       "      <th>2013-11-09</th>\n",
       "      <td>-5.0</td>\n",
       "      <td>740.0</td>\n",
       "      <td>suncl</td>\n",
       "      <td>clear</td>\n",
       "      <td>З</td>\n",
       "      <td>2.0</td>\n",
       "      <td>115.0</td>\n",
       "    </tr>\n",
       "    <tr>\n",
       "      <th>2013-11-10</th>\n",
       "      <td>1.0</td>\n",
       "      <td>743.0</td>\n",
       "      <td>sunc</td>\n",
       "      <td>clear</td>\n",
       "      <td>З</td>\n",
       "      <td>4.0</td>\n",
       "      <td>NaN</td>\n",
       "    </tr>\n",
       "    <tr>\n",
       "      <th>2013-11-11</th>\n",
       "      <td>-3.0</td>\n",
       "      <td>740.0</td>\n",
       "      <td>dull</td>\n",
       "      <td>snow</td>\n",
       "      <td>ЮЗ</td>\n",
       "      <td>4.0</td>\n",
       "      <td>NaN</td>\n",
       "    </tr>\n",
       "    <tr>\n",
       "      <th>2013-11-12</th>\n",
       "      <td>-7.0</td>\n",
       "      <td>739.0</td>\n",
       "      <td>sunc</td>\n",
       "      <td>clear</td>\n",
       "      <td>З</td>\n",
       "      <td>4.0</td>\n",
       "      <td>NaN</td>\n",
       "    </tr>\n",
       "    <tr>\n",
       "      <th>2013-11-13</th>\n",
       "      <td>-16.0</td>\n",
       "      <td>735.0</td>\n",
       "      <td>dull</td>\n",
       "      <td>snow</td>\n",
       "      <td>Ш</td>\n",
       "      <td>0.0</td>\n",
       "      <td>NaN</td>\n",
       "    </tr>\n",
       "    <tr>\n",
       "      <th>2013-11-14</th>\n",
       "      <td>-21.0</td>\n",
       "      <td>740.0</td>\n",
       "      <td>suncl</td>\n",
       "      <td>snow</td>\n",
       "      <td>С</td>\n",
       "      <td>3.0</td>\n",
       "      <td>NaN</td>\n",
       "    </tr>\n",
       "  </tbody>\n",
       "</table>\n",
       "</div>"
      ],
      "text/plain": [
       "                 temperature  pressure  cloud weather wind_dir  wind_spd  \\\n",
       "uid  date                                                                  \n",
       "9386 2013-11-09         -5.0     740.0  suncl   clear        З       2.0   \n",
       "     2013-11-10          1.0     743.0   sunc   clear        З       4.0   \n",
       "     2013-11-11         -3.0     740.0   dull    snow       ЮЗ       4.0   \n",
       "     2013-11-12         -7.0     739.0   sunc   clear        З       4.0   \n",
       "     2013-11-13        -16.0     735.0   dull    snow        Ш       0.0   \n",
       "     2013-11-14        -21.0     740.0  suncl    snow        С       3.0   \n",
       "\n",
       "                 water_level  \n",
       "uid  date                     \n",
       "9386 2013-11-09        115.0  \n",
       "     2013-11-10          NaN  \n",
       "     2013-11-11          NaN  \n",
       "     2013-11-12          NaN  \n",
       "     2013-11-13          NaN  \n",
       "     2013-11-14          NaN  "
      ]
     },
     "execution_count": 28,
     "metadata": {},
     "output_type": "execute_result"
    }
   ],
   "source": [
    "test_start_date = '2013-11-09'\n",
    "test_end_date   = '2013-11-14'\n",
    "df.query('uid == 9386 and date >= @test_start_date and date <= @test_end_date')"
   ]
  },
  {
   "cell_type": "code",
   "execution_count": 29,
   "id": "1f55aeee",
   "metadata": {},
   "outputs": [
    {
     "data": {
      "text/plain": [
       "temperature      0\n",
       "pressure         0\n",
       "cloud          305\n",
       "weather          0\n",
       "wind_dir         0\n",
       "wind_spd         0\n",
       "water_level      0\n",
       "dtype: int64"
      ]
     },
     "execution_count": 29,
     "metadata": {},
     "output_type": "execute_result"
    }
   ],
   "source": [
    "# замещение отсутствующих данных об уровне воды\n",
    "df['water_level'] = df['water_level'].interpolate()\n",
    "df.isnull().sum()"
   ]
  },
  {
   "cell_type": "code",
   "execution_count": 30,
   "id": "278f0689",
   "metadata": {
    "scrolled": true
   },
   "outputs": [
    {
     "data": {
      "text/html": [
       "<div>\n",
       "<style scoped>\n",
       "    .dataframe tbody tr th:only-of-type {\n",
       "        vertical-align: middle;\n",
       "    }\n",
       "\n",
       "    .dataframe tbody tr th {\n",
       "        vertical-align: top;\n",
       "    }\n",
       "\n",
       "    .dataframe thead th {\n",
       "        text-align: right;\n",
       "    }\n",
       "</style>\n",
       "<table border=\"1\" class=\"dataframe\">\n",
       "  <thead>\n",
       "    <tr style=\"text-align: right;\">\n",
       "      <th></th>\n",
       "      <th></th>\n",
       "      <th>temperature</th>\n",
       "      <th>pressure</th>\n",
       "      <th>cloud</th>\n",
       "      <th>weather</th>\n",
       "      <th>wind_dir</th>\n",
       "      <th>wind_spd</th>\n",
       "      <th>water_level</th>\n",
       "    </tr>\n",
       "    <tr>\n",
       "      <th>uid</th>\n",
       "      <th>date</th>\n",
       "      <th></th>\n",
       "      <th></th>\n",
       "      <th></th>\n",
       "      <th></th>\n",
       "      <th></th>\n",
       "      <th></th>\n",
       "      <th></th>\n",
       "    </tr>\n",
       "  </thead>\n",
       "  <tbody>\n",
       "    <tr>\n",
       "      <th rowspan=\"6\" valign=\"top\">9386</th>\n",
       "      <th>2013-11-09</th>\n",
       "      <td>-5.0</td>\n",
       "      <td>740.0</td>\n",
       "      <td>suncl</td>\n",
       "      <td>clear</td>\n",
       "      <td>З</td>\n",
       "      <td>2.0</td>\n",
       "      <td>115.000000</td>\n",
       "    </tr>\n",
       "    <tr>\n",
       "      <th>2013-11-10</th>\n",
       "      <td>1.0</td>\n",
       "      <td>743.0</td>\n",
       "      <td>sunc</td>\n",
       "      <td>clear</td>\n",
       "      <td>З</td>\n",
       "      <td>4.0</td>\n",
       "      <td>114.867925</td>\n",
       "    </tr>\n",
       "    <tr>\n",
       "      <th>2013-11-11</th>\n",
       "      <td>-3.0</td>\n",
       "      <td>740.0</td>\n",
       "      <td>dull</td>\n",
       "      <td>snow</td>\n",
       "      <td>ЮЗ</td>\n",
       "      <td>4.0</td>\n",
       "      <td>114.735849</td>\n",
       "    </tr>\n",
       "    <tr>\n",
       "      <th>2013-11-12</th>\n",
       "      <td>-7.0</td>\n",
       "      <td>739.0</td>\n",
       "      <td>sunc</td>\n",
       "      <td>clear</td>\n",
       "      <td>З</td>\n",
       "      <td>4.0</td>\n",
       "      <td>114.603774</td>\n",
       "    </tr>\n",
       "    <tr>\n",
       "      <th>2013-11-13</th>\n",
       "      <td>-16.0</td>\n",
       "      <td>735.0</td>\n",
       "      <td>dull</td>\n",
       "      <td>snow</td>\n",
       "      <td>Ш</td>\n",
       "      <td>0.0</td>\n",
       "      <td>114.471698</td>\n",
       "    </tr>\n",
       "    <tr>\n",
       "      <th>2013-11-14</th>\n",
       "      <td>-21.0</td>\n",
       "      <td>740.0</td>\n",
       "      <td>suncl</td>\n",
       "      <td>snow</td>\n",
       "      <td>С</td>\n",
       "      <td>3.0</td>\n",
       "      <td>114.339623</td>\n",
       "    </tr>\n",
       "  </tbody>\n",
       "</table>\n",
       "</div>"
      ],
      "text/plain": [
       "                 temperature  pressure  cloud weather wind_dir  wind_spd  \\\n",
       "uid  date                                                                  \n",
       "9386 2013-11-09         -5.0     740.0  suncl   clear        З       2.0   \n",
       "     2013-11-10          1.0     743.0   sunc   clear        З       4.0   \n",
       "     2013-11-11         -3.0     740.0   dull    snow       ЮЗ       4.0   \n",
       "     2013-11-12         -7.0     739.0   sunc   clear        З       4.0   \n",
       "     2013-11-13        -16.0     735.0   dull    snow        Ш       0.0   \n",
       "     2013-11-14        -21.0     740.0  suncl    snow        С       3.0   \n",
       "\n",
       "                 water_level  \n",
       "uid  date                     \n",
       "9386 2013-11-09   115.000000  \n",
       "     2013-11-10   114.867925  \n",
       "     2013-11-11   114.735849  \n",
       "     2013-11-12   114.603774  \n",
       "     2013-11-13   114.471698  \n",
       "     2013-11-14   114.339623  "
      ]
     },
     "execution_count": 30,
     "metadata": {},
     "output_type": "execute_result"
    }
   ],
   "source": [
    "df.query('uid == 9386 and date >= @test_start_date and date <= @test_end_date')"
   ]
  },
  {
   "cell_type": "markdown",
   "id": "ea30a1e3",
   "metadata": {},
   "source": [
    "### Обработка категориальных признаков:"
   ]
  },
  {
   "cell_type": "markdown",
   "id": "338786b1",
   "metadata": {},
   "source": [
    "#### Cloud (облачность):"
   ]
  },
  {
   "cell_type": "code",
   "execution_count": 31,
   "id": "49cacde3",
   "metadata": {},
   "outputs": [
    {
     "name": "stdout",
     "output_type": "stream",
     "text": [
      "describe:\n",
      "count     100924\n",
      "unique         4\n",
      "top         dull\n",
      "freq       38227\n",
      "Name: cloud, dtype: object\n",
      "--------------------------------------------------------------------------------\n",
      "unique:\n",
      "['dull' 'sun' 'suncl' 'sunc' nan]\n",
      "--------------------------------------------------------------------------------\n",
      "nunique:\n",
      "4\n",
      "--------------------------------------------------------------------------------\n",
      "value_count:\n",
      "dull     38227\n",
      "suncl    22966\n",
      "sun      20984\n",
      "sunc     18747\n",
      "Name: cloud, dtype: int64\n"
     ]
    }
   ],
   "source": [
    "def print_col_info(column):\n",
    "    print(f'''describe:\n",
    "{column.describe(datetime_is_numeric=True)}\n",
    "{\"-\" * 80}\n",
    "unique:\n",
    "{column.unique()}\n",
    "{\"-\" * 80}\n",
    "nunique:\n",
    "{column.nunique()}\n",
    "{\"-\" * 80}\n",
    "value_count:\n",
    "{column.value_counts()}''')\n",
    "\n",
    "print_col_info(df['cloud'])"
   ]
  },
  {
   "cell_type": "markdown",
   "id": "bec80a7d",
   "metadata": {},
   "source": [
    "Облачность может быть следующей:\n",
    "- **sun** - ясно\n",
    "- **sunс** - малооблачно\n",
    "- **suncl** - облачно\n",
    "- **dull** - пасмурно\n",
    "\n",
    "Здесь прослеживается порядок - от ясного неба к пасмурному, поэтому для кодирования данного упорядоченного признака необходимо использовать метод Label Encoder.\n",
    "\n",
    "Реализация данного метода в sklearn перед кодированием [сортирует уникальные признаки в алфавитном порядке](https://github.com/scikit-learn/scikit-learn/blob/f3f51f9b611bf873bd5836748647221480071a87/sklearn/preprocessing/_label.py#L799), в результате чего будет нарушен порядок: **dull** будет закодирован как 0, **sun** - как 1, **sunс** - 2, **suncl** - 3."
   ]
  },
  {
   "cell_type": "code",
   "execution_count": 32,
   "id": "c28085a9",
   "metadata": {
    "scrolled": true
   },
   "outputs": [
    {
     "data": {
      "text/html": [
       "<div>\n",
       "<style scoped>\n",
       "    .dataframe tbody tr th:only-of-type {\n",
       "        vertical-align: middle;\n",
       "    }\n",
       "\n",
       "    .dataframe tbody tr th {\n",
       "        vertical-align: top;\n",
       "    }\n",
       "\n",
       "    .dataframe thead th {\n",
       "        text-align: right;\n",
       "    }\n",
       "</style>\n",
       "<table border=\"1\" class=\"dataframe\">\n",
       "  <thead>\n",
       "    <tr style=\"text-align: right;\">\n",
       "      <th></th>\n",
       "      <th></th>\n",
       "      <th>temperature</th>\n",
       "      <th>pressure</th>\n",
       "      <th>cloud</th>\n",
       "      <th>weather</th>\n",
       "      <th>wind_dir</th>\n",
       "      <th>wind_spd</th>\n",
       "      <th>water_level</th>\n",
       "    </tr>\n",
       "    <tr>\n",
       "      <th>uid</th>\n",
       "      <th>date</th>\n",
       "      <th></th>\n",
       "      <th></th>\n",
       "      <th></th>\n",
       "      <th></th>\n",
       "      <th></th>\n",
       "      <th></th>\n",
       "      <th></th>\n",
       "    </tr>\n",
       "  </thead>\n",
       "  <tbody>\n",
       "    <tr>\n",
       "      <th rowspan=\"5\" valign=\"top\">9386</th>\n",
       "      <th>2008-01-01</th>\n",
       "      <td>-17.0</td>\n",
       "      <td>735.0</td>\n",
       "      <td>3.0</td>\n",
       "      <td>snow</td>\n",
       "      <td>ЮЗ</td>\n",
       "      <td>2.0</td>\n",
       "      <td>138.0</td>\n",
       "    </tr>\n",
       "    <tr>\n",
       "      <th>2008-01-02</th>\n",
       "      <td>-31.0</td>\n",
       "      <td>747.0</td>\n",
       "      <td>0.0</td>\n",
       "      <td>clear</td>\n",
       "      <td>СЗ</td>\n",
       "      <td>2.0</td>\n",
       "      <td>138.0</td>\n",
       "    </tr>\n",
       "    <tr>\n",
       "      <th>2008-01-03</th>\n",
       "      <td>-43.0</td>\n",
       "      <td>753.0</td>\n",
       "      <td>0.0</td>\n",
       "      <td>clear</td>\n",
       "      <td>З</td>\n",
       "      <td>2.0</td>\n",
       "      <td>138.0</td>\n",
       "    </tr>\n",
       "    <tr>\n",
       "      <th>2008-01-04</th>\n",
       "      <td>-34.0</td>\n",
       "      <td>733.0</td>\n",
       "      <td>3.0</td>\n",
       "      <td>snow</td>\n",
       "      <td>Ш</td>\n",
       "      <td>0.0</td>\n",
       "      <td>138.0</td>\n",
       "    </tr>\n",
       "    <tr>\n",
       "      <th>2008-01-05</th>\n",
       "      <td>-28.0</td>\n",
       "      <td>728.0</td>\n",
       "      <td>2.0</td>\n",
       "      <td>clear</td>\n",
       "      <td>З</td>\n",
       "      <td>1.0</td>\n",
       "      <td>138.0</td>\n",
       "    </tr>\n",
       "  </tbody>\n",
       "</table>\n",
       "</div>"
      ],
      "text/plain": [
       "                 temperature  pressure  cloud weather wind_dir  wind_spd  \\\n",
       "uid  date                                                                  \n",
       "9386 2008-01-01        -17.0     735.0    3.0    snow       ЮЗ       2.0   \n",
       "     2008-01-02        -31.0     747.0    0.0   clear       СЗ       2.0   \n",
       "     2008-01-03        -43.0     753.0    0.0   clear        З       2.0   \n",
       "     2008-01-04        -34.0     733.0    3.0    snow        Ш       0.0   \n",
       "     2008-01-05        -28.0     728.0    2.0   clear        З       1.0   \n",
       "\n",
       "                 water_level  \n",
       "uid  date                     \n",
       "9386 2008-01-01        138.0  \n",
       "     2008-01-02        138.0  \n",
       "     2008-01-03        138.0  \n",
       "     2008-01-04        138.0  \n",
       "     2008-01-05        138.0  "
      ]
     },
     "execution_count": 32,
     "metadata": {},
     "output_type": "execute_result"
    }
   ],
   "source": [
    "df['cloud'] = df['cloud'].map({'sun': 0, 'sunc': 1, 'suncl': 2, 'dull': 3})\n",
    "df.head(5)"
   ]
  },
  {
   "cell_type": "code",
   "execution_count": 33,
   "id": "ded6eb0c",
   "metadata": {},
   "outputs": [
    {
     "data": {
      "text/html": [
       "<div>\n",
       "<style scoped>\n",
       "    .dataframe tbody tr th:only-of-type {\n",
       "        vertical-align: middle;\n",
       "    }\n",
       "\n",
       "    .dataframe tbody tr th {\n",
       "        vertical-align: top;\n",
       "    }\n",
       "\n",
       "    .dataframe thead th {\n",
       "        text-align: right;\n",
       "    }\n",
       "</style>\n",
       "<table border=\"1\" class=\"dataframe\">\n",
       "  <thead>\n",
       "    <tr style=\"text-align: right;\">\n",
       "      <th></th>\n",
       "      <th></th>\n",
       "      <th>temperature</th>\n",
       "      <th>pressure</th>\n",
       "      <th>cloud</th>\n",
       "      <th>weather</th>\n",
       "      <th>wind_dir</th>\n",
       "      <th>wind_spd</th>\n",
       "      <th>water_level</th>\n",
       "    </tr>\n",
       "    <tr>\n",
       "      <th>uid</th>\n",
       "      <th>date</th>\n",
       "      <th></th>\n",
       "      <th></th>\n",
       "      <th></th>\n",
       "      <th></th>\n",
       "      <th></th>\n",
       "      <th></th>\n",
       "      <th></th>\n",
       "    </tr>\n",
       "  </thead>\n",
       "  <tbody>\n",
       "    <tr>\n",
       "      <th rowspan=\"5\" valign=\"top\">9386</th>\n",
       "      <th>2015-09-26</th>\n",
       "      <td>8.0</td>\n",
       "      <td>744.0</td>\n",
       "      <td>NaN</td>\n",
       "      <td>clear</td>\n",
       "      <td>СВ</td>\n",
       "      <td>4.0</td>\n",
       "      <td>119.0</td>\n",
       "    </tr>\n",
       "    <tr>\n",
       "      <th>2015-09-27</th>\n",
       "      <td>8.0</td>\n",
       "      <td>746.0</td>\n",
       "      <td>NaN</td>\n",
       "      <td>clear</td>\n",
       "      <td>Ш</td>\n",
       "      <td>1.0</td>\n",
       "      <td>119.0</td>\n",
       "    </tr>\n",
       "    <tr>\n",
       "      <th>2015-10-10</th>\n",
       "      <td>10.0</td>\n",
       "      <td>741.0</td>\n",
       "      <td>NaN</td>\n",
       "      <td>clear</td>\n",
       "      <td>В</td>\n",
       "      <td>2.0</td>\n",
       "      <td>119.0</td>\n",
       "    </tr>\n",
       "    <tr>\n",
       "      <th>2015-10-24</th>\n",
       "      <td>-9.0</td>\n",
       "      <td>738.0</td>\n",
       "      <td>NaN</td>\n",
       "      <td>clear</td>\n",
       "      <td>Ш</td>\n",
       "      <td>1.0</td>\n",
       "      <td>128.0</td>\n",
       "    </tr>\n",
       "    <tr>\n",
       "      <th>2015-10-31</th>\n",
       "      <td>1.0</td>\n",
       "      <td>725.0</td>\n",
       "      <td>NaN</td>\n",
       "      <td>clear</td>\n",
       "      <td>Ю</td>\n",
       "      <td>2.0</td>\n",
       "      <td>131.0</td>\n",
       "    </tr>\n",
       "    <tr>\n",
       "      <th>...</th>\n",
       "      <th>...</th>\n",
       "      <td>...</td>\n",
       "      <td>...</td>\n",
       "      <td>...</td>\n",
       "      <td>...</td>\n",
       "      <td>...</td>\n",
       "      <td>...</td>\n",
       "      <td>...</td>\n",
       "    </tr>\n",
       "    <tr>\n",
       "      <th rowspan=\"5\" valign=\"top\">9518</th>\n",
       "      <th>2016-07-27</th>\n",
       "      <td>25.0</td>\n",
       "      <td>728.0</td>\n",
       "      <td>NaN</td>\n",
       "      <td>clear</td>\n",
       "      <td>С</td>\n",
       "      <td>2.0</td>\n",
       "      <td>93.0</td>\n",
       "    </tr>\n",
       "    <tr>\n",
       "      <th>2016-09-18</th>\n",
       "      <td>15.0</td>\n",
       "      <td>742.0</td>\n",
       "      <td>NaN</td>\n",
       "      <td>clear</td>\n",
       "      <td>В</td>\n",
       "      <td>1.0</td>\n",
       "      <td>79.0</td>\n",
       "    </tr>\n",
       "    <tr>\n",
       "      <th>2016-09-20</th>\n",
       "      <td>10.0</td>\n",
       "      <td>730.0</td>\n",
       "      <td>NaN</td>\n",
       "      <td>clear</td>\n",
       "      <td>ЮЗ</td>\n",
       "      <td>1.0</td>\n",
       "      <td>79.0</td>\n",
       "    </tr>\n",
       "    <tr>\n",
       "      <th>2016-09-28</th>\n",
       "      <td>11.0</td>\n",
       "      <td>728.0</td>\n",
       "      <td>NaN</td>\n",
       "      <td>clear</td>\n",
       "      <td>ЮЗ</td>\n",
       "      <td>2.0</td>\n",
       "      <td>79.0</td>\n",
       "    </tr>\n",
       "    <tr>\n",
       "      <th>2017-08-14</th>\n",
       "      <td>28.0</td>\n",
       "      <td>729.0</td>\n",
       "      <td>NaN</td>\n",
       "      <td>clear</td>\n",
       "      <td>ЮЗ</td>\n",
       "      <td>3.0</td>\n",
       "      <td>63.0</td>\n",
       "    </tr>\n",
       "  </tbody>\n",
       "</table>\n",
       "<p>305 rows × 7 columns</p>\n",
       "</div>"
      ],
      "text/plain": [
       "                 temperature  pressure  cloud weather wind_dir  wind_spd  \\\n",
       "uid  date                                                                  \n",
       "9386 2015-09-26          8.0     744.0    NaN   clear       СВ       4.0   \n",
       "     2015-09-27          8.0     746.0    NaN   clear        Ш       1.0   \n",
       "     2015-10-10         10.0     741.0    NaN   clear        В       2.0   \n",
       "     2015-10-24         -9.0     738.0    NaN   clear        Ш       1.0   \n",
       "     2015-10-31          1.0     725.0    NaN   clear        Ю       2.0   \n",
       "...                      ...       ...    ...     ...      ...       ...   \n",
       "9518 2016-07-27         25.0     728.0    NaN   clear        С       2.0   \n",
       "     2016-09-18         15.0     742.0    NaN   clear        В       1.0   \n",
       "     2016-09-20         10.0     730.0    NaN   clear       ЮЗ       1.0   \n",
       "     2016-09-28         11.0     728.0    NaN   clear       ЮЗ       2.0   \n",
       "     2017-08-14         28.0     729.0    NaN   clear       ЮЗ       3.0   \n",
       "\n",
       "                 water_level  \n",
       "uid  date                     \n",
       "9386 2015-09-26        119.0  \n",
       "     2015-09-27        119.0  \n",
       "     2015-10-10        119.0  \n",
       "     2015-10-24        128.0  \n",
       "     2015-10-31        131.0  \n",
       "...                      ...  \n",
       "9518 2016-07-27         93.0  \n",
       "     2016-09-18         79.0  \n",
       "     2016-09-20         79.0  \n",
       "     2016-09-28         79.0  \n",
       "     2017-08-14         63.0  \n",
       "\n",
       "[305 rows x 7 columns]"
      ]
     },
     "execution_count": 33,
     "metadata": {},
     "output_type": "execute_result"
    }
   ],
   "source": [
    "df[df.isnull().any(axis=1)]"
   ]
  },
  {
   "cell_type": "markdown",
   "id": "06c6794f",
   "metadata": {},
   "source": [
    "Т.к. за некоторые дни у нас отсутствует информация об облачности, то необходимо заполнить пропуски. Закодированная погода с помощью метода Label Encoder позволяет заполнить пропуски методом pd.interpolate()."
   ]
  },
  {
   "cell_type": "code",
   "execution_count": 34,
   "id": "84111ef4",
   "metadata": {
    "scrolled": true
   },
   "outputs": [
    {
     "data": {
      "text/plain": [
       "temperature    0\n",
       "pressure       0\n",
       "cloud          0\n",
       "weather        0\n",
       "wind_dir       0\n",
       "wind_spd       0\n",
       "water_level    0\n",
       "dtype: int64"
      ]
     },
     "execution_count": 34,
     "metadata": {},
     "output_type": "execute_result"
    }
   ],
   "source": [
    "df['cloud'] = df['cloud'].interpolate()\n",
    "df.isnull().sum()"
   ]
  },
  {
   "cell_type": "markdown",
   "id": "f3685b98",
   "metadata": {},
   "source": [
    "Т.к. облачность представлена вещественным типом данных, то после интерполяции получились смежные значения:"
   ]
  },
  {
   "cell_type": "code",
   "execution_count": 35,
   "id": "3a6011c3",
   "metadata": {},
   "outputs": [
    {
     "data": {
      "text/plain": [
       "3.000000    38258\n",
       "2.000000    22992\n",
       "0.000000    21025\n",
       "1.000000    18776\n",
       "1.500000       33\n",
       "2.500000       21\n",
       "2.333333       10\n",
       "2.666667       10\n",
       "1.400000       10\n",
       "1.800000       10\n",
       "2.600000        7\n",
       "0.666667        7\n",
       "1.333333        7\n",
       "2.200000        7\n",
       "1.600000        6\n",
       "1.200000        6\n",
       "1.250000        5\n",
       "2.250000        5\n",
       "1.750000        5\n",
       "0.500000        4\n",
       "1.333333        3\n",
       "0.666667        3\n",
       "0.800000        3\n",
       "0.400000        3\n",
       "0.750000        3\n",
       "2.750000        2\n",
       "2.142857        1\n",
       "2.571429        1\n",
       "1.666667        1\n",
       "2.333333        1\n",
       "1.714286        1\n",
       "1.285714        1\n",
       "0.428571        1\n",
       "0.857143        1\n",
       "Name: cloud, dtype: int64"
      ]
     },
     "execution_count": 35,
     "metadata": {},
     "output_type": "execute_result"
    }
   ],
   "source": [
    "df['cloud'].value_counts()"
   ]
  },
  {
   "cell_type": "markdown",
   "id": "34e46414",
   "metadata": {},
   "source": [
    "Данные значения необзодимо перевести в категориальный тип данных, предварительно округлив:"
   ]
  },
  {
   "cell_type": "code",
   "execution_count": 36,
   "id": "21772b76",
   "metadata": {},
   "outputs": [
    {
     "data": {
      "text/plain": [
       "3.0    38278\n",
       "2.0    23093\n",
       "0.0    21033\n",
       "1.0    18825\n",
       "Name: cloud, dtype: int64"
      ]
     },
     "execution_count": 36,
     "metadata": {},
     "output_type": "execute_result"
    }
   ],
   "source": [
    "df['cloud'] = df['cloud'].round().astype('category')\n",
    "df['cloud'].value_counts()"
   ]
  },
  {
   "cell_type": "markdown",
   "id": "47afdbd6",
   "metadata": {},
   "source": [
    "Чтобы в дальнейшем работать с текущими значения внутри мультииндекса, создадим столбец с новым индексом:"
   ]
  },
  {
   "cell_type": "code",
   "execution_count": 37,
   "id": "4ca019f6",
   "metadata": {},
   "outputs": [
    {
     "name": "stdout",
     "output_type": "stream",
     "text": [
      "<class 'pandas.core.frame.DataFrame'>\n",
      "RangeIndex: 101229 entries, 0 to 101228\n",
      "Data columns (total 9 columns):\n",
      " #   Column       Non-Null Count   Dtype         \n",
      "---  ------       --------------   -----         \n",
      " 0   uid          101229 non-null  int64         \n",
      " 1   date         101229 non-null  datetime64[ns]\n",
      " 2   temperature  101229 non-null  float64       \n",
      " 3   pressure     101229 non-null  float64       \n",
      " 4   cloud        101229 non-null  category      \n",
      " 5   weather      101229 non-null  object        \n",
      " 6   wind_dir     101229 non-null  object        \n",
      " 7   wind_spd     101229 non-null  float64       \n",
      " 8   water_level  101229 non-null  float64       \n",
      "dtypes: category(1), datetime64[ns](1), float64(4), int64(1), object(2)\n",
      "memory usage: 6.3+ MB\n"
     ]
    }
   ],
   "source": [
    "df.reset_index(inplace = True)\n",
    "df.info()"
   ]
  },
  {
   "cell_type": "markdown",
   "id": "ae95c72b",
   "metadata": {},
   "source": [
    "#### uid:"
   ]
  },
  {
   "cell_type": "code",
   "execution_count": 38,
   "id": "566ed29e",
   "metadata": {},
   "outputs": [
    {
     "name": "stdout",
     "output_type": "stream",
     "text": [
      "describe:\n",
      "count    101229.000000\n",
      "mean       9427.291063\n",
      "std          51.920889\n",
      "min        9386.000000\n",
      "25%        9393.000000\n",
      "50%        9408.000000\n",
      "75%        9420.000000\n",
      "max        9568.000000\n",
      "Name: uid, dtype: float64\n",
      "--------------------------------------------------------------------------------\n",
      "unique:\n",
      "[9386 9387 9388 9389 9390 9392 9393 9396 9397 9499 9523 9560 9568 9403\n",
      " 9404 9405 9406 9408 9410 9413 9415 9416 9417 9419 9420 9421 9422 9518]\n",
      "--------------------------------------------------------------------------------\n",
      "nunique:\n",
      "28\n",
      "--------------------------------------------------------------------------------\n",
      "value_count:\n",
      "9405    3649\n",
      "9416    3646\n",
      "9403    3635\n",
      "9389    3633\n",
      "9386    3632\n",
      "9387    3632\n",
      "9392    3632\n",
      "9393    3632\n",
      "9422    3628\n",
      "9499    3628\n",
      "9415    3628\n",
      "9396    3626\n",
      "9568    3626\n",
      "9417    3625\n",
      "9404    3624\n",
      "9518    3624\n",
      "9523    3618\n",
      "9390    3618\n",
      "9397    3610\n",
      "9406    3589\n",
      "9408    3589\n",
      "9410    3589\n",
      "9419    3589\n",
      "9420    3589\n",
      "9388    3589\n",
      "9413    3586\n",
      "9421    3582\n",
      "9560    3581\n",
      "Name: uid, dtype: int64\n"
     ]
    }
   ],
   "source": [
    "print_col_info(df['uid'])"
   ]
  },
  {
   "cell_type": "markdown",
   "id": "f530588d",
   "metadata": {},
   "source": [
    "Представляет собой идентификационный номер поста гидрологического контроля в базе данных сайта АИС ГМВО.\n",
    "\n",
    "Задачу прогнозирования можно решить двумя способами:\n",
    "1. Разработать одну модель для всех постов. Это имеет смысл, т.к. посты географически расположены близко друг к другу, а также замеряют уровень воды одной реки.\n",
    "2. Разработать индивидуальные модели для всех постов.\n",
    "    \n",
    "Будет реализовано оба варианта, затем будет выбран наиболее точный вариант.\n",
    "\n",
    "Для первого варианта необходимо закодировать uid как категориальные данные, используя One Hot Encoding:"
   ]
  },
  {
   "cell_type": "code",
   "execution_count": 39,
   "id": "52c15deb",
   "metadata": {
    "scrolled": true
   },
   "outputs": [
    {
     "data": {
      "text/html": [
       "<div>\n",
       "<style scoped>\n",
       "    .dataframe tbody tr th:only-of-type {\n",
       "        vertical-align: middle;\n",
       "    }\n",
       "\n",
       "    .dataframe tbody tr th {\n",
       "        vertical-align: top;\n",
       "    }\n",
       "\n",
       "    .dataframe thead th {\n",
       "        text-align: right;\n",
       "    }\n",
       "</style>\n",
       "<table border=\"1\" class=\"dataframe\">\n",
       "  <thead>\n",
       "    <tr style=\"text-align: right;\">\n",
       "      <th></th>\n",
       "      <th>uid</th>\n",
       "      <th>date</th>\n",
       "      <th>temperature</th>\n",
       "      <th>pressure</th>\n",
       "      <th>cloud</th>\n",
       "      <th>weather</th>\n",
       "      <th>wind_dir</th>\n",
       "      <th>wind_spd</th>\n",
       "      <th>water_level</th>\n",
       "      <th>uid_0</th>\n",
       "      <th>...</th>\n",
       "      <th>uid_18</th>\n",
       "      <th>uid_19</th>\n",
       "      <th>uid_20</th>\n",
       "      <th>uid_21</th>\n",
       "      <th>uid_22</th>\n",
       "      <th>uid_23</th>\n",
       "      <th>uid_24</th>\n",
       "      <th>uid_25</th>\n",
       "      <th>uid_26</th>\n",
       "      <th>uid_27</th>\n",
       "    </tr>\n",
       "  </thead>\n",
       "  <tbody>\n",
       "    <tr>\n",
       "      <th>0</th>\n",
       "      <td>9386</td>\n",
       "      <td>2008-01-01</td>\n",
       "      <td>-17.0</td>\n",
       "      <td>735.0</td>\n",
       "      <td>3.0</td>\n",
       "      <td>snow</td>\n",
       "      <td>ЮЗ</td>\n",
       "      <td>2.0</td>\n",
       "      <td>138.0</td>\n",
       "      <td>1.0</td>\n",
       "      <td>...</td>\n",
       "      <td>0.0</td>\n",
       "      <td>0.0</td>\n",
       "      <td>0.0</td>\n",
       "      <td>0.0</td>\n",
       "      <td>0.0</td>\n",
       "      <td>0.0</td>\n",
       "      <td>0.0</td>\n",
       "      <td>0.0</td>\n",
       "      <td>0.0</td>\n",
       "      <td>0.0</td>\n",
       "    </tr>\n",
       "    <tr>\n",
       "      <th>1</th>\n",
       "      <td>9386</td>\n",
       "      <td>2008-01-02</td>\n",
       "      <td>-31.0</td>\n",
       "      <td>747.0</td>\n",
       "      <td>0.0</td>\n",
       "      <td>clear</td>\n",
       "      <td>СЗ</td>\n",
       "      <td>2.0</td>\n",
       "      <td>138.0</td>\n",
       "      <td>1.0</td>\n",
       "      <td>...</td>\n",
       "      <td>0.0</td>\n",
       "      <td>0.0</td>\n",
       "      <td>0.0</td>\n",
       "      <td>0.0</td>\n",
       "      <td>0.0</td>\n",
       "      <td>0.0</td>\n",
       "      <td>0.0</td>\n",
       "      <td>0.0</td>\n",
       "      <td>0.0</td>\n",
       "      <td>0.0</td>\n",
       "    </tr>\n",
       "  </tbody>\n",
       "</table>\n",
       "<p>2 rows × 37 columns</p>\n",
       "</div>"
      ],
      "text/plain": [
       "    uid       date  temperature  pressure cloud weather wind_dir  wind_spd  \\\n",
       "0  9386 2008-01-01        -17.0     735.0   3.0    snow       ЮЗ       2.0   \n",
       "1  9386 2008-01-02        -31.0     747.0   0.0   clear       СЗ       2.0   \n",
       "\n",
       "   water_level uid_0  ... uid_18 uid_19 uid_20 uid_21 uid_22 uid_23 uid_24  \\\n",
       "0        138.0   1.0  ...    0.0    0.0    0.0    0.0    0.0    0.0    0.0   \n",
       "1        138.0   1.0  ...    0.0    0.0    0.0    0.0    0.0    0.0    0.0   \n",
       "\n",
       "  uid_25 uid_26 uid_27  \n",
       "0    0.0    0.0    0.0  \n",
       "1    0.0    0.0    0.0  \n",
       "\n",
       "[2 rows x 37 columns]"
      ]
     },
     "execution_count": 39,
     "metadata": {},
     "output_type": "execute_result"
    }
   ],
   "source": [
    "def encode_uid(df_target):\n",
    "    encoder = OneHotEncoder()\n",
    "    df_uid = pd.DataFrame(encoder.fit_transform(df[['uid']]).toarray())\n",
    "    df_uid = df_uid.add_prefix('uid_')  # префикс для визуального определения признака\n",
    "    df_uid = df_uid.astype('category')  # конвертация в категориальный тип данных для экономии памяти\n",
    "    return df_target.join(df_uid)\n",
    "\n",
    "df = encode_uid(df)\n",
    "df.head(2)"
   ]
  },
  {
   "cell_type": "code",
   "execution_count": 40,
   "id": "1f55de7d",
   "metadata": {},
   "outputs": [
    {
     "name": "stdout",
     "output_type": "stream",
     "text": [
      "<class 'pandas.core.frame.DataFrame'>\n",
      "RangeIndex: 101229 entries, 0 to 101228\n",
      "Data columns (total 37 columns):\n",
      " #   Column       Non-Null Count   Dtype         \n",
      "---  ------       --------------   -----         \n",
      " 0   uid          101229 non-null  int64         \n",
      " 1   date         101229 non-null  datetime64[ns]\n",
      " 2   temperature  101229 non-null  float64       \n",
      " 3   pressure     101229 non-null  float64       \n",
      " 4   cloud        101229 non-null  category      \n",
      " 5   weather      101229 non-null  object        \n",
      " 6   wind_dir     101229 non-null  object        \n",
      " 7   wind_spd     101229 non-null  float64       \n",
      " 8   water_level  101229 non-null  float64       \n",
      " 9   uid_0        101229 non-null  category      \n",
      " 10  uid_1        101229 non-null  category      \n",
      " 11  uid_2        101229 non-null  category      \n",
      " 12  uid_3        101229 non-null  category      \n",
      " 13  uid_4        101229 non-null  category      \n",
      " 14  uid_5        101229 non-null  category      \n",
      " 15  uid_6        101229 non-null  category      \n",
      " 16  uid_7        101229 non-null  category      \n",
      " 17  uid_8        101229 non-null  category      \n",
      " 18  uid_9        101229 non-null  category      \n",
      " 19  uid_10       101229 non-null  category      \n",
      " 20  uid_11       101229 non-null  category      \n",
      " 21  uid_12       101229 non-null  category      \n",
      " 22  uid_13       101229 non-null  category      \n",
      " 23  uid_14       101229 non-null  category      \n",
      " 24  uid_15       101229 non-null  category      \n",
      " 25  uid_16       101229 non-null  category      \n",
      " 26  uid_17       101229 non-null  category      \n",
      " 27  uid_18       101229 non-null  category      \n",
      " 28  uid_19       101229 non-null  category      \n",
      " 29  uid_20       101229 non-null  category      \n",
      " 30  uid_21       101229 non-null  category      \n",
      " 31  uid_22       101229 non-null  category      \n",
      " 32  uid_23       101229 non-null  category      \n",
      " 33  uid_24       101229 non-null  category      \n",
      " 34  uid_25       101229 non-null  category      \n",
      " 35  uid_26       101229 non-null  category      \n",
      " 36  uid_27       101229 non-null  category      \n",
      "dtypes: category(29), datetime64[ns](1), float64(4), int64(1), object(2)\n",
      "memory usage: 9.0+ MB\n"
     ]
    }
   ],
   "source": [
    "df.info()"
   ]
  },
  {
   "cell_type": "markdown",
   "id": "802e5f1b",
   "metadata": {},
   "source": [
    "#### Date (дата):"
   ]
  },
  {
   "cell_type": "code",
   "execution_count": 41,
   "id": "98478d01",
   "metadata": {},
   "outputs": [
    {
     "name": "stdout",
     "output_type": "stream",
     "text": [
      "describe:\n",
      "count                           101229\n",
      "mean     2012-12-21 23:29:38.608896512\n",
      "min                2008-01-01 00:00:00\n",
      "25%                2010-06-23 00:00:00\n",
      "50%                2012-12-15 00:00:00\n",
      "75%                2015-06-10 00:00:00\n",
      "max                2017-12-31 00:00:00\n",
      "Name: date, dtype: object\n",
      "--------------------------------------------------------------------------------\n",
      "unique:\n",
      "['2008-01-01T00:00:00.000000000' '2008-01-02T00:00:00.000000000'\n",
      " '2008-01-03T00:00:00.000000000' ... '2015-10-06T00:00:00.000000000'\n",
      " '2015-10-07T00:00:00.000000000' '2015-11-18T00:00:00.000000000']\n",
      "--------------------------------------------------------------------------------\n",
      "nunique:\n",
      "3649\n",
      "--------------------------------------------------------------------------------\n",
      "value_count:\n",
      "2012-12-31    28\n",
      "2014-07-15    28\n",
      "2014-07-04    28\n",
      "2014-07-05    28\n",
      "2014-07-06    28\n",
      "              ..\n",
      "2015-09-20     6\n",
      "2015-09-19     6\n",
      "2015-09-18     6\n",
      "2015-09-17     6\n",
      "2015-11-18     3\n",
      "Name: date, Length: 3649, dtype: int64\n"
     ]
    }
   ],
   "source": [
    "print_col_info(df['date'])"
   ]
  },
  {
   "cell_type": "markdown",
   "id": "e1c3de40",
   "metadata": {},
   "source": [
    "Представляет собой день наблюдений. Данное значение можно закодировать как:\n",
    "1. Год - категориальный признак, используя метод Label Encoder (есть порядок: 2008 год был раньше, чем 2017)\n",
    "2. Номер дня в году - цикличный признак.\n",
    "\n",
    "Значения дня представляет собой следующий график:"
   ]
  },
  {
   "cell_type": "code",
   "execution_count": 74,
   "id": "dff001c7",
   "metadata": {},
   "outputs": [
    {
     "data": {
      "image/png": "[encoded data removed]",
      "text/plain": [
       "<Figure size 1500x400 with 1 Axes>"
      ]
     },
     "metadata": {},
     "output_type": "display_data"
    }
   ],
   "source": [
    "plt.figure(figsize=(15, 4))\n",
    "plt.plot(df['date'].dt.day[:500])\n",
    "plt.xlabel('Номер значения')\n",
    "plt.ylabel('День')\n",
    "plt.title('Значения дня')\n",
    "\n",
    "plt.show()"
   ]
  },
  {
   "cell_type": "markdown",
   "id": "7a7f7b99",
   "metadata": {},
   "source": [
    "Данные являются зацикленными, т.к. 31 день в месяце отличается от следующего 1-го дня лишь на одну единицу, а не на 30. Значение дня в году [можно представить в виде двух функций](http://blog.davidkaleko.com/feature-engineering-cyclical-features.html):\n",
    "\n",
    "$x_{sin} = \\sin(\\frac{2 * \\pi * x}{\\max(x)})$\n",
    "\n",
    "$x_{cos} = \\cos(\\frac{2 * \\pi * x}{\\max(x)})$"
   ]
  },
  {
   "cell_type": "code",
   "execution_count": 78,
   "id": "d4edfc4e",
   "metadata": {
    "scrolled": true
   },
   "outputs": [
    {
     "data": {
      "text/plain": [
       "(0.9338372288229252, 0.35769823883312546)"
      ]
     },
     "execution_count": 78,
     "metadata": {},
     "output_type": "execute_result"
    }
   ],
   "source": [
    "test_day = 70\n",
    "np.sin(2 * np.pi * test_day/365.0), np.cos(2 * np.pi * test_day/365.0)"
   ]
  },
  {
   "cell_type": "code",
   "execution_count": 114,
   "id": "729c6317",
   "metadata": {
    "scrolled": false
   },
   "outputs": [
    {
     "data": {
      "image/png": "[encoded data removed]",
      "text/plain": [
       "<Figure size 1500x400 with 2 Axes>"
      ]
     },
     "metadata": {},
     "output_type": "display_data"
    }
   ],
   "source": [
    "test_df = df[0:500]['date']\n",
    "test_arr = test_df.dt.dayofyear\n",
    "test_sin = np.sin(2 * np.pi * test_arr / total_years)\n",
    "test_cos = np.cos(2 * np.pi * test_arr / total_years)\n",
    "\n",
    "fig = plt.figure(figsize=(15, 4))\n",
    "\n",
    "ax1 = fig.add_subplot(121)\n",
    "ax1.plot(test_sin, color='blue', label='sin')\n",
    "ax1.plot(test_cos, color='red', label='cos')\n",
    "ax1.legend()\n",
    "\n",
    "\n",
    "# показ точек на графике за 300 дней\n",
    "\n",
    "ax2 = fig.add_subplot(122)\n",
    "ax2.set_aspect('equal')\n",
    "ax2.scatter(test_sin[:300], test_cos[:300])\n",
    "ax2.set_xlabel('sin')\n",
    "ax2.set_ylabel('cos')\n",
    "\n",
    "plt.show()"
   ]
  },
  {
   "cell_type": "markdown",
   "id": "002b7370",
   "metadata": {},
   "source": [
    "Закодируем день года:"
   ]
  },
  {
   "cell_type": "code",
   "execution_count": 139,
   "id": "f94e666c",
   "metadata": {},
   "outputs": [
    {
     "data": {
      "text/html": [
       "<div>\n",
       "<style scoped>\n",
       "    .dataframe tbody tr th:only-of-type {\n",
       "        vertical-align: middle;\n",
       "    }\n",
       "\n",
       "    .dataframe tbody tr th {\n",
       "        vertical-align: top;\n",
       "    }\n",
       "\n",
       "    .dataframe thead th {\n",
       "        text-align: right;\n",
       "    }\n",
       "</style>\n",
       "<table border=\"1\" class=\"dataframe\">\n",
       "  <thead>\n",
       "    <tr style=\"text-align: right;\">\n",
       "      <th></th>\n",
       "      <th>date</th>\n",
       "      <th>year</th>\n",
       "      <th>day_sin</th>\n",
       "      <th>day_cos</th>\n",
       "    </tr>\n",
       "  </thead>\n",
       "  <tbody>\n",
       "    <tr>\n",
       "      <th>0</th>\n",
       "      <td>2008-01-01</td>\n",
       "      <td>2008</td>\n",
       "      <td>0.017166</td>\n",
       "      <td>0.999853</td>\n",
       "    </tr>\n",
       "    <tr>\n",
       "      <th>1</th>\n",
       "      <td>2008-01-02</td>\n",
       "      <td>2008</td>\n",
       "      <td>0.034328</td>\n",
       "      <td>0.999411</td>\n",
       "    </tr>\n",
       "    <tr>\n",
       "      <th>2</th>\n",
       "      <td>2008-01-03</td>\n",
       "      <td>2008</td>\n",
       "      <td>0.051479</td>\n",
       "      <td>0.998674</td>\n",
       "    </tr>\n",
       "    <tr>\n",
       "      <th>3</th>\n",
       "      <td>2008-01-04</td>\n",
       "      <td>2008</td>\n",
       "      <td>0.068615</td>\n",
       "      <td>0.997643</td>\n",
       "    </tr>\n",
       "    <tr>\n",
       "      <th>4</th>\n",
       "      <td>2008-01-05</td>\n",
       "      <td>2008</td>\n",
       "      <td>0.085731</td>\n",
       "      <td>0.996318</td>\n",
       "    </tr>\n",
       "  </tbody>\n",
       "</table>\n",
       "</div>"
      ],
      "text/plain": [
       "        date  year   day_sin   day_cos\n",
       "0 2008-01-01  2008  0.017166  0.999853\n",
       "1 2008-01-02  2008  0.034328  0.999411\n",
       "2 2008-01-03  2008  0.051479  0.998674\n",
       "3 2008-01-04  2008  0.068615  0.997643\n",
       "4 2008-01-05  2008  0.085731  0.996318"
      ]
     },
     "execution_count": 139,
     "metadata": {},
     "output_type": "execute_result"
    }
   ],
   "source": [
    "total_years = np.where(df['date'].dt.is_leap_year, 366, 365)\n",
    "df['year'] = df['date'].dt.year\n",
    "df['day_sin'] = np.sin(2 * np.pi * df['date'].dt.dayofyear / total_years)\n",
    "df['day_cos'] = np.cos(2 * np.pi * df['date'].dt.dayofyear / total_years)\n",
    "df[['date', 'year', 'day_sin', 'day_cos']].head()"
   ]
  },
  {
   "cell_type": "markdown",
   "id": "166dc08a",
   "metadata": {},
   "source": [
    "#### Weather (осадки)"
   ]
  },
  {
   "cell_type": "code",
   "execution_count": 133,
   "id": "7ff75df3",
   "metadata": {
    "scrolled": true
   },
   "outputs": [
    {
     "name": "stdout",
     "output_type": "stream",
     "text": [
      "describe:\n",
      "count     101229\n",
      "unique         4\n",
      "top        clear\n",
      "freq       77584\n",
      "Name: weather, dtype: object\n",
      "--------------------------------------------------------------------------------\n",
      "unique:\n",
      "['snow' 'clear' 'rain' 'storm']\n",
      "--------------------------------------------------------------------------------\n",
      "nunique:\n",
      "4\n",
      "--------------------------------------------------------------------------------\n",
      "value_count:\n",
      "clear    77584\n",
      "snow     17113\n",
      "rain      5854\n",
      "storm      678\n",
      "Name: weather, dtype: int64\n"
     ]
    }
   ],
   "source": [
    "print_col_info(df['weather'])"
   ]
  },
  {
   "cell_type": "markdown",
   "id": "414298a5",
   "metadata": {},
   "source": [
    "Под осадками может пониматься следующее:\n",
    "- **clear** - осадков не было\n",
    "- **rain** - дождь\n",
    "- **storm** - гроза\n",
    "- **snow** - снег\n",
    "\n",
    "Данный признак можно закодировать разными способами:\n",
    "1. Выделение признака **наличие осадков**: и дождь, и снег образовываются из капель воды, а грозы, как правило, сопровождаются сильным дождём;\n",
    "2. Объединение понятий \"гроза\" и \"дождь\", выделив 2 признака: **дождь** и **снег**;\n",
    "3. 3 признака: **дождь**, **гроза**, **снег**, т.к. бывают сухие грозы.\n",
    "\n",
    "Во всех случаях отсутствие осадков обозначается 0 во всех признаках."
   ]
  },
  {
   "cell_type": "code",
   "execution_count": 134,
   "id": "7ca32be3",
   "metadata": {
    "scrolled": true
   },
   "outputs": [
    {
     "data": {
      "text/html": [
       "<div>\n",
       "<style scoped>\n",
       "    .dataframe tbody tr th:only-of-type {\n",
       "        vertical-align: middle;\n",
       "    }\n",
       "\n",
       "    .dataframe tbody tr th {\n",
       "        vertical-align: top;\n",
       "    }\n",
       "\n",
       "    .dataframe thead th {\n",
       "        text-align: right;\n",
       "    }\n",
       "</style>\n",
       "<table border=\"1\" class=\"dataframe\">\n",
       "  <thead>\n",
       "    <tr style=\"text-align: right;\">\n",
       "      <th></th>\n",
       "      <th>uid</th>\n",
       "      <th>date</th>\n",
       "      <th>temperature</th>\n",
       "      <th>pressure</th>\n",
       "      <th>cloud</th>\n",
       "      <th>wind_dir</th>\n",
       "      <th>wind_spd</th>\n",
       "      <th>water_level</th>\n",
       "      <th>uid_0</th>\n",
       "      <th>uid_1</th>\n",
       "      <th>...</th>\n",
       "      <th>uid_25</th>\n",
       "      <th>uid_26</th>\n",
       "      <th>uid_27</th>\n",
       "      <th>day_sin</th>\n",
       "      <th>day_cos</th>\n",
       "      <th>weather_v1_precip</th>\n",
       "      <th>weather_v2_rain</th>\n",
       "      <th>weather_snow</th>\n",
       "      <th>weather_v3_rain</th>\n",
       "      <th>weather_v3_storm</th>\n",
       "    </tr>\n",
       "  </thead>\n",
       "  <tbody>\n",
       "    <tr>\n",
       "      <th>0</th>\n",
       "      <td>9386</td>\n",
       "      <td>2008-01-01</td>\n",
       "      <td>-17.0</td>\n",
       "      <td>735.0</td>\n",
       "      <td>3.0</td>\n",
       "      <td>ЮЗ</td>\n",
       "      <td>2.0</td>\n",
       "      <td>138.0</td>\n",
       "      <td>1.0</td>\n",
       "      <td>0.0</td>\n",
       "      <td>...</td>\n",
       "      <td>0.0</td>\n",
       "      <td>0.0</td>\n",
       "      <td>0.0</td>\n",
       "      <td>0.017166</td>\n",
       "      <td>0.999853</td>\n",
       "      <td>1</td>\n",
       "      <td>0</td>\n",
       "      <td>1</td>\n",
       "      <td>0</td>\n",
       "      <td>0</td>\n",
       "    </tr>\n",
       "    <tr>\n",
       "      <th>1</th>\n",
       "      <td>9386</td>\n",
       "      <td>2008-01-02</td>\n",
       "      <td>-31.0</td>\n",
       "      <td>747.0</td>\n",
       "      <td>0.0</td>\n",
       "      <td>СЗ</td>\n",
       "      <td>2.0</td>\n",
       "      <td>138.0</td>\n",
       "      <td>1.0</td>\n",
       "      <td>0.0</td>\n",
       "      <td>...</td>\n",
       "      <td>0.0</td>\n",
       "      <td>0.0</td>\n",
       "      <td>0.0</td>\n",
       "      <td>0.034328</td>\n",
       "      <td>0.999411</td>\n",
       "      <td>0</td>\n",
       "      <td>0</td>\n",
       "      <td>0</td>\n",
       "      <td>0</td>\n",
       "      <td>0</td>\n",
       "    </tr>\n",
       "    <tr>\n",
       "      <th>2</th>\n",
       "      <td>9386</td>\n",
       "      <td>2008-01-03</td>\n",
       "      <td>-43.0</td>\n",
       "      <td>753.0</td>\n",
       "      <td>0.0</td>\n",
       "      <td>З</td>\n",
       "      <td>2.0</td>\n",
       "      <td>138.0</td>\n",
       "      <td>1.0</td>\n",
       "      <td>0.0</td>\n",
       "      <td>...</td>\n",
       "      <td>0.0</td>\n",
       "      <td>0.0</td>\n",
       "      <td>0.0</td>\n",
       "      <td>0.051479</td>\n",
       "      <td>0.998674</td>\n",
       "      <td>0</td>\n",
       "      <td>0</td>\n",
       "      <td>0</td>\n",
       "      <td>0</td>\n",
       "      <td>0</td>\n",
       "    </tr>\n",
       "    <tr>\n",
       "      <th>3</th>\n",
       "      <td>9386</td>\n",
       "      <td>2008-01-04</td>\n",
       "      <td>-34.0</td>\n",
       "      <td>733.0</td>\n",
       "      <td>3.0</td>\n",
       "      <td>Ш</td>\n",
       "      <td>0.0</td>\n",
       "      <td>138.0</td>\n",
       "      <td>1.0</td>\n",
       "      <td>0.0</td>\n",
       "      <td>...</td>\n",
       "      <td>0.0</td>\n",
       "      <td>0.0</td>\n",
       "      <td>0.0</td>\n",
       "      <td>0.068615</td>\n",
       "      <td>0.997643</td>\n",
       "      <td>1</td>\n",
       "      <td>0</td>\n",
       "      <td>1</td>\n",
       "      <td>0</td>\n",
       "      <td>0</td>\n",
       "    </tr>\n",
       "    <tr>\n",
       "      <th>4</th>\n",
       "      <td>9386</td>\n",
       "      <td>2008-01-05</td>\n",
       "      <td>-28.0</td>\n",
       "      <td>728.0</td>\n",
       "      <td>2.0</td>\n",
       "      <td>З</td>\n",
       "      <td>1.0</td>\n",
       "      <td>138.0</td>\n",
       "      <td>1.0</td>\n",
       "      <td>0.0</td>\n",
       "      <td>...</td>\n",
       "      <td>0.0</td>\n",
       "      <td>0.0</td>\n",
       "      <td>0.0</td>\n",
       "      <td>0.085731</td>\n",
       "      <td>0.996318</td>\n",
       "      <td>0</td>\n",
       "      <td>0</td>\n",
       "      <td>0</td>\n",
       "      <td>0</td>\n",
       "      <td>0</td>\n",
       "    </tr>\n",
       "  </tbody>\n",
       "</table>\n",
       "<p>5 rows × 43 columns</p>\n",
       "</div>"
      ],
      "text/plain": [
       "    uid       date  temperature  pressure cloud wind_dir  wind_spd  \\\n",
       "0  9386 2008-01-01        -17.0     735.0   3.0       ЮЗ       2.0   \n",
       "1  9386 2008-01-02        -31.0     747.0   0.0       СЗ       2.0   \n",
       "2  9386 2008-01-03        -43.0     753.0   0.0        З       2.0   \n",
       "3  9386 2008-01-04        -34.0     733.0   3.0        Ш       0.0   \n",
       "4  9386 2008-01-05        -28.0     728.0   2.0        З       1.0   \n",
       "\n",
       "   water_level uid_0 uid_1  ... uid_25 uid_26 uid_27   day_sin   day_cos  \\\n",
       "0        138.0   1.0   0.0  ...    0.0    0.0    0.0  0.017166  0.999853   \n",
       "1        138.0   1.0   0.0  ...    0.0    0.0    0.0  0.034328  0.999411   \n",
       "2        138.0   1.0   0.0  ...    0.0    0.0    0.0  0.051479  0.998674   \n",
       "3        138.0   1.0   0.0  ...    0.0    0.0    0.0  0.068615  0.997643   \n",
       "4        138.0   1.0   0.0  ...    0.0    0.0    0.0  0.085731  0.996318   \n",
       "\n",
       "  weather_v1_precip weather_v2_rain weather_snow weather_v3_rain  \\\n",
       "0                 1               0            1               0   \n",
       "1                 0               0            0               0   \n",
       "2                 0               0            0               0   \n",
       "3                 1               0            1               0   \n",
       "4                 0               0            0               0   \n",
       "\n",
       "  weather_v3_storm  \n",
       "0                0  \n",
       "1                0  \n",
       "2                0  \n",
       "3                0  \n",
       "4                0  \n",
       "\n",
       "[5 rows x 43 columns]"
      ]
     },
     "execution_count": 134,
     "metadata": {},
     "output_type": "execute_result"
    }
   ],
   "source": [
    "df['weather_v1_precip'] = df['weather'].map({'clear': 0, 'rain': 1, 'storm': 1, 'snow': 1})\n",
    "\n",
    "df['weather_v2_rain'] = df['weather'].map({'clear': 0, 'rain': 1, 'storm': 1, 'snow': 0})\n",
    "\n",
    "# снег одинаково обозначается во 2 и 3 случаях\n",
    "df['weather_snow'] = df['weather'].map({'clear': 0, 'rain': 0, 'storm': 0, 'snow': 1})\n",
    "\n",
    "df['weather_v3_rain'] = df['weather'].map({'clear': 0, 'rain': 1, 'storm': 0, 'snow': 0})\n",
    "df['weather_v3_storm'] = df['weather'].map({'clear': 0, 'rain': 0, 'storm': 1, 'snow': 0})\n",
    "\n",
    "df = df.drop(['weather'], axis=1)\n",
    "df.head()"
   ]
  },
  {
   "cell_type": "markdown",
   "id": "d732a3fd",
   "metadata": {},
   "source": [
    "#### Wind_dir (направление ветра)"
   ]
  },
  {
   "cell_type": "code",
   "execution_count": 137,
   "id": "5fc1bb5f",
   "metadata": {
    "scrolled": true
   },
   "outputs": [
    {
     "name": "stdout",
     "output_type": "stream",
     "text": [
      "describe:\n",
      "count     101229\n",
      "unique         9\n",
      "top            Ш\n",
      "freq       16679\n",
      "Name: wind_dir, dtype: object\n",
      "--------------------------------------------------------------------------------\n",
      "unique:\n",
      "['ЮЗ' 'СЗ' 'З' 'Ш' 'С' 'ЮВ' 'СВ' 'В' 'Ю']\n",
      "--------------------------------------------------------------------------------\n",
      "nunique:\n",
      "9\n",
      "--------------------------------------------------------------------------------\n",
      "value_count:\n",
      "Ш     16679\n",
      "З     16402\n",
      "ЮЗ    15370\n",
      "Ю     12948\n",
      "СЗ     9530\n",
      "С      8907\n",
      "ЮВ     8403\n",
      "В      7647\n",
      "СВ     5343\n",
      "Name: wind_dir, dtype: int64\n"
     ]
    }
   ],
   "source": [
    "print_col_info(df['wind_dir'])"
   ]
  },
  {
   "cell_type": "markdown",
   "id": "920a81b8",
   "metadata": {},
   "source": [
    "Направление ветра обозначается как основными сторонами света: **С**евер, **Ю**г, **З**апад, **В**осток, так и промежуточными направлениями: **С**еверо-**З**апад, **С**еверо-**В**осток, **Ю**го-**З**апад, **Ю**го-**В**осток. Отсуствие ветра - **Ш**тиль.\n",
    "Данный признак можно закодировать 4 столбцами, а именно как стороны света."
   ]
  },
  {
   "cell_type": "code",
   "execution_count": 138,
   "id": "a8a0d863",
   "metadata": {
    "scrolled": true
   },
   "outputs": [
    {
     "data": {
      "text/html": [
       "<div>\n",
       "<style scoped>\n",
       "    .dataframe tbody tr th:only-of-type {\n",
       "        vertical-align: middle;\n",
       "    }\n",
       "\n",
       "    .dataframe tbody tr th {\n",
       "        vertical-align: top;\n",
       "    }\n",
       "\n",
       "    .dataframe thead th {\n",
       "        text-align: right;\n",
       "    }\n",
       "</style>\n",
       "<table border=\"1\" class=\"dataframe\">\n",
       "  <thead>\n",
       "    <tr style=\"text-align: right;\">\n",
       "      <th></th>\n",
       "      <th>north</th>\n",
       "      <th>south</th>\n",
       "      <th>west</th>\n",
       "      <th>east</th>\n",
       "    </tr>\n",
       "  </thead>\n",
       "  <tbody>\n",
       "    <tr>\n",
       "      <th>0</th>\n",
       "      <td>0.0</td>\n",
       "      <td>1.0</td>\n",
       "      <td>1.0</td>\n",
       "      <td>0.0</td>\n",
       "    </tr>\n",
       "    <tr>\n",
       "      <th>1</th>\n",
       "      <td>1.0</td>\n",
       "      <td>0.0</td>\n",
       "      <td>1.0</td>\n",
       "      <td>0.0</td>\n",
       "    </tr>\n",
       "    <tr>\n",
       "      <th>2</th>\n",
       "      <td>0.0</td>\n",
       "      <td>0.0</td>\n",
       "      <td>1.0</td>\n",
       "      <td>0.0</td>\n",
       "    </tr>\n",
       "    <tr>\n",
       "      <th>3</th>\n",
       "      <td>0.0</td>\n",
       "      <td>0.0</td>\n",
       "      <td>0.0</td>\n",
       "      <td>0.0</td>\n",
       "    </tr>\n",
       "    <tr>\n",
       "      <th>4</th>\n",
       "      <td>0.0</td>\n",
       "      <td>0.0</td>\n",
       "      <td>1.0</td>\n",
       "      <td>0.0</td>\n",
       "    </tr>\n",
       "  </tbody>\n",
       "</table>\n",
       "</div>"
      ],
      "text/plain": [
       "   north  south  west  east\n",
       "0    0.0    1.0   1.0   0.0\n",
       "1    1.0    0.0   1.0   0.0\n",
       "2    0.0    0.0   1.0   0.0\n",
       "3    0.0    0.0   0.0   0.0\n",
       "4    0.0    0.0   1.0   0.0"
      ]
     },
     "execution_count": 138,
     "metadata": {},
     "output_type": "execute_result"
    }
   ],
   "source": [
    "values = list(df['wind_dir'].unique())[:-1]  # убираем nan\n",
    "\n",
    "north_dict = {val:(1 if 'С' in val else 0) for val in values}  # север\n",
    "south_dict = {val:(1 if 'Ю' in val else 0) for val in values}  # юг\n",
    "west_dict = {val:(1 if 'З' in val else 0) for val in values}   # запад\n",
    "east_dict = {val:(1 if 'В' in val else 0) for val in values}   # восток\n",
    "\n",
    "df['north'] = df['wind_dir'].map(north_dict)\n",
    "df['south'] = df['wind_dir'].map(south_dict)\n",
    "df['west'] = df['wind_dir'].map(west_dict)\n",
    "df['east'] = df['wind_dir'].map(east_dict)\n",
    "\n",
    "df = df.drop(['wind_dir'], axis=1)\n",
    "df[['north', 'south', 'west', 'east']].head()"
   ]
  },
  {
   "cell_type": "code",
   "execution_count": 140,
   "id": "1d72c56f",
   "metadata": {},
   "outputs": [
    {
     "name": "stdout",
     "output_type": "stream",
     "text": [
      "<class 'pandas.core.frame.DataFrame'>\n",
      "RangeIndex: 101229 entries, 0 to 101228\n",
      "Data columns (total 47 columns):\n",
      " #   Column             Non-Null Count   Dtype         \n",
      "---  ------             --------------   -----         \n",
      " 0   uid                101229 non-null  int64         \n",
      " 1   date               101229 non-null  datetime64[ns]\n",
      " 2   temperature        101229 non-null  float64       \n",
      " 3   pressure           101229 non-null  float64       \n",
      " 4   cloud              101229 non-null  category      \n",
      " 5   wind_spd           101229 non-null  float64       \n",
      " 6   water_level        101229 non-null  float64       \n",
      " 7   uid_0              101229 non-null  category      \n",
      " 8   uid_1              101229 non-null  category      \n",
      " 9   uid_2              101229 non-null  category      \n",
      " 10  uid_3              101229 non-null  category      \n",
      " 11  uid_4              101229 non-null  category      \n",
      " 12  uid_5              101229 non-null  category      \n",
      " 13  uid_6              101229 non-null  category      \n",
      " 14  uid_7              101229 non-null  category      \n",
      " 15  uid_8              101229 non-null  category      \n",
      " 16  uid_9              101229 non-null  category      \n",
      " 17  uid_10             101229 non-null  category      \n",
      " 18  uid_11             101229 non-null  category      \n",
      " 19  uid_12             101229 non-null  category      \n",
      " 20  uid_13             101229 non-null  category      \n",
      " 21  uid_14             101229 non-null  category      \n",
      " 22  uid_15             101229 non-null  category      \n",
      " 23  uid_16             101229 non-null  category      \n",
      " 24  uid_17             101229 non-null  category      \n",
      " 25  uid_18             101229 non-null  category      \n",
      " 26  uid_19             101229 non-null  category      \n",
      " 27  uid_20             101229 non-null  category      \n",
      " 28  uid_21             101229 non-null  category      \n",
      " 29  uid_22             101229 non-null  category      \n",
      " 30  uid_23             101229 non-null  category      \n",
      " 31  uid_24             101229 non-null  category      \n",
      " 32  uid_25             101229 non-null  category      \n",
      " 33  uid_26             101229 non-null  category      \n",
      " 34  uid_27             101229 non-null  category      \n",
      " 35  day_sin            101229 non-null  float64       \n",
      " 36  day_cos            101229 non-null  float64       \n",
      " 37  weather_v1_precip  101229 non-null  int64         \n",
      " 38  weather_v2_rain    101229 non-null  int64         \n",
      " 39  weather_snow       101229 non-null  int64         \n",
      " 40  weather_v3_rain    101229 non-null  int64         \n",
      " 41  weather_v3_storm   101229 non-null  int64         \n",
      " 42  year               101229 non-null  int64         \n",
      " 43  north              88281 non-null   float64       \n",
      " 44  south              88281 non-null   float64       \n",
      " 45  west               88281 non-null   float64       \n",
      " 46  east               88281 non-null   float64       \n",
      "dtypes: category(29), datetime64[ns](1), float64(10), int64(7)\n",
      "memory usage: 16.7 MB\n"
     ]
    }
   ],
   "source": [
    "df.info()"
   ]
  },
  {
   "cell_type": "code",
   "execution_count": 141,
   "id": "a475b217",
   "metadata": {
    "scrolled": true
   },
   "outputs": [
    {
     "name": "stdout",
     "output_type": "stream",
     "text": [
      "<class 'pandas.core.frame.DataFrame'>\n",
      "RangeIndex: 101229 entries, 0 to 101228\n",
      "Data columns (total 47 columns):\n",
      " #   Column             Non-Null Count   Dtype         \n",
      "---  ------             --------------   -----         \n",
      " 0   uid                101229 non-null  int64         \n",
      " 1   date               101229 non-null  datetime64[ns]\n",
      " 2   temperature        101229 non-null  float64       \n",
      " 3   pressure           101229 non-null  float64       \n",
      " 4   cloud              101229 non-null  category      \n",
      " 5   wind_spd           101229 non-null  float64       \n",
      " 6   water_level        101229 non-null  float64       \n",
      " 7   uid_0              101229 non-null  category      \n",
      " 8   uid_1              101229 non-null  category      \n",
      " 9   uid_2              101229 non-null  category      \n",
      " 10  uid_3              101229 non-null  category      \n",
      " 11  uid_4              101229 non-null  category      \n",
      " 12  uid_5              101229 non-null  category      \n",
      " 13  uid_6              101229 non-null  category      \n",
      " 14  uid_7              101229 non-null  category      \n",
      " 15  uid_8              101229 non-null  category      \n",
      " 16  uid_9              101229 non-null  category      \n",
      " 17  uid_10             101229 non-null  category      \n",
      " 18  uid_11             101229 non-null  category      \n",
      " 19  uid_12             101229 non-null  category      \n",
      " 20  uid_13             101229 non-null  category      \n",
      " 21  uid_14             101229 non-null  category      \n",
      " 22  uid_15             101229 non-null  category      \n",
      " 23  uid_16             101229 non-null  category      \n",
      " 24  uid_17             101229 non-null  category      \n",
      " 25  uid_18             101229 non-null  category      \n",
      " 26  uid_19             101229 non-null  category      \n",
      " 27  uid_20             101229 non-null  category      \n",
      " 28  uid_21             101229 non-null  category      \n",
      " 29  uid_22             101229 non-null  category      \n",
      " 30  uid_23             101229 non-null  category      \n",
      " 31  uid_24             101229 non-null  category      \n",
      " 32  uid_25             101229 non-null  category      \n",
      " 33  uid_26             101229 non-null  category      \n",
      " 34  uid_27             101229 non-null  category      \n",
      " 35  day_sin            101229 non-null  float64       \n",
      " 36  day_cos            101229 non-null  float64       \n",
      " 37  weather_v1_precip  101229 non-null  category      \n",
      " 38  weather_v2_rain    101229 non-null  category      \n",
      " 39  weather_snow       101229 non-null  category      \n",
      " 40  weather_v3_rain    101229 non-null  category      \n",
      " 41  weather_v3_storm   101229 non-null  category      \n",
      " 42  year               101229 non-null  int64         \n",
      " 43  north              88281 non-null   category      \n",
      " 44  south              88281 non-null   category      \n",
      " 45  west               88281 non-null   category      \n",
      " 46  east               88281 non-null   category      \n",
      "dtypes: category(38), datetime64[ns](1), float64(6), int64(2)\n",
      "memory usage: 10.6 MB\n"
     ]
    }
   ],
   "source": [
    "# конвертируем float в категориальный тип данных для уменьшения использования памяти\n",
    "for dtype in ['weather_v1_precip', 'weather_snow', 'weather_v2_rain', \n",
    "              'weather_v3_rain', 'weather_v3_storm', 'north', 'south', 'west', 'east']:\n",
    "    df[dtype] = df[dtype].astype('category')\n",
    "\n",
    "df.info()"
   ]
  }
 ],
 "metadata": {
  "kernelspec": {
   "display_name": "Python 3 (ipykernel)",
   "language": "python",
   "name": "python3"
  },
  "language_info": {
   "codemirror_mode": {
    "name": "ipython",
    "version": 3
   },
   "file_extension": ".py",
   "mimetype": "text/x-python",
   "name": "python",
   "nbconvert_exporter": "python",
   "pygments_lexer": "ipython3",
   "version": "3.9.13"
  }
 },
 "nbformat": 4,
 "nbformat_minor": 5
}
